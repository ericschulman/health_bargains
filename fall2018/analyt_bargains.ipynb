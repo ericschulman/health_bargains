{
 "cells": [
  {
   "cell_type": "code",
   "execution_count": 2,
   "metadata": {},
   "outputs": [],
   "source": [
    "from sympy import *\n",
    "from scipy.optimize import minimize\n",
    "from scipy.misc import derivative\n",
    "from scipy.optimize import fsolve"
   ]
  },
  {
   "cell_type": "code",
   "execution_count": 3,
   "metadata": {},
   "outputs": [],
   "source": [
    "theta1=Symbol('\\\\theta_1')\n",
    "theta2 =Symbol('\\\\theta_2')\n",
    "lamb =Symbol('\\lambda')\n",
    "ell =Symbol('\\ell')\n",
    "mu1 =Symbol('\\mu_1')\n",
    "mu2 =Symbol('\\mu_2')"
   ]
  },
  {
   "cell_type": "code",
   "execution_count": 4,
   "metadata": {},
   "outputs": [],
   "source": [
    "def profit(theta1,theta2, mu1, mu2, lamb):\n",
    "    return ((3*lamb)+ mu2*theta2 - mu1*theta1)**2/(18*lamb)\n",
    "\n",
    "\n",
    "def t(theta1, theta2, mu1, mu2, lamb):\n",
    "    return (3*lamb + mu2*theta2 - mu1*theta1)/(6*lamb)\n",
    "\n",
    "\n",
    "def nb_objective(theta1,theta2, mu1, mu2, lamb, ell):\n",
    "    term1 = (profit(theta1,theta2, mu1, mu2, lamb) - profit(ell,theta2, mu1, mu2, lamb))\n",
    "    term2 = ( mu2*theta2 + (mu1*theta1- mu2*theta2)*t(theta1, theta2, mu1, mu2,lamb))\n",
    "    return -term1*term2\n",
    "\n",
    "\n",
    "def subgame(theta2, mu1, mu2, lamb, ell):\n",
    "    \"\"\"solve each firm 1s optimization holding theta 2 fixed\"\"\"\n",
    "    result = minimize(nb_objective, [1], args=(theta2, mu1, mu2, lamb, ell),\n",
    "                      method='Nelder-Mead', options={'disp': False})\n",
    "    return result.x"
   ]
  },
  {
   "cell_type": "code",
   "execution_count": 5,
   "metadata": {},
   "outputs": [
    {
     "name": "stdout",
     "output_type": "stream",
     "text": [
      "[15.6860667702325, 78.0974547083938, 98.5374785213737]\n",
      "[15.68603516]\n"
     ]
    }
   ],
   "source": [
    "#analysis of subgame #1 \n",
    "foc =  diff(nb_objective(theta1,theta2, mu1, mu2, lamb, ell), theta1)\n",
    "print [re(i) for i in solve(foc.subs({ell:70, lamb:10, mu1:.5, mu2:.5, theta2:19.107}),theta1)]\n",
    "print subgame(19.107, .5, .5, 10, 70)"
   ]
  },
  {
   "cell_type": "code",
   "execution_count": 6,
   "metadata": {},
   "outputs": [
    {
     "data": {
      "text/plain": [
       "[24.4157801509648, 110.584219849035, 180.000000000000]"
      ]
     },
     "execution_count": 6,
     "metadata": {},
     "output_type": "execute_result"
    }
   ],
   "source": [
    "#analysis of subgame #2\n",
    "foc =  diff(nb_objective(theta1,theta2, mu1, mu2, lamb, ell), theta1)\n",
    "solve(foc.subs({ell:60, lamb:10, mu1:.5, mu2:.5, theta2:60}),theta1)"
   ]
  },
  {
   "cell_type": "code",
   "execution_count": 7,
   "metadata": {},
   "outputs": [
    {
     "name": "stdout",
     "output_type": "stream",
     "text": [
      "[30.2678853485771, 121.444593546745, 193.287521104678]\n",
      "[30.26787109]\n"
     ]
    }
   ],
   "source": [
    "#right subgame where theta1 = ell\n",
    "foc =  diff(nb_objective(theta1,theta2, mu1, mu2, lamb, ell), theta1)\n",
    "print [re(i) for i in solve(foc.subs({ell:70, lamb:10, mu1:.5, mu2:.5, theta2:70}),theta1)]\n",
    "print subgame(70, .5, .5, 10, 70)"
   ]
  },
  {
   "cell_type": "code",
   "execution_count": 8,
   "metadata": {},
   "outputs": [
    {
     "name": "stdout",
     "output_type": "stream",
     "text": [
      "[0.48828125]\n",
      "0.205236716510626\n"
     ]
    }
   ],
   "source": [
    "print derivative(subgame,19.107, dx=1e-4, args=(.5, .5, 10, 70))\n",
    "\n",
    "\n",
    "def my_deriv(theta_init, mu1,mu2, lamb,ell):\n",
    "    \n",
    "    dx = 1e-8\n",
    "    theta1=Symbol('\\\\theta_1')\n",
    "    \n",
    "    y1 = (diff(nb_objective(theta1,theta_init[0] +dx, mu1,mu2, lamb,ell), theta1))\n",
    "    y1 = re(solve(y1,theta1)[0])\n",
    "    \n",
    "    y2 = (diff(nb_objective(theta1, theta_init[0] -dx, mu1,mu2, lamb,ell), theta1))\n",
    "    y2 = re(solve(y2,theta1)[0])\n",
    "    \n",
    "    return (y1-y2)/(2*dx)\n",
    "\n",
    "print my_deriv([19.107], .5, .5, 10, 70)"
   ]
  },
  {
   "cell_type": "code",
   "execution_count": 9,
   "metadata": {},
   "outputs": [],
   "source": [
    "def my_deriv(theta_init, mu1,mu2, lamb,ell):\n",
    "    \n",
    "    dx = 1e-8\n",
    "    theta1=Symbol('\\\\theta_1')\n",
    "    \n",
    "    y1 = (diff(nb_objective(theta1,theta_init[0] +dx, mu1,mu2, lamb,ell), theta1))\n",
    "    y1 = re(solve(y1,theta1)[0])\n",
    "    \n",
    "    y2 = (diff(nb_objective(theta1, theta_init[0] -dx, mu1,mu2, lamb,ell), theta1))\n",
    "    y2 = re(solve(y2,theta1)[0])\n",
    "    \n",
    "    return (y1-y2)/(2*dx)\n"
   ]
  },
  {
   "cell_type": "code",
   "execution_count": 10,
   "metadata": {},
   "outputs": [
    {
     "name": "stdout",
     "output_type": "stream",
     "text": [
      "[19.10697177]\n"
     ]
    }
   ],
   "source": [
    "def seq_objective(theta1, h, mu1, mu2, lamb, ell):\n",
    "    term1 = (profit(theta1, h, mu1, mu2, lamb) - profit(ell, h.subs(theta1,ell), mu1, mu2, lamb))\n",
    "    term2 = ( mu2*h+ (mu1*theta1- mu2*h)*t(theta1, h, mu1, mu2,lamb))\n",
    "    return term1*term2\n",
    "\n",
    "\n",
    "def eval_foc(theta_init, mu1, mu2, lamb, ell):\n",
    "    \n",
    "    theta1=Symbol('\\\\theta_1')\n",
    "    \n",
    "    #h function, analytic and numeric\n",
    "    h = Function('h')(theta1)\n",
    "    h_eval = subgame(theta_init, mu1, mu2, lamb, ell)\n",
    "    #print h_eval\n",
    "    \n",
    "    #remember that h(ell) makes things different\n",
    "    h_ell = h.subs(theta1,ell)\n",
    "    ell_eval = subgame(ell, mu1, mu2, lamb, ell)\n",
    "    #print ell_eval\n",
    "    \n",
    "    #diff h, analytic and numeric\n",
    "    diff_h= diff(h)\n",
    "    #diff_eval = derivative(subgame,theta_init, dx=1e-4, args=(mu1, mu2, lamb, ell))\n",
    "    diff_eval = my_deriv(theta_init, mu1,mu2, lamb, ell)\n",
    "    \n",
    "    #calc foc analytically, then plug in numeric h\n",
    "    foc = simplify( diff( seq_objective(theta1, h, mu1, mu2, lamb, ell),theta1))\n",
    "    foc = foc.subs({theta1:theta_init,  h:h_eval, h_ell:ell_eval, diff_h:diff_eval})\n",
    "    return foc\n",
    "    \n",
    "    \n",
    "#print eval_foc(19.107, .5, .5, 10, 70)\n",
    "print fsolve(eval_foc,19.107, args=(.5,.5,10,70))"
   ]
  },
  {
   "cell_type": "code",
   "execution_count": 11,
   "metadata": {},
   "outputs": [
    {
     "name": "stdout",
     "output_type": "stream",
     "text": [
      "[16.05826176]\n"
     ]
    }
   ],
   "source": [
    "print fsolve(eval_foc,16.056, args=(.5,.5,15,70))"
   ]
  },
  {
   "cell_type": "code",
   "execution_count": 48,
   "metadata": {},
   "outputs": [
    {
     "name": "stdout",
     "output_type": "stream",
     "text": [
      "[14.6875000370381, 73.3309270854788, 87.6612896174831]\n",
      "[14.6875]\n"
     ]
    }
   ],
   "source": [
    "foc =  diff(nb_objective(theta1,theta2, mu1, mu2, lamb, ell), theta1)\n",
    "print [re(i) for i in solve(foc.subs({ell:70, lamb:10, mu1:.5, mu2:.5, theta2:13.55990558}),theta1)]\n",
    "\n",
    "print subgame(13.55990558, .5, .5, 10, 70)"
   ]
  },
  {
   "cell_type": "code",
   "execution_count": 96,
   "metadata": {},
   "outputs": [
    {
     "name": "stdout",
     "output_type": "stream",
     "text": [
      "33.5189010504164\n"
     ]
    }
   ],
   "source": [
    "####first solve this way\n",
    "\n",
    "#h function, analytic and numeric\n",
    "h = Function('h')(theta1)\n",
    "h_eval = subgame(18.78067379, .5,.5,10,70)\n",
    "    \n",
    "#remember that h(ell) makes things different\n",
    "h_ell = h.subs(theta1,ell)\n",
    "ell_eval = subgame(70, .5,.5,10,70)\n",
    "\n",
    "obj1 = seq_objective(theta1, h, mu1, mu2, lamb, ell)\n",
    "print obj1.subs({ell:70, lamb:10, mu1:.5, mu2:.5, theta1:18.78067379, h:h_eval, h_ell:ell_eval})"
   ]
  },
  {
   "cell_type": "code",
   "execution_count": 54,
   "metadata": {},
   "outputs": [
    {
     "name": "stdout",
     "output_type": "stream",
     "text": [
      "33.5216108430263\n"
     ]
    }
   ],
   "source": [
    "#h function, analytic and numeric\n",
    "h = Function('h')(theta1)\n",
    "h_eval = subgame(19.107, .5,.5,10,70)\n",
    "    \n",
    "#remember that h(ell) makes things different\n",
    "h_ell = h.subs(theta1,ell)\n",
    "ell_eval = subgame(70, .5,.5,10,70)\n",
    "\n",
    "obj2 = seq_objective(theta1, h, mu1, mu2, lamb, ell)\n",
    "print obj2.subs({ell:70, lamb:10, mu1:.5, mu2:.5, theta1:19.107, h:h_eval, h_ell:ell_eval})"
   ]
  },
  {
   "cell_type": "code",
   "execution_count": null,
   "metadata": {},
   "outputs": [],
   "source": []
  }
 ],
 "metadata": {
  "kernelspec": {
   "display_name": "Python 2",
   "language": "python",
   "name": "python2"
  },
  "language_info": {
   "codemirror_mode": {
    "name": "ipython",
    "version": 2
   },
   "file_extension": ".py",
   "mimetype": "text/x-python",
   "name": "python",
   "nbconvert_exporter": "python",
   "pygments_lexer": "ipython2",
   "version": "2.7.15"
  }
 },
 "nbformat": 4,
 "nbformat_minor": 2
}
