{
 "cells": [
  {
   "cell_type": "code",
   "execution_count": 1,
   "metadata": {},
   "outputs": [],
   "source": [
    "import numpy as np\n",
    "from scipy.optimize import minimize\n",
    "from scipy.optimize import fsolve\n",
    "from matplotlib import pyplot as plt\n",
    "import pandas as pd"
   ]
  },
  {
   "cell_type": "code",
   "execution_count": 2,
   "metadata": {},
   "outputs": [
    {
     "name": "stdout",
     "output_type": "stream",
     "text": [
      "4.147024820051014\n"
     ]
    }
   ],
   "source": [
    "def calc_price(phi1, phi2, cost, wtp,mc):\n",
    "    \"\"\"compute each insurer's price (assumes interior solution)\"\"\"\n",
    "    mc1,mc2 = mc\n",
    "    p1 = (2*(phi1+mc1)+phi2+mc2)/3. + cost\n",
    "    p2 = (2*(phi2+mc2)+phi1+mc1)/3. + cost\n",
    "    return p1, p2\n",
    "  \n",
    "    \n",
    "def calc_s(phi1, phi2, cost, wtp,mc):\n",
    "    \"\"\"compute the proportion of people choosing each insurer\n",
    "    assumes interior solution\"\"\"\n",
    "    p1, p2 = calc_price(phi1, phi2, cost, wtp,mc)\n",
    "    t_hat = .5 + (p2 - p1)/(2.*cost)\n",
    "    return t_hat\n",
    "\n",
    "\n",
    "def calc_profits(phi1,phi2,cost, wtp, mc):\n",
    "    mc1,mc2 = mc\n",
    "    s= calc_s(phi1, phi2, cost, wtp,mc)\n",
    "    p1,p2 = calc_price(phi1, phi2, cost, wtp,mc)\n",
    "    profits1, profits2 = s*(p1-phi1-mc1), (1-s)*(p2-phi2-mc2)\n",
    "    hosp_profit = s*(phi1) +  (1-s)*(phi2)\n",
    "    return hosp_profit, profits1, profits2\n",
    "\n",
    "    \n",
    "def outside_simlt(phi1, phi2, cost, wtp,  mc, active=False):\n",
    "    \"\"\"outside option in simult case\n",
    "    assuming listprice high enough\"\"\"\n",
    "    \n",
    "    mc1,mc2 = mc\n",
    "    s_hat = calc_s(phi1, phi2, cost, wtp,mc) # s_hat with no recapture\n",
    "    p1,p2 = calc_price(phi1, phi2, cost, wtp,mc)\n",
    "    s_hat  = np.clip((cost + p2 - wtp)/cost,0,1) #s_hat with recapture\n",
    "\n",
    "    if active:\n",
    "        return (wtp-cost)/2 - mc2 #outside cost is other insurer?\n",
    "    return (1-s_hat)*(phi2 -mc2)\n",
    "\n",
    "#arbitrary outside option...\n",
    "def nash_in_nash(phi1, phi2, cost, wtp, mc, beta=.5,active=False):\n",
    "    hosp_profit, profits1, profits2 = calc_profits(phi1, phi2,  cost,  wtp, mc)\n",
    "    obj = -1*(np.log(max(hosp_profit-outside_simlt(phi1, phi2,cost, wtp , mc, active=active),1e-4))*(1-beta) \n",
    "              + np.log(profits1)*beta)\n",
    "    return obj\n",
    "\n",
    "\n",
    "COST = 5\n",
    "WTP = 25\n",
    "MC = np.array([0,0])\n",
    "\n",
    "print(nash_in_nash(3*COST,3*COST, COST, WTP, MC))"
   ]
  },
  {
   "cell_type": "code",
   "execution_count": 3,
   "metadata": {},
   "outputs": [
    {
     "data": {
      "text/plain": [
       "[<matplotlib.lines.Line2D at 0x7f682e8f0700>]"
      ]
     },
     "execution_count": 3,
     "metadata": {},
     "output_type": "execute_result"
    },
    {
     "data": {
      "image/png": "[encoded data removed]",
      "text/plain": [
       "<Figure size 432x288 with 1 Axes>"
      ]
     },
     "metadata": {
      "needs_background": "light"
     },
     "output_type": "display_data"
    }
   ],
   "source": [
    "COST = 5\n",
    "WTP = 25\n",
    "MC = np.array([0,0])\n",
    "\n",
    "plt.plot([i for i in np.linspace(0,3*COST,num=7)], \n",
    "         [-1*nash_in_nash(i, 4, COST,WTP,MC) for i in np.linspace(1,2*COST,num=7)])"
   ]
  },
  {
   "cell_type": "code",
   "execution_count": 5,
   "metadata": {},
   "outputs": [
    {
     "name": "stdout",
     "output_type": "stream",
     "text": [
      "[14.04830933]\n"
     ]
    }
   ],
   "source": [
    "def bargain_helper(phi1, phi2, cost, wtp, mc, beta=.5,active=False):\n",
    "    \"\"\"solve each firm 1s optimization holding phi 2 fixed\"\"\"\n",
    "    result = minimize(nash_in_nash, phi1, args=(phi2,cost, wtp, mc, beta, active),\n",
    "                      method='Nelder-Mead', options={'disp': False})\n",
    "    return result.x\n",
    "\n",
    "COST = 5\n",
    "WTP  = 25\n",
    "MC = np.array([0,0])\n",
    "\n",
    "print(bargain_helper(15,15, COST,WTP,MC,beta=.5,active=True))"
   ]
  },
  {
   "cell_type": "code",
   "execution_count": 13,
   "metadata": {
    "scrolled": false
   },
   "outputs": [
    {
     "name": "stdout",
     "output_type": "stream",
     "text": [
      "(array([14.53753043]), array([13.03754291]))\n"
     ]
    }
   ],
   "source": [
    "def simult_bargain(phi1, phi2, cost, wtp, mc, betas=[.5,.5],active=False):\n",
    "    \"\"\"solve the bargaining problems seperately and iterate for a solution\"\"\"       \n",
    "    \n",
    "    #loop variables, check on this...\n",
    "    diff =  np.maximum(phi1,phi2)\n",
    "    phi10,phi20 = 0,0\n",
    "    maxiter = 10\n",
    "    while maxiter >=0 and diff > 10e-7:\n",
    "        #seems as though there is a contraction mapping here, need to think more about why\n",
    "        phi1 = bargain_helper(phi1, phi2, cost, wtp, mc, beta=betas[0] ,active=active)\n",
    "        phi2 = bargain_helper(phi2, phi1, cost, wtp, mc[::-1], beta=betas[1],active=active)\n",
    "        \n",
    "        #update loop variables\n",
    "        diff = np.abs(np.maximum(phi1 - phi10,phi2-phi20))[0]\n",
    "        phi10,phi20 = phi1,phi2\n",
    "        maxiter = maxiter-1\n",
    "        \n",
    "    return phi1, phi2\n",
    "\n",
    "COST = 5\n",
    "WTP  = 25\n",
    "MC = np.array([1.5,0])\n",
    "print(simult_bargain(15,15,COST,WTP,MC,active=True))\n",
    "#print(simult_bargain(15,15,COST,WTP,MC,active=True))"
   ]
  },
  {
   "cell_type": "code",
   "execution_count": 15,
   "metadata": {},
   "outputs": [
    {
     "name": "stdout",
     "output_type": "stream",
     "text": [
      "cost1 phi 1 phi 2 hosp profit profit 1 profit 2\n",
      "0.0 13.75 13.75 13.75 2.5 2.5\n",
      "0.5 14.004 13.504 13.504 2.336 2.669\n",
      "1.0 14.267 13.267 13.267 2.178 2.844\n",
      "1.5 14.538 13.038 13.038 2.025 3.025\n",
      "2.0 14.817 12.817 12.817 1.878 3.211\n"
     ]
    }
   ],
   "source": [
    "COST = 5\n",
    "WTP  = 25\n",
    "\n",
    "print(\"cost1\",\"phi 1\" , \"phi 2\", \"hosp profit\", \"profit 1\", \"profit 2\")\n",
    "for i in np.linspace(0,2,5):\n",
    "    mc_i = np.array([i, 0])\n",
    "    phi1,phi2 = simult_bargain(22,22,COST,WTP,mc_i,active=True)\n",
    "    hosp_profit, profits1, profits2= calc_profits(phi1[0],phi2[0],COST, WTP, mc_i )\n",
    "    print(i, round(phi1[0],3), round(phi2[0],3), round(hosp_profit,3), round(profits1,3), round(profits2,3))"
   ]
  },
  {
   "cell_type": "code",
   "execution_count": 10,
   "metadata": {},
   "outputs": [
    {
     "name": "stdout",
     "output_type": "stream",
     "text": [
      "[[ 0.16808356 -0.16753985]\n",
      " [-0.16753985  0.16769422]]\n",
      "[[ 0.18813803 -0.15855749]\n",
      " [-0.15855749  0.17950301]]\n"
     ]
    }
   ],
   "source": [
    "#generate a bunch of runs with passive and compute costs\n",
    "\n",
    "def compute_cov(active,nobs=1000):\n",
    "    mcs = np.random.uniform(low=0.0, high=2.0, size=(2,nobs))\n",
    "    phis = []\n",
    "    for i in range(nobs):\n",
    "        phi = simult_bargain(11.25,11.25,COST,WTP,mcs[:,i],active=active) \n",
    "        phis.append(np.array(phi).flatten())\n",
    "\n",
    "    phis = np.array(phis)\n",
    "    return np.cov(phis,rowvar=False)\n",
    "\n",
    "print(compute_cov(active=True))\n",
    "print(compute_cov(active=False))"
   ]
  },
  {
   "cell_type": "code",
   "execution_count": 11,
   "metadata": {},
   "outputs": [
    {
     "name": "stdout",
     "output_type": "stream",
     "text": [
      "(array([0.49999268, 0.25003131]), array([0.50000266, 0.24998751]))\n",
      "(array([0.00907646, 2.7942333 ]), array([-1.14362843e+58,  4.52531544e+58]))\n"
     ]
    }
   ],
   "source": [
    "#just make sure it works for stuff i know is right\n",
    "\n",
    "def compute_solution(active,nobs=20):\n",
    "    #mcs = np.random.uniform(low=0.0, high=2.0, size=(2,nobs))\n",
    "    phis = []\n",
    "    vs = np.random.uniform(low=25,high=25.5,size=(nobs))\n",
    "    lambdas = np.random.uniform(low=5,high=6,size=(nobs))\n",
    "    x = np.concatenate(([vs],[lambdas])) #,mcs\n",
    "    for i in range(nobs):\n",
    "        phi = simult_bargain(11.25,11.25,lambdas[i],vs[i],np.array([0,0]),active=active) \n",
    "        phis.append(np.array(phi).flatten())\n",
    "    phis = np.array(phis)\n",
    "    xx = x.dot(x.transpose())\n",
    "    xy1 = x.dot(phis[:,0])\n",
    "    xy2 = x.dot(phis[:,1])\n",
    "    return np.linalg.inv(xx).dot(xy1),np.linalg.inv(xx).dot(xy2)\n",
    "    \n",
    "print(compute_solution(active=True,nobs=10))\n",
    "print(compute_solution(active=False,nobs=10))"
   ]
  },
  {
   "cell_type": "code",
   "execution_count": 12,
   "metadata": {},
   "outputs": [
    {
     "name": "stdout",
     "output_type": "stream",
     "text": [
      "(array([ 0.50420528,  0.23358377,  0.49540777, -0.5025153 ]), array([ 0.50421573,  0.23353855, -0.5045729 ,  0.49746544]))\n",
      "(array([ 0.47961544,  0.59418928,  0.63774833, -0.71094437]), array([-1.92678570e+57,  6.25970483e+56,  4.50923431e+56, -1.56943212e+56]))\n"
     ]
    }
   ],
   "source": [
    "def compute_solution(active,nobs=20):\n",
    "    \n",
    "    #set up x variables to solve the model\n",
    "    phis = []\n",
    "    vs = np.random.uniform(low=25,high=26,size=(nobs))\n",
    "    lambdas = np.random.uniform(low=5,high=6,size=(nobs))\n",
    "    mcs = np.random.uniform(low=0.0, high=2.0, size=(2,nobs))\n",
    "    x = np.concatenate(([vs],[lambdas],mcs))\n",
    "    \n",
    "    #generate a few solutions...\n",
    "    for i in range(nobs):\n",
    "        phi = simult_bargain(11.25,11.25,lambdas[i],vs[i],mcs[:,i],active=active) \n",
    "        phis.append(np.array(phi).flatten())\n",
    "        \n",
    "    #do regression stuff to solve\n",
    "    phis = np.array(phis)\n",
    "    xx = x.dot(x.transpose())\n",
    "    xy1 = x.dot(phis[:,0])\n",
    "    xy2 = x.dot(phis[:,1])\n",
    "    return np.linalg.inv(xx).dot(xy1),np.linalg.inv(xx).dot(xy2)\n",
    "\n",
    "#coeffs are v, lambda, c1, c2\n",
    "print(compute_solution(active=True,nobs=10))\n",
    "print(compute_solution(active=False,nobs=10))\n",
    "    "
   ]
  },
  {
   "cell_type": "code",
   "execution_count": null,
   "metadata": {},
   "outputs": [],
   "source": []
  }
 ],
 "metadata": {
  "kernelspec": {
   "display_name": "Python 3",
   "language": "python",
   "name": "python3"
  },
  "language_info": {
   "codemirror_mode": {
    "name": "ipython",
    "version": 3
   },
   "file_extension": ".py",
   "mimetype": "text/x-python",
   "name": "python",
   "nbconvert_exporter": "python",
   "pygments_lexer": "ipython3",
   "version": "3.8.8"
  }
 },
 "nbformat": 4,
 "nbformat_minor": 2
}
