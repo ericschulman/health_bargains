{
 "cells": [
  {
   "cell_type": "code",
   "execution_count": 4,
   "metadata": {},
   "outputs": [],
   "source": [
    "from sympy import *"
   ]
  },
  {
   "cell_type": "code",
   "execution_count": 5,
   "metadata": {},
   "outputs": [],
   "source": [
    "#general purpose code for interior cases\n",
    "\n",
    "theta1=Symbol('\\\\theta_1')\n",
    "theta2 =Symbol('\\\\theta_2')\n",
    "lamb =Symbol('\\lambda')\n",
    "mu1 =Symbol('\\mu_1')\n",
    "mu2 =Symbol('\\mu_2')\n",
    "v = Symbol('v')\n",
    "\n",
    "def profit(theta1,theta2, mu1, mu2, lamb):\n",
    "    return ((3*lamb)+ mu2*theta2 - mu1*theta1)**2/(18*lamb)\n",
    "\n",
    "def t(theta1, theta2, mu1, mu2, lamb):\n",
    "    return (3*lamb + mu2*theta2 - mu1*theta1)/(6*lamb)\n",
    "\n",
    "def outside_simlt(mu1, lamb, v):\n",
    "    return (v - lamb)/2\n",
    "\n",
    "#analyze symmetric simultaneous case first\n",
    "def nash_in_nash(theta1,theta2, mu1, mu2, lamb, v, outside):\n",
    "    term1 = (profit(theta1,theta2, mu1, mu2, lamb))\n",
    "    print(term1)\n",
    "    term2 = ( mu2*theta2 + (mu1*theta1- mu2*theta2)*t(theta1, theta2, mu1, mu2,lamb))\n",
    "    print(term2)\n",
    "    return term1*(term2-outside)"
   ]
  },
  {
   "cell_type": "code",
   "execution_count": 3,
   "metadata": {},
   "outputs": [
    {
     "name": "stdout",
     "output_type": "stream",
     "text": [
      "1.5\n",
      "4.5\n"
     ]
    },
    {
     "data": {
      "text/plain": [
       "1.5"
      ]
     },
     "execution_count": 3,
     "metadata": {},
     "output_type": "execute_result"
    }
   ],
   "source": [
    "COST = 3\n",
    "LIST = 9\n",
    "\n",
    "(nash_in_nash(9, LIST, .5, .5, COST,LIST, outside_simlt(.5,COST,LIST)) )**.5"
   ]
  },
  {
   "cell_type": "code",
   "execution_count": 26,
   "metadata": {},
   "outputs": [
    {
     "ename": "TypeError",
     "evalue": "outside_simult() missing 1 required positional argument: 'v'",
     "output_type": "error",
     "traceback": [
      "\u001b[0;31m---------------------------------------------------------------------------\u001b[0m",
      "\u001b[0;31mTypeError\u001b[0m                                 Traceback (most recent call last)",
      "\u001b[0;32m<ipython-input-26-c8fd47942a18>\u001b[0m in \u001b[0;36m<module>\u001b[0;34m\u001b[0m\n\u001b[1;32m      2\u001b[0m \u001b[0mLIST\u001b[0m \u001b[0;34m=\u001b[0m \u001b[0;36m9\u001b[0m\u001b[0;34m\u001b[0m\u001b[0;34m\u001b[0m\u001b[0m\n\u001b[1;32m      3\u001b[0m \u001b[0;34m\u001b[0m\u001b[0m\n\u001b[0;32m----> 4\u001b[0;31m \u001b[0mplot\u001b[0m\u001b[0;34m(\u001b[0m\u001b[0mnb_objective\u001b[0m\u001b[0;34m(\u001b[0m\u001b[0mtheta1\u001b[0m\u001b[0;34m,\u001b[0m \u001b[0mLIST\u001b[0m \u001b[0;34m,\u001b[0m \u001b[0;36m.5\u001b[0m\u001b[0;34m,\u001b[0m \u001b[0;36m.5\u001b[0m\u001b[0;34m,\u001b[0m \u001b[0mCOST\u001b[0m\u001b[0;34m,\u001b[0m \u001b[0moutside_simult\u001b[0m\u001b[0;34m(\u001b[0m\u001b[0mCOST\u001b[0m\u001b[0;34m,\u001b[0m\u001b[0mLIST\u001b[0m\u001b[0;34m)\u001b[0m \u001b[0;34m)\u001b[0m\u001b[0;34m**\u001b[0m\u001b[0;34m(\u001b[0m\u001b[0;36m.5\u001b[0m\u001b[0;34m)\u001b[0m\u001b[0;34m,\u001b[0m \u001b[0;34m(\u001b[0m\u001b[0mtheta1\u001b[0m\u001b[0;34m,\u001b[0m \u001b[0mCOST\u001b[0m\u001b[0;34m,\u001b[0m\u001b[0mLIST\u001b[0m\u001b[0;34m)\u001b[0m \u001b[0;34m)\u001b[0m\u001b[0;34m\u001b[0m\u001b[0;34m\u001b[0m\u001b[0m\n\u001b[0m",
      "\u001b[0;31mTypeError\u001b[0m: outside_simult() missing 1 required positional argument: 'v'"
     ]
    }
   ],
   "source": [
    "COST = 3\n",
    "LIST = 9\n",
    "\n",
    "plot(nb_objective(theta1, LIST , .5, .5, COST, outside_simult(COST,LIST) )**(.5), (theta1, COST,LIST) )"
   ]
  },
  {
   "cell_type": "code",
   "execution_count": null,
   "metadata": {},
   "outputs": [],
   "source": []
  }
 ],
 "metadata": {
  "kernelspec": {
   "display_name": "Python 3",
   "language": "python",
   "name": "python3"
  },
  "language_info": {
   "codemirror_mode": {
    "name": "ipython",
    "version": 3
   },
   "file_extension": ".py",
   "mimetype": "text/x-python",
   "name": "python",
   "nbconvert_exporter": "python",
   "pygments_lexer": "ipython3",
   "version": "3.7.4"
  }
 },
 "nbformat": 4,
 "nbformat_minor": 2
}
