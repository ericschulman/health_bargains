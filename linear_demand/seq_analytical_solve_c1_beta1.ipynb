{
 "cells": [
  {
   "cell_type": "code",
   "execution_count": 1,
   "metadata": {},
   "outputs": [],
   "source": [
    "%load_ext autoreload\n",
    "%autoreload 2\n",
    "\n",
    "from sympy import *\n",
    "import pandas as pd\n",
    "\n",
    "import sys\n",
    "sys.path.append(\"../\")\n",
    "from bargains_linear import * "
   ]
  },
  {
   "cell_type": "code",
   "execution_count": 2,
   "metadata": {},
   "outputs": [],
   "source": [
    "#general purpose code for interior cases\n",
    "\n",
    "phi1 =Symbol('\\\\phi_1') #phi_2\n",
    "phi2 =Symbol('\\\\phi_2') #phi_2\n",
    "p1=Symbol('p_1') #p1 #TODO: integrate this into the formula*****\n",
    "\n",
    "cost =Symbol('\\\\lambda') #can't name variable lambda\n",
    "out = Symbol('\\\\pi') #outside option: pi_h(g\\i)\n",
    "beta1  = Symbol('\\\\beta1')\n",
    "beta2  = Symbol('\\\\beta2')\n",
    "mc1 =Symbol('c_1') \n",
    "mc2=Symbol('c_2')"
   ]
  },
  {
   "cell_type": "code",
   "execution_count": 3,
   "metadata": {},
   "outputs": [],
   "source": [
    "def calc_price(phi1, phi2, cost ,mc1,mc2):\n",
    "    \"\"\"compute each insurer's price (assumes interior solution)\"\"\"\n",
    "    p1 = (2*(phi1+mc1)+phi2+mc2)/3. + cost\n",
    "    p2 = (2*(phi2+mc2)+phi1+mc1)/3. + cost\n",
    "    return p1, p2\n",
    "  \n",
    "    \n",
    "def calc_s(phi1, phi2, cost,  mc1,mc2):\n",
    "    \"\"\"compute the proportion of people choosing each insurer\n",
    "    assumes interior solution\"\"\"\n",
    "    p1, p2 = calc_price(phi1, phi2, cost, mc1,mc2)\n",
    "    t_hat = .5 + (p2 - p1)/(2.*cost)\n",
    "    return t_hat\n",
    "\n",
    "\n",
    "def calc_profits(phi1,phi2,cost,  mc1,mc2):\n",
    "    s = calc_s(phi1, phi2, cost,  mc1,mc2)\n",
    "    p1,p2 = calc_price(phi1, phi2, cost, mc1,mc2)\n",
    "\n",
    "    profits1, profits2 = s*(p1-phi1-mc1), (1-s)*(p2-phi2-mc2)\n",
    "    hosp_profit = s*(phi1) +  (1-s)*(phi2)\n",
    "\n",
    "    return hosp_profit, profits1, profits2\n",
    "\n",
    "\n",
    "\n",
    "#arbitrary outside option...\n",
    "def nash_in_nash2(phi1, phi2, cost, mc1,mc2,beta2,out):\n",
    "    hosp_profit, profits1, profits2 = calc_profits(phi1, phi2,  cost,  mc1,mc2)\n",
    "    return ((hosp_profit-out)**(1-beta2))*(profits2**beta2)\n",
    "\n"
   ]
  },
  {
   "cell_type": "code",
   "execution_count": 4,
   "metadata": {},
   "outputs": [
    {
     "name": "stdout",
     "output_type": "stream",
     "text": [
      "(3.0*\\beta2*\\lambda + \\beta2*c_1 - 3.0*\\lambda - 2.0*\\phi_1 + 2.0*\\phi_2 - c_1)/(\\beta2 - 1.0)\n"
     ]
    }
   ],
   "source": [
    "def solve_c(phi1, phi2, cost, mc1,mc2,beta2,out):\n",
    "    foc =  diff(nash_in_nash2(phi1, phi2, cost, mc1,mc2,beta2,out), phi2)\n",
    "    foc = foc.subs( {out:phi1} )\n",
    "    h =solve(foc,mc2)[0]#.subs({mc1:0})\n",
    "    return h\n",
    "\n",
    "result1 = solve_c(phi1, phi2, cost, mc1,mc2,beta2,out)\n",
    "print(result1)"
   ]
  },
  {
   "cell_type": "code",
   "execution_count": 5,
   "metadata": {},
   "outputs": [
    {
     "name": "stdout",
     "output_type": "stream",
     "text": [
      "15.937647528656367 19.56261840174708 23.14597115301994 24.35429477738351\n",
      "1.0*c_1 + 0.500116507637145\n"
     ]
    }
   ],
   "source": [
    "reimb1,reimb2 = seq_bargain(25, 5,25,np.array([1,1.5]),betas=[.5,.5])\n",
    "reimb1,reimb2 = reimb1[0],reimb2[0]\n",
    "price1,price2 = calc_price(reimb1,reimb2,5,1,1)\n",
    "print(reimb1,reimb2,price1,price2)\n",
    "#print(result1[0].subs({beta1:.5,beta2:.5,lamb:5}))\n",
    "print(result1.subs({beta1:.5,beta2:.5,cost:5,phi1:reimb1,phi2:reimb2,p1:price1}).evalf())"
   ]
  },
  {
   "cell_type": "code",
   "execution_count": 6,
   "metadata": {},
   "outputs": [
    {
     "name": "stdout",
     "output_type": "stream",
     "text": [
      "(3.0*\\lambda + 2.0*\\phi_1 - 2.0*\\phi_2 + c_1 - c_2)/(3.0*\\lambda + c_1 - c_2)\n",
      "(c_1 + 7.25005825381857)/(c_1 + 14.5)\n"
     ]
    }
   ],
   "source": [
    "def solve_beta2(phi1, phi2, cost, mc1,mc2,beta2,out):\n",
    "    foc =  diff(nash_in_nash2(phi1, phi2, cost, mc1,mc2,beta2,out), phi2)\n",
    "    foc = foc.subs( {out:phi1} ) #.subs({mc1:0})\n",
    "    h =solve(foc,beta2)[0]\n",
    "    return h\n",
    "\n",
    "result2 = solve_beta2(phi1, phi2, cost, mc1,mc2,beta2,out)\n",
    "print(result2)\n",
    "print(result2.subs({mc2:.5,cost:5,phi1:reimb1,phi2:reimb2,p1:price1}))"
   ]
  },
  {
   "cell_type": "code",
   "execution_count": null,
   "metadata": {},
   "outputs": [],
   "source": [
    "\n",
    "\n"
   ]
  },
  {
   "cell_type": "code",
   "execution_count": null,
   "metadata": {},
   "outputs": [],
   "source": []
  }
 ],
 "metadata": {
  "kernelspec": {
   "display_name": "Python 3 (ipykernel)",
   "language": "python",
   "name": "python3"
  },
  "language_info": {
   "codemirror_mode": {
    "name": "ipython",
    "version": 3
   },
   "file_extension": ".py",
   "mimetype": "text/x-python",
   "name": "python",
   "nbconvert_exporter": "python",
   "pygments_lexer": "ipython3",
   "version": "3.10.9"
  }
 },
 "nbformat": 4,
 "nbformat_minor": 2
}
