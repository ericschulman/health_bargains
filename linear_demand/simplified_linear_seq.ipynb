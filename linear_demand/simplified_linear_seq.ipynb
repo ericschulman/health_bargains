{
 "cells": [
  {
   "cell_type": "code",
   "execution_count": 1,
   "metadata": {},
   "outputs": [],
   "source": [
    "import numpy as np\n",
    "from scipy.optimize import minimize\n",
    "from scipy.optimize import fsolve\n",
    "from matplotlib import pyplot as plt\n",
    "import pandas as pd"
   ]
  },
  {
   "cell_type": "code",
   "execution_count": 2,
   "metadata": {},
   "outputs": [
    {
     "name": "stdout",
     "output_type": "stream",
     "text": [
      "-1.8121704664881826\n"
     ]
    }
   ],
   "source": [
    "def calc_price(phi1, phi2, cost, wtp):\n",
    "    \"\"\"compute each insurer's price (assumes interior solution)\"\"\"\n",
    "    phi1, phi2 = phi1, phi2\n",
    "    p1 = (2*phi1+phi2)/3. + cost\n",
    "    p2 = (2*phi2+phi1)/3. + cost\n",
    "    if phi1 <= 0 or phi2 <= 0:\n",
    "        return 0,0\n",
    "    \n",
    "    return p1, p2\n",
    "  \n",
    "    \n",
    "def calc_s(phi1, phi2, cost, wtp):\n",
    "    \"\"\"compute the proportion of people choosing each insurer\n",
    "    assumes interior solution\"\"\"\n",
    "    p1, p2 = calc_price(phi1, phi2, cost, wtp)\n",
    "    s_hat = .5 + (p2 - p1)/(2.*cost)\n",
    "    return s_hat\n",
    "\n",
    "\n",
    "def calc_profits(phi1,phi2,cost, wtp, mc):\n",
    "    phi1, phi2 = phi1, phi2\n",
    "    s= calc_s(phi1, phi2, cost, wtp)\n",
    "    p1,p2 = calc_price(phi1, phi2, cost, wtp)\n",
    "    profits1, profits2 = s*(p1-phi1), (1-s)*(p2-phi2)\n",
    "    mc1,mc2 = mc\n",
    "    hosp_profit = s*(phi1-mc1) +  (1-s)*(phi2-mc2)\n",
    "    \n",
    "    if phi1 <= 0 or phi2 <= 0:\n",
    "        return 0,0,0\n",
    "    \n",
    "    return hosp_profit, profits1, profits2\n",
    "\n",
    "    \n",
    "def outside_simlt(phi1, phi2, cost, wtp,  mc, active=False):\n",
    "    \"\"\"outside option in simult case\n",
    "    assuming listprice high enough\"\"\"\n",
    "    mc1,mc2 = mc\n",
    "    \n",
    "    if active:\n",
    "        return (wtp-cost)/2 - mc2 #outside cost is other insurer?\n",
    "\n",
    "    \n",
    "    s_hat = calc_s(phi1, phi2, cost, wtp) # s_hat with no recapture\n",
    "    p1,p2 = calc_price(phi1, phi2, cost, wtp)\n",
    "    s_hat  = np.clip((cost + p2 - wtp)/cost,0,1) #s_hat with recapture\n",
    "    \n",
    "    \n",
    "    return (1-s_hat)*(phi2)\n",
    "\n",
    "\n",
    "#arbitrary outside option...\n",
    "def nash_in_nash(phi1, phi2, cost, wtp, mc, beta=.5,outside=0):\n",
    "    hosp_profit, profits1, profits2 = calc_profits(phi1, phi2,  cost,  wtp, mc)\n",
    "    obj = -1*(np.log(max(hosp_profit-outside,1e-4))*(1-beta) \n",
    "              + np.log(profits1)*beta)\n",
    "    return obj\n",
    "\n",
    "\n",
    "COST = 5\n",
    "WTP = 25\n",
    "MC = np.array([0,0])\n",
    "\n",
    "print(nash_in_nash(3*COST,3*COST, COST, WTP, MC))"
   ]
  },
  {
   "cell_type": "code",
   "execution_count": 3,
   "metadata": {},
   "outputs": [
    {
     "name": "stdout",
     "output_type": "stream",
     "text": [
      "[8.35501099]\n"
     ]
    }
   ],
   "source": [
    "def bargain_helper(phi1, phi2, cost, wtp, mc, beta=.5,outside=0):\n",
    "    \"\"\"solve each firm 1s optimization holding phi 2 fixed\"\"\"\n",
    "    result = minimize(nash_in_nash, phi1, args=(phi2,cost, wtp, mc, beta,outside),\n",
    "                      method='Nelder-Mead', options={'disp': False})\n",
    "    return result.x\n",
    "\n",
    "COST = 5\n",
    "WTP  = 25\n",
    "MC = np.array([0,0])\n",
    "\n",
    "print(bargain_helper(15,15, COST,WTP,MC,beta=.5,outside=0))"
   ]
  },
  {
   "cell_type": "code",
   "execution_count": 4,
   "metadata": {
    "scrolled": false
   },
   "outputs": [
    {
     "name": "stdout",
     "output_type": "stream",
     "text": [
      "(array([15.62577103]), array([19.37502828]))\n"
     ]
    }
   ],
   "source": [
    "def seq_bargain(phi1, cost, wtp, mc, betas=[.5,.5]):\n",
    "    \"\"\"solve the bargaining problems seperately and iterate for a solution\"\"\"       \n",
    "    \n",
    "    #loop variables, check on this...\n",
    "    phi2 = phi1 +10\n",
    "    \n",
    "    diff =  np.maximum(phi1,phi2)\n",
    "    phi10,phi20 = phi1+.5,phi2+.5\n",
    "    maxiter = 20\n",
    "    while maxiter >=0 and diff > 10e-7:\n",
    "        outside = outside_simlt(phi10, phi20, cost, wtp,  mc, active=True)\n",
    "\n",
    "        #seems as though there is a contraction mapping here, need to think more about why\n",
    "        phi2 = bargain_helper(phi20, phi10, cost, wtp, mc[::-1], beta=betas[1],outside=phi10)\n",
    "        phi1 = bargain_helper(phi10, phi20, cost, wtp, mc, beta=betas[0] ,outside=outside)\n",
    "        \n",
    "        #update loop variables\n",
    "        diff = np.abs(np.maximum(phi1 - phi10,phi2-phi20))[0]\n",
    "        phi10,phi20 = phi1,phi2\n",
    "        maxiter = maxiter-1\n",
    "        \n",
    "    return phi1, phi2\n",
    "\n",
    "\n",
    "COST = 5\n",
    "WTP  = 25\n",
    "MC = np.array([0,0])\n",
    "print(seq_bargain(15,COST,WTP,MC))\n",
    "#print(simult_bargain(15,15,COST,WTP,MC,active=True))"
   ]
  },
  {
   "cell_type": "code",
   "execution_count": 5,
   "metadata": {},
   "outputs": [
    {
     "name": "stdout",
     "output_type": "stream",
     "text": [
      "l phi1 phi 2 hosp profit profit 1 profit 2\n",
      "25 25 15.627 19.376 21.876 23.126 17.033 3.906 1.406\n",
      "26 26 16.127 19.876 22.376 23.626 17.533 3.906 1.406\n",
      "27 27 16.626 20.376 22.876 24.126 18.033 3.906 1.406\n",
      "28 28 17.126 20.876 23.376 24.626 18.532 3.906 1.406\n",
      "29 29 17.626 21.376 23.876 25.126 19.032 3.906 1.406\n"
     ]
    }
   ],
   "source": [
    "#willingness to pay\n",
    "\n",
    "COST = 5\n",
    "WTP = 25\n",
    "\n",
    "print(\"l\" , \"phi1\", \"phi 2\", \"hosp profit\", \"profit 1\", \"profit 2\")\n",
    "for i in range(5):\n",
    "    mc_i = np.array([0, 0])\n",
    "    wtp_i = WTP + i\n",
    "    phi1,phi2 = seq_bargain(20,COST,wtp_i,mc_i)\n",
    "    hosp_profit, profits1, profits2= calc_profits(phi1[0],phi2[0],COST, wtp_i, mc_i )\n",
    "    p1,p2=calc_price(phi1, phi2, COST, wtp_i)\n",
    "    s1=calc_s(phi1, phi2, COST, wtp_i)\n",
    "    print(wtp_i,wtp_i, round(phi1[0],3), round(phi2[0],3), round(p1[0],3), round(p2[0],3), \n",
    "          round(hosp_profit,3), round(profits1,3), round(profits2,3))"
   ]
  },
  {
   "cell_type": "code",
   "execution_count": null,
   "metadata": {},
   "outputs": [],
   "source": [
    "#willingness to pay\n",
    "\n",
    "COST = 5\n",
    "WTP = 25\n",
    "\n",
    "print(\"l\" , \"phi1\", \"phi 2\", \"hosp profit\", \"profit 1\", \"profit 2\")\n",
    "for i in range(5):\n",
    "    mc_i = np.array([0, 0])\n",
    "    wtp_i = WTP + i\n",
    "    phi1,phi2 = seq_bargain(20,COST,wtp_i,mc_i)\n",
    "    hosp_profit, profits1, profits2= calc_profits(phi1[0],phi2[0],COST, wtp_i, mc_i )\n",
    "    p1,p2=calc_price(phi1, phi2, COST, wtp_i)\n",
    "    s1=calc_s(phi1, phi2, COST, wtp_i)\n",
    "    print(wtp_i,wtp_i, round(phi1[0],3), round(phi2[0],3), round(p1[0],3), round(p2[0],3), \n",
    "          round(hosp_profit,3), round(profits1,3), round(profits2,3))"
   ]
  },
  {
   "cell_type": "code",
   "execution_count": 6,
   "metadata": {},
   "outputs": [
    {
     "name": "stdout",
     "output_type": "stream",
     "text": [
      "l phi1 phi 2 hosp profit profit 1 profit 2\n",
      "0.0 0.0 15.627 19.376 21.876 23.126 17.033 3.906 1.406\n",
      "0.5 0.0 16.343 20.403 22.696 24.05 17.506 4.036 1.33\n",
      "1.0 0.0 17.129 21.546 23.601 25.073 18.04 4.189 1.245\n"
     ]
    }
   ],
   "source": [
    "#firm 1 high cost\n",
    "COST = 5\n",
    "WTP = 25\n",
    "\n",
    "print(\"l\" , \"phi1\", \"phi 2\", \"hosp profit\", \"profit 1\", \"profit 2\")\n",
    "for i in np.linspace(0,1,3):\n",
    "    mc_i = np.array([i, 0])\n",
    "    wtp_i = WTP \n",
    "    phi1,phi2 = seq_bargain(20,COST,wtp_i,mc_i)\n",
    "    p1,p2 = calc_price(phi1, phi2, COST,wtp_i)\n",
    "    hosp_profit, profits1, profits2= calc_profits(phi1[0],phi2[0],COST, wtp_i, mc_i )\n",
    "    s1=calc_s(phi1, phi2, COST, wtp_i)\n",
    "    print(mc_i[0],mc_i[1], round(phi1[0],3), round(phi2[0],3), round(p1[0],3), round(p2[0],3), \n",
    "          round(hosp_profit,3), round(profits1,3), round(profits2,3))"
   ]
  },
  {
   "cell_type": "code",
   "execution_count": 7,
   "metadata": {},
   "outputs": [
    {
     "name": "stdout",
     "output_type": "stream",
     "text": [
      "l phi1 phi 2 hosp profit profit 1 profit 2\n",
      "0.0 0.0 15.627 19.376 21.876 23.126 17.033 3.906 1.406\n",
      "0.0 0.5 15.439 19.564 21.814 23.189 16.753 4.064 1.314\n",
      "0.0 1.0 15.252 19.752 21.752 23.252 16.477 4.225 1.225\n"
     ]
    }
   ],
   "source": [
    "#firm 2 high cost\n",
    "COST = 5\n",
    "WTP = 25\n",
    "\n",
    "print(\"l\" , \"phi1\", \"phi 2\", \"hosp profit\", \"profit 1\", \"profit 2\")\n",
    "for i in np.linspace(0,1,3):\n",
    "    mc_i = np.array([0, i])\n",
    "    wtp_i = WTP \n",
    "    phi1,phi2 = seq_bargain(20,COST,wtp_i,mc_i)\n",
    "    p1,p2 = calc_price(phi1, phi2, COST,wtp_i)\n",
    "    hosp_profit, profits1, profits2= calc_profits(phi1[0],phi2[0],COST, wtp_i, mc_i )\n",
    "    s1=calc_s(phi1, phi2, COST, wtp_i)\n",
    "    print(mc_i[0],mc_i[1], round(phi1[0],3), round(phi2[0],3), round(p1[0],3), round(p2[0],3), \n",
    "          round(hosp_profit,3), round(profits1,3), round(profits2,3))"
   ]
  },
  {
   "cell_type": "code",
   "execution_count": null,
   "metadata": {},
   "outputs": [],
   "source": [
    "#generate a bunch of runs with passive and compute costs\n",
    "\n",
    "def compute_cov(nobs=1000):\n",
    "    mcs = np.random.uniform(low=0.0, high=2.0, size=(2,nobs))\n",
    "    phis = []\n",
    "    for i in range(nobs):\n",
    "        phi = seq_bargain(30,COST,WTP,mcs[:,i]) \n",
    "        phis.append(np.array(phi).flatten())\n",
    "\n",
    "    phis = np.array(phis)\n",
    "    return np.cov(phis,rowvar=False),phis\n",
    "\n",
    "matrix, phis = compute_cov()\n",
    "print(phis[:,0].max(),phis[:,0].mean(),phis[:,0].min())\n",
    "print('--')\n",
    "print(phis[:,1].max(),phis[:,1].mean(),phis[:,1].min())\n",
    "print('--')\n",
    "print(matrix)\n",
    "print('--')\n",
    "print(np.cov(phis[0:500,:],rowvar=False))\n",
    "print('--')\n",
    "print(np.cov(phis[100:600,:],rowvar=False))\n",
    "print('--')\n",
    "print(np.cov(phis[200:700,:],rowvar=False))\n",
    "print('--')\n",
    "print(np.cov(phis[300:800,:],rowvar=False))\n"
   ]
  },
  {
   "cell_type": "code",
   "execution_count": null,
   "metadata": {},
   "outputs": [],
   "source": [
    "phis_clean = phis[phis[:,0]>=17]\n",
    "print('--')\n",
    "print(np.cov(phis_clean[0:500,:],rowvar=False))\n",
    "print('--')\n",
    "print(np.cov(phis_clean[100:600,:],rowvar=False))\n",
    "print('--')\n",
    "print(np.cov(phis_clean[200:700,:],rowvar=False))\n",
    "print('--')\n",
    "print(np.cov(phis_clean[300:800,:],rowvar=False))"
   ]
  },
  {
   "cell_type": "code",
   "execution_count": null,
   "metadata": {},
   "outputs": [],
   "source": [
    "#generate a bunch of runs with passive and compute costs\n",
    "\n",
    "def compute_cov(nobs=1000):\n",
    "    mcs = np.random.uniform(low=0.0, high=1.0, size=(2,nobs))\n",
    "    phis = []\n",
    "    for i in range(nobs):\n",
    "        phi = seq_bargain(30,COST,WTP,mcs[:,i]) \n",
    "        phis.append(np.array(phi).flatten())\n",
    "\n",
    "    phis = np.array(phis)\n",
    "    return np.cov(phis,rowvar=False),phis\n",
    "\n",
    "matrix, phis = compute_cov()\n",
    "print(phis[:,0].max(),phis[:,0].mean(),phis[:,0].min())\n",
    "print('--')\n",
    "print(phis[:,1].max(),phis[:,1].mean(),phis[:,1].min())\n",
    "print('--')\n",
    "print(matrix)\n",
    "print('--')\n",
    "print(np.cov(phis[0:500,:],rowvar=False))\n",
    "print('--')\n",
    "print(np.cov(phis[100:600,:],rowvar=False))\n",
    "print('--')\n",
    "print(np.cov(phis[200:700,:],rowvar=False))"
   ]
  },
  {
   "cell_type": "code",
   "execution_count": null,
   "metadata": {},
   "outputs": [],
   "source": [
    "#generate a bunch of runs with passive and compute costs\n",
    "\n",
    "def compute_cov(nobs=1000):\n",
    "    mcs = np.random.uniform(low=0.0, high=.5, size=(2,nobs))\n",
    "    phis = []\n",
    "    for i in range(nobs):\n",
    "        phi = seq_bargain(30,COST,WTP,mcs[:,i]) \n",
    "        phis.append(np.array(phi).flatten())\n",
    "\n",
    "    phis = np.array(phis)\n",
    "    return np.cov(phis,rowvar=False),phis\n",
    "\n",
    "matrix, phis = compute_cov()\n",
    "print(phis[:,0].max(),phis[:,0].mean(),phis[:,0].min())\n",
    "print('--')\n",
    "print(phis[:,1].max(),phis[:,1].mean(),phis[:,1].min())\n",
    "print('--')\n",
    "print(matrix)\n",
    "print('--')\n",
    "print(np.cov(phis[0:500,:],rowvar=False))\n",
    "print('--')\n",
    "print(np.cov(phis[100:600,:],rowvar=False))\n",
    "print('--')\n",
    "print(np.cov(phis[200:700,:],rowvar=False))"
   ]
  },
  {
   "cell_type": "code",
   "execution_count": null,
   "metadata": {},
   "outputs": [],
   "source": [
    "#just make sure it works for stuff i know is right\n",
    "\n",
    "def compute_solution(nobs=20):\n",
    "    #mcs = np.random.uniform(low=0.0, high=2.0, size=(2,nobs))\n",
    "    phis = []\n",
    "    vs = np.random.uniform(low=26,high=26.5,size=(nobs))\n",
    "    lambdas = np.random.uniform(low=5,high=6,size=(nobs))\n",
    "    x = np.concatenate(([vs],[lambdas])) #,mcs\n",
    "    for i in range(nobs):\n",
    "        phi = seq_bargain(30,lambdas[i],vs[i],np.array([0,0])) \n",
    "        phis.append(np.array(phi).flatten())\n",
    "    phis = np.array(phis)\n",
    "    xx = x.dot(x.transpose())\n",
    "    xy1 = x.dot(phis[:,0])\n",
    "    xy2 = x.dot(phis[:,1])\n",
    "    return np.linalg.inv(xx).dot(xy1),np.linalg.inv(xx).dot(xy2)\n",
    "    \n",
    "print(compute_solution(nobs=10))"
   ]
  },
  {
   "cell_type": "code",
   "execution_count": null,
   "metadata": {},
   "outputs": [],
   "source": [
    "def compute_solution(nobs=20):\n",
    "    \n",
    "    #set up x variables to solve the model\n",
    "    phis = []\n",
    "    vs = np.random.uniform(low=26,high=26.5,size=(nobs))\n",
    "    lambdas = np.random.uniform(low=5,high=6,size=(nobs))\n",
    "    mcs = np.random.uniform(low=0.0, high=1.0, size=(2,nobs))\n",
    "    x = np.concatenate(([vs],[lambdas],mcs))\n",
    "    \n",
    "    #generate a few solutions...\n",
    "    for i in range(nobs):\n",
    "        phi = seq_bargain(35,lambdas[i],vs[i],mcs[:,i])\n",
    "        phis.append(np.array(phi).flatten())\n",
    "        \n",
    "    #do regression stuff to solve\n",
    "    phis = np.array(phis)\n",
    "    xx = x.dot(x.transpose())\n",
    "    xy1 = x.dot(phis[:,0])\n",
    "    xy2 = x.dot(phis[:,1])\n",
    "    return np.linalg.inv(xx).dot(xy1),np.linalg.inv(xx).dot(xy2)\n",
    "\n",
    "#coeffs are v, lambda, c1, c2\n",
    "print(compute_solution(nobs=10))  \n",
    "\n",
    "#maybe do it 10 times and take the average?"
   ]
  },
  {
   "cell_type": "code",
   "execution_count": null,
   "metadata": {},
   "outputs": [],
   "source": []
  },
  {
   "cell_type": "code",
   "execution_count": null,
   "metadata": {},
   "outputs": [],
   "source": []
  }
 ],
 "metadata": {
  "kernelspec": {
   "display_name": "Python 3 (ipykernel)",
   "language": "python",
   "name": "python3"
  },
  "language_info": {
   "codemirror_mode": {
    "name": "ipython",
    "version": 3
   },
   "file_extension": ".py",
   "mimetype": "text/x-python",
   "name": "python",
   "nbconvert_exporter": "python",
   "pygments_lexer": "ipython3",
   "version": "3.10.9"
  }
 },
 "nbformat": 4,
 "nbformat_minor": 2
}
