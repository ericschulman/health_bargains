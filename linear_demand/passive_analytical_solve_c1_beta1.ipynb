{
 "cells": [
  {
   "cell_type": "code",
   "execution_count": 1,
   "metadata": {},
   "outputs": [],
   "source": [
    "from sympy import *\n",
    "import pandas as pd\n",
    "\n",
    "import sys\n",
    "sys.path.append(\"../\")\n",
    "from bargains_linear import * "
   ]
  },
  {
   "cell_type": "code",
   "execution_count": 2,
   "metadata": {},
   "outputs": [],
   "source": [
    "#general purpose code for interior cases\n",
    "\n",
    "phi1 =Symbol('\\\\phi_1') #phi_2\n",
    "phi2 =Symbol('\\\\phi_2') #phi_2\n",
    "p1=Symbol('p_1') #p1 #TODO: integrate this into the formula*****\n",
    "\n",
    "cost =Symbol('\\\\lambda') #can't name variable lambda\n",
    "out = Symbol('\\\\pi') #outside option: pi_h(g\\i)\n",
    "beta1  = Symbol('\\\\beta_1')\n",
    "beta2  = Symbol('\\\\beta_2')\n",
    "mc1 =Symbol('c_1') \n",
    "mc2=Symbol('c_2')"
   ]
  },
  {
   "cell_type": "code",
   "execution_count": 3,
   "metadata": {},
   "outputs": [],
   "source": [
    "def calc_price(phi1, phi2, cost ,mc1,mc2):\n",
    "    \"\"\"compute each insurer's price (assumes interior solution)\"\"\"\n",
    "    p1 = (2*(phi1+mc1)+phi2+mc2)/3. + cost\n",
    "    p2 = (2*(phi2+mc2)+phi1+mc1)/3. + cost\n",
    "    return p1, p2\n",
    "  \n",
    "    \n",
    "def calc_s(phi1, phi2, cost,  mc1,mc2):\n",
    "    \"\"\"compute the proportion of people choosing each insurer\n",
    "    assumes interior solution\"\"\"\n",
    "    p1, p2 = calc_price(phi1, phi2, cost, mc1,mc2)\n",
    "    t_hat = .5 + (p2 - p1)/(2.*cost)\n",
    "    return t_hat\n",
    "\n",
    "\n",
    "def calc_profits(phi1,phi2,cost,  mc1,mc2):\n",
    "    s = calc_s(phi1, phi2, cost,  mc1,mc2)\n",
    "    p1,p2 = calc_price(phi1, phi2, cost, mc1,mc2)\n",
    "\n",
    "    profits1, profits2 = s*(p1-phi1-mc1), (1-s)*(p2-phi2-mc2)\n",
    "    hosp_profit = s*(phi1) +  (1-s)*(phi2)\n",
    "\n",
    "    return hosp_profit, profits1, profits2\n",
    "\n",
    "#arbitrary outside option...\n",
    "def nash_in_nash2(phi1, phi2, cost, mc1,mc2,beta1,out):\n",
    "    hosp_profit, profits1, profits2 = calc_profits(phi1, phi2,  cost,  mc1,mc2)\n",
    "    return (hosp_profit-out)**(1-beta1)*(profits1)**(beta1)\n",
    "\n"
   ]
  },
  {
   "cell_type": "code",
   "execution_count": 4,
   "metadata": {},
   "outputs": [
    {
     "name": "stdout",
     "output_type": "stream",
     "text": [
      "((0.5*\\lambda**2 - 0.333333333333333*\\lambda*\\phi_1 + 0.333333333333333*\\lambda*\\phi_2 - 0.333333333333333*\\lambda*c_1 + 0.333333333333333*\\lambda*c_2 + 0.0555555555555556*\\phi_1**2 - 0.111111111111111*\\phi_1*\\phi_2 + 0.111111111111111*\\phi_1*c_1 - 0.111111111111111*\\phi_1*c_2 + 0.0555555555555556*\\phi_2**2 - 0.111111111111111*\\phi_2*c_1 + 0.111111111111111*\\phi_2*c_2 + 0.0555555555555556*c_1**2 - 0.111111111111111*c_1*c_2 + 0.0555555555555556*c_2**2)/\\lambda)**\\beta_1*(-0.5*\\beta_1*\\lambda - 0.333333333333333*\\beta_1*\\phi_2 + 0.166666666666667*\\beta_1*c_1 - 0.166666666666667*\\beta_1*c_2 + 0.5*\\lambda - 0.333333333333333*\\phi_1 + 0.333333333333333*\\phi_2 - 0.166666666666667*c_1 + 0.166666666666667*c_2)/(\\lambda*(\\phi_1*(0.5*\\lambda - 0.166666666666667*\\phi_1 + 0.166666666666667*\\phi_2 - 0.166666666666667*c_1 + 0.166666666666667*c_2)/\\lambda)**\\beta_1)\n",
      "----\n",
      "([(3.0*\\beta_1*\\lambda + 2.0*\\beta_1*\\phi_2 + \\beta_1*c_2 - 3.0*\\lambda + 2.0*\\phi_1 - 2.0*\\phi_2 - c_2)/(\\beta_1 - 1.0)], [(3.0*\\beta_2*\\lambda + 2.0*\\beta_2*\\phi_1 + \\beta_2*c_1 - 3.0*\\lambda - 2.0*\\phi_1 + 2.0*\\phi_2 - c_1)/(\\beta_2 - 1.0)])\n"
     ]
    }
   ],
   "source": [
    "def solve_c1(phi1, phi2, cost, mc1,mc2,beta1,beta2,out):\n",
    "    foc2 =  diff(nash_in_nash2(phi2, phi1, cost, mc2,mc1,beta2,out), phi2)\n",
    "    foc2 = foc2.subs( {out:(phi1*(1-calc_s(phi2, phi1, cost,  mc2,mc1)) )} )\n",
    "    h2 = solve(foc2,mc2)\n",
    "    \n",
    "    \n",
    "    foc1 =  diff(nash_in_nash2(phi1, phi2, cost, mc1,mc2,beta1,out), phi1)\n",
    "    foc1 = foc1.subs( {out:(phi2*(1-calc_s(phi1, phi2, cost,  mc1,mc2)) )} )\n",
    "    #foc1 = foc1.subs({mc2:h2[0]})\n",
    "    print(simplify(foc1))\n",
    "    print('----')\n",
    "    h1 = solve(foc1,mc1)\n",
    "\n",
    "    \n",
    "    return h1,h2\n",
    "\n",
    "\n",
    "result1 = solve_c1(phi1, phi2, cost, mc1,mc2,beta1,beta2,out)\n",
    "print(result1)\n",
    "#result2 = solve_c1(phi2, phi1, cost, mc2,mc1,beta2,beta1,out)\n",
    "#print(result2)"
   ]
  },
  {
   "cell_type": "code",
   "execution_count": 6,
   "metadata": {},
   "outputs": [
    {
     "name": "stdout",
     "output_type": "stream",
     "text": [
      "([(3.0*\\lambda - 2.0*\\phi_1 + 2.0*\\phi_2 - c_1 + c_2)/(3.0*\\lambda + 2.0*\\phi_2 - c_1 + c_2)], [(3.0*\\lambda + 2.0*\\phi_1 - 2.0*\\phi_2 + c_1 - c_2)/(3.0*\\lambda + 2.0*\\phi_1 + c_1 - c_2)])\n"
     ]
    }
   ],
   "source": [
    "def solve_beta2(phi1, phi2, cost, mc1,mc2,beta1,beta2,out):\n",
    "    foc2 =  diff(nash_in_nash2(phi2, phi1, cost, mc2,mc1,beta2,out), phi2)\n",
    "    foc2 = foc2.subs( {out:(phi1*(1-calc_s(phi2, phi1, cost,  mc2,mc1)) )} )\n",
    "    h2 =solve(foc2,beta2)\n",
    "    \n",
    "    foc1 =  diff(nash_in_nash2(phi1, phi2, cost, mc1,mc2,beta1,out), phi1)\n",
    "    foc1 = foc1.subs( {out:(phi2*(1-calc_s(phi1, phi2, cost,  mc1,mc2)) )} )\n",
    "    h1 =solve(foc1,beta1)\n",
    "    \n",
    "\n",
    "    return h1,h2\n",
    "\n",
    "\n",
    "result1 = solve_beta2(phi1, phi2, cost, mc1,mc2,beta1,beta2,out)\n",
    "print(result1)\n"
   ]
  },
  {
   "cell_type": "code",
   "execution_count": null,
   "metadata": {},
   "outputs": [],
   "source": []
  }
 ],
 "metadata": {
  "kernelspec": {
   "display_name": "Python 3 (ipykernel)",
   "language": "python",
   "name": "python3"
  },
  "language_info": {
   "codemirror_mode": {
    "name": "ipython",
    "version": 3
   },
   "file_extension": ".py",
   "mimetype": "text/x-python",
   "name": "python",
   "nbconvert_exporter": "python",
   "pygments_lexer": "ipython3",
   "version": "3.10.9"
  }
 },
 "nbformat": 4,
 "nbformat_minor": 2
}
