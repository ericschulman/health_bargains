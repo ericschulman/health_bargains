{
 "cells": [
  {
   "cell_type": "code",
   "execution_count": 1,
   "metadata": {},
   "outputs": [],
   "source": [
    "from sympy import *\n",
    "import pandas as pd\n",
    "\n",
    "import sys\n",
    "sys.path.append(\"../\")\n",
    "from bargains_linear import * "
   ]
  },
  {
   "cell_type": "code",
   "execution_count": 2,
   "metadata": {},
   "outputs": [],
   "source": [
    "#general purpose code for interior cases\n",
    "\n",
    "theta1=Symbol('\\\\phi_1') #phi_1\n",
    "theta2 =Symbol('\\\\phi_2') #phi_2\n",
    "lamb =Symbol('\\lambda') #can't name variable lambda\n",
    "out = Symbol('\\pi') #outside option: pi_h(g\\i)\n",
    "beta1  = Symbol('\\\\beta1')\n",
    "beta2  = Symbol('\\\\beta2')\n",
    "c1 =0 \n",
    "c2=0"
   ]
  },
  {
   "cell_type": "code",
   "execution_count": 3,
   "metadata": {},
   "outputs": [
    {
     "data": {
      "text/latex": [
       "$\\displaystyle \\frac{\\left(3 \\lambda - \\phi_{1} + \\phi_{2}\\right) \\left(3.0 \\lambda - \\phi_{1} + \\phi_{2}\\right)}{18 \\lambda}$"
      ],
      "text/plain": [
       "(3*\\lambda - \\phi_1 + \\phi_2)*(3.0*\\lambda - \\phi_1 + \\phi_2)/(18*\\lambda)"
      ]
     },
     "execution_count": 3,
     "metadata": {},
     "output_type": "execute_result"
    }
   ],
   "source": [
    "simplify((((2*theta1+theta2)/3 + lamb - theta1 - c1)*(1/2 + (theta2-theta1)/(6*lamb) )))\n"
   ]
  },
  {
   "cell_type": "code",
   "execution_count": 4,
   "metadata": {},
   "outputs": [],
   "source": [
    "\n",
    "def t(theta1, theta2, lamb): #market share\n",
    "    return (3*lamb + theta2 - theta1)/(6*lamb)\n",
    "\n",
    "def profit(theta1,theta2, lamb,c1):\n",
    "    return ((3*lamb)+ theta2 - theta1)*((3*lamb)+ theta2 - theta1 - 3*c1)/(18*lamb) \n",
    "\n",
    "#analyze symmetric simultaneous case first\n",
    "def nb_objective(theta1,theta2, lamb, outside,c1,beta1):\n",
    "    term1 = (profit(theta1,theta2, lamb,c1))\n",
    "    term2 = ( theta2 + (theta1- theta2)*t(theta1, theta2,lamb))\n",
    "    return ((term1)**(beta1)) * ((term2 - outside)**(1-beta1))\n",
    "#beta\\neq1/2 makes it much harder to get analytical solutions in Python; we just have 1/2 for symmetry\n"
   ]
  },
  {
   "cell_type": "code",
   "execution_count": 5,
   "metadata": {},
   "outputs": [
    {
     "name": "stdout",
     "output_type": "stream",
     "text": [
      "[3*\\lambda*(\\beta1*\\beta2 - 2*\\beta1 - \\beta2 + 2)/(2*(-\\beta1*\\beta2 + \\beta1 + \\beta2))]\n",
      "[3*\\lambda*(\\beta1*\\beta2 - \\beta1 - 2*\\beta2 + 2)/(2*(-\\beta1*\\beta2 + \\beta1 + \\beta2))]\n"
     ]
    }
   ],
   "source": [
    "def solve_phi(theta1,theta2,lamb,out,beta1,beta2,c1,c2):\n",
    "    foc =  diff(nb_objective(theta2, theta1, lamb, out,c2,beta2), theta2)\n",
    "    foc = foc.subs( {out:(theta1*t(theta1, theta2, lamb))} )\n",
    "    h =solve(foc,theta2)\n",
    "\n",
    "\n",
    "    foc_firm1 =  diff(nb_objective(theta1, theta2, lamb, out,c1,beta1), theta1)\n",
    "    foc_firm1 = foc_firm1.subs({out: (theta2*t(theta2, theta1, lamb)) })\n",
    "    foc_firm1 = foc_firm1.subs({theta2:h[0]}) \n",
    "\n",
    "    result  = solve(foc_firm1,theta1)\n",
    "    return result\n",
    "\n",
    "\n",
    "\n",
    "result1 = solve_phi(theta1,theta2,lamb,out,beta1,beta2,c1,c2)\n",
    "print(result1)\n",
    "result2 = solve_phi(theta2,theta1,lamb,out,beta2,beta1,c2,c1)\n",
    "print(result2)"
   ]
  },
  {
   "cell_type": "code",
   "execution_count": 6,
   "metadata": {},
   "outputs": [
    {
     "name": "stdout",
     "output_type": "stream",
     "text": [
      "18.4090909090909\n",
      "12.9545454545455\n",
      "(array([18.40905848]), array([12.95453179]))\n",
      "12.9545454545455\n",
      "18.4090909090909\n",
      "(array([12.95451635]), array([18.40905664]))\n"
     ]
    }
   ],
   "source": [
    "print(result1[0].subs({beta1:.1,beta2:.5,lamb:5}))\n",
    "print(result2[0].subs({beta1:.1,beta2:.5,lamb:5}))\n",
    "print(simult_bargain(25,25, 5,25,[0,0], active=False,betas=[.1,.5]))\n",
    "\n",
    "print(result1[0].subs({beta1:.5,beta2:.1,lamb:5}))\n",
    "print(result2[0].subs({beta1:.5,beta2:.1,lamb:5}))\n",
    "\n",
    "print(simult_bargain(25,25, 5,25,[0,0], active=False,betas=[.5,.1]))\n"
   ]
  },
  {
   "cell_type": "code",
   "execution_count": 7,
   "metadata": {},
   "outputs": [
    {
     "name": "stdout",
     "output_type": "stream",
     "text": [
      "18.390389989579386\n",
      "12.76886315841047\n"
     ]
    }
   ],
   "source": [
    "passive_result = pd.read_csv('../GMM_est/fake_data/passive_data_4.csv',index_col=0)\n",
    "print(passive_result['phi1'].mean())\n",
    "\n",
    "passive_result = pd.read_csv('../GMM_est/fake_data/passive_data_3.csv',index_col=0)\n",
    "print(passive_result['phi1'].mean())"
   ]
  },
  {
   "cell_type": "code",
   "execution_count": null,
   "metadata": {},
   "outputs": [],
   "source": []
  }
 ],
 "metadata": {
  "kernelspec": {
   "display_name": "Python 3 (ipykernel)",
   "language": "python",
   "name": "python3"
  },
  "language_info": {
   "codemirror_mode": {
    "name": "ipython",
    "version": 3
   },
   "file_extension": ".py",
   "mimetype": "text/x-python",
   "name": "python",
   "nbconvert_exporter": "python",
   "pygments_lexer": "ipython3",
   "version": "3.10.9"
  }
 },
 "nbformat": 4,
 "nbformat_minor": 2
}
