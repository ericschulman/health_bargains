{
 "cells": [
  {
   "cell_type": "code",
   "execution_count": 1,
   "metadata": {},
   "outputs": [],
   "source": [
    "import numpy as np\n",
    "from scipy.optimize import minimize\n",
    "from scipy.optimize import fsolve\n",
    "from matplotlib import pyplot as plt\n",
    "import pandas as pd"
   ]
  },
  {
   "cell_type": "code",
   "execution_count": 2,
   "metadata": {},
   "outputs": [
    {
     "data": {
      "text/plain": [
       "(0, 0, 0)"
      ]
     },
     "execution_count": 2,
     "metadata": {},
     "output_type": "execute_result"
    }
   ],
   "source": [
    "def calc_price(phi1, phi2, cost, wtp):\n",
    "    \"\"\"compute each insurer's price (assumes interior solution)\"\"\"\n",
    "    phi1, phi2 = phi1, phi2\n",
    "    p1 = (2*phi1+phi2)/3. + cost\n",
    "    p2 = (2*phi2+phi1)/3. + cost\n",
    "    if phi1 <= 0 or phi2 <= 0:\n",
    "        return 0,0\n",
    "    \n",
    "    return p1, p2\n",
    "  \n",
    "    \n",
    "def calc_s(phi1, phi2, cost, wtp):\n",
    "    \"\"\"compute the proportion of people choosing each insurer\n",
    "    assumes interior solution\"\"\"\n",
    "    p1, p2 = calc_price(phi1, phi2, cost, wtp)\n",
    "    s_hat = .5 + (p2 - p1)/(2.*cost)\n",
    "    return s_hat\n",
    "\n",
    "\n",
    "def calc_profits(phi1,phi2,cost, wtp, mc):\n",
    "    phi1, phi2 = phi1, phi2\n",
    "    s= calc_s(phi1, phi2, cost, wtp)\n",
    "    p1,p2 = calc_price(phi1, phi2, cost, wtp)\n",
    "    profits1, profits2 = s*(p1-phi1), (1-s)*(p2-phi2)\n",
    "    mc1,mc2 = mc\n",
    "    hosp_profit = s*(phi1-mc1) +  (1-s)*(phi2-mc2)\n",
    "    \n",
    "    if phi1 <= 0 or phi2 <= 0:\n",
    "        return 0,0,0\n",
    "    \n",
    "    return hosp_profit, profits1, profits2\n",
    "\n",
    "    \n",
    "def outside_simlt(phi1, phi2, cost, wtp,  mc, active=False):\n",
    "    \"\"\"outside option in simult case\n",
    "    assuming listprice high enough\"\"\"\n",
    "    mc1,mc2 = mc\n",
    "    \n",
    "    if active:\n",
    "        return (wtp-cost)/2 - mc2 #outside cost is other insurer?\n",
    "\n",
    "    \n",
    "    s_hat = calc_s(phi1, phi2, cost, wtp) # s_hat with no recapture\n",
    "    p1,p2 = calc_price(phi1, phi2, cost, wtp)\n",
    "    s_hat  = np.clip((cost + p2 - wtp)/cost,0,1) #s_hat with recapture\n",
    "    \n",
    "    \n",
    "    return (1-s_hat)*(phi2 -mc2)\n",
    "\n",
    "\n",
    "calc_profits(5,0 ,5, 26, [0,0])"
   ]
  },
  {
   "cell_type": "code",
   "execution_count": 3,
   "metadata": {
    "scrolled": false
   },
   "outputs": [
    {
     "data": {
      "text/plain": [
       "[<matplotlib.lines.Line2D at 0x7fd509bf5850>]"
      ]
     },
     "execution_count": 3,
     "metadata": {},
     "output_type": "execute_result"
    },
    {
     "data": {
      "image/png": "[encoded data removed]",
      "text/plain": [
       "<Figure size 432x288 with 1 Axes>"
      ]
     },
     "metadata": {
      "needs_background": "light"
     },
     "output_type": "display_data"
    }
   ],
   "source": [
    "#arbitrary outside option...\n",
    "def nash_in_nash(phi1, phi2, cost, wtp, mc, beta=.5,outside=None):\n",
    "    if outside == None:\n",
    "        outside = outside_simlt(phi1, phi2,cost, wtp , mc, active=True)\n",
    "\n",
    "    hosp_profit, profits1, profits2 = calc_profits(phi1, phi2,  cost,  wtp, mc)\n",
    "    obj = -1*(np.log(max(hosp_profit-outside,1e-4))*(1-beta) \n",
    "              + np.log(profits1)*beta)\n",
    "    return obj\n",
    "\n",
    "\n",
    "def bargain_helper_seq(phi1, cost, wtp, mc,beta=.5):\n",
    "    \n",
    "    \"\"\" solve firm 1s optimization holding theta 2 fixed \"\"\"\n",
    "    outside = outside_simlt(phi1, None, cost, wtp, mc, active=True)\n",
    "    result = minimize( nash_in_nash, 15., args=(phi1, cost, wtp, mc[::-1], beta, outside),\n",
    "                      method='Nelder-Mead', options={'disp': False} )\n",
    "    return result.x\n",
    "\n",
    "\n",
    "def seq_obj(phi1, cost, wtp, mc, betas=np.array([.5,.5])):\n",
    "    \"\"\" theta1 is a guess for the first stage \"\"\"\n",
    "    phi2 = bargain_helper_seq(phi1, cost, wtp, mc,betas[1])\n",
    "    return nash_in_nash( phi1, phi2, cost, wtp, mc, betas[0], phi2 )\n",
    "\n",
    "\n",
    "COST = 5\n",
    "WTP = 25\n",
    "MC = np.array([0,0])\n",
    "\n",
    "\n",
    "plt.plot([i for i in np.linspace(COST+3,WTP +10,num=20)],  \n",
    "         [seq_obj(i, 13.5 , WTP,MC) for i in np.linspace(COST+3,WTP +10,num=20)])"
   ]
  },
  {
   "cell_type": "code",
   "execution_count": 4,
   "metadata": {},
   "outputs": [
    {
     "name": "stdout",
     "output_type": "stream",
     "text": [
      "(array([19.37493896]), array([15.62493896]))\n"
     ]
    }
   ],
   "source": [
    "def seq_bargain(phi1, cost, wtp, mc, betas=[.5,.5]):\n",
    "    \"\"\"solve the bargaining problems seperately,\n",
    "    then solve for the solution\"\"\"   \n",
    "    #only compute no deal 1x for initial\n",
    "    result = minimize(seq_obj, phi1, args=(cost, wtp, mc, betas),\n",
    "                      method='Nelder-Mead', options={'disp': False})\n",
    "    \n",
    "    phi1 = result.x\n",
    "    phi2 = bargain_helper_seq(phi1, cost, wtp, mc ,beta=betas[1])\n",
    "    return phi1, phi2\n",
    "\n",
    "print(seq_bargain(30, COST, WTP, MC))"
   ]
  },
  {
   "cell_type": "code",
   "execution_count": 5,
   "metadata": {},
   "outputs": [
    {
     "name": "stdout",
     "output_type": "stream",
     "text": [
      "cost1 phi 1 phi 2 hosp profit profit 1 profit 2\n",
      "0.0 19.375 15.625 17.031 1.406 3.906\n",
      "0.5 20.062 15.938 17.252 1.314 4.064\n",
      "1.0 20.75 16.25 17.475 1.225 4.225\n",
      "1.5 21.437 16.562 17.702 1.139 4.389\n",
      "2.0 22.125 16.875 17.931 1.056 4.556\n"
     ]
    }
   ],
   "source": [
    "#firm 1 has high cost\n",
    "\n",
    "COST = 5\n",
    "WTP  = 25\n",
    "\n",
    "print(\"cost1\",\"phi 1\" , \"phi 2\", \"hosp profit\", \"profit 1\", \"profit 2\")\n",
    "for i in np.linspace(0,2,5):\n",
    "    mc_i = np.array([i, 0])\n",
    "    phi1,phi2 = seq_bargain(20,COST,WTP,mc_i)\n",
    "    hosp_profit, profits1, profits2= calc_profits(phi1[0],phi2[0],COST, WTP, mc_i )\n",
    "    print(i, round(phi1[0],3), round(phi2[0],3), round(hosp_profit,3), round(profits1,3), round(profits2,3))"
   ]
  },
  {
   "cell_type": "code",
   "execution_count": 6,
   "metadata": {},
   "outputs": [
    {
     "name": "stdout",
     "output_type": "stream",
     "text": [
      "cost1 phi 1 phi 2 hosp profit profit 1 profit 2\n",
      "0.0 19.375 15.625 17.031 1.406 3.906\n",
      "0.5 19.901 15.841 17.004 1.33 4.037\n",
      "1.0 20.544 16.126 17.037 1.244 4.189\n",
      "1.5 21.349 16.509 17.156 1.147 4.373\n",
      "2.0 22.407 17.044 17.41 1.032 4.607\n"
     ]
    }
   ],
   "source": [
    "#firm 2 has high cost\n",
    "\n",
    "COST = 5\n",
    "WTP  = 25\n",
    "\n",
    "print(\"cost1\",\"phi 1\" , \"phi 2\", \"hosp profit\", \"profit 1\", \"profit 2\")\n",
    "for i in np.linspace(0,2,5):\n",
    "    mc_i = np.array([0, i])\n",
    "    phi1,phi2 = seq_bargain(20,COST,WTP,mc_i)\n",
    "    hosp_profit, profits1, profits2= calc_profits(phi1[0],phi2[0],COST, WTP, mc_i )\n",
    "    print(i, round(phi1[0],3), round(phi2[0],3), round(hosp_profit,3), round(profits1,3), round(profits2,3))"
   ]
  },
  {
   "cell_type": "code",
   "execution_count": 5,
   "metadata": {},
   "outputs": [
    {
     "name": "stderr",
     "output_type": "stream",
     "text": [
      "<ipython-input-3-88a8614b017d>:8: RuntimeWarning: divide by zero encountered in log\n",
      "  + np.log(profits1)*beta)\n",
      "/home/erichschulman/anaconda3/lib/python3.8/site-packages/scipy/optimize/optimize.py:734: RuntimeWarning: invalid value encountered in subtract\n",
      "  np.max(np.abs(fsim[0] - fsim[1:])) <= fatol):\n"
     ]
    },
    {
     "name": "stdout",
     "output_type": "stream",
     "text": [
      "26.72259521484375 22.162783996582032 7.8973388671875\n",
      "--\n",
      "19.284759521484375 16.999437103271486 15.543548583984375\n",
      "--\n",
      "[[5.00609385 1.4474487 ]\n",
      " [1.4474487  0.61745298]]\n",
      "--\n",
      "[[5.69691789 1.55365314]\n",
      " [1.55365314 0.64616777]]\n",
      "--\n",
      "[[5.25624049 1.49014542]\n",
      " [1.49014542 0.6294188 ]]\n",
      "--\n",
      "[[5.97207681 1.53320299]\n",
      " [1.53320299 0.6206359 ]]\n",
      "--\n",
      "[[4.79007795 1.41782025]\n",
      " [1.41782025 0.61025573]]\n"
     ]
    }
   ],
   "source": [
    "#generate a bunch of runs with passive and compute costs\n",
    "\n",
    "def compute_cov(nobs=1000):\n",
    "    mcs = np.random.uniform(low=0.0, high=2.0, size=(2,nobs))\n",
    "    phis = []\n",
    "    for i in range(nobs):\n",
    "        phi = seq_bargain(30,COST,WTP,mcs[:,i]) \n",
    "        phis.append(np.array(phi).flatten())\n",
    "\n",
    "    phis = np.array(phis)\n",
    "    return np.cov(phis,rowvar=False),phis\n",
    "\n",
    "matrix, phis = compute_cov()\n",
    "print(phis[:,0].max(),phis[:,0].mean(),phis[:,0].min())\n",
    "print('--')\n",
    "print(phis[:,1].max(),phis[:,1].mean(),phis[:,1].min())\n",
    "print('--')\n",
    "print(matrix)\n",
    "print('--')\n",
    "print(np.cov(phis[0:500,:],rowvar=False))\n",
    "print('--')\n",
    "print(np.cov(phis[100:600,:],rowvar=False))\n",
    "print('--')\n",
    "print(np.cov(phis[200:700,:],rowvar=False))\n",
    "print('--')\n",
    "print(np.cov(phis[300:800,:],rowvar=False))\n"
   ]
  },
  {
   "cell_type": "code",
   "execution_count": 6,
   "metadata": {},
   "outputs": [
    {
     "name": "stdout",
     "output_type": "stream",
     "text": [
      "--\n",
      "[[2.53370986 1.26052635]\n",
      " [1.26052635 0.62794548]]\n",
      "--\n",
      "[[2.50492343 1.24659581]\n",
      " [1.24659581 0.62117878]]\n",
      "--\n",
      "[[2.38269878 1.18564796]\n",
      " [1.18564796 0.59078235]]\n",
      "--\n",
      "[[2.37627851 1.18104936]\n",
      " [1.18104936 0.58779138]]\n"
     ]
    }
   ],
   "source": [
    "phis_clean = phis[phis[:,0]>=17]\n",
    "print('--')\n",
    "print(np.cov(phis_clean[0:500,:],rowvar=False))\n",
    "print('--')\n",
    "print(np.cov(phis_clean[100:600,:],rowvar=False))\n",
    "print('--')\n",
    "print(np.cov(phis_clean[200:700,:],rowvar=False))\n",
    "print('--')\n",
    "print(np.cov(phis_clean[300:800,:],rowvar=False))"
   ]
  },
  {
   "cell_type": "code",
   "execution_count": 7,
   "metadata": {},
   "outputs": [
    {
     "name": "stdout",
     "output_type": "stream",
     "text": [
      "22.16510009765625 20.665902465820313 19.412200927734375\n",
      "--\n",
      "16.9075927734375 16.201358276367188 15.639862060546875\n",
      "--\n",
      "[[0.33854712 0.15555262]\n",
      " [0.15555262 0.071527  ]]\n",
      "--\n",
      "[[0.33120504 0.15207134]\n",
      " [0.15207134 0.06987381]]\n",
      "--\n",
      "[[0.33420121 0.15344959]\n",
      " [0.15344959 0.07051097]]\n",
      "--\n",
      "[[0.35462485 0.16287168]\n",
      " [0.16287168 0.07485675]]\n"
     ]
    }
   ],
   "source": [
    "#generate a bunch of runs with passive and compute costs\n",
    "\n",
    "def compute_cov(nobs=1000):\n",
    "    mcs = np.random.uniform(low=0.0, high=1.0, size=(2,nobs))\n",
    "    phis = []\n",
    "    for i in range(nobs):\n",
    "        phi = seq_bargain(30,COST,WTP,mcs[:,i]) \n",
    "        phis.append(np.array(phi).flatten())\n",
    "\n",
    "    phis = np.array(phis)\n",
    "    return np.cov(phis,rowvar=False),phis\n",
    "\n",
    "matrix, phis = compute_cov()\n",
    "print(phis[:,0].max(),phis[:,0].mean(),phis[:,0].min())\n",
    "print('--')\n",
    "print(phis[:,1].max(),phis[:,1].mean(),phis[:,1].min())\n",
    "print('--')\n",
    "print(matrix)\n",
    "print('--')\n",
    "print(np.cov(phis[0:500,:],rowvar=False))\n",
    "print('--')\n",
    "print(np.cov(phis[100:600,:],rowvar=False))\n",
    "print('--')\n",
    "print(np.cov(phis[200:700,:],rowvar=False))"
   ]
  },
  {
   "cell_type": "code",
   "execution_count": 8,
   "metadata": {},
   "outputs": [
    {
     "name": "stdout",
     "output_type": "stream",
     "text": [
      "20.63525390625 19.985581237792967 19.400848388671875\n",
      "--\n",
      "16.183685302734375 15.891907470703124 15.636199951171875\n",
      "--\n",
      "[[0.06861835 0.03059158]\n",
      " [0.03059158 0.01366665]]\n",
      "--\n",
      "[[0.07226691 0.03222809]\n",
      " [0.03222809 0.01440037]]\n",
      "--\n",
      "[[0.07151834 0.03193726]\n",
      " [0.03193726 0.01429117]]\n",
      "--\n",
      "[[0.06620515 0.02952046]\n",
      " [0.02952046 0.01319175]]\n"
     ]
    }
   ],
   "source": [
    "#generate a bunch of runs with passive and compute costs\n",
    "\n",
    "def compute_cov(nobs=1000):\n",
    "    mcs = np.random.uniform(low=0.0, high=.5, size=(2,nobs))\n",
    "    phis = []\n",
    "    for i in range(nobs):\n",
    "        phi = seq_bargain(30,COST,WTP,mcs[:,i]) \n",
    "        phis.append(np.array(phi).flatten())\n",
    "\n",
    "    phis = np.array(phis)\n",
    "    return np.cov(phis,rowvar=False),phis\n",
    "\n",
    "matrix, phis = compute_cov()\n",
    "print(phis[:,0].max(),phis[:,0].mean(),phis[:,0].min())\n",
    "print('--')\n",
    "print(phis[:,1].max(),phis[:,1].mean(),phis[:,1].min())\n",
    "print('--')\n",
    "print(matrix)\n",
    "print('--')\n",
    "print(np.cov(phis[0:500,:],rowvar=False))\n",
    "print('--')\n",
    "print(np.cov(phis[100:600,:],rowvar=False))\n",
    "print('--')\n",
    "print(np.cov(phis[200:700,:],rowvar=False))"
   ]
  },
  {
   "cell_type": "code",
   "execution_count": 9,
   "metadata": {},
   "outputs": [
    {
     "name": "stdout",
     "output_type": "stream",
     "text": [
      "(array([0.49998281, 1.37508166]), array([0.49998482, 0.62507181]))\n"
     ]
    }
   ],
   "source": [
    "#just make sure it works for stuff i know is right\n",
    "\n",
    "def compute_solution(nobs=20):\n",
    "    #mcs = np.random.uniform(low=0.0, high=2.0, size=(2,nobs))\n",
    "    phis = []\n",
    "    vs = np.random.uniform(low=26,high=26.5,size=(nobs))\n",
    "    lambdas = np.random.uniform(low=5,high=6,size=(nobs))\n",
    "    x = np.concatenate(([vs],[lambdas])) #,mcs\n",
    "    for i in range(nobs):\n",
    "        phi = seq_bargain(30,lambdas[i],vs[i],np.array([0,0])) \n",
    "        phis.append(np.array(phi).flatten())\n",
    "    phis = np.array(phis)\n",
    "    xx = x.dot(x.transpose())\n",
    "    xy1 = x.dot(phis[:,0])\n",
    "    xy2 = x.dot(phis[:,1])\n",
    "    return np.linalg.inv(xx).dot(xy1),np.linalg.inv(xx).dot(xy2)\n",
    "    \n",
    "print(compute_solution(nobs=10))"
   ]
  },
  {
   "cell_type": "code",
   "execution_count": 10,
   "metadata": {},
   "outputs": [
    {
     "name": "stdout",
     "output_type": "stream",
     "text": [
      "(array([0.49739751, 1.35936087, 1.53841707, 1.32517949]), array([0.49845455, 0.61553075, 0.72307295, 0.59516862]))\n"
     ]
    }
   ],
   "source": [
    "def compute_solution(nobs=20):\n",
    "    \n",
    "    #set up x variables to solve the model\n",
    "    phis = []\n",
    "    vs = np.random.uniform(low=26,high=26.5,size=(nobs))\n",
    "    lambdas = np.random.uniform(low=5,high=6,size=(nobs))\n",
    "    mcs = np.random.uniform(low=0.0, high=1.0, size=(2,nobs))\n",
    "    x = np.concatenate(([vs],[lambdas],mcs))\n",
    "    \n",
    "    #generate a few solutions...\n",
    "    for i in range(nobs):\n",
    "        phi = seq_bargain(35,lambdas[i],vs[i],mcs[:,i])\n",
    "        phis.append(np.array(phi).flatten())\n",
    "        \n",
    "    #do regression stuff to solve\n",
    "    phis = np.array(phis)\n",
    "    xx = x.dot(x.transpose())\n",
    "    xy1 = x.dot(phis[:,0])\n",
    "    xy2 = x.dot(phis[:,1])\n",
    "    return np.linalg.inv(xx).dot(xy1),np.linalg.inv(xx).dot(xy2)\n",
    "\n",
    "#coeffs are v, lambda, c1, c2\n",
    "print(compute_solution(nobs=10))  \n",
    "\n",
    "#maybe do it 10 times and take the average?"
   ]
  },
  {
   "cell_type": "code",
   "execution_count": null,
   "metadata": {},
   "outputs": [],
   "source": []
  },
  {
   "cell_type": "code",
   "execution_count": null,
   "metadata": {},
   "outputs": [],
   "source": []
  }
 ],
 "metadata": {
  "kernelspec": {
   "display_name": "Python 3",
   "language": "python",
   "name": "python3"
  },
  "language_info": {
   "codemirror_mode": {
    "name": "ipython",
    "version": 3
   },
   "file_extension": ".py",
   "mimetype": "text/x-python",
   "name": "python",
   "nbconvert_exporter": "python",
   "pygments_lexer": "ipython3",
   "version": "3.8.8"
  }
 },
 "nbformat": 4,
 "nbformat_minor": 2
}
