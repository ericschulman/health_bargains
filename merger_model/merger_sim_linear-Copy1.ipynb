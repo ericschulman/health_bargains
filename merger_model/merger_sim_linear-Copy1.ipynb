{
 "cells": [
  {
   "cell_type": "code",
   "execution_count": 6,
   "id": "a650861d",
   "metadata": {},
   "outputs": [
    {
     "name": "stdout",
     "output_type": "stream",
     "text": [
      "26 11.75 19.599\n",
      "27 12.25 20.433\n",
      "26 11.75 11.75\n",
      "27 12.25 12.25\n"
     ]
    }
   ],
   "source": [
    "#v\n",
    "l = 5\n",
    "\n",
    "for betas in [[.5,.166],[.5,.5]]:\n",
    "    for v in range(26,28):\n",
    "        merger_price1 = (v - l/2)*(1-betas[0])\n",
    "        merger_price2 = (v - l/2)*(1-betas[1])\n",
    "        print(v, merger_price1,merger_price2)\n"
   ]
  },
  {
   "cell_type": "code",
   "execution_count": 5,
   "id": "2198f3a3",
   "metadata": {},
   "outputs": [
    {
     "name": "stdout",
     "output_type": "stream",
     "text": [
      "4 12.0 20.016\n",
      "5 11.75 19.599\n",
      "4 12.0 12.0\n",
      "5 11.75 11.75\n"
     ]
    }
   ],
   "source": [
    "#lambda\n",
    "\n",
    "v=26\n",
    "for betas in [[.5,.166],[.5,.5]]:\n",
    "    for l in range(4,6):\n",
    "        merger_price1 = (v - l/2)*(1-betas[0])\n",
    "        merger_price2 = (v - l/2)*(1-betas[1])\n",
    "        print(l, merger_price1,merger_price2)"
   ]
  },
  {
   "cell_type": "code",
   "execution_count": null,
   "id": "725c8777",
   "metadata": {},
   "outputs": [],
   "source": []
  }
 ],
 "metadata": {
  "kernelspec": {
   "display_name": "Python 3 (ipykernel)",
   "language": "python",
   "name": "python3"
  },
  "language_info": {
   "codemirror_mode": {
    "name": "ipython",
    "version": 3
   },
   "file_extension": ".py",
   "mimetype": "text/x-python",
   "name": "python",
   "nbconvert_exporter": "python",
   "pygments_lexer": "ipython3",
   "version": "3.10.9"
  }
 },
 "nbformat": 4,
 "nbformat_minor": 5
}
