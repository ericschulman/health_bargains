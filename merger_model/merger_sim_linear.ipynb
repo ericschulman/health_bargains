{
 "cells": [
  {
   "cell_type": "code",
   "execution_count": 13,
   "id": "a650861d",
   "metadata": {},
   "outputs": [
    {
     "name": "stdout",
     "output_type": "stream",
     "text": [
      "5 & 7.50 & 11.25 & 12.50 & 22.50 \\\\\n",
      "6 & 9.00 & 11.00 & 15.00 & 22.00 \\\\\n",
      "7 & 10.50 & 10.75 & 17.50 & 21.50 \\\\\n",
      "8 & 12.00 & 10.50 & 20.00 & 21.00 \\\\\n",
      "9 & 13.50 & 10.25 & 22.50 & 20.50 \\\\\n"
     ]
    }
   ],
   "source": [
    "#passive beliefs\n",
    "\n",
    "for l in range(5,10):\n",
    "    monop_prem =(25 - l/2)\n",
    "    monop_price = (25 - l/2)/2\n",
    "    duop_prem = 5/2*l\n",
    "    duop_price = 3/2*l\n",
    "    print(\"%s & %.2f & %.2f & %.2f & %.2f \\\\\\\\\"%(l,duop_price,monop_price,duop_prem,monop_prem) )"
   ]
  },
  {
   "cell_type": "code",
   "execution_count": 14,
   "id": "2198f3a3",
   "metadata": {},
   "outputs": [
    {
     "name": "stdout",
     "output_type": "stream",
     "text": [
      "5 & 13.75 & 11.25 & 18.75 & 22.50 \\\\\n",
      "6 & 14.00 & 11.00 & 20.00 & 22.00 \\\\\n",
      "7 & 14.25 & 10.75 & 21.25 & 21.50 \\\\\n",
      "8 & 14.50 & 10.50 & 22.50 & 21.00 \\\\\n",
      "9 & 14.75 & 10.25 & 23.75 & 20.50 \\\\\n"
     ]
    }
   ],
   "source": [
    "#active beliefs\n",
    "for l in range(5,10):\n",
    "    monop_prem =(25 - l/2)\n",
    "    monop_price = (25 - l/2)/2\n",
    "    duop_price = 3/4*l + (25-l)/2\n",
    "    duop_prem = duop_price + l\n",
    "    print(\"%s & %.2f & %.2f & %.2f & %.2f \\\\\\\\\"%(l,duop_price,monop_price,duop_prem,monop_prem) )"
   ]
  },
  {
   "cell_type": "code",
   "execution_count": null,
   "id": "725c8777",
   "metadata": {},
   "outputs": [],
   "source": []
  }
 ],
 "metadata": {
  "kernelspec": {
   "display_name": "Python 3 (ipykernel)",
   "language": "python",
   "name": "python3"
  },
  "language_info": {
   "codemirror_mode": {
    "name": "ipython",
    "version": 3
   },
   "file_extension": ".py",
   "mimetype": "text/x-python",
   "name": "python",
   "nbconvert_exporter": "python",
   "pygments_lexer": "ipython3",
   "version": "3.10.9"
  }
 },
 "nbformat": 4,
 "nbformat_minor": 5
}
