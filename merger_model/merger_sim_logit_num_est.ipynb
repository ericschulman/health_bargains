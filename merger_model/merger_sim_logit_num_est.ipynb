{
 "cells": [
  {
   "cell_type": "code",
   "execution_count": 1,
   "id": "a650861d",
   "metadata": {},
   "outputs": [],
   "source": [
    "%load_ext autoreload\n",
    "%autoreload 2\n",
    "\n",
    "import numpy as np\n",
    "from scipy.optimize import minimize\n",
    "from scipy.optimize import fsolve\n",
    "from matplotlib import pyplot as plt\n",
    "import pandas as pd\n",
    "\n",
    "import sys\n",
    "sys.path.append(\"../\")\n",
    "from bargains_logit import *"
   ]
  },
  {
   "cell_type": "code",
   "execution_count": null,
   "id": "49e00021",
   "metadata": {},
   "outputs": [],
   "source": []
  },
  {
   "cell_type": "code",
   "execution_count": null,
   "id": "abffc0da",
   "metadata": {},
   "outputs": [],
   "source": []
  },
  {
   "cell_type": "code",
   "execution_count": 2,
   "id": "2198f3a3",
   "metadata": {},
   "outputs": [
    {
     "data": {
      "text/plain": [
       "(36.08857090861948,\n",
       " 36.08857090861948,\n",
       " 0.08939499474696039,\n",
       " 0.08939499474696039,\n",
       " 0.5442877643925343,\n",
       " 0.5442877643925343)"
      ]
     },
     "execution_count": 2,
     "metadata": {},
     "output_type": "execute_result"
    }
   ],
   "source": [
    "def clip_p(p1, p2,  cost, wtp):\n",
    "    s1,s2 = calc_shares(p1,p2,cost,wtp)\n",
    "    p1_clip = np.clip(p1,0,wtp[0]-s1*cost)\n",
    "    p2_clip = np.clip(p2,0,wtp[1]-s2*cost)\n",
    "    return p1, p2\n",
    "    \n",
    "\n",
    "def calc_profits_price_shares_m2(phi1,phi2,cost,wtp,mc):\n",
    "    mc1,mc2 = mc\n",
    "    \n",
    "    clip_p1 = lambda p : clip_p(p[0],p[1],cost,wtp)\n",
    "    \n",
    "    pi = lambda p : -1*calc_shares(clip_p1(p)[0], clip_p1(p)[1],cost, wtp)[0]*(clip_p1(p)[0]-phi1 )\\\n",
    "                    + -1*calc_shares(clip_p1(p)[0], clip_p1(p)[1], cost, wtp)[1]*(clip_p1(p)[1]-phi2 )\n",
    "\n",
    "    p = minimize(pi,[30,30]).x\n",
    "    p1,p2 = clip_p1(p)[0], clip_p1(p)[1]\n",
    "    s1,s2 = calc_shares(p1, p2,  cost, wtp)\n",
    "    return  p1,p2, s1,s2, s1*(p1-phi1-mc[0]), s2*(p2-phi2-mc[1])\n",
    "\n",
    "\n",
    "calc_profits_price_shares_m2(30,30,5,np.array([25,25]),np.array([0,0]))"
   ]
  },
  {
   "cell_type": "code",
   "execution_count": 3,
   "id": "102491ba",
   "metadata": {
    "scrolled": false
   },
   "outputs": [
    {
     "name": "stdout",
     "output_type": "stream",
     "text": [
      "[8.21697998]\n",
      "(array([4.29300199]), array([4.30111233]))\n",
      "(array([5.39435739]), array([6.53425722]))\n"
     ]
    }
   ],
   "source": [
    "#arbitrary outside option...\n",
    "def nash_in_nash_m2(phi1, phi2, cost, wtp, mc, beta=.5,active=False):\n",
    "    p1,p2,s1,s2,pi1,pi2 = calc_profits_price_shares_m2(phi1,phi2,cost,wtp,mc)\n",
    "    #print(p1,phi1,s1,s1*phi1,s1*(p1-phi1-mc[0]))\n",
    "    obj = -1*(np.log(max(s1*phi1,1e-4))*(1-beta)  + np.log(s1*(p1-phi1-mc[0]))*beta)\n",
    "    return obj\n",
    "\n",
    "\n",
    "def bargain_helper_m2(phi1, phi2, cost, wtp, mc, beta=.5,active=False):\n",
    "    \"\"\"solve each firm 1s optimization holding phi 2 fixed\"\"\"\n",
    "    result = minimize(nash_in_nash_m2, phi1, args=(phi2,cost, wtp, mc, beta, active),\n",
    "                      method='Nelder-Mead', options={'disp': False})\n",
    "    return result.x\n",
    "\n",
    "\n",
    "def simult_bargain_m2(phi1, phi2, cost, wtp, mc, betas=[.5,.5],active=False):\n",
    "    \"\"\"solve the bargaining problems seperately and iterate for a solution\"\"\"       \n",
    "    \n",
    "    #loop variables, check on this...\n",
    "    diff =  np.maximum(phi1,phi2)\n",
    "    phi10,phi20 = 0,0\n",
    "    maxiter = 10\n",
    "    while maxiter >=0 and diff > 10e-7:\n",
    "        #seems as though there is a contraction mapping here, need to think more about why\n",
    "        phi1 = bargain_helper_m2(phi1, phi2, cost, wtp, mc, beta=betas[0] ,active=active)\n",
    "        phi2 = bargain_helper_m2(phi2, phi1, cost, wtp, mc[::-1], beta=betas[1],active=active)\n",
    "        \n",
    "        #update loop variables\n",
    "        diff = np.abs(np.maximum(phi1 - phi10,phi2-phi20))[0]\n",
    "        phi10,phi20 = phi1,phi2\n",
    "        maxiter = maxiter-1\n",
    "        \n",
    "    return phi1, phi2\n",
    "\n",
    "\n",
    "COST = 5\n",
    "WTP = np.array([25,25])\n",
    "MC = np.array([0,0])\n",
    "\n",
    "\n",
    "print(bargain_helper_m2(20, 20, COST, WTP, MC, beta=.5,active=False))\n",
    "print(simult_bargain_m2(20, 20, COST, WTP, MC, betas=[.5,.5],active=False))\n",
    "print(simult_bargain_m2(20, 20, COST, WTP, MC, betas=[.423,.203],active=False))"
   ]
  },
  {
   "cell_type": "code",
   "execution_count": 4,
   "id": "a41f1895",
   "metadata": {
    "scrolled": false
   },
   "outputs": [],
   "source": [
    "# Read in the necessary input data\n",
    "param_data = pd.read_csv('../GMM_est/param_tables_logit_reimb_seq.csv')\n",
    "\n",
    "# Initialize a results dataframe with the specified rows and an empty vector for the columns to be filled in\n",
    "results = pd.DataFrame(index=['beta1', 'beta2', 'phi1', 'phi2', 'p1', 'p2'])\n",
    "\n",
    "# Define the function to clean data\n",
    "def clean_data(df):\n",
    "    df = df[(df['s1']!=0) & (df['s1']!=1) & (df['phi1']>=0) & (df['phi2']>=0) & (np.abs(df['phi1'])<=100) & (np.abs(df['phi2'])<=100)]\n",
    "    return df\n",
    "\n",
    "# Initialize column 1\n",
    "beta1, beta2 = 0.5, 0.5\n",
    "seq_result = clean_data(pd.read_csv('../GMM_est/fake_data_wtp_logit_fixed2/seq_data_0.csv', index_col=0))\n",
    "phi1, phi2, p1, p2 = seq_result[['phi1', 'phi2', 'p1', 'p2']].mean().to_list()\n",
    "results['column1'] = [beta1, beta2, phi1, phi2, p1, p2]\n",
    "\n",
    "# Prepare list of betas, WTP, and COST for columns 2-4\n",
    "parameters_list = [\n",
    "    ([0.5, 0.5], 31, 5),  # Column 2\n",
    "    ([(param_data['beta1'][0] + param_data['beta2'][0]) / 2] * 2, param_data['wtp'][0], param_data['cost'][0]),  # Column 3\n",
    "    ([(param_data['beta1'][1] + param_data['beta2'][1]) / 2] * 2, param_data['wtp'][1], param_data['cost'][1]),  # Column 4\n",
    "]\n",
    "\n",
    "# Loop through the parameters list and create columns 2-4\n",
    "for i, (betas, WTP, COST) in enumerate(parameters_list):\n",
    "    phis = simult_bargain_m2(20, 20, COST, [WTP,WTP], [0,0], betas=betas, active=True)\n",
    "    phi1, phi2 = phis[0][0], phis[1][0]\n",
    "    p1, p2, s1, s2, pi1, pi2 = calc_profits_price_shares_m2(phi1, phi2, COST, [WTP,WTP], [0,0])\n",
    "    beta1, beta2 = betas\n",
    "    results[f'column{i+2}'] = [beta1, beta2, phi1, phi2, p1, p2]\n",
    "\n",
    "# Format the results to show only 3 significant digits\n",
    "#results = results.applymap(lambda x: f\"{x:.3g}\")\n",
    "\n",
    "# Save the results to a CSV\n",
    "results.to_csv('merger_results.csv', index_label='parameter')"
   ]
  },
  {
   "cell_type": "code",
   "execution_count": 5,
   "id": "a0b2a460",
   "metadata": {},
   "outputs": [
    {
     "name": "stdout",
     "output_type": "stream",
     "text": [
      "         column1    column2    column3    column4\n",
      "beta1   0.500000   0.500000   0.452526   0.349246\n",
      "beta2   0.500000   0.500000   0.452526   0.349246\n",
      "phi1   18.156926   4.430416   4.869382   5.855661\n",
      "phi2   20.425130   4.425144   4.872121   5.864934\n",
      "p1     27.032116  27.927511  28.039015  28.248405\n",
      "p2     28.108806  27.922225  28.041514  28.257653\n"
     ]
    }
   ],
   "source": [
    "print(results)"
   ]
  },
  {
   "cell_type": "code",
   "execution_count": null,
   "id": "c9dbb0e1",
   "metadata": {},
   "outputs": [],
   "source": []
  }
 ],
 "metadata": {
  "kernelspec": {
   "display_name": "Python 3 (ipykernel)",
   "language": "python",
   "name": "python3"
  },
  "language_info": {
   "codemirror_mode": {
    "name": "ipython",
    "version": 3
   },
   "file_extension": ".py",
   "mimetype": "text/x-python",
   "name": "python",
   "nbconvert_exporter": "python",
   "pygments_lexer": "ipython3",
   "version": "3.11.5"
  }
 },
 "nbformat": 4,
 "nbformat_minor": 5
}
