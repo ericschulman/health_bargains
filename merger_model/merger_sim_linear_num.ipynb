{
 "cells": [
  {
   "cell_type": "code",
   "execution_count": 1,
   "id": "a650861d",
   "metadata": {},
   "outputs": [],
   "source": [
    "%load_ext autoreload\n",
    "%autoreload 2\n",
    "\n",
    "import numpy as np\n",
    "from scipy.optimize import minimize\n",
    "from scipy.optimize import fsolve\n",
    "from matplotlib import pyplot as plt\n",
    "import pandas as pd\n",
    "\n",
    "import sys\n",
    "sys.path.append(\"../\")\n",
    "from bargains_linear import *"
   ]
  },
  {
   "cell_type": "code",
   "execution_count": 2,
   "id": "2198f3a3",
   "metadata": {},
   "outputs": [],
   "source": [
    "def calc_shares(p1, p2,  cost, wtp):\n",
    "    \"\"\"compute the proportion of people choosing each insurer\n",
    "    assumes interior solution\"\"\"\n",
    "    s1 = np.clip(1/2 + (p2-p1)/(2*cost),0,1)\n",
    "    s2 = 1-s1\n",
    "    return s1,s2\n",
    "  \n",
    "def clip_p(p1, p2,  cost, wtp):\n",
    "    s1,s2 = calc_shares(p1,p2,cost,wtp)\n",
    "    p1_clip = np.clip(p1,0,wtp-s1*cost)\n",
    "    p2_clip = np.clip(p2,0,wtp-s2*cost)\n",
    "    return p1_clip,p2_clip\n",
    "    \n",
    "\n",
    "\n",
    "def calc_profits_price_shares(phi1,phi2,cost,wtp,mc):\n",
    "    mc1,mc2 = mc\n",
    "    \n",
    "    clip_p1 = lambda p : clip_p(p[0],p[1],cost,wtp)\n",
    "    \n",
    "    pi = lambda p : -1*calc_shares(clip_p1(p)[0], clip_p1(p)[1],cost, wtp)[0]*(clip_p1(p)[0]-phi1 )\\\n",
    "                    + -1*calc_shares(clip_p1(p)[0], clip_p1(p)[1], cost, wtp)[1]*(clip_p1(p)[1]-phi2 )\n",
    "\n",
    "    p = minimize(pi,[30,30]).x\n",
    "    p1,p2 = p[0],p[1]  \n",
    "    s1,s2 = calc_shares(p1, p2,  cost, wtp)\n",
    "    return clip_p1(p)[0], clip_p1(p)[1], s1,s2, pi(p)"
   ]
  },
  {
   "cell_type": "code",
   "execution_count": 11,
   "id": "102491ba",
   "metadata": {},
   "outputs": [
    {
     "name": "stdout",
     "output_type": "stream",
     "text": [
      "[5.42700195]\n",
      "(array([4.15179872]), array([4.15014235]))\n",
      "(array([4.69052091]), array([6.45903317]))\n"
     ]
    }
   ],
   "source": [
    "#arbitrary outside option...\n",
    "def nash_in_nash_merge(phi1, phi2, cost, wtp, mc, beta=.5,active=False):\n",
    "    p1,p2,s1,s2,pi_ins = calc_profits_price_shares(phi1,phi2,cost,wtp,mc)\n",
    "    #print(p1,phi1,s1,s1*phi1,s1*(p1-phi1-mc[0]))\n",
    "    obj = -1*(np.log(max(s1*phi1,1e-4))*(1-beta)  + np.log(s1*(p1-phi1-mc[0]))*beta)\n",
    "    return obj\n",
    "\n",
    "\n",
    "def bargain_helper_merge(phi1, phi2, cost, wtp, mc, beta=.5,active=False):\n",
    "    \"\"\"solve each firm 1s optimization holding phi 2 fixed\"\"\"\n",
    "    result = minimize(nash_in_nash_merge, phi1, args=(phi2,cost, wtp, mc, beta, active),\n",
    "                      method='Nelder-Mead', options={'disp': False})\n",
    "    return result.x\n",
    "\n",
    "\n",
    "def simult_bargain_merge(phi1, phi2, cost, wtp, mc, betas=[.5,.5],active=False):\n",
    "    \"\"\"solve the bargaining problems seperately and iterate for a solution\"\"\"       \n",
    "    \n",
    "    #loop variables, check on this...\n",
    "    diff =  np.maximum(phi1,phi2)\n",
    "    phi10,phi20 = 0,0\n",
    "    maxiter = 10\n",
    "    while maxiter >=0 and diff > 10e-7:\n",
    "        #seems as though there is a contraction mapping here, need to think more about why\n",
    "        phi1 = bargain_helper_merge(phi1, phi2, cost, wtp, mc, beta=betas[0] ,active=active)\n",
    "        phi2 = bargain_helper_merge(phi2, phi1, cost, wtp, mc[::-1], beta=betas[1],active=active)\n",
    "        \n",
    "        #update loop variables\n",
    "        diff = np.abs(np.maximum(phi1 - phi10,phi2-phi20))[0]\n",
    "        phi10,phi20 = phi1,phi2\n",
    "        maxiter = maxiter-1\n",
    "        \n",
    "    return phi1, phi2\n",
    "\n",
    "\n",
    "COST = 5\n",
    "WTP = 25\n",
    "MC = np.array([0,0])\n",
    "\n",
    "\n",
    "print(bargain_helper_merge(10, 10, COST, WTP, MC, beta=.5,active=False))\n",
    "\n",
    "\n",
    "print(simult_bargain_merge(10, 10, COST, WTP, MC, betas=[.5,.5],active=False))\n",
    "\n",
    "print(simult_bargain_merge(10, 10, COST, WTP, MC, betas=[.5,.1666],active=False))"
   ]
  },
  {
   "cell_type": "code",
   "execution_count": 27,
   "id": "a41f1895",
   "metadata": {},
   "outputs": [
    {
     "name": "stdout",
     "output_type": "stream",
     "text": [
      "[[15.62508373]\n",
      " [19.37517815]\n",
      " [21.8751152 ]\n",
      " [23.12514668]]\n"
     ]
    },
    {
     "name": "stderr",
     "output_type": "stream",
     "text": [
      "C:\\Users\\ericsc\\AppData\\Local\\Temp\\ipykernel_27688\\659278290.py:5: RuntimeWarning: divide by zero encountered in log\n",
      "  obj = -1*(np.log(max(s1*phi1,1e-4))*(1-beta)  + np.log(s1*(p1-phi1-mc[0]))*beta)\n"
     ]
    },
    {
     "name": "stdout",
     "output_type": "stream",
     "text": [
      "[[15.62508373  4.69052091 15.62661904  4.15094285]\n",
      " [19.37517815  6.45903317 19.37623908  4.15321596]\n",
      " [21.8751152  22.05787227 21.87649239 22.49943197]\n",
      " [23.12514668 22.94212773 23.12636573 22.50056803]]\n",
      "15.625,4.691,15.627,4.151\n",
      "19.375,6.459,19.376,4.153\n",
      "21.875,22.058,21.876,22.499\n",
      "23.125,22.942,23.126,22.501\n"
     ]
    }
   ],
   "source": [
    "WTP = 25\n",
    "COST = 5\n",
    "MC = np.array([0,0])\n",
    "results = np.zeros(shape=(4,4))\n",
    "\n",
    "\n",
    "BETA1 = [.5,.16666]\n",
    "phis = simult_bargain(10, 10, COST, WTP, MC, betas=BETA1,active=True)\n",
    "phi1,phi2 = phis[0][0],phis[1][0]\n",
    "p1,p2 = calc_price(phi1, phi2, COST, WTP, MC)\n",
    "print( np.array([[phi1,phi2,p1,p2]]).transpose() )\n",
    "results[:,0] = [phi1,phi2,p1,p2]  #update results\n",
    "\n",
    "phis = simult_bargain_merge(10, 10, COST, WTP, MC, betas=BETA1,active=True)\n",
    "phi1,phi2 = phis[0][0],phis[1][0]\n",
    "p1,p2,_,_,_ = calc_profits_price_shares(phi1,phi2,COST, WTP, MC)\n",
    "results[:,1]  = [phi1,phi2,p1,p2]  #update results\n",
    "\n",
    "\n",
    "BETA2 = [.5,.5]\n",
    "phis = seq_bargain(20, COST, WTP, MC, betas=BETA2)\n",
    "phi1,phi2 = phis[0][0],phis[1][0]\n",
    "p1,p2 = calc_price(phi1, phi2, COST, WTP, MC)\n",
    "results[:,2]  = [phi1,phi2,p1,p2]   #update results\n",
    "\n",
    "\n",
    "phis = simult_bargain_merge(20, 20, COST, WTP, MC, betas=BETA2,active=True)\n",
    "phi1,phi2 = phis[0][0],phis[1][0] \n",
    "p1,p2,_,_,_ = calc_profits_price_shares(phi1,phi2,COST, WTP, MC)\n",
    "results[:,3]  = [phi1,phi2,p1,p2]   #update results\n",
    "\n",
    "print(results)\n",
    "for i in range(4):\n",
    "    formatted_result = results[i,0],results[i,1],results[i,2],results[i,3]\n",
    "    print(\"%.3f,%.3f,%.3f,%.3f\"%(formatted_result))"
   ]
  },
  {
   "cell_type": "code",
   "execution_count": null,
   "id": "7f96b7c2",
   "metadata": {},
   "outputs": [],
   "source": []
  }
 ],
 "metadata": {
  "kernelspec": {
   "display_name": "Python 3 (ipykernel)",
   "language": "python",
   "name": "python3"
  },
  "language_info": {
   "codemirror_mode": {
    "name": "ipython",
    "version": 3
   },
   "file_extension": ".py",
   "mimetype": "text/x-python",
   "name": "python",
   "nbconvert_exporter": "python",
   "pygments_lexer": "ipython3",
   "version": "3.10.9"
  }
 },
 "nbformat": 4,
 "nbformat_minor": 5
}
