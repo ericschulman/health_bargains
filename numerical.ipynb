{
 "cells": [
  {
   "cell_type": "code",
   "execution_count": 11,
   "metadata": {},
   "outputs": [],
   "source": [
    "import numpy as np\n",
    "from scipy.optimize import minimize\n",
    "from scipy.optimize import fsolve\n",
    "from matplotlib import pyplot as plt\n",
    "import pandas as pd"
   ]
  },
  {
   "cell_type": "code",
   "execution_count": 12,
   "metadata": {},
   "outputs": [
    {
     "name": "stdout",
     "output_type": "stream",
     "text": [
      "-1.5151423275303253\n"
     ]
    }
   ],
   "source": [
    "def calc_price(theta1, theta2, mu1, mu2, cost, wtp):\n",
    "    \"\"\"compute each insurer's price (assumes interior solution)\"\"\"\n",
    "    p1 = (2.*theta1*mu1+theta2*mu2)/3. + cost\n",
    "    p2 = (2.*theta2*mu2+theta1*mu1)/3. + cost\n",
    "    return p1, p2\n",
    "  \n",
    "    \n",
    "def calc_t(theta1, theta2, mu1, mu2, cost, wtp):\n",
    "    \"\"\"compute the proportion of people choosing each insurer\n",
    "    assumes interior solution\"\"\"\n",
    "    p1, p2 = calc_price(theta1, theta2, mu1, mu2, cost, wtp)\n",
    "    t_hat = .5 + (p2 - p1)/(2.*cost)\n",
    "    return t_hat\n",
    "\n",
    "\n",
    "def calc_profits(theta1,theta2,mu1,mu2,cost, wtp):\n",
    "    t= calc_t(theta1, theta2, mu1, mu2, cost, wtp)\n",
    "    p1,p2 = calc_price(theta1, theta2, mu1, mu2, cost, wtp)\n",
    "    profits1, profits2 = t*(p1-mu1*theta1), (1-t)*(p2-mu2*theta2)\n",
    "    hosp_profit = t*theta1*mu1 +  (1-t)*theta2*mu2\n",
    "    return hosp_profit, profits1, profits2\n",
    "\n",
    "    \n",
    "def outside_simlt(mu,cost,wtp):\n",
    "    \"\"\"outside option in simult case\n",
    "    assuming listprice high enough\"\"\"\n",
    "    if wtp < 8*cost/3:\n",
    "        return 3.*wtp**2/(32.*cost)\n",
    "    else:\n",
    "        return (wtp-cost)/(2*mu)\n",
    "    return \n",
    "\n",
    "#arbitrary outside option...\n",
    "def nash_in_nash(theta1, theta2, mu1, mu2, cost, wtp, outside,beta=.5):\n",
    "    hosp_profit, profits1, profits2 = calc_profits(theta1, theta2, mu1, mu2, cost,  wtp)\n",
    "    #print(hosp_profit, profits1,profits2)\n",
    "    obj = -1*(np.log(max(hosp_profit-outside,1e-4))*(1-beta) + np.log(profits1)*beta)\n",
    "    return obj\n",
    "\n",
    "\n",
    "COST = 10\n",
    "WTP = 25\n",
    "\n",
    "\n",
    "print(nash_in_nash(COST,COST, 1, 1, COST, WTP, outside_simlt(.5,COST,WTP)))"
   ]
  },
  {
   "cell_type": "code",
   "execution_count": 13,
   "metadata": {},
   "outputs": [
    {
     "data": {
      "text/plain": [
       "[<matplotlib.lines.Line2D at 0x7f71e75114c0>]"
      ]
     },
     "execution_count": 13,
     "metadata": {},
     "output_type": "execute_result"
    },
    {
     "data": {
      "image/png": "[encoded data removed]",
      "text/plain": [
       "<Figure size 432x288 with 1 Axes>"
      ]
     },
     "metadata": {
      "needs_background": "light"
     },
     "output_type": "display_data"
    }
   ],
   "source": [
    "COST = 10\n",
    "WTP = 15\n",
    "MU = .2\n",
    "\n",
    "plt.plot([i for i in np.linspace(1,4,num=7)], \n",
    "         [-1*nash_in_nash(i, 2.5, MU, MU, COST,WTP, outside_simlt(COST,WTP,20)) \n",
    "                                                          for i in np.linspace(COST,WTP,num=7)])"
   ]
  },
  {
   "cell_type": "code",
   "execution_count": 14,
   "metadata": {},
   "outputs": [
    {
     "name": "stdout",
     "output_type": "stream",
     "text": [
      "[15.89758301]\n"
     ]
    }
   ],
   "source": [
    "def bargain_helper(theta1, theta2, mu1, mu2, cost, wtp,beta=.5):\n",
    "    \"\"\"solve each firm 1s optimization holding theta 2 fixed\"\"\"\n",
    "    outside = outside_simlt(mu2, cost, wtp)\n",
    "    result = minimize(nash_in_nash, theta1, args=(theta2, mu1, mu2, cost, wtp, outside,beta),\n",
    "                      method='Nelder-Mead', options={'disp': False})\n",
    "    return result.x\n",
    "\n",
    "COST = 5\n",
    "WTP  = 25\n",
    "print(bargain_helper(20,20, 1, 1, COST,WTP))"
   ]
  },
  {
   "cell_type": "code",
   "execution_count": 15,
   "metadata": {
    "scrolled": false
   },
   "outputs": [
    {
     "name": "stdout",
     "output_type": "stream",
     "text": [
      "(array([13.74998685]), array([13.75003069]))\n"
     ]
    }
   ],
   "source": [
    "def simult_bargain(theta1, theta2, mu1, mu2, cost, listprice,betas=[.5,.5]):\n",
    "    \"\"\"solve the bargaining problems seperately and iterate for a solution\"\"\"       \n",
    "    \n",
    "    #loop variables\n",
    "    diff =  theta1\n",
    "\n",
    "    maxiter = 10\n",
    "    while maxiter >=0 and diff > 10e-7:\n",
    "        #seems as though there is a contraction mapping here, need to think more about why\n",
    "        theta1 = bargain_helper(theta1, theta2, mu1, mu2, cost, listprice,betas[0])\n",
    "        theta2 = bargain_helper(theta2, theta1, mu2, mu1, cost,  listprice,betas[1])\n",
    "        \n",
    "        #update loop variables\n",
    "        diff = np.abs(np.max(theta1 - theta2))\n",
    "        maxiter = maxiter-1\n",
    "        \n",
    "    return theta1, theta2\n",
    "\n",
    "COST = 5\n",
    "WTP  = 25\n",
    "print(simult_bargain(11.25,11.25,1,1,COST,WTP))"
   ]
  },
  {
   "cell_type": "code",
   "execution_count": 16,
   "metadata": {
    "scrolled": false
   },
   "outputs": [
    {
     "data": {
      "text/plain": [
       "[<matplotlib.lines.Line2D at 0x7f71e7476310>]"
      ]
     },
     "execution_count": 16,
     "metadata": {},
     "output_type": "execute_result"
    },
    {
     "data": {
      "image/png": "[encoded data removed]",
      "text/plain": [
       "<Figure size 432x288 with 1 Axes>"
      ]
     },
     "metadata": {
      "needs_background": "light"
     },
     "output_type": "display_data"
    }
   ],
   "source": [
    "def outside_seq(theta1,mu1,cost,wtp):\n",
    "    \"\"\"assume that we amp up list price high enough\n",
    "    for a corner solution\"\"\"\n",
    "    return mu1*theta1\n",
    "\n",
    "\n",
    "def bargain_helper_seq(theta1, mu1, mu2, cost, wtp,beta=.5):\n",
    "    \"\"\" solve firm 1s optimization holding theta 2 fixed \"\"\"\n",
    "    outside = outside_simlt(mu2,cost,wtp)\n",
    "    result = minimize( nash_in_nash, 10., args=(theta1, mu2, mu1, cost, wtp, outside,beta),\n",
    "                      method='Nelder-Mead', options={'disp': False} )\n",
    "    return result.x\n",
    "\n",
    "\n",
    "def seq_obj(theta1, mu1, mu2, cost, wtp,betas=[.5,.5]):\n",
    "    \"\"\" theta1 is a guess for the first stage \"\"\"\n",
    "    \n",
    "    theta2 = bargain_helper_seq(theta1, mu2, mu1, cost, wtp, betas[1])\n",
    "    outside1 = outside_seq(theta2, mu2, cost, wtp)\n",
    "    \n",
    "    return nash_in_nash(theta1, theta2, mu1, mu2, cost, wtp, outside1,betas[0])\n",
    "\n",
    "\n",
    "COST = 5\n",
    "WTP = 25\n",
    "plt.plot([i for i in np.linspace(COST+3,WTP +10,num=20)],  \n",
    "         [seq_obj(i, 1, 1, 13.5 , WTP) for i in np.linspace(COST+3,WTP +10,num=20)])\n"
   ]
  },
  {
   "cell_type": "code",
   "execution_count": 17,
   "metadata": {},
   "outputs": [
    {
     "name": "stdout",
     "output_type": "stream",
     "text": [
      "(array([19.37500916]), array([15.62500357]))\n"
     ]
    }
   ],
   "source": [
    "def seq_bargain(theta1, mu1, mu2, cost, wtp,betas=[.5,.5]):\n",
    "    \"\"\"solve the bargaining problems seperately,\n",
    "    then solve for the solution\"\"\"   \n",
    "    #only compute no deal 1x for initial\n",
    "    result = minimize(seq_obj, theta1, args=(mu1, mu2, cost, wtp,betas),\n",
    "                      method='Nelder-Mead', options={'disp': False})\n",
    "    \n",
    "    theta1 = result.x\n",
    "    theta2 = bargain_helper(theta1, theta1, mu2, mu1, cost, wtp,beta=betas[1])\n",
    "    return theta1, theta2\n",
    "\n",
    "print(seq_bargain(17,1,1,5,25))"
   ]
  },
  {
   "cell_type": "code",
   "execution_count": 19,
   "metadata": {
    "scrolled": false
   },
   "outputs": [],
   "source": [
    "def make_table(arg, steps, params,betas=[.5,.5]):\n",
    "    \"\"\"the argument is \n",
    "    args = 0 - mu1, 1- mu2, 2 -cost, 3 - wtp\n",
    "    steps = min_arg, max_arg, no_step \"\"\"\n",
    "    \n",
    "    min_arg, max_arg, no_step = steps\n",
    "    \n",
    "    cols = ['eq_type','listprice','distance_cost','mc1','mc2','profit1','profit2','hosp_profit','share1','share2']\n",
    "    \n",
    "    indep_var = np.linspace(min_arg, max_arg, no_step)\n",
    "    \n",
    "    for eq_type in ['Simultaneous', 'Sequential']:\n",
    "        result1 = []\n",
    "        result2 = []\n",
    "        for var in indep_var:\n",
    "        \n",
    "            param_copy = list(params)\n",
    "            param_copy[arg] = var\n",
    "            mu1,mu2,cost,wtp = param_copy\n",
    "            \n",
    "            mc1,mc2 = 20,20\n",
    "            \n",
    "            if eq_type == 'Simultaneous':\n",
    "                mc1,mc2 = simult_bargain(mc1, mc2, mu1, mu2, cost, wtp,betas=betas)\n",
    "            else:\n",
    "                mc1,mc2 = seq_bargain(mc1, mu1, mu2, cost, wtp,betas=betas)\n",
    "            \n",
    "            s1 = calc_t(mc1,mc2,mu1, mu2, cost,wtp)\n",
    "            s2 = calc_t(mc2,mc1,mu2, mu1, cost,wtp)\n",
    "            print(s1,s2)\n",
    "            p1,p2 = calc_price(mc1,mc2,mu1, mu2, cost,wtp)\n",
    "            pi1,pi2 = s1*(p1-mc1),  s2*(p2-mc2)\n",
    "            pi_h = s1*mc1 + s2*mc2\n",
    "            cons1 = wtp - s1*cost - p1\n",
    "            cons2 = wtp - s2*cost - p2\n",
    "            \n",
    "            result1.append( (cost, wtp, mc1, s1, p1, pi1,  pi_h, cons1) ) \n",
    "            result2.append( (cost, wtp, mc2, s2, p2, pi2,  pi_h, cons2) ) \n",
    "        print('\\n',eq_type, '\\n')\n",
    "        \n",
    "        for line in result1:\n",
    "            print(\"%.3f & %.3f  & %.3f  & %.3f  & %.3f  & %.3f  & %.3f & %.3f \\\\\\\\\"%line)\n",
    "            \n",
    "        print('\\n')\n",
    "        \n",
    "        for line in result2:\n",
    "            print(\"%.3f & %.3f  & %.3f  & %.3f  & %.3f  & %.3f  & %.3f & %.3f \\\\\\\\\"%line)"
   ]
  },
  {
   "cell_type": "code",
   "execution_count": 20,
   "metadata": {},
   "outputs": [
    {
     "name": "stdout",
     "output_type": "stream",
     "text": [
      "[0.50000085] [0.49999915]\n",
      "[0.49999946] [0.50000054]\n",
      "[0.5000005] [0.4999995]\n",
      "[0.4999981] [0.5000019]\n",
      "[0.50000026] [0.49999974]\n",
      "\n",
      " Simultaneous \n",
      "\n",
      "5.000 & 25.000  & 13.750  & 0.500  & 18.750  & 2.500  & 13.750 & 3.750 \\\\\n",
      "5.000 & 26.000  & 14.250  & 0.500  & 19.250  & 2.500  & 14.250 & 4.250 \\\\\n",
      "5.000 & 27.000  & 14.750  & 0.500  & 19.750  & 2.500  & 14.750 & 4.750 \\\\\n",
      "5.000 & 28.000  & 15.250  & 0.500  & 20.250  & 2.500  & 15.250 & 5.250 \\\\\n",
      "5.000 & 29.000  & 15.750  & 0.500  & 20.750  & 2.500  & 15.750 & 5.750 \\\\\n",
      "\n",
      "\n",
      "5.000 & 25.000  & 13.750  & 0.500  & 18.750  & 2.500  & 13.750 & 3.750 \\\\\n",
      "5.000 & 26.000  & 14.250  & 0.500  & 19.250  & 2.500  & 14.250 & 4.250 \\\\\n",
      "5.000 & 27.000  & 14.750  & 0.500  & 19.750  & 2.500  & 14.750 & 4.750 \\\\\n",
      "5.000 & 28.000  & 15.250  & 0.500  & 20.250  & 2.500  & 15.250 & 5.250 \\\\\n",
      "5.000 & 29.000  & 15.750  & 0.500  & 20.750  & 2.500  & 15.750 & 5.750 \\\\\n",
      "[0.37499987] [0.62500013]\n",
      "[0.37500084] [0.62499916]\n",
      "[0.37500042] [0.62499958]\n",
      "[0.3749993] [0.6250007]\n",
      "[0.36325195] [0.63674805]\n",
      "\n",
      " Sequential \n",
      "\n",
      "5.000 & 25.000  & 19.375  & 0.375  & 23.125  & 1.406  & 17.031 & 0.000 \\\\\n",
      "5.000 & 26.000  & 19.875  & 0.375  & 23.625  & 1.406  & 17.531 & 0.500 \\\\\n",
      "5.000 & 27.000  & 20.375  & 0.375  & 24.125  & 1.406  & 18.031 & 1.000 \\\\\n",
      "5.000 & 28.000  & 20.875  & 0.375  & 24.625  & 1.406  & 18.531 & 1.500 \\\\\n",
      "5.000 & 29.000  & 22.000  & 0.363  & 25.633  & 1.320  & 19.388 & 1.551 \\\\\n",
      "\n",
      "\n",
      "5.000 & 25.000  & 15.625  & 0.625  & 21.875  & 3.906  & 17.031 & 0.000 \\\\\n",
      "5.000 & 26.000  & 16.125  & 0.625  & 22.375  & 3.906  & 17.531 & 0.500 \\\\\n",
      "5.000 & 27.000  & 16.625  & 0.625  & 22.875  & 3.906  & 18.031 & 1.000 \\\\\n",
      "5.000 & 28.000  & 17.125  & 0.625  & 23.375  & 3.906  & 18.531 & 1.500 \\\\\n",
      "5.000 & 29.000  & 17.898  & 0.637  & 24.265  & 4.054  & 19.388 & 1.551 \\\\\n"
     ]
    }
   ],
   "source": [
    "make_table(3, (25,29,5), (1,1,5,25),betas=[.5,.5])"
   ]
  },
  {
   "cell_type": "code",
   "execution_count": 9,
   "metadata": {},
   "outputs": [
    {
     "name": "stdout",
     "output_type": "stream",
     "text": [
      "\n",
      " Simultaneous \n",
      "\n",
      "5.000 & 25.000  & 13.750  & 0.500  & 18.750  & 2.500  & 13.750 & 3.750 \\\\\n",
      "5.000 & 26.500  & 14.500  & 0.500  & 19.500  & 2.500  & 14.500 & 4.500 \\\\\n",
      "5.000 & 28.000  & 15.250  & 0.500  & 20.250  & 2.500  & 15.250 & 5.250 \\\\\n",
      "\n",
      "\n",
      "5.000 & 25.000  & 13.750  & 0.500  & 18.750  & 2.500  & 13.750 & 3.750 \\\\\n",
      "5.000 & 26.500  & 14.500  & 0.500  & 19.500  & 2.500  & 14.500 & 4.500 \\\\\n",
      "5.000 & 28.000  & 15.250  & 0.500  & 20.250  & 2.500  & 15.250 & 5.250 \\\\\n",
      "\n",
      " Sequential \n",
      "\n",
      "5.000 & 25.000  & 19.375  & 0.375  & 23.125  & 1.406  & 17.031 & 0.000 \\\\\n",
      "5.000 & 26.500  & 20.125  & 0.375  & 23.875  & 1.406  & 17.781 & 0.750 \\\\\n",
      "5.000 & 28.000  & 20.875  & 0.375  & 24.625  & 1.406  & 18.531 & 1.500 \\\\\n",
      "\n",
      "\n",
      "5.000 & 25.000  & 15.625  & 0.625  & 21.875  & 3.906  & 17.031 & 0.000 \\\\\n",
      "5.000 & 26.500  & 16.375  & 0.625  & 22.625  & 3.906  & 17.781 & 0.750 \\\\\n",
      "5.000 & 28.000  & 17.125  & 0.625  & 23.375  & 3.906  & 18.531 & 1.500 \\\\\n",
      "\n",
      " Simultaneous \n",
      "\n",
      "5.000 & 25.000  & 19.377  & 0.375  & 23.126  & 1.406  & 17.032 & -0.001 \\\\\n",
      "5.000 & 26.500  & 20.127  & 0.375  & 23.876  & 1.406  & 17.782 & 0.749 \\\\\n",
      "5.000 & 28.000  & 20.877  & 0.375  & 24.626  & 1.406  & 18.532 & 1.499 \\\\\n",
      "\n",
      "\n",
      "5.000 & 25.000  & 15.626  & 0.625  & 21.876  & 3.907  & 17.032 & -0.001 \\\\\n",
      "5.000 & 26.500  & 16.376  & 0.625  & 22.626  & 3.907  & 17.782 & 0.749 \\\\\n",
      "5.000 & 28.000  & 17.126  & 0.625  & 23.376  & 3.907  & 18.532 & 1.499 \\\\\n",
      "\n",
      " Sequential \n",
      "\n",
      "5.000 & 25.000  & 27.000  & 0.248  & 29.482  & 0.616  & 21.319 & -5.722 \\\\\n",
      "5.000 & 26.500  & 25.000  & 0.290  & 27.903  & 0.843  & 20.536 & -2.855 \\\\\n",
      "5.000 & 28.000  & 25.000  & 0.302  & 28.024  & 0.915  & 20.866 & -1.537 \\\\\n",
      "\n",
      "\n",
      "5.000 & 25.000  & 19.445  & 0.752  & 26.963  & 5.653  & 21.319 & -5.722 \\\\\n",
      "5.000 & 26.500  & 18.710  & 0.710  & 25.807  & 5.036  & 20.536 & -2.855 \\\\\n",
      "5.000 & 28.000  & 19.073  & 0.698  & 26.049  & 4.866  & 20.866 & -1.537 \\\\\n"
     ]
    }
   ],
   "source": [
    "make_table(3, (25,28,3), (1,1,5,25),betas=[.5,.5])\n",
    "make_table(3, (25,28,3), (1,1,5,25),betas=[0.1666,.5])"
   ]
  },
  {
   "cell_type": "code",
   "execution_count": 11,
   "metadata": {},
   "outputs": [
    {
     "name": "stdout",
     "output_type": "stream",
     "text": [
      "25.000 & 5.000  & 19.000 & 0.421 \\\\\n",
      "25.000 & 5.000  & 20.000 & 0.445 \\\\\n",
      "25.000 & 5.000  & 21.000 & 0.466 \\\\\n",
      "25.000 & 5.000  & 22.000 & 0.485 \\\\\n",
      "26.000 & 5.000  & 19.000 & 0.407 \\\\\n",
      "26.000 & 5.000  & 20.000 & 0.433 \\\\\n",
      "26.000 & 5.000  & 21.000 & 0.456 \\\\\n",
      "26.000 & 5.000  & 22.000 & 0.476 \\\\\n",
      "27.000 & 5.000  & 19.000 & 0.392 \\\\\n",
      "27.000 & 5.000  & 20.000 & 0.421 \\\\\n",
      "27.000 & 5.000  & 21.000 & 0.445 \\\\\n",
      "27.000 & 5.000  & 22.000 & 0.466 \\\\\n"
     ]
    }
   ],
   "source": [
    "#print some numerical derivatives\n",
    "\n",
    "for j in np.linspace(25,27, 3):\n",
    "    for i in np.linspace(19,22,4):\n",
    "        WTP = j\n",
    "        COST = 5\n",
    "        diff = .1\n",
    "        theta2 = bargain_helper_seq(i, 1,1, COST, WTP)\n",
    "        theta2_dist = bargain_helper_seq(i + diff , 1,1, COST, WTP)\n",
    "        deriv = (theta2_dist-theta2)/diff\n",
    "    \n",
    "        print('%.3f & %.3f  & %.3f & %.3f \\\\\\\\'%(WTP,COST,i,deriv))\n"
   ]
  },
  {
   "cell_type": "code",
   "execution_count": null,
   "metadata": {},
   "outputs": [],
   "source": []
  },
  {
   "cell_type": "code",
   "execution_count": null,
   "metadata": {},
   "outputs": [],
   "source": []
  }
 ],
 "metadata": {
  "kernelspec": {
   "display_name": "Python 3",
   "language": "python",
   "name": "python3"
  },
  "language_info": {
   "codemirror_mode": {
    "name": "ipython",
    "version": 3
   },
   "file_extension": ".py",
   "mimetype": "text/x-python",
   "name": "python",
   "nbconvert_exporter": "python",
   "pygments_lexer": "ipython3",
   "version": "3.8.8"
  }
 },
 "nbformat": 4,
 "nbformat_minor": 2
}
