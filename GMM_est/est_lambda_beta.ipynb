{
 "cells": [
  {
   "cell_type": "code",
   "execution_count": 2,
   "id": "580854d8",
   "metadata": {},
   "outputs": [],
   "source": [
    "%load_ext autoreload\n",
    "%autoreload 2\n",
    "\n",
    "import numpy as np\n",
    "from scipy.optimize import minimize\n",
    "from scipy.optimize import fsolve\n",
    "from matplotlib import pyplot as plt\n",
    "import pandas as pd\n",
    "\n",
    "import sys\n",
    "sys.path.append(\"../\")\n",
    "from bargains_linear import * "
   ]
  },
  {
   "cell_type": "code",
   "execution_count": 3,
   "id": "56dc45fd",
   "metadata": {},
   "outputs": [
    {
     "name": "stdout",
     "output_type": "stream",
     "text": [
      "phi1    19.417575\n",
      "phi2    25.033286\n",
      "p1      26.293434\n",
      "p2      28.144201\n",
      "s1       0.690933\n",
      "s2       0.309067\n",
      "c1       0.026909\n",
      "c2      -0.033164\n",
      "dtype: float64\n",
      "phi1    15.902723\n",
      "phi2    20.642886\n",
      "p1      22.486732\n",
      "p2      24.045650\n",
      "s1       0.655864\n",
      "s2       0.344136\n",
      "c1       0.026909\n",
      "c2      -0.033164\n",
      "dtype: float64\n",
      "phi1    12.768863\n",
      "phi2    18.053482\n",
      "p1      19.534358\n",
      "p2      21.274761\n",
      "s1       0.673997\n",
      "s2       0.326003\n",
      "c1       0.026909\n",
      "c2      -0.033164\n",
      "dtype: float64\n"
     ]
    }
   ],
   "source": [
    "seq_result = pd.read_csv('fake_data/seq_data_3.csv',index_col=0)\n",
    "active_result = pd.read_csv('fake_data/active_data_3.csv',index_col=0)\n",
    "passive_result = pd.read_csv('fake_data/passive_data_3.csv',index_col=0)\n",
    "\n",
    "print(seq_result.mean())\n",
    "print(active_result.mean())\n",
    "print(passive_result.mean())"
   ]
  },
  {
   "cell_type": "code",
   "execution_count": 9,
   "id": "320f539f",
   "metadata": {},
   "outputs": [
    {
     "name": "stdout",
     "output_type": "stream",
     "text": [
      "(4.901987923759769, 4.8466365712235655, 5.003954850473267)\n",
      "(5.068705152017896, 5.000899727903809, 5.00395485047326)\n",
      "(5.061970409847958, 5.001231549281447, 5.003954850473264)\n"
     ]
    }
   ],
   "source": [
    "def solve_lambda(df):\n",
    "    lambda1 = (df['phi2'] - df['phi1']).mean()/(6*(df['s1'].mean()-1/2))\n",
    "    lambda2 = (df['p2'] - df['p1']).mean()/(2*(df['s1'].mean()-1/2))\n",
    "    lambda3 = df['p1'].mean() - (2*df['phi1'].mean() + df['phi2'].mean() )/3\n",
    "    return lambda1,lambda2,lambda3\n",
    "    \n",
    "for df in [seq_result,active_result,passive_result]:\n",
    "    print(solve_lambda(df))"
   ]
  },
  {
   "cell_type": "code",
   "execution_count": 8,
   "id": "14550c0f",
   "metadata": {},
   "outputs": [
    {
     "name": "stdout",
     "output_type": "stream",
     "text": [
      "(12.447496622424461, 5.059427593841626, 5.003954850473264)\n",
      "(2.678821470988695, 5.000280469880832, 5.003954850473262)\n",
      "(-2.334583430706127, 5.000428572826897, 5.003954850473262)\n"
     ]
    }
   ],
   "source": [
    "def solve_lambda(df):\n",
    "    lambda1 = ((df['phi2'] - df['phi1'])/(6*(df['s1']-1/2))).mean()\n",
    "    lambda2 = ((df['p2'] - df['p1'])/(2*(df['s1']-1/2))).mean()\n",
    "    lambda3 = ( df['p1'] - (2*df['phi1'] + df['phi2'])/3 ).mean()\n",
    "    return lambda1,lambda2,lambda3\n",
    "    \n",
    "for df in [seq_result,active_result,passive_result]:\n",
    "    print(solve_lambda(df))"
   ]
  },
  {
   "cell_type": "code",
   "execution_count": 43,
   "id": "8cc833fe",
   "metadata": {},
   "outputs": [
    {
     "name": "stdout",
     "output_type": "stream",
     "text": [
      "0.4990598604232418\n",
      "0.09989219931485756\n"
     ]
    }
   ],
   "source": [
    "def solve_pi_passive(df,lambda_val):\n",
    "    p1 =  df['p1'].mean()\n",
    "    phi1 = df['phi1'].mean()\n",
    "    phi2 = df['phi2'].mean()\n",
    "    s1 = df['s1'].mean()\n",
    "    s2 = df['s2'].mean()\n",
    "    \n",
    "    # Calculate the first equation\n",
    "    pi_i = (p1  - phi1 ) * s1 \n",
    "    \n",
    "    # Calculate the se2*cond equation\n",
    "    pi_h = s1 * phi1 \n",
    "\n",
    "    # Calculate the derivative of the first equation with respect to phi1t\n",
    "    dpi_i_dphi1 = -1*(3 * lambda_val - phi1 + phi2) / (9 * lambda_val)\n",
    "    \n",
    "    # Calculate the derivative of the second equation with respect to phi1t\n",
    "    dpi_h_dphi1 = -1*(phi1-phi2)/(6 * lambda_val) + s1\n",
    "    \n",
    "\n",
    "    return (dpi_h_dphi1*pi_i)/( (dpi_h_dphi1*pi_i ) - (dpi_i_dphi1*pi_h)  )\n",
    "\n",
    "\n",
    "passive_result1 = pd.read_csv('fake_data/passive_data_0.csv',index_col=0)\n",
    "passive_result2 = pd.read_csv('fake_data/passive_data_4.csv',index_col=0)\n",
    "for df in [passive_result1,passive_result2]:\n",
    "    print(solve_pi(df,5))"
   ]
  },
  {
   "cell_type": "code",
   "execution_count": null,
   "id": "153f55e1",
   "metadata": {},
   "outputs": [],
   "source": [
    "#passive test2 "
   ]
  },
  {
   "cell_type": "code",
   "execution_count": 56,
   "id": "e71b03ef",
   "metadata": {},
   "outputs": [
    {
     "name": "stdout",
     "output_type": "stream",
     "text": [
      "12.492359461254159 7.478812431349464 7.5069036761099195 0.4990097264153207 0.5009902735846793\n",
      "1.0037568385462514\n",
      "23.89291955177722 19.74785741594233 17.170493978493358 0.5916786026208687 0.4083213973791313\n",
      "0.7466099279818613\n"
     ]
    }
   ],
   "source": [
    "def solve_pi_seq(df,lambda_val):\n",
    "    p2 =  df['p2'].mean() #23.125\n",
    "    phi2 = df['phi2'].mean() #19.375\n",
    "    phi1 =  df['phi1'].mean() #15.625\n",
    "    s2 = df['s1'].mean() #0.375\n",
    "    s1 = 1 -s2# 1-s2\n",
    "    \n",
    "    print(p2,phi2,phi1,s2,s1)\n",
    "    \n",
    "    # Calculate the first equation\n",
    "    pi_2 = (p2  - phi2 ) * s2\n",
    "    \n",
    "    # Calculate the se2*cond equation\n",
    "    pi_h = s2 * (phi2 - phi1) \n",
    "\n",
    "    # Calculate the derivative of the first equation with respect to phi1t\n",
    "    dpi_2_dphi2 = -1*(3 * lambda_val - phi2 + phi1) / (9 * lambda_val)\n",
    "    \n",
    "    # Calculate the derivative of the second equation with respect to phi1t\n",
    "    dpi_h_dphi2 = -1*(phi2-phi1)/(6 * lambda_val) + s2\n",
    "    \n",
    "\n",
    "    return (dpi_h_dphi2*pi_2)/( (dpi_h_dphi2*pi_2 ) - (dpi_2_dphi2*pi_h)  )\n",
    "\n",
    "\n",
    "passive_result1 = pd.read_csv('fake_data/passive_data_0.csv',index_col=0)\n",
    "passive_result2 = pd.read_csv('fake_data/seq_data_0.csv',index_col=0)\n",
    "for df in [passive_result1,passive_result2]:\n",
    "    print(solve_pi_seq(df,5))"
   ]
  },
  {
   "cell_type": "code",
   "execution_count": null,
   "id": "1ddece92",
   "metadata": {},
   "outputs": [],
   "source": []
  }
 ],
 "metadata": {
  "kernelspec": {
   "display_name": "Python 3 (ipykernel)",
   "language": "python",
   "name": "python3"
  },
  "language_info": {
   "codemirror_mode": {
    "name": "ipython",
    "version": 3
   },
   "file_extension": ".py",
   "mimetype": "text/x-python",
   "name": "python",
   "nbconvert_exporter": "python",
   "pygments_lexer": "ipython3",
   "version": "3.10.9"
  }
 },
 "nbformat": 4,
 "nbformat_minor": 5
}
