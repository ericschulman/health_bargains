{
 "cells": [
  {
   "cell_type": "code",
   "execution_count": 1,
   "id": "9dcae73c",
   "metadata": {},
   "outputs": [],
   "source": [
    "import pandas as pd"
   ]
  },
  {
   "cell_type": "code",
   "execution_count": 8,
   "id": "42ee7365",
   "metadata": {},
   "outputs": [
    {
     "name": "stdout",
     "output_type": "stream",
     "text": [
      "         wtp    wtp se      cost   cost se     beta1  beta1 se     beta2  \\\n",
      "0  26.549157  0.839278  4.724132  0.146319  0.465600  0.023866  0.555015   \n",
      "1  19.839959  1.233917  4.890058  0.308861  0.510234  0.043629  0.642490   \n",
      "2  12.759501  0.323228  5.034663  0.055686  0.658845  0.005993  0.610884   \n",
      "0  24.870756  0.619305  4.639819  0.132459  0.510898  0.017458  0.543237   \n",
      "1  16.497514  0.568697  4.741338  0.111373  0.562628  0.011848  0.600585   \n",
      "2  12.697504  0.388374  5.058558  0.050584  0.659339  0.004549  0.607578   \n",
      "0  27.828541  0.694432  5.905808  0.163387  0.387133  0.008152  0.510044   \n",
      "1  12.475448  4.672294  8.493548  1.085013  0.356583  0.019300  0.895218   \n",
      "2  15.787802  2.737308  9.082774  1.071970  0.402945  0.050114  0.884795   \n",
      "0  26.257784  1.007682  4.779716  0.148554  0.457858  0.026356  0.563640   \n",
      "1  20.218585  1.206071  4.797295  0.328236  0.521403  0.038869  0.621648   \n",
      "2  12.727022  0.364801  5.036107  0.053828  0.658713  0.006647  0.611769   \n",
      "0  25.943874  1.188547  4.766676  0.160931  0.432106  0.029945  0.610111   \n",
      "1  20.476137  1.216955  4.711108  0.311079  0.526236  0.040329  0.609750   \n",
      "2  12.770583  0.334566  5.022519  0.052497  0.657919  0.007173  0.614032   \n",
      "0  24.513487  2.657679  6.158522  0.517043  0.460785  0.034872  0.544553   \n",
      "1  20.924804  1.280402  5.408336  0.256746  0.484599  0.033339  0.681395   \n",
      "2  13.355357  0.613136  5.276806  0.089614  0.611234  0.011711  0.584554   \n",
      "\n",
      "   beta2 se  \n",
      "0  0.037954  \n",
      "1  0.088693  \n",
      "2  0.016864  \n",
      "0  0.020101  \n",
      "1  0.011748  \n",
      "2  0.014716  \n",
      "0  0.015222  \n",
      "1  0.036842  \n",
      "2  0.047371  \n",
      "0  0.039654  \n",
      "1  0.079023  \n",
      "2  0.015601  \n",
      "0  0.049856  \n",
      "1  0.079916  \n",
      "2  0.016297  \n",
      "0  0.054589  \n",
      "1  0.065713  \n",
      "2  0.004530  \n"
     ]
    }
   ],
   "source": [
    "\n",
    "\n",
    "results = pd.DataFrame(columns=['wtp','wtp se','cost','cost se','beta1','beta1 se','beta2','beta2 se'])\n",
    "\n",
    "for j in range(5):\n",
    "\n",
    "    seq_params_df = pd.read_csv('fake_params/seq_params_mc_%s.csv'%j,index_col=0)\n",
    "    active_params_df = pd.read_csv('fake_params/active_param_mc_%s.csv'%j,index_col=0)\n",
    "    passive_params_df = pd.read_csv('fake_params/passive_params_mc_%s.csv'%j,index_col=0)\n",
    "    \n",
    "    row_data = []\n",
    "    for df in [seq_params_df,active_params_df,passive_params_df]:\n",
    "        row_data.append([df['wtp'].mean(),df['wtp'].std(),df['cost'].mean(),df['cost'].std(),\n",
    "                    df['beta1'].mean(),df['beta1'].std(),df['beta2'].mean(),df['beta2'].std()])\n",
    "\n",
    "    row = pd.DataFrame(columns=['wtp','wtp se','cost','cost se','beta1','beta1 se','beta2','beta2 se'],\n",
    "                       data=row_data)\n",
    "\n",
    "    results = pd.concat( [results, row] )\n",
    "    \n",
    "print(results)\n",
    "results.to_csv('param_tables.csv')"
   ]
  },
  {
   "cell_type": "code",
   "execution_count": null,
   "id": "e96dbbd0",
   "metadata": {},
   "outputs": [],
   "source": []
  }
 ],
 "metadata": {
  "kernelspec": {
   "display_name": "Python 3 (ipykernel)",
   "language": "python",
   "name": "python3"
  },
  "language_info": {
   "codemirror_mode": {
    "name": "ipython",
    "version": 3
   },
   "file_extension": ".py",
   "mimetype": "text/x-python",
   "name": "python",
   "nbconvert_exporter": "python",
   "pygments_lexer": "ipython3",
   "version": "3.10.9"
  }
 },
 "nbformat": 4,
 "nbformat_minor": 5
}
