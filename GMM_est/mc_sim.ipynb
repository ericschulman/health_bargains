{
 "cells": [
  {
   "cell_type": "code",
   "execution_count": 1,
   "id": "bc795b50",
   "metadata": {},
   "outputs": [],
   "source": [
    "%load_ext autoreload\n",
    "%autoreload 2\n",
    "\n",
    "import numpy as np\n",
    "from scipy.optimize import minimize\n",
    "from scipy.optimize import fsolve\n",
    "from matplotlib import pyplot as plt\n",
    "import pandas as pd\n",
    "import statsmodels.api as sm\n",
    "\n",
    "import sys\n",
    "sys.path.append(\"../\")\n",
    "from bargains_linear import * "
   ]
  },
  {
   "cell_type": "code",
   "execution_count": 2,
   "id": "b82c735b",
   "metadata": {},
   "outputs": [
    {
     "name": "stdout",
     "output_type": "stream",
     "text": [
      "          dgp  test1     test2\n",
      "0  sequential   0.00  0.000000\n",
      "1      active   1.00  1.000000\n",
      "2     passive   1.00  1.000000\n",
      "0  sequential   0.06  0.000000\n",
      "1      active   1.00  0.700000\n",
      "2     passive   1.00  0.800000\n",
      "0  sequential   1.00  0.133333\n",
      "1      active   0.98  0.600000\n",
      "2     passive   1.00  0.666667\n",
      "0  sequential   0.00  0.100000\n",
      "1      active   1.00  0.550000\n",
      "2     passive   1.00  0.600000\n",
      "0  sequential   0.01  0.080000\n",
      "1      active   1.00  0.640000\n",
      "2     passive   1.00  0.680000\n",
      "0  sequential   0.00  0.200000\n",
      "1      active   1.00  0.700000\n",
      "2     passive   1.00  0.733333\n"
     ]
    }
   ],
   "source": [
    "def print_test(data):\n",
    "    model1 = sm.OLS(data['phi2'],sm.add_constant(data[['phi1','c1']]))\n",
    "    param, se = model1.fit().params.rename('param'),model1.fit().bse.rename('se')\n",
    "    return pd.merge(param,se,left_index=True,right_index=True)\n",
    "\n",
    "def run_test(data):\n",
    "    regression_result = print_test(data)\n",
    "    test_statistic = regression_result.loc['c1','param']/regression_result.loc['c1','se']\n",
    "    test_result = (test_statistic > 1.96)\n",
    "    return test_result\n",
    "\n",
    "results = pd.DataFrame(columns=['dgp','test1','test2'])\n",
    "\n",
    "for j in range(6):\n",
    "    seq_result = pd.read_csv('fake_data/seq_data_%s.csv'%j,index_col=0)\n",
    "    active_result = pd.read_csv('fake_data/active_data_%s.csv'%j,index_col=0)\n",
    "    passive_result = pd.read_csv('fake_data/passive_data_%s.csv'%j,index_col=0)\n",
    "    \n",
    "    seq_params_df = pd.read_csv('fake_data/seq_params_mc_%s.csv'%j,index_col=0)\n",
    "    active_params_df = pd.read_csv('fake_data/active_param_mc_%s.csv'%j,index_col=0)\n",
    "    passive_params_df = pd.read_csv('fake_data/passive_params_mc_%s.csv'%j,index_col=0)\n",
    "\n",
    "\n",
    "    test1p = 0\n",
    "    test2p = 0\n",
    "    test3p = 0\n",
    "    nobs = 1000\n",
    "    for i in range(nobs):\n",
    "    \n",
    "        subsample1 = seq_result.sample(frac=0.1)\n",
    "        test1p = test1p + run_test(subsample1)\n",
    "        \n",
    "        subsample2 = active_result.sample(frac=0.1)\n",
    "        test2p = test2p + run_test(subsample2)\n",
    "        \n",
    "        subsample3 = passive_result.sample(frac=0.1)\n",
    "        test3p = test3p + run_test(subsample3)\n",
    "        \n",
    "    test1j=(seq_params_df['obj']>8).mean()\n",
    "    test2j=(active_params_df['obj']>8).mean()\n",
    "    test3j=(passive_params_df['obj']>8).mean()\n",
    "    \n",
    "    row = pd.DataFrame(columns=['dgp','test1','test2'],\n",
    "        data=[['sequential',test1p/nobs,test1j],\n",
    "             ['active',test2p/nobs,test2j],\n",
    "             ['passive',test3p/nobs,test3j]])\n",
    "    \n",
    "    results = pd.concat( [results, row] )\n",
    "    \n",
    "print(results)\n",
    "results.to_csv('mc_results.csv')"
   ]
  },
  {
   "cell_type": "code",
   "execution_count": null,
   "id": "10619784",
   "metadata": {},
   "outputs": [],
   "source": []
  }
 ],
 "metadata": {
  "kernelspec": {
   "display_name": "Python 3 (ipykernel)",
   "language": "python",
   "name": "python3"
  },
  "language_info": {
   "codemirror_mode": {
    "name": "ipython",
    "version": 3
   },
   "file_extension": ".py",
   "mimetype": "text/x-python",
   "name": "python",
   "nbconvert_exporter": "python",
   "pygments_lexer": "ipython3",
   "version": "3.10.9"
  }
 },
 "nbformat": 4,
 "nbformat_minor": 5
}
