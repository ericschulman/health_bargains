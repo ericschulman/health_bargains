{
 "cells": [
  {
   "cell_type": "code",
   "execution_count": 2,
   "id": "0e3e6835",
   "metadata": {},
   "outputs": [],
   "source": [
    "%load_ext autoreload\n",
    "%autoreload 2\n",
    "\n",
    "import numpy as np\n",
    "from scipy.optimize import minimize\n",
    "from scipy.optimize import fsolve\n",
    "from matplotlib import pyplot as plt\n",
    "import pandas as pd\n",
    "\n",
    "import sys\n",
    "sys.path.append(\"../\")\n",
    "from bargains_linear import * "
   ]
  },
  {
   "cell_type": "code",
   "execution_count": 9,
   "id": "b8770ba1",
   "metadata": {},
   "outputs": [
    {
     "name": "stdout",
     "output_type": "stream",
     "text": [
      "8.607356113777048\n",
      "1 100 100\n"
     ]
    }
   ],
   "source": [
    "#run test for chi sq 6, 11.070\n",
    "seq_params_df = pd.read_csv('fake_data/seq_params_mc.csv')\n",
    "active_params_df = pd.read_csv('fake_data/active_param_mc.csv')\n",
    "passive_params_df = pd.read_csv('fake_data/passive_params_mc.csv')\n",
    "print(seq_params_df['obj'].max())\n",
    "\n",
    "test1=(seq_params_df['obj']>8).sum()\n",
    "test2=(active_params_df['obj']>8).sum()\n",
    "test3=(passive_params_df['obj']>8).sum()\n",
    "print(test1,test2,test3)"
   ]
  },
  {
   "cell_type": "code",
   "execution_count": null,
   "id": "e541b149",
   "metadata": {},
   "outputs": [],
   "source": []
  }
 ],
 "metadata": {
  "kernelspec": {
   "display_name": "Python 3 (ipykernel)",
   "language": "python",
   "name": "python3"
  },
  "language_info": {
   "codemirror_mode": {
    "name": "ipython",
    "version": 3
   },
   "file_extension": ".py",
   "mimetype": "text/x-python",
   "name": "python",
   "nbconvert_exporter": "python",
   "pygments_lexer": "ipython3",
   "version": "3.10.9"
  }
 },
 "nbformat": 4,
 "nbformat_minor": 5
}
