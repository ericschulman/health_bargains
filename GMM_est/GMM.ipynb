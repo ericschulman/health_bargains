{
 "cells": [
  {
   "cell_type": "code",
   "execution_count": 1,
   "metadata": {},
   "outputs": [],
   "source": [
    "from sympy import *"
   ]
  },
  {
   "cell_type": "code",
   "execution_count": 21,
   "metadata": {},
   "outputs": [],
   "source": [
    "phi1 = Symbol('\\\\phi_1')\n",
    "phi2 = Symbol('\\\\phi_1')\n",
    "beta1 = Symbol('\\\\beta_1')\n",
    "beta2 = Symbol('\\\\beta_2')\n",
    "\n",
    "pi1 = Symbol('\\\\pi_1')\n",
    "pi2 = Symbol('\\\\pi_2')\n",
    "\n",
    "s1 = Symbol('s_1')\n",
    "s2 = Symbol('s_2')\n",
    "\n",
    "dpidphi1 = Symbol('\\\\pi_1^dot')\n",
    "dpidphi2 = Symbol('\\\\pi_2^dot')\n",
    "\n",
    "#ds1dphi1 = Symbol('\\\\partial s_1 /\\\\partial \\phi_1')\n",
    "#ds1dphi2 = Symbol('\\\\partial s_1 /\\\\partial \\phi_2')\n",
    "#ds2dphi1 = Symbol('\\\\partial s_2 /\\\\partial \\phi_1')\n",
    "#ds2dphi2 = Symbol('\\\\partial s_2 /\\\\partial \\phi_2')\n",
    "\n",
    "e11 = Symbol('e_{11}')\n",
    "e12 = Symbol('e_{12}')\n",
    "e21 = Symbol('e_{21}')\n",
    "e22 = Symbol('e_{22}')\n",
    "\n",
    "\n",
    "dhdphi1 = Symbol('\\\\partial h/ \\\\partial \\\\phi_1')\n",
    "\n"
   ]
  },
  {
   "cell_type": "code",
   "execution_count": 22,
   "metadata": {},
   "outputs": [],
   "source": [
    "omega = Matrix([[e11,e12],[e21,e22]])\n",
    "lambda1 = Matrix([[ (1-beta1)*dpidphi1/(beta1*pi1) ],[ (1-beta2)*dpidphi2/(beta2*pi2) ]])\n",
    "s = Matrix([[s1],[s2]])\n",
    "lambda_total = (lambda1*s.transpose())\n",
    "phi = Matrix([[phi1],[phi2]])\n",
    "\n",
    "foc = phi+(omega + lambda_total).inv() * (s )"
   ]
  },
  {
   "cell_type": "code",
   "execution_count": 23,
   "metadata": {},
   "outputs": [
    {
     "data": {
      "text/plain": [
       "Matrix([\n",
       "[ \\beta_1*\\pi_1*(\\beta_2*\\pi_2*e_{22} - \\pi_2^dot*s_2*(\\beta_2 - 1))/((\\beta_1*\\pi_1*e_{11} - \\pi_1^dot*s_1*(\\beta_1 - 1))*(\\beta_2*\\pi_2*e_{22} - \\pi_2^dot*s_2*(\\beta_2 - 1)) - (\\beta_1*\\pi_1*e_{12} - \\pi_1^dot*s_2*(\\beta_1 - 1))*(\\beta_2*\\pi_2*e_{21} - \\pi_2^dot*s_1*(\\beta_2 - 1))), -\\beta_2*\\pi_2*(\\beta_1*\\pi_1*e_{12} - \\pi_1^dot*s_2*(\\beta_1 - 1))/((\\beta_1*\\pi_1*e_{11} - \\pi_1^dot*s_1*(\\beta_1 - 1))*(\\beta_2*\\pi_2*e_{22} - \\pi_2^dot*s_2*(\\beta_2 - 1)) - (\\beta_1*\\pi_1*e_{12} - \\pi_1^dot*s_2*(\\beta_1 - 1))*(\\beta_2*\\pi_2*e_{21} - \\pi_2^dot*s_1*(\\beta_2 - 1)))],\n",
       "[-\\beta_1*\\pi_1*(\\beta_2*\\pi_2*e_{21} - \\pi_2^dot*s_1*(\\beta_2 - 1))/((\\beta_1*\\pi_1*e_{11} - \\pi_1^dot*s_1*(\\beta_1 - 1))*(\\beta_2*\\pi_2*e_{22} - \\pi_2^dot*s_2*(\\beta_2 - 1)) - (\\beta_1*\\pi_1*e_{12} - \\pi_1^dot*s_2*(\\beta_1 - 1))*(\\beta_2*\\pi_2*e_{21} - \\pi_2^dot*s_1*(\\beta_2 - 1))),  \\beta_2*\\pi_2*(\\beta_1*\\pi_1*e_{11} - \\pi_1^dot*s_1*(\\beta_1 - 1))/((\\beta_1*\\pi_1*e_{11} - \\pi_1^dot*s_1*(\\beta_1 - 1))*(\\beta_2*\\pi_2*e_{22} - \\pi_2^dot*s_2*(\\beta_2 - 1)) - (\\beta_1*\\pi_1*e_{12} - \\pi_1^dot*s_2*(\\beta_1 - 1))*(\\beta_2*\\pi_2*e_{21} - \\pi_2^dot*s_1*(\\beta_2 - 1)))]])"
      ]
     },
     "execution_count": 23,
     "metadata": {},
     "output_type": "execute_result"
    }
   ],
   "source": [
    "(omega + lambda_total).inv()"
   ]
  },
  {
   "cell_type": "code",
   "execution_count": null,
   "metadata": {},
   "outputs": [],
   "source": []
  }
 ],
 "metadata": {
  "kernelspec": {
   "display_name": "Python 3",
   "language": "python",
   "name": "python3"
  },
  "language_info": {
   "codemirror_mode": {
    "name": "ipython",
    "version": 3
   },
   "file_extension": ".py",
   "mimetype": "text/x-python",
   "name": "python",
   "nbconvert_exporter": "python",
   "pygments_lexer": "ipython3",
   "version": "3.7.3"
  }
 },
 "nbformat": 4,
 "nbformat_minor": 2
}
