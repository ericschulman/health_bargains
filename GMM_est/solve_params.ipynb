{
 "cells": [
  {
   "cell_type": "code",
   "execution_count": 1,
   "id": "44157aeb",
   "metadata": {},
   "outputs": [],
   "source": [
    "%load_ext autoreload\n",
    "%autoreload 2\n",
    "\n",
    "import numpy as np\n",
    "from scipy.optimize import minimize\n",
    "from scipy.optimize import fsolve\n",
    "from matplotlib import pyplot as plt\n",
    "import pandas as pd\n",
    "\n",
    "import sys\n",
    "sys.path.append(\"../\")\n",
    "from bargains_linear import * "
   ]
  },
  {
   "cell_type": "code",
   "execution_count": 3,
   "id": "be5d6c17",
   "metadata": {},
   "outputs": [],
   "source": [
    "seq_result = pd.read_csv('fake_data/seq_data_0.csv',index_col=0)\n",
    "active_result = pd.read_csv('fake_data/active_data_0.csv',index_col=0)\n",
    "passive_result = pd.read_csv('fake_data/passive_data_0.csv',index_col=0)"
   ]
  },
  {
   "cell_type": "code",
   "execution_count": 3,
   "id": "6eb51750",
   "metadata": {},
   "outputs": [
    {
     "name": "stdout",
     "output_type": "stream",
     "text": [
      "6.825327037529594\n",
      "99.21292877249188\n",
      "0.7859837821511065\n",
      "78.56293164231437\n",
      "0.04669038877599222\n",
      "153.5668905075749\n"
     ]
    }
   ],
   "source": [
    "#calculate moment conditions for the linear model...\n",
    "def solve_parameters_obj(data,params, active=False,seq=False):\n",
    "    wtp,cost,beta1,beta2,mc1,mc2 = params\n",
    "    \n",
    "    data_moments = list(data.mean())\n",
    "    phi1,phi2 = None,None\n",
    "    if seq:\n",
    "        phi1,phi2 = seq_bargain(25, cost, wtp, [mc1,mc2],betas=[beta1,beta2])\n",
    "    elif active:\n",
    "        phi1,phi2 = simult_bargain(25,25, cost, wtp, [mc1,mc2],active=True,betas=[beta1,beta2])\n",
    "    else:\n",
    "        phi1,phi2 = simult_bargain(25,25, cost, wtp, [mc1,mc2],active=False,betas=[beta1,beta2])\n",
    "    \n",
    "    phi1,phi2,p1,p2,s1,s2 = solve_eq(phi1,phi2,cost,wtp,[mc1,mc2])\n",
    "    computed_moments = [phi1,phi2,p1,p2,s1,s2]\n",
    "    \n",
    "    obj = 0\n",
    "    for i in range(6):\n",
    "        obj = obj + (data_moments[i] - computed_moments[i])**2\n",
    "    \n",
    "    return obj\n",
    "    \n",
    "\n",
    "print( solve_parameters_obj(seq_result,[25,5,.5,.5,0,0], seq=True) )\n",
    "print( solve_parameters_obj(seq_result,[25,5,.5,.5,0,0], active=True) )\n",
    "\n",
    "\n",
    "print( solve_parameters_obj(active_result,[25,5,.5,.5,0,0], active=True) )\n",
    "print( solve_parameters_obj(active_result,[25,5,.5,.5,0,0], seq=True) )\n",
    "\n",
    "\n",
    "print( solve_parameters_obj(passive_result,[25,5,.5,.5,0,0], active=False) )\n",
    "print( solve_parameters_obj(passive_result,[25,5,.5,.5,0,0], active=True) )"
   ]
  },
  {
   "cell_type": "code",
   "execution_count": 4,
   "id": "38b6c761",
   "metadata": {
    "scrolled": false
   },
   "outputs": [
    {
     "name": "stdout",
     "output_type": "stream",
     "text": [
      "[2.60916064e+01 4.93665620e+00 4.55787041e-01 5.37750773e-01\n",
      " 1.50286136e-04 8.26004416e-05]\n",
      "[ 2.43697653e+01  5.08192457e+00  5.12346410e-01  5.16633090e-01\n",
      " -1.07189374e-04  3.55385465e-05]\n",
      "[2.44701369e+01 5.05316308e+00 4.96905201e-01 5.04297775e-01\n",
      " 5.52770827e-05 2.01104037e-04]\n"
     ]
    }
   ],
   "source": [
    "def solve_parameters(data,active=False,seq=False): \n",
    "    obj = lambda params: solve_parameters_obj(data,params,active=active,seq=seq)\n",
    "    params = minimize(obj, [25,5,.5,.5,0,0], options={'fatol':1e-6,'xatol':1e-6,'maxiter':20},method='Nelder-Mead').x # \n",
    "    return params\n",
    "\n",
    "params_seq = (solve_parameters(seq_result,active=False,seq=True))\n",
    "params_active =  (solve_parameters(active_result,active=True,seq=False))\n",
    "params_passive = (solve_parameters(passive_result,active=False,seq=False))\n",
    "print(params_seq)\n",
    "print(params_active)\n",
    "print(params_passive)"
   ]
  },
  {
   "cell_type": "code",
   "execution_count": null,
   "id": "0affa9ca",
   "metadata": {},
   "outputs": [],
   "source": [
    "\n",
    "\n",
    "\n",
    "#calculate moment conditions for the linear model...\n",
    "def test_statistic(data, params, active=False,seq=False):\n",
    "    wtp,cost,beta1,beta2,mc1,mc2 = params\n",
    "    \n",
    "    data_moments = list(data.mean())\n",
    "    phi1,phi2 = None,None\n",
    "    if seq:\n",
    "        phi1,phi2 = seq_bargain(25, cost, wtp, [mc1,mc2],betas=[beta1,beta2])\n",
    "    elif active:\n",
    "        phi1,phi2 = simult_bargain(25,25, cost, wtp, [mc1,mc2],active=True,betas=[beta1,beta2])\n",
    "    else:\n",
    "        phi1,phi2 = simult_bargain(25,25, cost, wtp, [mc1,mc2],active=False,betas=[beta1,beta2])\n",
    "    \n",
    "    phi1,phi2,p1,p2,s1,s2 = solve_eq(phi1,phi2,cost,wtp,[mc1,mc2])\n",
    "    computed_moments = [phi1,phi2,p1,p2,s1,s2]\n",
    "    test_stat = data.copy()[['phi1','phi2','p1','p2','s1']]\n",
    "    for i in range(5):\n",
    "        test_stat[test_stat.columns[i]] =  test_stat[test_stat.columns[i]]  -  computed_moments[i]\n",
    "    \n",
    "    mean = test_stat.mean()\n",
    "    cov = test_stat.cov()\n",
    "    \n",
    "    return mean.dot(np.linalg.inv(cov)).dot(mean)\n",
    "\n",
    "for j in range(6):\n",
    "    seq_result = pd.read_csv('fake_data/seq_data_%s.csv'%j,index_col=0)\n",
    "    active_result = pd.read_csv('fake_data/active_data_%s.csv'%j,index_col=0)\n",
    "    passive_result = pd.read_csv('fake_data/passive_data_%s.csv'%j,index_col=0)\n",
    "    \n",
    "    \n",
    "    seq_params_df = pd.DataFrame(columns=['obj','wtp','cost','beta1','beta2','mc1','mc2']) \n",
    "    active_params_df = pd.DataFrame(columns=['obj','wtp','cost','beta1','beta2','mc1','mc2']) \n",
    "    passive_params_df = pd.DataFrame(columns=['obj','wtp','cost','beta1','beta2','mc1','mc2']) \n",
    "    \n",
    "    for i in range(10):\n",
    "        #resample from seq\n",
    "        subsample = seq_result.sample(frac=0.1)\n",
    "        params =  solve_parameters(subsample,active=False,seq=True)\n",
    "        obj = test_statistic(subsample,params, active=False,seq=True)\n",
    "        row = pd.DataFrame(columns=['obj','wtp','cost','beta1','beta2','mc1','mc2'],\n",
    "                           data=[[obj]+list(params)])\n",
    "        seq_params_df = pd.concat( [seq_params_df, row] )\n",
    "\n",
    "\n",
    "        #solve active\n",
    "        subsample = active_result.sample(frac=0.1)\n",
    "        params =  solve_parameters(subsample,active=False,seq=True)\n",
    "        obj = test_statistic(subsample,params,active=False,seq=True)\n",
    "        row = pd.DataFrame(columns=['obj','wtp','cost','beta1','beta2','mc1','mc2'],\n",
    "                           data=[[obj]+list(params)])\n",
    "        active_params_df = pd.concat( [active_params_df, row] )\n",
    "\n",
    "        #solve passive\n",
    "        subsample = passive_result.sample(frac=0.1)\n",
    "        params =  solve_parameters(subsample,active=False,seq=True)\n",
    "        obj = test_statistic(subsample,params,active=False,seq=True)\n",
    "        row = pd.DataFrame(columns=['obj','wtp','cost','beta1','beta2','mc1','mc2'],\n",
    "                           data=[[obj]+list(params)])\n",
    "        passive_params_df = pd.concat( [passive_params_df, row] )\n",
    "\n",
    "\n",
    "    seq_params_df.to_csv('fake_data/seq_params_mc_%s.csv'%j)\n",
    "    active_params_df.to_csv('fake_data/active_param_mc_%s.csv'%j)\n",
    "    passive_params_df.to_csv('fake_data/passive_params_mc_%s.csv'%j)"
   ]
  },
  {
   "cell_type": "code",
   "execution_count": null,
   "id": "23792e26",
   "metadata": {
    "scrolled": false
   },
   "outputs": [],
   "source": [
    "plt.hist(seq_params_df['obj'])\n",
    "plt.show()\n",
    "plt.hist(active_params_df['obj'])\n",
    "plt.show()\n",
    "plt.hist(passive_params_df['obj'])\n",
    "plt.show()\n",
    "plt.hist(seq_params_df['obj']-active_params_df['obj'])\n",
    "plt.show()\n",
    "plt.hist(seq_params_df['obj']-passive_params_df['obj'])\n",
    "plt.show()"
   ]
  }
 ],
 "metadata": {
  "kernelspec": {
   "display_name": "Python 3 (ipykernel)",
   "language": "python",
   "name": "python3"
  },
  "language_info": {
   "codemirror_mode": {
    "name": "ipython",
    "version": 3
   },
   "file_extension": ".py",
   "mimetype": "text/x-python",
   "name": "python",
   "nbconvert_exporter": "python",
   "pygments_lexer": "ipython3",
   "version": "3.10.9"
  }
 },
 "nbformat": 4,
 "nbformat_minor": 5
}
