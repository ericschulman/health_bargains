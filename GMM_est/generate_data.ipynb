{
 "cells": [
  {
   "cell_type": "code",
   "execution_count": 1,
   "id": "4d69fc7c",
   "metadata": {},
   "outputs": [],
   "source": [
    "%load_ext autoreload\n",
    "%autoreload 2\n",
    "\n",
    "import numpy as np\n",
    "from scipy.optimize import minimize\n",
    "from scipy.optimize import fsolve\n",
    "from matplotlib import pyplot as plt\n",
    "import pandas as pd\n",
    "\n",
    "import sys\n",
    "sys.path.append(\"../\")\n",
    "from bargains_linear import * "
   ]
  },
  {
   "cell_type": "code",
   "execution_count": 2,
   "id": "8dcd6c2d",
   "metadata": {
    "scrolled": false
   },
   "outputs": [
    {
     "name": "stdout",
     "output_type": "stream",
     "text": [
      "         phi1       phi2         p1         p2        s1        s2         c1  \\\n",
      "0   15.011153  19.007949  25.929300  26.933144  0.600384  0.399616   5.217947   \n",
      "0   13.622042  18.173819  22.652371  23.100953  0.544858  0.455142   3.399318   \n",
      "0   31.200380  32.275283  28.263831  32.188916  0.892509  0.107491 -12.371471   \n",
      "0   16.248802  19.751097  21.280359  22.778498  0.649814  0.350186  -1.721989   \n",
      "0   32.302309  33.101735  32.314188  36.514773  0.920059  0.079941  -7.988026   \n",
      "..        ...        ...        ...        ...       ...       ...        ...   \n",
      "0   28.214511  30.114656  28.589994  31.689846  0.809985  0.190015  -7.303571   \n",
      "0   29.884680  31.288492  35.527043  39.123196  0.859615  0.140385  -2.132428   \n",
      "0   12.719432  17.632032  23.928301  24.016006  0.508770  0.491230   5.368191   \n",
      "0   11.194562  16.716872  16.208169  15.686016  0.447785  0.552215  -0.593458   \n",
      "0   14.763756  18.859357  13.984382  14.889347  0.590496  0.409504  -8.046165   \n",
      "\n",
      "          c2  \n",
      "0   2.848431  \n",
      "0   0.455621  \n",
      "0  -1.736276  \n",
      "0   2.016115  \n",
      "0   3.730041  \n",
      "..       ...  \n",
      "0   0.215711  \n",
      "0   4.862212  \n",
      "0   1.610961  \n",
      "0  -8.160201  \n",
      "0  -8.130804  \n",
      "\n",
      "[1000 rows x 8 columns]\n"
     ]
    }
   ],
   "source": [
    "def gen_data(params,nobs=100,var=5):\n",
    "    wtp,cost,beta1,beta2,emc1,emc2=params\n",
    "    emc = emc1,emc2\n",
    "    passive_result = pd.DataFrame(columns=['phi1','phi2','p1','p2','s1','s2','c1','c2']) \n",
    "    active_result = pd.DataFrame(columns=['phi1','phi2','p1','p2','s1','s2','c1','c2'])\n",
    "    seq_result = pd.DataFrame(columns=['phi1','phi2','p1','p2','s1','s2','c1','c2'])\n",
    "\n",
    "    for i in range(0,nobs):\n",
    "        #sequential\n",
    "        mc1 = np.random.normal(loc=0, scale=var, size=(2,)) + np.array([emc1,emc2])\n",
    "        mc2 = np.random.normal(loc=0, scale=1, size=(2,))\n",
    "        mc = mc1+mc2\n",
    "\n",
    "        #seq results\n",
    "        phi1,phi2 = seq_bargain(25,cost,wtp,mc)\n",
    "        phi1,phi2,p1,p2,s1,s2 = solve_eq(phi1,phi2,cost,wtp,mc)\n",
    "        row = pd.DataFrame(columns=['phi1','phi2','p1','p2','s1','s2','c1','c2'],data=[[phi1,phi2,p1,p2,s1,s2,mc1[0],mc1[1]]])\n",
    "        seq_result = pd.concat( [seq_result, row] )\n",
    "\n",
    "\n",
    "        #active results\n",
    "        phi1,phi2 =simult_bargain(25,25, cost,wtp,mc, active=True)\n",
    "        phi1,phi2,p1,p2,s1,s2 = solve_eq(phi1,phi2,cost,wtp,mc)\n",
    "        row = pd.DataFrame(columns=['phi1','phi2','p1','p2','s1','s2','c1','c2'],data=[[phi1,phi2,p1,p2,s1,s2,mc1[0],mc1[1]]])\n",
    "        active_result = pd.concat( [active_result, row] )\n",
    "\n",
    "\n",
    "        #passive results\n",
    "        phi1,phi2 =simult_bargain(25,25, cost,wtp,mc, active=False)\n",
    "        phi1,phi2,p1,p2,s1,s2 = solve_eq(phi1,phi2,cost,wtp,mc)\n",
    "        row = pd.DataFrame(columns=['phi1','phi2','p1','p2','s1','s2','c1','c2'],data=[[phi1,phi2,p1,p2,s1,s2,mc1[0],mc1[1]]])\n",
    "        passive_result = pd.concat( [passive_result, row] )\n",
    "    return seq_result, active_result,passive_result\n",
    "\n",
    "\n",
    "seq_result,active_result,passive_result = gen_data([25,5,.5,.5,0,0],nobs=1000,var=5)\n",
    "print(seq_result)\n",
    "seq_result.to_csv('fake_data/seq_data.csv')\n",
    "active_result.to_csv('fake_data/active_data.csv')\n",
    "passive_result.to_csv('fake_data/passive_data.csv')"
   ]
  },
  {
   "cell_type": "code",
   "execution_count": 3,
   "id": "cb8f5a70",
   "metadata": {
    "scrolled": false
   },
   "outputs": [
    {
     "name": "stdout",
     "output_type": "stream",
     "text": [
      "         phi1       phi2         p1         p2        s1        s2         c1  \\\n",
      "0   15.011153  19.007949  25.929300  26.933144  0.600384  0.399616   5.217947   \n",
      "0   13.622042  18.173819  22.652371  23.100953  0.544858  0.455142   3.399318   \n",
      "0   31.200380  32.275283  28.263831  32.188916  0.892509  0.107491 -12.371471   \n",
      "0   16.248802  19.751097  21.280359  22.778498  0.649814  0.350186  -1.721989   \n",
      "0   32.302309  33.101735  32.314188  36.514773  0.920059  0.079941  -7.988026   \n",
      "..        ...        ...        ...        ...       ...       ...        ...   \n",
      "0   28.214511  30.114656  28.589994  31.689846  0.809985  0.190015  -7.303571   \n",
      "0   29.884680  31.288492  35.527043  39.123196  0.859615  0.140385  -2.132428   \n",
      "0   12.719432  17.632032  23.928301  24.016006  0.508770  0.491230   5.368191   \n",
      "0   11.194562  16.716872  16.208169  15.686016  0.447785  0.552215  -0.593458   \n",
      "0   14.763756  18.859357  13.984382  14.889347  0.590496  0.409504  -8.046165   \n",
      "\n",
      "          c2  \n",
      "0   2.848431  \n",
      "0   0.455621  \n",
      "0  -1.736276  \n",
      "0   2.016115  \n",
      "0   3.730041  \n",
      "..       ...  \n",
      "0   0.215711  \n",
      "0   4.862212  \n",
      "0   1.610961  \n",
      "0  -8.160201  \n",
      "0  -8.130804  \n",
      "\n",
      "[1000 rows x 8 columns]\n",
      "6.825327037529594\n",
      "99.21292877249188\n"
     ]
    }
   ],
   "source": [
    "#calculate moment conditions for the linear model...\n",
    "def solve_parameters_obj(data,params, active=False,seq=False):\n",
    "    wtp,cost,beta1,beta2,mc1,mc2 = params\n",
    "    \n",
    "    data_moments = list(data.mean())\n",
    "    phi1,phi2 = None,None\n",
    "    if seq:\n",
    "        phi1,phi2 = seq_bargain(25, cost, wtp, [mc1,mc2],betas=[beta1,beta2])\n",
    "    elif active:\n",
    "        phi1,phi2 = simult_bargain(25,25, cost, wtp, [mc1,mc2],active=True,betas=[beta1,beta2])\n",
    "    else:\n",
    "        phi1,phi2 = simult_bargain(25,25, cost, wtp, [mc1,mc2],active=False,betas=[beta1,beta2])\n",
    "    \n",
    "    phi1,phi2,p1,p2,s1,s2 = solve_eq(phi1,phi2,cost,wtp,[mc1,mc2])\n",
    "\n",
    "    computed_moments = [phi1,phi2,p1,p2,s1,s2]\n",
    "    \n",
    "    obj = 0\n",
    "    for i in range(6):\n",
    "        obj = obj + (data_moments[i] - computed_moments[i])**2\n",
    "    \n",
    "    return obj\n",
    "\n",
    "print(seq_result)\n",
    "\n",
    "print( solve_parameters_obj(seq_result,[25,5,.5,.5,0,0], seq=True) )\n",
    "print( solve_parameters_obj(seq_result,[25,5,.5,.5,0,0], active=True) )"
   ]
  },
  {
   "cell_type": "code",
   "execution_count": 4,
   "id": "6274e11d",
   "metadata": {
    "scrolled": false
   },
   "outputs": [
    {
     "name": "stdout",
     "output_type": "stream",
     "text": [
      "[2.60916064e+01 4.93665620e+00 4.55787041e-01 5.37750773e-01\n",
      " 1.50286136e-04 8.26004416e-05]\n",
      "[ 2.43697653e+01  5.08192457e+00  5.12346410e-01  5.16633090e-01\n",
      " -1.07189374e-04  3.55385465e-05]\n",
      "[2.44701369e+01 5.05316308e+00 4.96905201e-01 5.04297775e-01\n",
      " 5.52770827e-05 2.01104037e-04]\n"
     ]
    }
   ],
   "source": [
    "def solve_parameters(data,active=False,seq=False): \n",
    "    obj = lambda params: solve_parameters_obj(data,params,active=active,seq=seq)\n",
    "    params = minimize(obj, [25,5,.5,.5,0,0], options={'fatol':1e-2,'xatol':1e-2,'maxiter':20},method='Nelder-Mead').x # \n",
    "    return params\n",
    "\n",
    "print(solve_parameters(seq_result,active=False,seq=True))\n",
    "print(solve_parameters(active_result,active=True,seq=False))\n",
    "print(solve_parameters(passive_result,active=False,seq=False))"
   ]
  }
 ],
 "metadata": {
  "kernelspec": {
   "display_name": "Python 3 (ipykernel)",
   "language": "python",
   "name": "python3"
  },
  "language_info": {
   "codemirror_mode": {
    "name": "ipython",
    "version": 3
   },
   "file_extension": ".py",
   "mimetype": "text/x-python",
   "name": "python",
   "nbconvert_exporter": "python",
   "pygments_lexer": "ipython3",
   "version": "3.10.9"
  }
 },
 "nbformat": 4,
 "nbformat_minor": 5
}
