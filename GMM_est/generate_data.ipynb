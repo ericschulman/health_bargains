{
 "cells": [
  {
   "cell_type": "code",
   "execution_count": 1,
   "id": "4d69fc7c",
   "metadata": {},
   "outputs": [],
   "source": [
    "%load_ext autoreload\n",
    "%autoreload 2\n",
    "\n",
    "import numpy as np\n",
    "from scipy.optimize import minimize\n",
    "from scipy.optimize import fsolve\n",
    "from matplotlib import pyplot as plt\n",
    "import pandas as pd\n",
    "\n",
    "import sys\n",
    "sys.path.append(\"../\")\n",
    "from bargains_linear import * "
   ]
  },
  {
   "cell_type": "code",
   "execution_count": null,
   "id": "8dcd6c2d",
   "metadata": {
    "scrolled": false
   },
   "outputs": [],
   "source": [
    "def gen_data(params,nobs=100,var=5):\n",
    "    wtp,cost,beta1,beta2,emc1,emc2=params\n",
    "    emc = emc1,emc2\n",
    "    passive_result = pd.DataFrame(columns=['phi1','phi2','p1','p2','s1','s2','c1','c2']) \n",
    "    active_result = pd.DataFrame(columns=['phi1','phi2','p1','p2','s1','s2','c1','c2'])\n",
    "    seq_result = pd.DataFrame(columns=['phi1','phi2','p1','p2','s1','s2','c1','c2'])\n",
    "\n",
    "    for i in range(0,nobs):\n",
    "        #sequential\n",
    "        mc1 = np.random.normal(loc=0, scale=var, size=(2,)) + np.array([emc1,emc2])\n",
    "        mc2 = np.random.normal(loc=0, scale=1, size=(2,))\n",
    "        mc = mc1+mc2\n",
    "\n",
    "        #seq results\n",
    "        phi1,phi2 = seq_bargain(25,cost,wtp,mc,betas=[beta1,beta2])\n",
    "        phi1,phi2,p1,p2,s1,s2 = solve_eq(phi1,phi2,cost,wtp,mc)\n",
    "        row = pd.DataFrame(columns=['phi1','phi2','p1','p2','s1','s2','c1','c2'],data=[[phi1,phi2,p1,p2,s1,s2,mc1[0],mc1[1]]])\n",
    "        seq_result = pd.concat( [seq_result, row] )\n",
    "\n",
    "\n",
    "        #active results\n",
    "        phi1,phi2 =simult_bargain(25,25, cost,wtp,mc, active=True,betas=[beta1,beta2])\n",
    "        phi1,phi2,p1,p2,s1,s2 = solve_eq(phi1,phi2,cost,wtp,mc)\n",
    "        row = pd.DataFrame(columns=['phi1','phi2','p1','p2','s1','s2','c1','c2'],data=[[phi1,phi2,p1,p2,s1,s2,mc1[0],mc1[1]]])\n",
    "        active_result = pd.concat( [active_result, row] )\n",
    "\n",
    "\n",
    "        #passive results\n",
    "        phi1,phi2 =simult_bargain(25,25, cost,wtp,mc, active=False)\n",
    "        phi1,phi2,p1,p2,s1,s2 = solve_eq(phi1,phi2,cost,wtp,mc)\n",
    "        row = pd.DataFrame(columns=['phi1','phi2','p1','p2','s1','s2','c1','c2'],data=[[phi1,phi2,p1,p2,s1,s2,mc1[0],mc1[1]]])\n",
    "        passive_result = pd.concat( [passive_result, row] )\n",
    "    return seq_result, active_result,passive_result\n",
    "\n",
    "\n",
    "param_list = [[25,5,.5,.5,0,0],[20,5,.5,.5,0,0],[25,10,.5,.5,0,0],[25,5,.5,.1,0,0],[25,5,.1,.5,0,0],[25,5,.5,.5,3,3]]\n",
    "\n",
    "for i in range(len(param_list)):\n",
    "    seq_result,active_result,passive_result = gen_data(param_list[i],nobs=10000,var=5)\n",
    "    seq_result.to_csv('fake_data/seq_data_%s.csv'%i)\n",
    "    active_result.to_csv('fake_data/active_data_%s.csv'%i)\n",
    "    passive_result.to_csv('fake_data/passive_data_%s.csv'%i)"
   ]
  },
  {
   "cell_type": "code",
   "execution_count": null,
   "id": "cb8f5a70",
   "metadata": {
    "scrolled": false
   },
   "outputs": [],
   "source": [
    "#calculate moment conditions for the linear model...\n",
    "def solve_parameters_obj(data,params, active=False,seq=False):\n",
    "    wtp,cost,beta1,beta2,mc1,mc2 = params\n",
    "    \n",
    "    data_moments = list(data.mean())\n",
    "    phi1,phi2 = None,None\n",
    "    if seq:\n",
    "        phi1,phi2 = seq_bargain(25, cost, wtp, [mc1,mc2],betas=[beta1,beta2])\n",
    "    elif active:\n",
    "        phi1,phi2 = simult_bargain(25,25, cost, wtp, [mc1,mc2],active=True,betas=[beta1,beta2])\n",
    "    else:\n",
    "        phi1,phi2 = simult_bargain(25,25, cost, wtp, [mc1,mc2],active=False,betas=[beta1,beta2])\n",
    "    \n",
    "    phi1,phi2,p1,p2,s1,s2 = solve_eq(phi1,phi2,cost,wtp,[mc1,mc2])\n",
    "\n",
    "    computed_moments = [phi1,phi2,p1,p2,s1,s2]\n",
    "    \n",
    "    obj = 0\n",
    "    for i in range(6):\n",
    "        obj = obj + (data_moments[i] - computed_moments[i])**2\n",
    "    \n",
    "    return obj\n",
    "\n",
    "print(seq_result)\n",
    "\n",
    "print( solve_parameters_obj(seq_result,[25,5,.5,.5,0,0], seq=True) )\n",
    "print( solve_parameters_obj(seq_result,[25,5,.5,.5,0,0], active=True) )"
   ]
  },
  {
   "cell_type": "code",
   "execution_count": null,
   "id": "6274e11d",
   "metadata": {
    "scrolled": false
   },
   "outputs": [],
   "source": [
    "def solve_parameters(data,active=False,seq=False): \n",
    "    obj = lambda params: solve_parameters_obj(data,params,active=active,seq=seq)\n",
    "    params = minimize(obj, [25,5,.5,.5,0,0], options={'fatol':1e-2,'xatol':1e-2,'maxiter':20},method='Nelder-Mead').x # \n",
    "    return params\n",
    "\n",
    "print(solve_parameters(seq_result,active=False,seq=True))\n",
    "print(solve_parameters(active_result,active=True,seq=False))\n",
    "print(solve_parameters(passive_result,active=False,seq=False))"
   ]
  }
 ],
 "metadata": {
  "kernelspec": {
   "display_name": "Python 3 (ipykernel)",
   "language": "python",
   "name": "python3"
  },
  "language_info": {
   "codemirror_mode": {
    "name": "ipython",
    "version": 3
   },
   "file_extension": ".py",
   "mimetype": "text/x-python",
   "name": "python",
   "nbconvert_exporter": "python",
   "pygments_lexer": "ipython3",
   "version": "3.10.9"
  }
 },
 "nbformat": 4,
 "nbformat_minor": 5
}
