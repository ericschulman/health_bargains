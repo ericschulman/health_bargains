{
 "cells": [
  {
   "cell_type": "code",
   "execution_count": 1,
   "id": "44157aeb",
   "metadata": {},
   "outputs": [],
   "source": [
    "%load_ext autoreload\n",
    "%autoreload 2\n",
    "\n",
    "import numpy as np\n",
    "from scipy.optimize import minimize\n",
    "from scipy.optimize import fsolve\n",
    "from matplotlib import pyplot as plt\n",
    "import pandas as pd\n",
    "import statsmodels.api as sm\n",
    "\n",
    "import sys\n",
    "sys.path.append(\"../\")\n",
    "from bargains_linear import * "
   ]
  },
  {
   "cell_type": "code",
   "execution_count": 2,
   "id": "ba7e7286",
   "metadata": {},
   "outputs": [
    {
     "data": {
      "image/png": "[encoded data removed]",
      "text/plain": [
       "<Figure size 640x480 with 1 Axes>"
      ]
     },
     "metadata": {},
     "output_type": "display_data"
    },
    {
     "data": {
      "image/png": "[encoded data removed]",
      "text/plain": [
       "<Figure size 640x480 with 1 Axes>"
      ]
     },
     "metadata": {},
     "output_type": "display_data"
    }
   ],
   "source": [
    "seq_result = pd.read_csv('fake_data/seq_data_1.csv',index_col=0)\n",
    "active_result = pd.read_csv('fake_data/active_data_1.csv',index_col=0)\n",
    "passive_result = pd.read_csv('fake_data/passive_data_1.csv',index_col=0)\n",
    "\n",
    "plt.hist(active_result['p1'],bins=20,density=True,alpha=.7,label='p1 active')\n",
    "plt.hist(active_result['p2'],bins=20,density=True,alpha=.7,label='p1 active')\n",
    "plt.legend()\n",
    "plt.savefig('figures/hist_active.png',dpi=300)\n",
    "plt.show()\n",
    "\n",
    "plt.hist(passive_result['p1'],bins=20,density=True,alpha=.7,label='p1 passive')\n",
    "plt.hist(passive_result['p2'],bins=20,density=True,alpha=.7,label='p2 passive')\n",
    "plt.legend()\n",
    "plt.savefig('figures/hist_passive.png',dpi=300)\n",
    "plt.show()"
   ]
  },
  {
   "cell_type": "code",
   "execution_count": 3,
   "id": "be5d6c17",
   "metadata": {},
   "outputs": [],
   "source": [
    "seq_result = pd.read_csv('fake_data/seq_data_4.csv',index_col=0)\n",
    "active_result = pd.read_csv('fake_data/active_data_4.csv',index_col=0)\n",
    "passive_result = pd.read_csv('fake_data/passive_data_4.csv',index_col=0)"
   ]
  },
  {
   "cell_type": "code",
   "execution_count": 4,
   "id": "6eb51750",
   "metadata": {},
   "outputs": [
    {
     "name": "stdout",
     "output_type": "stream",
     "text": [
      "554.3963959516982\n",
      "575.4584620027624\n",
      "94.35077695930019\n",
      "42.72239503646538\n",
      "282.44944626847524\n",
      "31.115998733517664\n"
     ]
    }
   ],
   "source": [
    "#calculate moment conditions for the linear model...\n",
    "def solve_parameters_obj(data,params, active=False,seq=False):\n",
    "    wtp,cost,beta1,beta2 = params\n",
    "    \n",
    "    data_moments = list(data.mean())\n",
    "    phi1,phi2 = None,None\n",
    "    if seq:\n",
    "        phi1,phi2 = seq_bargain(25, cost, wtp, [0,0],betas=[beta1,beta2])\n",
    "    elif active:\n",
    "        phi1,phi2 = simult_bargain(25,25, cost, wtp, [0,0],active=True,betas=[beta1,beta2])\n",
    "    else:\n",
    "        phi1,phi2 = simult_bargain(25,25, cost, wtp, [0,0],active=False,betas=[beta1,beta2])\n",
    "    \n",
    "    phi1,phi2,p1,p2,s1,s2 = solve_eq(phi1,phi2,cost,wtp,[0,0])\n",
    "    computed_moments = [phi1,phi2,p1,p2,s1,s2]\n",
    "    \n",
    "    obj = 0\n",
    "    for i in range(6):\n",
    "        obj = obj + (1 + 5*(i>4) ) *(data_moments[i] - computed_moments[i])**2\n",
    "    \n",
    "    return obj\n",
    "    \n",
    "\n",
    "print( solve_parameters_obj(seq_result,[25,5,.5,.5], seq=True) )\n",
    "print( solve_parameters_obj(seq_result,[25,5,.5,.5], active=True) )\n",
    "\n",
    "\n",
    "print( solve_parameters_obj(active_result,[25,5,.5,.5], active=True) )\n",
    "print( solve_parameters_obj(active_result,[25,5,.5,.5], seq=True) )\n",
    "\n",
    "\n",
    "print( solve_parameters_obj(passive_result,[25,5,.5,.5], active=False) )\n",
    "print( solve_parameters_obj(passive_result,[25,5,.5,.5], active=True) )"
   ]
  },
  {
   "cell_type": "code",
   "execution_count": 5,
   "id": "38b6c761",
   "metadata": {
    "scrolled": false
   },
   "outputs": [
    {
     "name": "stdout",
     "output_type": "stream",
     "text": [
      "[35.66164783  3.86773415  0.11918614  0.90220166]\n",
      "[31.82862129  3.0984715   0.4354816   0.66023741]\n",
      "[31.82862129  3.0984715   0.4354816   0.66023741]\n"
     ]
    }
   ],
   "source": [
    "def solve_parameters(data,active=False,seq=False): \n",
    "    obj = lambda params: solve_parameters_obj(data,params,active=active,seq=seq)\n",
    "    params = minimize(obj, [25,5,.5,.5], options={'fatol':1e-6,'xatol':1e-6,'maxiter':20},method='Nelder-Mead').x # \n",
    "    return params\n",
    "\n",
    "subsample0 = seq_result.sample(frac=0.1)\n",
    "subsample1 = active_result.sample(frac=0.1)\n",
    "subsample2 = active_result.sample(frac=0.1)\n",
    "params_seq0 = (solve_parameters(subsample0,active=False,seq=True))\n",
    "params_seq1 = (solve_parameters(subsample1,active=False,seq=True))\n",
    "params_seq2 = (solve_parameters(subsample2,active=False,seq=True))\n",
    "print(params_seq0)\n",
    "print(params_seq1)\n",
    "print(params_seq2)"
   ]
  },
  {
   "cell_type": "code",
   "execution_count": 6,
   "id": "aa26ea1a",
   "metadata": {},
   "outputs": [],
   "source": [
    "#calculate moment conditions for the linear model...\n",
    "def test_statistic(data, params, active=False,seq=False):\n",
    "    wtp,cost,beta1,beta2 = params\n",
    "    \n",
    "    data_moments = list(data.mean())\n",
    "    phi1,phi2 = None,None\n",
    "    if seq:\n",
    "        phi1,phi2 = seq_bargain(25, cost, wtp, [0,0],betas=[beta1,beta2])\n",
    "    elif active:\n",
    "        phi1,phi2 = simult_bargain(25,25, cost, wtp, [0,0],active=True,betas=[beta1,beta2])\n",
    "    else:\n",
    "        phi1,phi2 = simult_bargain(25,25, cost, wtp, [0,0],active=False,betas=[beta1,beta2])\n",
    "    \n",
    "    phi1,phi2,p1,p2,s1,s2 = solve_eq(phi1,phi2,cost,wtp,[0,0])\n",
    "    computed_moments = [phi1,phi2,p1,p2,s1,s2]\n",
    "    \n",
    "    test_stat = data.copy()[['phi1','phi2','p1','p2','s1']]\n",
    "    for i in range(5):\n",
    "        test_stat[test_stat.columns[i]] =  test_stat[test_stat.columns[i]] - computed_moments[i]\n",
    "    \n",
    "    mean = test_stat.mean()\n",
    "   \n",
    "    cov = test_stat.cov()\n",
    "\n",
    "    return np.abs(mean.dot(np.linalg.inv(cov)).dot(mean)) #need this for the case when beta1=beta2\n",
    "\n",
    "\n",
    "t0 = test_statistic(subsample0, params_seq0,active=False,seq=True) \n",
    "t1 = test_statistic(subsample1, params_seq1,active=False,seq=True)\n",
    "t2 = test_statistic(subsample2, params_seq2,active=False,seq=True)"
   ]
  },
  {
   "cell_type": "code",
   "execution_count": 7,
   "id": "0affa9ca",
   "metadata": {},
   "outputs": [],
   "source": [
    "for j in range(5):\n",
    "    seq_result = pd.read_csv('fake_data/seq_data_%s.csv'%j,index_col=0)\n",
    "    active_result = pd.read_csv('fake_data/active_data_%s.csv'%j,index_col=0)\n",
    "    passive_result = pd.read_csv('fake_data/passive_data_%s.csv'%j,index_col=0)\n",
    "    \n",
    "    \n",
    "    seq_params_df = pd.DataFrame(columns=['obj','wtp','cost','beta1','beta2']) \n",
    "    active_params_df = pd.DataFrame(columns=['obj','wtp','cost','beta1','beta2']) \n",
    "    passive_params_df = pd.DataFrame(columns=['obj','wtp','cost','beta1','beta2']) \n",
    "    \n",
    "    for i in range(100):\n",
    "        #resample from seq\n",
    "        subsample = seq_result.sample(frac=0.1)\n",
    "        params =  solve_parameters(subsample,active=False,seq=True)\n",
    "        obj = test_statistic(subsample,params, active=False,seq=True)\n",
    "        row = pd.DataFrame(columns=['obj','wtp','cost','beta1','beta2'],\n",
    "                           data=[[obj]+list(params)])\n",
    "        seq_params_df = pd.concat( [seq_params_df, row] )\n",
    "\n",
    "\n",
    "        #solve active\n",
    "        subsample = active_result.sample(frac=0.1)\n",
    "        params =  solve_parameters(subsample,active=False,seq=True)\n",
    "        obj = test_statistic(subsample,params,active=False,seq=True)\n",
    "        row = pd.DataFrame(columns=['obj','wtp','cost','beta1','beta2'],\n",
    "                           data=[[obj]+list(params)])\n",
    "        active_params_df = pd.concat( [active_params_df, row] )\n",
    "\n",
    "        #solve passive\n",
    "        subsample = passive_result.sample(frac=0.1)\n",
    "        params =  solve_parameters(subsample,active=False,seq=True)\n",
    "        obj = test_statistic(subsample,params,active=False,seq=True)\n",
    "        row = pd.DataFrame(columns=['obj','wtp','cost','beta1','beta2'],\n",
    "                           data=[[obj]+list(params)])\n",
    "        passive_params_df = pd.concat( [passive_params_df, row] )\n",
    "\n",
    "\n",
    "    seq_params_df.to_csv('fake_params/seq_params_mc_%s.csv'%j)\n",
    "    active_params_df.to_csv('fake_params/active_param_mc_%s.csv'%j)\n",
    "    passive_params_df.to_csv('fake_params/passive_params_mc_%s.csv'%j)"
   ]
  },
  {
   "cell_type": "code",
   "execution_count": 8,
   "id": "f3ec249a",
   "metadata": {},
   "outputs": [
    {
     "ename": "FileNotFoundError",
     "evalue": "[Errno 2] No such file or directory: 'fake_data/seq_data_5.csv'",
     "output_type": "error",
     "traceback": [
      "\u001b[1;31m---------------------------------------------------------------------------\u001b[0m",
      "\u001b[1;31mFileNotFoundError\u001b[0m                         Traceback (most recent call last)",
      "\u001b[1;32m~\\AppData\\Local\\Temp\\ipykernel_2324\\1109963389.py\u001b[0m in \u001b[0;36m<module>\u001b[1;34m\u001b[0m\n\u001b[0;32m     13\u001b[0m \u001b[1;33m\u001b[0m\u001b[0m\n\u001b[0;32m     14\u001b[0m \u001b[1;32mfor\u001b[0m \u001b[0mj\u001b[0m \u001b[1;32min\u001b[0m \u001b[0mrange\u001b[0m\u001b[1;33m(\u001b[0m\u001b[1;36m6\u001b[0m\u001b[1;33m)\u001b[0m\u001b[1;33m:\u001b[0m\u001b[1;33m\u001b[0m\u001b[1;33m\u001b[0m\u001b[0m\n\u001b[1;32m---> 15\u001b[1;33m     \u001b[0mseq_result\u001b[0m \u001b[1;33m=\u001b[0m \u001b[0mpd\u001b[0m\u001b[1;33m.\u001b[0m\u001b[0mread_csv\u001b[0m\u001b[1;33m(\u001b[0m\u001b[1;34m'fake_data/seq_data_%s.csv'\u001b[0m\u001b[1;33m%\u001b[0m\u001b[0mj\u001b[0m\u001b[1;33m,\u001b[0m\u001b[0mindex_col\u001b[0m\u001b[1;33m=\u001b[0m\u001b[1;36m0\u001b[0m\u001b[1;33m)\u001b[0m\u001b[1;33m\u001b[0m\u001b[1;33m\u001b[0m\u001b[0m\n\u001b[0m\u001b[0;32m     16\u001b[0m     \u001b[0mactive_result\u001b[0m \u001b[1;33m=\u001b[0m \u001b[0mpd\u001b[0m\u001b[1;33m.\u001b[0m\u001b[0mread_csv\u001b[0m\u001b[1;33m(\u001b[0m\u001b[1;34m'fake_data/active_data_%s.csv'\u001b[0m\u001b[1;33m%\u001b[0m\u001b[0mj\u001b[0m\u001b[1;33m,\u001b[0m\u001b[0mindex_col\u001b[0m\u001b[1;33m=\u001b[0m\u001b[1;36m0\u001b[0m\u001b[1;33m)\u001b[0m\u001b[1;33m\u001b[0m\u001b[1;33m\u001b[0m\u001b[0m\n\u001b[0;32m     17\u001b[0m     \u001b[0mpassive_result\u001b[0m \u001b[1;33m=\u001b[0m \u001b[0mpd\u001b[0m\u001b[1;33m.\u001b[0m\u001b[0mread_csv\u001b[0m\u001b[1;33m(\u001b[0m\u001b[1;34m'fake_data/passive_data_%s.csv'\u001b[0m\u001b[1;33m%\u001b[0m\u001b[0mj\u001b[0m\u001b[1;33m,\u001b[0m\u001b[0mindex_col\u001b[0m\u001b[1;33m=\u001b[0m\u001b[1;36m0\u001b[0m\u001b[1;33m)\u001b[0m\u001b[1;33m\u001b[0m\u001b[1;33m\u001b[0m\u001b[0m\n",
      "\u001b[1;32mc:\\tools\\anaconda3\\lib\\site-packages\\pandas\\util\\_decorators.py\u001b[0m in \u001b[0;36mwrapper\u001b[1;34m(*args, **kwargs)\u001b[0m\n\u001b[0;32m    309\u001b[0m                     \u001b[0mstacklevel\u001b[0m\u001b[1;33m=\u001b[0m\u001b[0mstacklevel\u001b[0m\u001b[1;33m,\u001b[0m\u001b[1;33m\u001b[0m\u001b[1;33m\u001b[0m\u001b[0m\n\u001b[0;32m    310\u001b[0m                 )\n\u001b[1;32m--> 311\u001b[1;33m             \u001b[1;32mreturn\u001b[0m \u001b[0mfunc\u001b[0m\u001b[1;33m(\u001b[0m\u001b[1;33m*\u001b[0m\u001b[0margs\u001b[0m\u001b[1;33m,\u001b[0m \u001b[1;33m**\u001b[0m\u001b[0mkwargs\u001b[0m\u001b[1;33m)\u001b[0m\u001b[1;33m\u001b[0m\u001b[1;33m\u001b[0m\u001b[0m\n\u001b[0m\u001b[0;32m    312\u001b[0m \u001b[1;33m\u001b[0m\u001b[0m\n\u001b[0;32m    313\u001b[0m         \u001b[1;32mreturn\u001b[0m \u001b[0mwrapper\u001b[0m\u001b[1;33m\u001b[0m\u001b[1;33m\u001b[0m\u001b[0m\n",
      "\u001b[1;32mc:\\tools\\anaconda3\\lib\\site-packages\\pandas\\io\\parsers\\readers.py\u001b[0m in \u001b[0;36mread_csv\u001b[1;34m(filepath_or_buffer, sep, delimiter, header, names, index_col, usecols, squeeze, prefix, mangle_dupe_cols, dtype, engine, converters, true_values, false_values, skipinitialspace, skiprows, skipfooter, nrows, na_values, keep_default_na, na_filter, verbose, skip_blank_lines, parse_dates, infer_datetime_format, keep_date_col, date_parser, dayfirst, cache_dates, iterator, chunksize, compression, thousands, decimal, lineterminator, quotechar, quoting, doublequote, escapechar, comment, encoding, encoding_errors, dialect, error_bad_lines, warn_bad_lines, on_bad_lines, delim_whitespace, low_memory, memory_map, float_precision, storage_options)\u001b[0m\n\u001b[0;32m    676\u001b[0m     \u001b[0mkwds\u001b[0m\u001b[1;33m.\u001b[0m\u001b[0mupdate\u001b[0m\u001b[1;33m(\u001b[0m\u001b[0mkwds_defaults\u001b[0m\u001b[1;33m)\u001b[0m\u001b[1;33m\u001b[0m\u001b[1;33m\u001b[0m\u001b[0m\n\u001b[0;32m    677\u001b[0m \u001b[1;33m\u001b[0m\u001b[0m\n\u001b[1;32m--> 678\u001b[1;33m     \u001b[1;32mreturn\u001b[0m \u001b[0m_read\u001b[0m\u001b[1;33m(\u001b[0m\u001b[0mfilepath_or_buffer\u001b[0m\u001b[1;33m,\u001b[0m \u001b[0mkwds\u001b[0m\u001b[1;33m)\u001b[0m\u001b[1;33m\u001b[0m\u001b[1;33m\u001b[0m\u001b[0m\n\u001b[0m\u001b[0;32m    679\u001b[0m \u001b[1;33m\u001b[0m\u001b[0m\n\u001b[0;32m    680\u001b[0m \u001b[1;33m\u001b[0m\u001b[0m\n",
      "\u001b[1;32mc:\\tools\\anaconda3\\lib\\site-packages\\pandas\\io\\parsers\\readers.py\u001b[0m in \u001b[0;36m_read\u001b[1;34m(filepath_or_buffer, kwds)\u001b[0m\n\u001b[0;32m    573\u001b[0m \u001b[1;33m\u001b[0m\u001b[0m\n\u001b[0;32m    574\u001b[0m     \u001b[1;31m# Create the parser.\u001b[0m\u001b[1;33m\u001b[0m\u001b[1;33m\u001b[0m\u001b[0m\n\u001b[1;32m--> 575\u001b[1;33m     \u001b[0mparser\u001b[0m \u001b[1;33m=\u001b[0m \u001b[0mTextFileReader\u001b[0m\u001b[1;33m(\u001b[0m\u001b[0mfilepath_or_buffer\u001b[0m\u001b[1;33m,\u001b[0m \u001b[1;33m**\u001b[0m\u001b[0mkwds\u001b[0m\u001b[1;33m)\u001b[0m\u001b[1;33m\u001b[0m\u001b[1;33m\u001b[0m\u001b[0m\n\u001b[0m\u001b[0;32m    576\u001b[0m \u001b[1;33m\u001b[0m\u001b[0m\n\u001b[0;32m    577\u001b[0m     \u001b[1;32mif\u001b[0m \u001b[0mchunksize\u001b[0m \u001b[1;32mor\u001b[0m \u001b[0miterator\u001b[0m\u001b[1;33m:\u001b[0m\u001b[1;33m\u001b[0m\u001b[1;33m\u001b[0m\u001b[0m\n",
      "\u001b[1;32mc:\\tools\\anaconda3\\lib\\site-packages\\pandas\\io\\parsers\\readers.py\u001b[0m in \u001b[0;36m__init__\u001b[1;34m(self, f, engine, **kwds)\u001b[0m\n\u001b[0;32m    930\u001b[0m \u001b[1;33m\u001b[0m\u001b[0m\n\u001b[0;32m    931\u001b[0m         \u001b[0mself\u001b[0m\u001b[1;33m.\u001b[0m\u001b[0mhandles\u001b[0m\u001b[1;33m:\u001b[0m \u001b[0mIOHandles\u001b[0m \u001b[1;33m|\u001b[0m \u001b[1;32mNone\u001b[0m \u001b[1;33m=\u001b[0m \u001b[1;32mNone\u001b[0m\u001b[1;33m\u001b[0m\u001b[1;33m\u001b[0m\u001b[0m\n\u001b[1;32m--> 932\u001b[1;33m         \u001b[0mself\u001b[0m\u001b[1;33m.\u001b[0m\u001b[0m_engine\u001b[0m \u001b[1;33m=\u001b[0m \u001b[0mself\u001b[0m\u001b[1;33m.\u001b[0m\u001b[0m_make_engine\u001b[0m\u001b[1;33m(\u001b[0m\u001b[0mf\u001b[0m\u001b[1;33m,\u001b[0m \u001b[0mself\u001b[0m\u001b[1;33m.\u001b[0m\u001b[0mengine\u001b[0m\u001b[1;33m)\u001b[0m\u001b[1;33m\u001b[0m\u001b[1;33m\u001b[0m\u001b[0m\n\u001b[0m\u001b[0;32m    933\u001b[0m \u001b[1;33m\u001b[0m\u001b[0m\n\u001b[0;32m    934\u001b[0m     \u001b[1;32mdef\u001b[0m \u001b[0mclose\u001b[0m\u001b[1;33m(\u001b[0m\u001b[0mself\u001b[0m\u001b[1;33m)\u001b[0m\u001b[1;33m:\u001b[0m\u001b[1;33m\u001b[0m\u001b[1;33m\u001b[0m\u001b[0m\n",
      "\u001b[1;32mc:\\tools\\anaconda3\\lib\\site-packages\\pandas\\io\\parsers\\readers.py\u001b[0m in \u001b[0;36m_make_engine\u001b[1;34m(self, f, engine)\u001b[0m\n\u001b[0;32m   1214\u001b[0m             \u001b[1;31m# \"Union[str, PathLike[str], ReadCsvBuffer[bytes], ReadCsvBuffer[str]]\"\u001b[0m\u001b[1;33m\u001b[0m\u001b[1;33m\u001b[0m\u001b[0m\n\u001b[0;32m   1215\u001b[0m             \u001b[1;31m# , \"str\", \"bool\", \"Any\", \"Any\", \"Any\", \"Any\", \"Any\"\u001b[0m\u001b[1;33m\u001b[0m\u001b[1;33m\u001b[0m\u001b[0m\n\u001b[1;32m-> 1216\u001b[1;33m             self.handles = get_handle(  # type: ignore[call-overload]\n\u001b[0m\u001b[0;32m   1217\u001b[0m                 \u001b[0mf\u001b[0m\u001b[1;33m,\u001b[0m\u001b[1;33m\u001b[0m\u001b[1;33m\u001b[0m\u001b[0m\n\u001b[0;32m   1218\u001b[0m                 \u001b[0mmode\u001b[0m\u001b[1;33m,\u001b[0m\u001b[1;33m\u001b[0m\u001b[1;33m\u001b[0m\u001b[0m\n",
      "\u001b[1;32mc:\\tools\\anaconda3\\lib\\site-packages\\pandas\\io\\common.py\u001b[0m in \u001b[0;36mget_handle\u001b[1;34m(path_or_buf, mode, encoding, compression, memory_map, is_text, errors, storage_options)\u001b[0m\n\u001b[0;32m    784\u001b[0m         \u001b[1;32mif\u001b[0m \u001b[0mioargs\u001b[0m\u001b[1;33m.\u001b[0m\u001b[0mencoding\u001b[0m \u001b[1;32mand\u001b[0m \u001b[1;34m\"b\"\u001b[0m \u001b[1;32mnot\u001b[0m \u001b[1;32min\u001b[0m \u001b[0mioargs\u001b[0m\u001b[1;33m.\u001b[0m\u001b[0mmode\u001b[0m\u001b[1;33m:\u001b[0m\u001b[1;33m\u001b[0m\u001b[1;33m\u001b[0m\u001b[0m\n\u001b[0;32m    785\u001b[0m             \u001b[1;31m# Encoding\u001b[0m\u001b[1;33m\u001b[0m\u001b[1;33m\u001b[0m\u001b[0m\n\u001b[1;32m--> 786\u001b[1;33m             handle = open(\n\u001b[0m\u001b[0;32m    787\u001b[0m                 \u001b[0mhandle\u001b[0m\u001b[1;33m,\u001b[0m\u001b[1;33m\u001b[0m\u001b[1;33m\u001b[0m\u001b[0m\n\u001b[0;32m    788\u001b[0m                 \u001b[0mioargs\u001b[0m\u001b[1;33m.\u001b[0m\u001b[0mmode\u001b[0m\u001b[1;33m,\u001b[0m\u001b[1;33m\u001b[0m\u001b[1;33m\u001b[0m\u001b[0m\n",
      "\u001b[1;31mFileNotFoundError\u001b[0m: [Errno 2] No such file or directory: 'fake_data/seq_data_5.csv'"
     ]
    }
   ],
   "source": [
    "def print_test(data):\n",
    "    model1 = sm.OLS(data['phi2'],sm.add_constant(data[['phi1','c1']]))\n",
    "    param, se = model1.fit().params.rename('param'),model1.fit().bse.rename('se')\n",
    "    return pd.merge(param,se,left_index=True,right_index=True)\n",
    "\n",
    "def run_test(data):\n",
    "    regression_result = print_test(data)\n",
    "    test_statistic = regression_result.loc['c1','param']/regression_result.loc['c1','se']\n",
    "    test_result = (test_statistic > 1.96)\n",
    "    return test_result\n",
    "\n",
    "results = pd.DataFrame(columns=['dgp','test1','test2'])\n",
    "\n",
    "for j in range(6):\n",
    "    seq_result = pd.read_csv('fake_data/seq_data_%s.csv'%j,index_col=0)\n",
    "    active_result = pd.read_csv('fake_data/active_data_%s.csv'%j,index_col=0)\n",
    "    passive_result = pd.read_csv('fake_data/passive_data_%s.csv'%j,index_col=0)\n",
    "    \n",
    "    seq_params_df = pd.read_csv('fake_params/seq_params_mc_%s.csv'%j,index_col=0)\n",
    "    active_params_df = pd.read_csv('fake_params/active_param_mc_%s.csv'%j,index_col=0)\n",
    "    passive_params_df = pd.read_csv('fake_params/passive_params_mc_%s.csv'%j,index_col=0)\n",
    "\n",
    "\n",
    "    test1p = 0\n",
    "    test2p = 0\n",
    "    test3p = 0\n",
    "    nobs = 1000\n",
    "    for i in range(nobs):\n",
    "    \n",
    "        subsample1 = seq_result.sample(frac=0.1)\n",
    "        test1p = test1p + run_test(subsample1)\n",
    "        \n",
    "        subsample2 = active_result.sample(frac=0.1)\n",
    "        test2p = test2p + run_test(subsample2)\n",
    "        \n",
    "        subsample3 = passive_result.sample(frac=0.1)\n",
    "        test3p = test3p + run_test(subsample3)\n",
    "        \n",
    "    test1j=(seq_params_df['obj']>5).mean()\n",
    "    test2j=(active_params_df['obj']>5).mean()\n",
    "    test3j=(passive_params_df['obj']>5).mean()\n",
    "    \n",
    "    row = pd.DataFrame(columns=['dgp','test1','test2'],\n",
    "        data=[['sequential',test1p/nobs,test1j],\n",
    "             ['active',test2p/nobs,test2j],\n",
    "             ['passive',test3p/nobs,test3j]])\n",
    "    \n",
    "    results = pd.concat( [results, row] )\n",
    "    \n",
    "print(results)\n",
    "results.to_csv('mc_results_1207.csv')"
   ]
  },
  {
   "cell_type": "code",
   "execution_count": null,
   "id": "23792e26",
   "metadata": {
    "scrolled": false
   },
   "outputs": [],
   "source": [
    "plt.hist(seq_params_df['obj'])\n",
    "plt.show()\n",
    "plt.hist(active_params_df['obj'])\n",
    "plt.show()\n",
    "plt.hist(passive_params_df['obj'])\n",
    "plt.show()\n",
    "plt.hist(seq_params_df['obj']-active_params_df['obj'])\n",
    "plt.show()\n",
    "plt.hist(seq_params_df['obj']-passive_params_df['obj'])\n",
    "plt.show()"
   ]
  }
 ],
 "metadata": {
  "kernelspec": {
   "display_name": "Python 3 (ipykernel)",
   "language": "python",
   "name": "python3"
  },
  "language_info": {
   "codemirror_mode": {
    "name": "ipython",
    "version": 3
   },
   "file_extension": ".py",
   "mimetype": "text/x-python",
   "name": "python",
   "nbconvert_exporter": "python",
   "pygments_lexer": "ipython3",
   "version": "3.9.15"
  }
 },
 "nbformat": 4,
 "nbformat_minor": 5
}
