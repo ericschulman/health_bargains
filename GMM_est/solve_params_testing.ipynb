{
 "cells": [
  {
   "cell_type": "code",
   "execution_count": 11,
   "id": "44157aeb",
   "metadata": {},
   "outputs": [
    {
     "name": "stdout",
     "output_type": "stream",
     "text": [
      "The autoreload extension is already loaded. To reload it, use:\n",
      "  %reload_ext autoreload\n"
     ]
    }
   ],
   "source": [
    "%load_ext autoreload\n",
    "%autoreload 2\n",
    "\n",
    "import numpy as np\n",
    "from scipy.optimize import minimize\n",
    "from scipy.optimize import fsolve\n",
    "from matplotlib import pyplot as plt\n",
    "import pandas as pd\n",
    "import statsmodels.api as sm\n",
    "\n",
    "import sys\n",
    "sys.path.append(\"../\")\n",
    "from bargains_linear import * "
   ]
  },
  {
   "cell_type": "code",
   "execution_count": 2,
   "id": "ba7e7286",
   "metadata": {},
   "outputs": [
    {
     "data": {
      "image/png": "[encoded data removed]",
      "text/plain": [
       "<Figure size 640x480 with 1 Axes>"
      ]
     },
     "metadata": {},
     "output_type": "display_data"
    },
    {
     "data": {
      "image/png": "[encoded data removed]",
      "text/plain": [
       "<Figure size 640x480 with 1 Axes>"
      ]
     },
     "metadata": {},
     "output_type": "display_data"
    }
   ],
   "source": [
    "seq_result = pd.read_csv('fake_data/seq_data_1.csv',index_col=0)\n",
    "active_result = pd.read_csv('fake_data/active_data_1.csv',index_col=0)\n",
    "passive_result = pd.read_csv('fake_data/passive_data_1.csv',index_col=0)\n",
    "\n",
    "plt.hist(active_result['p1'],bins=20,density=True,alpha=.7,label='p1 active')\n",
    "plt.hist(active_result['p2'],bins=20,density=True,alpha=.7,label='p1 active')\n",
    "plt.legend()\n",
    "plt.savefig('figures/hist_active.png',dpi=300)\n",
    "plt.show()\n",
    "\n",
    "plt.hist(passive_result['p1'],bins=20,density=True,alpha=.7,label='p1 passive')\n",
    "plt.hist(passive_result['p2'],bins=20,density=True,alpha=.7,label='p2 passive')\n",
    "plt.legend()\n",
    "plt.savefig('figures/hist_passive.png',dpi=300)\n",
    "plt.show()"
   ]
  },
  {
   "cell_type": "code",
   "execution_count": 3,
   "id": "be5d6c17",
   "metadata": {},
   "outputs": [],
   "source": [
    "seq_result = pd.read_csv('fake_data/seq_data_4.csv',index_col=0)\n",
    "active_result = pd.read_csv('fake_data/active_data_4.csv',index_col=0)\n",
    "passive_result = pd.read_csv('fake_data/passive_data_4.csv',index_col=0)"
   ]
  },
  {
   "cell_type": "code",
   "execution_count": 4,
   "id": "6eb51750",
   "metadata": {},
   "outputs": [
    {
     "name": "stdout",
     "output_type": "stream",
     "text": [
      "5.667458692365449\n",
      "96.39717329837882\n",
      "0.9439204599185822\n",
      "80.1768263641381\n",
      "0.006786853791273893\n",
      "155.3255130276101\n"
     ]
    }
   ],
   "source": [
    "#calculate moment conditions for the linear model...\n",
    "def solve_parameters_obj(data,params, active=False,seq=False):\n",
    "    wtp,cost,beta1,beta2 = params\n",
    "    \n",
    "    data_moments = list(data.mean())\n",
    "    phi1,phi2 = None,None\n",
    "    if seq:\n",
    "        phi1,phi2 = seq_bargain(25, cost, wtp, [0,0],betas=[beta1,beta2])\n",
    "    elif active:\n",
    "        phi1,phi2 = simult_bargain(25,25, cost, wtp, [0,0],active=True,betas=[beta1,beta2])\n",
    "    else:\n",
    "        phi1,phi2 = simult_bargain(25,25, cost, wtp, [0,0],active=False,betas=[beta1,beta2])\n",
    "    \n",
    "    phi1,phi2,p1,p2,s1,s2 = solve_eq(phi1,phi2,cost,wtp,[0,0])\n",
    "    computed_moments = [phi1,phi2,p1,p2,s1,s2]\n",
    "    \n",
    "    obj = 0\n",
    "    for i in range(6):\n",
    "        obj = obj + (1 + 5*(i>4) ) *(data_moments[i] - computed_moments[i])**2\n",
    "    \n",
    "    return obj\n",
    "    \n",
    "\n",
    "print( solve_parameters_obj(seq_result,[25,5,.5,.5], seq=True) )\n",
    "print( solve_parameters_obj(seq_result,[25,5,.5,.5], active=True) )\n",
    "\n",
    "\n",
    "print( solve_parameters_obj(active_result,[25,5,.5,.5], active=True) )\n",
    "print( solve_parameters_obj(active_result,[25,5,.5,.5], seq=True) )\n",
    "\n",
    "\n",
    "print( solve_parameters_obj(passive_result,[25,5,.5,.5], active=False) )\n",
    "print( solve_parameters_obj(passive_result,[25,5,.5,.5], active=True) )"
   ]
  },
  {
   "cell_type": "code",
   "execution_count": 5,
   "id": "38b6c761",
   "metadata": {
    "scrolled": false
   },
   "outputs": [
    {
     "name": "stdout",
     "output_type": "stream",
     "text": [
      "[24.37534411  4.85091737  0.38942647  0.68142784]\n",
      "[18.18930116  5.12171799  0.44146798  0.78430401]\n",
      "[20.0235213   5.03836665  0.53175038  0.59366085]\n"
     ]
    }
   ],
   "source": [
    "def solve_parameters(data,active=False,seq=False): \n",
    "    obj = lambda params: solve_parameters_obj(data,params,active=active,seq=seq)\n",
    "    params = minimize(obj, [25,5,.5,.5], options={'fatol':1e-6,'xatol':1e-6,'maxiter':20},method='Nelder-Mead').x # \n",
    "    return params\n",
    "\n",
    "subsample0 = seq_result.sample(frac=0.1)\n",
    "subsample1 = active_result.sample(frac=0.1)\n",
    "subsample2 = active_result.sample(frac=0.1)\n",
    "params_seq0 = (solve_parameters(subsample0,active=False,seq=True))\n",
    "params_seq1 = (solve_parameters(subsample1,active=False,seq=True))\n",
    "params_seq2 = (solve_parameters(subsample2,active=False,seq=True))\n",
    "print(params_seq0)\n",
    "print(params_seq1)\n",
    "print(params_seq2)"
   ]
  },
  {
   "cell_type": "code",
   "execution_count": 6,
   "id": "aa26ea1a",
   "metadata": {},
   "outputs": [],
   "source": [
    "#calculate moment conditions for the linear model...\n",
    "def test_statistic(data, params, active=False,seq=False):\n",
    "    wtp,cost,beta1,beta2 = params\n",
    "    \n",
    "    data_moments = list(data.mean())\n",
    "    phi1,phi2 = None,None\n",
    "    if seq:\n",
    "        phi1,phi2 = seq_bargain(25, cost, wtp, [0,0],betas=[beta1,beta2])\n",
    "    elif active:\n",
    "        phi1,phi2 = simult_bargain(25,25, cost, wtp, [0,0],active=True,betas=[beta1,beta2])\n",
    "    else:\n",
    "        phi1,phi2 = simult_bargain(25,25, cost, wtp, [0,0],active=False,betas=[beta1,beta2])\n",
    "    \n",
    "    phi1,phi2,p1,p2,s1,s2 = solve_eq(phi1,phi2,cost,wtp,[0,0])\n",
    "    computed_moments = [phi1,phi2,p1,p2,s1,s2]\n",
    "    \n",
    "    test_stat = data.copy()[['phi1','phi2','p1','p2','s1']]\n",
    "    for i in range(5):\n",
    "        test_stat[test_stat.columns[i]] =  test_stat[test_stat.columns[i]] - computed_moments[i]\n",
    "    \n",
    "    mean = test_stat.mean()\n",
    "   \n",
    "    cov = test_stat.cov()\n",
    "\n",
    "    return np.abs(mean.dot(np.linalg.inv(cov)).dot(mean)) #need this for the case when beta1=beta2\n",
    "\n",
    "\n",
    "t0 = test_statistic(subsample0, params_seq0,active=False,seq=True) \n",
    "t1 = test_statistic(subsample1, params_seq1,active=False,seq=True)\n",
    "t2 = test_statistic(subsample2, params_seq2,active=False,seq=True)"
   ]
  },
  {
   "cell_type": "code",
   "execution_count": 7,
   "id": "0affa9ca",
   "metadata": {},
   "outputs": [],
   "source": [
    "for j in range(6):\n",
    "    seq_result = pd.read_csv('fake_data/seq_data_%s.csv'%j,index_col=0)\n",
    "    active_result = pd.read_csv('fake_data/active_data_%s.csv'%j,index_col=0)\n",
    "    passive_result = pd.read_csv('fake_data/passive_data_%s.csv'%j,index_col=0)\n",
    "    \n",
    "    \n",
    "    seq_params_df = pd.DataFrame(columns=['obj','wtp','cost','beta1','beta2']) \n",
    "    active_params_df = pd.DataFrame(columns=['obj','wtp','cost','beta1','beta2']) \n",
    "    passive_params_df = pd.DataFrame(columns=['obj','wtp','cost','beta1','beta2']) \n",
    "    \n",
    "    for i in range(100):\n",
    "        #resample from seq\n",
    "        subsample = seq_result.sample(frac=0.1)\n",
    "        params =  solve_parameters(subsample,active=False,seq=True)\n",
    "        obj = test_statistic(subsample,params, active=False,seq=True)\n",
    "        row = pd.DataFrame(columns=['obj','wtp','cost','beta1','beta2'],\n",
    "                           data=[[obj]+list(params)])\n",
    "        seq_params_df = pd.concat( [seq_params_df, row] )\n",
    "\n",
    "\n",
    "        #solve active\n",
    "        subsample = active_result.sample(frac=0.1)\n",
    "        params =  solve_parameters(subsample,active=False,seq=True)\n",
    "        obj = test_statistic(subsample,params,active=False,seq=True)\n",
    "        row = pd.DataFrame(columns=['obj','wtp','cost','beta1','beta2'],\n",
    "                           data=[[obj]+list(params)])\n",
    "        active_params_df = pd.concat( [active_params_df, row] )\n",
    "\n",
    "        #solve passive\n",
    "        subsample = passive_result.sample(frac=0.1)\n",
    "        params =  solve_parameters(subsample,active=False,seq=True)\n",
    "        obj = test_statistic(subsample,params,active=False,seq=True)\n",
    "        row = pd.DataFrame(columns=['obj','wtp','cost','beta1','beta2'],\n",
    "                           data=[[obj]+list(params)])\n",
    "        passive_params_df = pd.concat( [passive_params_df, row] )\n",
    "\n",
    "\n",
    "    seq_params_df.to_csv('fake_params/seq_params_mc_%s.csv'%j)\n",
    "    active_params_df.to_csv('fake_params/active_param_mc_%s.csv'%j)\n",
    "    passive_params_df.to_csv('fake_params/passive_params_mc_%s.csv'%j)"
   ]
  },
  {
   "cell_type": "code",
   "execution_count": 12,
   "id": "f3ec249a",
   "metadata": {},
   "outputs": [
    {
     "name": "stdout",
     "output_type": "stream",
     "text": [
      "          dgp  test1  test2\n",
      "0  sequential  0.001   0.22\n",
      "1      active  1.000   1.00\n",
      "2     passive  1.000   1.00\n",
      "0  sequential  0.054   0.08\n",
      "1      active  1.000   1.00\n",
      "2     passive  1.000   1.00\n",
      "0  sequential  1.000   1.00\n",
      "1      active  0.996   1.00\n",
      "2     passive  1.000   1.00\n",
      "0  sequential  0.003   0.18\n",
      "1      active  1.000   1.00\n",
      "2     passive  1.000   1.00\n",
      "0  sequential  0.005   0.02\n",
      "1      active  1.000   1.00\n",
      "2     passive  1.000   1.00\n",
      "0  sequential  0.000   0.96\n",
      "1      active  1.000   1.00\n",
      "2     passive  1.000   1.00\n"
     ]
    }
   ],
   "source": [
    "def print_test(data):\n",
    "    model1 = sm.OLS(data['phi2'],sm.add_constant(data[['phi1','c1']]))\n",
    "    param, se = model1.fit().params.rename('param'),model1.fit().bse.rename('se')\n",
    "    return pd.merge(param,se,left_index=True,right_index=True)\n",
    "\n",
    "def run_test(data):\n",
    "    regression_result = print_test(data)\n",
    "    test_statistic = regression_result.loc['c1','param']/regression_result.loc['c1','se']\n",
    "    test_result = (test_statistic > 1.96)\n",
    "    return test_result\n",
    "\n",
    "results = pd.DataFrame(columns=['dgp','test1','test2'])\n",
    "\n",
    "for j in range(6):\n",
    "    seq_result = pd.read_csv('fake_data/seq_data_%s.csv'%j,index_col=0)\n",
    "    active_result = pd.read_csv('fake_data/active_data_%s.csv'%j,index_col=0)\n",
    "    passive_result = pd.read_csv('fake_data/passive_data_%s.csv'%j,index_col=0)\n",
    "    \n",
    "    seq_params_df = pd.read_csv('fake_params/seq_params_mc_%s.csv'%j,index_col=0)\n",
    "    active_params_df = pd.read_csv('fake_params/active_param_mc_%s.csv'%j,index_col=0)\n",
    "    passive_params_df = pd.read_csv('fake_params/passive_params_mc_%s.csv'%j,index_col=0)\n",
    "\n",
    "\n",
    "    test1p = 0\n",
    "    test2p = 0\n",
    "    test3p = 0\n",
    "    nobs = 1000\n",
    "    for i in range(nobs):\n",
    "    \n",
    "        subsample1 = seq_result.sample(frac=0.1)\n",
    "        test1p = test1p + run_test(subsample1)\n",
    "        \n",
    "        subsample2 = active_result.sample(frac=0.1)\n",
    "        test2p = test2p + run_test(subsample2)\n",
    "        \n",
    "        subsample3 = passive_result.sample(frac=0.1)\n",
    "        test3p = test3p + run_test(subsample3)\n",
    "        \n",
    "    test1j=(seq_params_df['obj']>5).mean()\n",
    "    test2j=(active_params_df['obj']>5).mean()\n",
    "    test3j=(passive_params_df['obj']>5).mean()\n",
    "    \n",
    "    row = pd.DataFrame(columns=['dgp','test1','test2'],\n",
    "        data=[['sequential',test1p/nobs,test1j],\n",
    "             ['active',test2p/nobs,test2j],\n",
    "             ['passive',test3p/nobs,test3j]])\n",
    "    \n",
    "    results = pd.concat( [results, row] )\n",
    "    \n",
    "print(results)\n",
    "results.to_csv('mc_results_1207.csv')"
   ]
  },
  {
   "cell_type": "code",
   "execution_count": null,
   "id": "23792e26",
   "metadata": {
    "scrolled": false
   },
   "outputs": [],
   "source": [
    "plt.hist(seq_params_df['obj'])\n",
    "plt.show()\n",
    "plt.hist(active_params_df['obj'])\n",
    "plt.show()\n",
    "plt.hist(passive_params_df['obj'])\n",
    "plt.show()\n",
    "plt.hist(seq_params_df['obj']-active_params_df['obj'])\n",
    "plt.show()\n",
    "plt.hist(seq_params_df['obj']-passive_params_df['obj'])\n",
    "plt.show()"
   ]
  }
 ],
 "metadata": {
  "kernelspec": {
   "display_name": "Python 3 (ipykernel)",
   "language": "python",
   "name": "python3"
  },
  "language_info": {
   "codemirror_mode": {
    "name": "ipython",
    "version": 3
   },
   "file_extension": ".py",
   "mimetype": "text/x-python",
   "name": "python",
   "nbconvert_exporter": "python",
   "pygments_lexer": "ipython3",
   "version": "3.10.9"
  }
 },
 "nbformat": 4,
 "nbformat_minor": 5
}
