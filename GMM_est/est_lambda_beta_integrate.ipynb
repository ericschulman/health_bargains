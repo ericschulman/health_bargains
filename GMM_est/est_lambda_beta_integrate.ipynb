{
 "cells": [
  {
   "cell_type": "code",
   "execution_count": 2,
   "id": "c41e95b7",
   "metadata": {},
   "outputs": [],
   "source": [
    "%load_ext autoreload\n",
    "%autoreload 2\n",
    "\n",
    "import numpy as np\n",
    "from scipy.optimize import minimize\n",
    "from scipy.optimize import fsolve\n",
    "from matplotlib import pyplot as plt\n",
    "import pandas as pd\n",
    "from scipy.stats import norm\n",
    "\n",
    "import sys\n",
    "sys.path.append(\"../\")\n",
    "from bargains_linear import * "
   ]
  },
  {
   "cell_type": "code",
   "execution_count": 77,
   "id": "ec51706a",
   "metadata": {
    "scrolled": false
   },
   "outputs": [
    {
     "name": "stdout",
     "output_type": "stream",
     "text": [
      "0.0944862429066252\n",
      "----\n",
      "0.2671338356518551\n",
      "----\n",
      "0.3423644953698067\n",
      "----\n"
     ]
    }
   ],
   "source": [
    "def solve_lamb(df):\n",
    "    p1 =  df['p1'].mean()\n",
    "    phi1 = df['phi1'].mean()\n",
    "    phi2 = df['phi2'].mean()\n",
    "    s1 = df['s1'].mean()\n",
    "    s2 = df['s2'].mean()\n",
    "    lambda_val = ( df['p1'] - (2*df['phi1'] + df['phi2'])/3 ).mean()\n",
    "    \n",
    "    return lambda_val\n",
    "\n",
    "\n",
    "def calc_c2(phi1,phi2,beta2,lambda_val):\n",
    "    return (3.0*beta2*lambda_val - 3.0*lambda_val - 2.0*phi1 + 2.0*phi2)/(beta2 - 1.0)\n",
    "\n",
    "\n",
    "def solve_beta_helper(phi1,phi2,lambda_val,c2):\n",
    "    return (3.0*lambda_val + 2.0*phi1 - 2.0*phi2 - c2)/(3.0*lambda_val - c2)\n",
    "\n",
    "\n",
    "def solve_beta(beta2_new,c2,c2_avg):\n",
    "    w = norm.pdf(c2,scale=1,loc=0)\n",
    "    w= w/(w.mean())\n",
    "    #print(w.min(),w.max(),w.argmin(),w.argmax())\n",
    "    #print(beta2_new.mean(),(w*beta2_new).mean())\n",
    "    return (w*beta2_new).mean()\n",
    "\n",
    "\n",
    "def solve_beta_c2(df):\n",
    "    phi1 = df['phi1']\n",
    "    phi2 = df['phi2']\n",
    "    lambda_val = solve_lamb(df)\n",
    "    c2_avg = 0 #np.random.normal(size=phi1.shape)\n",
    "    c2 = np.zeros( phi1.shape)\n",
    "    beta2 = .6\n",
    "    for i in range(1000):\n",
    "        beta2_new = solve_beta_helper(phi1,phi2,lambda_val,c2)\n",
    "        c2_new = calc_c2(phi1,phi2,beta2,lambda_val)\n",
    "\n",
    "        #update the loop variables\n",
    "        beta2 = solve_beta(beta2_new,c2_new,c2.mean())\n",
    "        c2 = calc_c2(phi1,phi2,beta2_new,lambda_val)\n",
    "    return beta2\n",
    "    \n",
    "    \n",
    "\n",
    "\n",
    "passive_result1 = pd.read_csv('../GMM_est/fake_data/passive_data_3.csv',index_col=0)\n",
    "active_result1 = pd.read_csv('../GMM_est/fake_data/active_data_3.csv',index_col=0)\n",
    "seq_result1 = pd.read_csv('../GMM_est/fake_data/seq_data_3.csv',index_col=0)\n",
    "for df in [seq_result1,passive_result1,active_result1]:\n",
    "    print(solve_beta_c2(df))\n",
    "    print('----')"
   ]
  },
  {
   "cell_type": "code",
   "execution_count": null,
   "id": "5160e230",
   "metadata": {},
   "outputs": [],
   "source": []
  },
  {
   "cell_type": "code",
   "execution_count": null,
   "id": "0f87aaa9",
   "metadata": {},
   "outputs": [],
   "source": []
  }
 ],
 "metadata": {
  "kernelspec": {
   "display_name": "Python 3 (ipykernel)",
   "language": "python",
   "name": "python3"
  },
  "language_info": {
   "codemirror_mode": {
    "name": "ipython",
    "version": 3
   },
   "file_extension": ".py",
   "mimetype": "text/x-python",
   "name": "python",
   "nbconvert_exporter": "python",
   "pygments_lexer": "ipython3",
   "version": "3.10.9"
  }
 },
 "nbformat": 4,
 "nbformat_minor": 5
}
