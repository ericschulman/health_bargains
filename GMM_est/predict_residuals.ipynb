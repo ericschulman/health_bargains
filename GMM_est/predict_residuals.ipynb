{
 "cells": [
  {
   "cell_type": "code",
   "execution_count": 1,
   "id": "989b9234",
   "metadata": {},
   "outputs": [],
   "source": [
    "%load_ext autoreload\n",
    "%autoreload 2\n",
    "\n",
    "import numpy as np\n",
    "from scipy.optimize import minimize\n",
    "from scipy.optimize import fsolve\n",
    "from matplotlib import pyplot as plt\n",
    "import pandas as pd\n",
    "from scipy.stats import norm\n",
    "\n",
    "import sys\n",
    "sys.path.append(\"../\")\n",
    "from bargains_linear import * "
   ]
  },
  {
   "cell_type": "code",
   "execution_count": 2,
   "id": "de677054",
   "metadata": {},
   "outputs": [],
   "source": [
    "def solve_c1_c2(beta1,lambda_val,phi1,phi2):\n",
    "    return (3.0*beta1*lambda_val + 2.0*beta1*phi2 - 3.0*lambda_val + 2.0*phi1 - 2.0*phi2) / (beta1 - 1.0) \n",
    "\n",
    "def solve_beta1(c1_c2, lambda_val,phi1,phi2):\n",
    "    return (3.0*lambda_val - 2.0*phi1 + 2.0*phi2 - c1_c2 )/(3.0*lambda_val + 2.0*phi2 - c1_c2)\n",
    "\n",
    "def solve_foc(beta1, c1_c2, lambda_val, phi1, phi2):\n",
    "    return beta1*(3.0*lambda_val + 2.0*phi2 - c1_c2) - (3.0*lambda_val - 2.0*phi1 + 2.0*phi2 - c1_c2 )"
   ]
  },
  {
   "cell_type": "code",
   "execution_count": 7,
   "id": "5655a07b",
   "metadata": {
    "scrolled": false
   },
   "outputs": [
    {
     "name": "stdout",
     "output_type": "stream",
     "text": [
      "-17.040686509151385 30.526851894183974\n",
      "2.401243573701393\n",
      "--\n",
      "-32.74062819241809 42.821455138258614\n",
      "3.061178760261465\n",
      "--\n",
      "29.992588279266403 -5.654271075590193\n",
      "190.85091042602136\n",
      "--\n",
      "--------------------\n"
     ]
    }
   ],
   "source": [
    "def calc_foc_se(beta1, c1_c2, lambda_val, phi1, phi2):\n",
    "    cov = np.cov(np.concatenate([phi1, phi2]))\n",
    "    gradient = np.array([-2, 2*beta1-2])\n",
    "    se = gradient.T.dot(cov).dot(gradient)\n",
    "    return se\n",
    "\n",
    "\n",
    "def perturb_c(df, c1_c2_obs,shift):\n",
    "    # Create a new dataframe with d1 and d2\n",
    "    new_df = df.copy()[['c1','c2','phi1','phi2']]\n",
    "    new_df['c1'] = new_df['c1'] + shift\n",
    "    \n",
    "    model = sm.OLS( c1_c2_obs, sm.add_constant( df[['c1','c2']] ) )\n",
    "    model_fit = model.fit()\n",
    "    new_df['c1-c2'] = model_fit.predict( sm.add_constant(new_df[['c1','c2']]) )\n",
    "    new_df['resid'] = model_fit.resid\n",
    "    df['resid'] = model_fit.resid\n",
    "    \n",
    "    for col in ['phi1','phi2']:\n",
    "        model = sm.OLS(df[col], sm.add_constant( df['c1-c2'] - new_df['resid']  ) )\n",
    "        model_fit = model.fit()\n",
    "        new_phi = model_fit.predict( sm.add_constant(new_df['c1-c2']+new_df['resid']) )\n",
    "        new_df[col] = new_phi \n",
    "\n",
    "    return new_df\n",
    "\n",
    "def calc_beta_se(c1_c2, lambda_val,phi1,phi2):\n",
    "    num = (3.0*lambda_val - 2.0*phi1 + 2.0*phi2 - c1_c2 )\n",
    "    denom =  (3.0*lambda_val + 2.0*phi2 - c1_c2)\n",
    "    cov =np.cov(np.concatenate([num, denom]))\n",
    "    gradient = np.array([1, -1/(denom.mean())**2 ])\n",
    "    se = gradient.T.dot(cov).dot(gradient)\n",
    "    return se\n",
    "\n",
    "\n",
    "def create_test_stat(df,c1_c2=0):\n",
    "    df = df.copy()\n",
    "    df = df[ (df['s1']!=0) & (df['s1']!=1) &  (df['phi1']>=0) & (df['phi2']>=0) & (np.abs(df['phi1'])<=100) & (np.abs(df['phi2'])<=100) ]\n",
    "    df = df.reindex()\n",
    "    \n",
    "    lambda_val = ( df['p1'] - (2*df['phi1'] + df['phi2'])/3 ).mean()\n",
    "    \n",
    "    beta1 = solve_beta1(c1_c2, lambda_val,df['phi1'].mean(),df['phi2'].mean())\n",
    "    beta2 = solve_beta1(c1_c2, lambda_val,df['phi2'].mean(),df['phi1'].mean())\n",
    "    \n",
    "    c1_c2_obs1 = solve_c1_c2(beta1,lambda_val,df['phi1'],df['phi2'])\n",
    "    c1_c2_obs2 = solve_c1_c2(beta2,lambda_val,df['phi2'],df['phi1'])\n",
    "    \n",
    "    (np.array(list(c1_c2_obs1)) + np.array(list(c1_c2_obs2))).var()\n",
    "    argmax = (c1_c2_obs1 + c1_c2_obs2).argmax()\n",
    "    return  (np.array(list(c1_c2_obs1)) + np.array(list(c1_c2_obs2))).var()\n",
    "    \n",
    "    \n",
    "    \n",
    "    \n",
    "passive_result1 = pd.read_csv('../GMM_est/fake_data/passive_data_1.csv',index_col=0)\n",
    "active_result1 = pd.read_csv('../GMM_est/fake_data/active_data_1.csv',index_col=0)\n",
    "seq_result1 = pd.read_csv('../GMM_est/fake_data/seq_data_1.csv',index_col=0)\n",
    "for df in [passive_result1,active_result1,seq_result1]:\n",
    "    print(create_test_stat(df.sample(frac=0.1)))\n",
    "    print('--')\n",
    "print('--------------------')\n"
   ]
  },
  {
   "cell_type": "code",
   "execution_count": 4,
   "id": "6064fd84",
   "metadata": {},
   "outputs": [
    {
     "name": "stdout",
     "output_type": "stream",
     "text": [
      "7.352035567886136\n",
      "--\n",
      "14.33917545823216\n",
      "--\n",
      "80.36842641113799\n",
      "--\n"
     ]
    }
   ],
   "source": [
    "passive_result1 = pd.read_csv('../GMM_est/fake_data/passive_data_3.csv',index_col=0)\n",
    "active_result1 = pd.read_csv('../GMM_est/fake_data/active_data_3.csv',index_col=0)\n",
    "seq_result1 = pd.read_csv('../GMM_est/fake_data/seq_data_3.csv',index_col=0)\n",
    "for df in [passive_result1,active_result1,seq_result1]:\n",
    "    print(create_test_stat(df.sample(frac=0.1)))\n",
    "    print('--') "
   ]
  }
 ],
 "metadata": {
  "kernelspec": {
   "display_name": "Python 3 (ipykernel)",
   "language": "python",
   "name": "python3"
  },
  "language_info": {
   "codemirror_mode": {
    "name": "ipython",
    "version": 3
   },
   "file_extension": ".py",
   "mimetype": "text/x-python",
   "name": "python",
   "nbconvert_exporter": "python",
   "pygments_lexer": "ipython3",
   "version": "3.10.9"
  }
 },
 "nbformat": 4,
 "nbformat_minor": 5
}
