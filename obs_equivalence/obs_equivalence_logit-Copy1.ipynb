{
 "cells": [
  {
   "cell_type": "code",
   "execution_count": 1,
   "id": "4ee8a6a5",
   "metadata": {},
   "outputs": [],
   "source": [
    "import numpy as np\n",
    "from scipy.optimize import minimize\n",
    "from scipy.optimize import fsolve\n",
    "from matplotlib import pyplot as plt\n",
    "import pandas as pd"
   ]
  },
  {
   "cell_type": "code",
   "execution_count": 2,
   "id": "efb9ddf1",
   "metadata": {},
   "outputs": [
    {
     "name": "stdout",
     "output_type": "stream",
     "text": [
      "[-1.41148121]\n"
     ]
    }
   ],
   "source": [
    "#solve nash bargaining with one insurer\n",
    "\n",
    "def calc_shares1(p1, cost, wtp):\n",
    "    \"\"\"compute the proportion of people choosing each insurer\n",
    "    assumes interior solution\"\"\"\n",
    "    u1 = (wtp - p1)/cost\n",
    "    s1 = np.exp(u1)/(np.exp(u1) + 1 )\n",
    "    return s1\n",
    "  \n",
    "\n",
    "def calc_profits_price_shares1(phi1,cost,wtp,mc1):\n",
    "    pi1 = lambda p : -1*calc_shares1(p, cost, wtp)[0]*(p-phi1 -mc1)\n",
    "    p1 = minimize(pi1,1,method='Nelder-Mead',tol=1e-4).x\n",
    "    s1 = calc_shares1(p1,  cost, wtp)\n",
    "    return p1[0], s1[0], s1[0]*(p1[0]-phi1 -mc1)\n",
    "\n",
    "def nash_in_nash_obj1(phi1, cost, wtp, mc1, beta=.5):\n",
    "    p1,s1,profits1 = calc_profits_price_shares1(phi1, cost, wtp, mc1)\n",
    "    hosp_profit = s1*phi1\n",
    "    obj = -1*(np.log(hosp_profit)*(1-beta) + np.log(profits1)*beta)\n",
    "\n",
    "    #print(obj)\n",
    "    return obj\n",
    "\n",
    "def nash_in_nash1(cost,wtp,mc1,outside_option=False):\n",
    "    obj1 = lambda phi : nash_in_nash_obj1(phi,cost,wtp,mc1)\n",
    "    result = minimize(obj1,13,method='Nelder-Mead',tol=1e-4)\n",
    "    \n",
    "    if outside_option:\n",
    "        return result.x[0]*calc_shares1(result.x[0], cost, wtp)\n",
    "    return result.x[0]\n",
    "\n",
    "#solve nash bargaining with 2 insurers\n",
    "\n",
    "def calc_shares(p1, p2,  cost, wtp):\n",
    "    \"\"\"compute the proportion of people choosing each insurer\n",
    "    assumes interior solution\"\"\"\n",
    "    u1 = (wtp[0] - p1)/cost\n",
    "    u2 = (wtp[1] - p2)/cost\n",
    "    s1 = np.exp(u1)/(np.exp(u1)+ np.exp(u2) + 1 )\n",
    "    s2 = np.exp(u2)/(np.exp(u1)+ np.exp(u2) + 1 )\n",
    "    \n",
    "    return s1,s2\n",
    "  \n",
    "\n",
    "def calc_profits_price_shares(phi1,phi2,cost,wtp,mc):\n",
    "    mc1,mc2 = mc\n",
    "    \n",
    "    p1,p2 = 1,2\n",
    "    diff =  np.maximum(p1,p1)\n",
    "    p10,p20 = 0,0\n",
    "    maxiter = 10\n",
    "    while maxiter >=0 and diff > 10e-6:\n",
    "        #seems as though there is a contraction mapping here, need to think more about why\n",
    "        \n",
    "        pi1 = lambda p : -1*calc_shares(p, p20,  cost, wtp)[0]*(p-phi1 -mc1)\n",
    "        pi2 = lambda p :  -1*calc_shares(p10, p,  cost, wtp)[1]*(p-phi2 -mc2)\n",
    "\n",
    "        \n",
    "        p1 = minimize(pi1,p10).x\n",
    "        p2 = minimize(pi2,p20).x\n",
    "        \n",
    "        #update loop variables\n",
    "        diff = np.abs(np.maximum(p1 - p10,p2-p20))[0]\n",
    "        p10,p20 = p1,p2\n",
    "        maxiter = maxiter-1\n",
    "        \n",
    "    s1,s2 = calc_shares(p1, p2,  cost, wtp)\n",
    "    return p1, p2, s1,s2, s1*(p1-phi1 -mc1), s2*(p2-phi2 -mc2)\n",
    "\n",
    "\n",
    "\n",
    "#arbitrary outside option...\n",
    "def nash_in_nash(phi1, phi2, cost, wtp, mc, beta=.5, outside_option=None):\n",
    "    p1,p2,s1,s2,profits1,profits2 = calc_profits_price_shares(phi1,phi2,cost,wtp,mc)\n",
    "    hosp_profit = s1*phi1 + s2*phi2\n",
    "    \n",
    "    #the passive beliefs case\n",
    "    if outside_option is None:\n",
    "        outside_option = s2*phi2\n",
    "        \n",
    "    obj = -1*(np.log(max(hosp_profit-outside_option,1e-4))*(1-beta) \n",
    "              + np.log(profits1)*beta)\n",
    "    return obj\n",
    "\n",
    "\n",
    "COST = 5\n",
    "WTP = np.array([25,25])\n",
    "MC = np.array([0,0])\n",
    "\n",
    "print(nash_in_nash(3*COST,3*COST, COST, WTP, MC))"
   ]
  },
  {
   "cell_type": "code",
   "execution_count": 3,
   "id": "d0aa2d2b",
   "metadata": {},
   "outputs": [
    {
     "name": "stdout",
     "output_type": "stream",
     "text": [
      "(array([7.47324011]), array([7.74787067]))\n"
     ]
    }
   ],
   "source": [
    "def bargain_helper(phi1, phi2, cost, wtp, mc, beta=.5,outside_option=None):\n",
    "    \"\"\"solve each firm 1s optimization holding phi 2 fixed\"\"\"\n",
    "    result = minimize(nash_in_nash, phi1, args=(phi2,cost, wtp, mc,  beta, outside_option),\n",
    "                      method='Nelder-Mead', options={'disp': False},tol=1e-4)\n",
    "    return result.x\n",
    "\n",
    "def simult_bargain(phi1, phi2, cost, wtp, mc, betas=[.5,.5],active=False):\n",
    "    \"\"\"solve the bargaining problems seperately and iterate for a solution\"\"\"       \n",
    "    \n",
    "    #loop variables, check on this...\n",
    "    diff =  np.maximum(phi1,phi2)\n",
    "    phi10,phi20 = 0,0\n",
    "    maxiter = 10\n",
    "    \n",
    "    outside_option1 = None\n",
    "    outside_option2 = None\n",
    "    if active:\n",
    "        outside_option1 = nash_in_nash1(cost,wtp[0],mc[0],outside_option=True)\n",
    "        outside_option2 = nash_in_nash1(cost,wtp[1],mc[1],outside_option=True)\n",
    "        \n",
    "    while maxiter >=0 and diff > 10e-7:\n",
    "        #seems as though there is a contraction mapping here, need to think more about why\n",
    "        phi1 = bargain_helper(phi1, phi2, cost, wtp, mc, beta=betas[0] ,outside_option=outside_option1)\n",
    "        phi2 = bargain_helper(phi2, phi1, cost, wtp[::-1], mc[::-1], beta=betas[1],outside_option=outside_option2)\n",
    "        \n",
    "        #update loop variables\n",
    "        diff = np.abs(np.maximum(phi1 - phi10,phi2-phi20))[0]\n",
    "        phi10,phi20 = phi1,phi2\n",
    "        maxiter = maxiter-1\n",
    "        \n",
    "    return phi1, phi2\n",
    "\n",
    "COST = 5\n",
    "WTP = np.array([25,26])\n",
    "MC = np.array([0,0])\n",
    "print(simult_bargain(15,15,COST,WTP,MC,active=False))"
   ]
  },
  {
   "cell_type": "code",
   "execution_count": 4,
   "id": "e4aafd86",
   "metadata": {},
   "outputs": [
    {
     "name": "stdout",
     "output_type": "stream",
     "text": [
      "13.92 22.12 11.59 23.2\n",
      "14.77 24.01 12.54 25.08\n",
      "15.77 26.01 12.88 25.78\n"
     ]
    }
   ],
   "source": [
    "active_params = [[5,25],[6,25],[7,25]]\n",
    "#passive_params = [[ 5.8041324 , 69.87396866], [ 6.27539062, 78.27148438], [ 6.45077133, 81.54169083]]\n",
    "passive_params = [[ 5.8041324 , 69.87396866], [ 6.27539062, 78.27148438], [ 6.45077133, 81.54169083]]\n",
    "\n",
    "\n",
    "for i in range(3):\n",
    "    active_wtp =   np.array([active_params[i][1],active_params[i][1]])\n",
    "    active_cost = active_params[i][0]\n",
    "    phi1a,phi2a = simult_bargain(15,15, active_cost,active_wtp, MC, active=True)\n",
    "    p1a,p2a,s1a,s2a,profits1a,profits2a = calc_profits_price_shares(phi1a,phi2a, active_cost,active_wtp, MC)\n",
    "    \n",
    "    passive_wtp =   np.array([passive_params[i][1],passive_params[i][1]])\n",
    "    passive_cost = passive_params[i][0]\n",
    "    phi1p,phi2p = simult_bargain(15,15, passive_cost,passive_wtp, MC, active=False)\n",
    "    p1p,p2p,s1p,s2p,profits1p,profits2p = calc_profits_price_shares(phi1p,phi2p, passive_cost,passive_wtp,MC)\n",
    "    \n",
    "    print(  round(phi1a[0],2), round(p1a[0],2), round(phi1p[0],2), round(p1p[0],2) )"
   ]
  },
  {
   "cell_type": "code",
   "execution_count": 5,
   "id": "cc11f212",
   "metadata": {},
   "outputs": [
    {
     "name": "stdout",
     "output_type": "stream",
     "text": [
      "9.12 15.31 7.5 16.7\n",
      "10.07 17.02 7.89 18.4\n",
      "10.78 18.26 8.29 19.99\n"
     ]
    }
   ],
   "source": [
    "active_params =  [[ 4.62780762, 12.21435547], [ 5.37875378, 12.25077868], [ 5.92254639, 12.16674805]]\n",
    "passive_params =  [[5,25],[6,25],[7,25]]\n",
    "\n",
    "for i in range(3):\n",
    "    active_wtp =   np.array([active_params[i][1],active_params[i][1]])\n",
    "    active_cost = active_params[i][0]\n",
    "    phi1a,phi2a = simult_bargain(15,15, active_cost,active_wtp, MC, active=True)\n",
    "    p1a,p2a,s1a,s2a,profits1a,profits2a = calc_profits_price_shares(phi1a,phi2a, active_cost,active_wtp, MC)\n",
    "    \n",
    "    passive_wtp =   np.array([passive_params[i][1],passive_params[i][1]])\n",
    "    passive_cost = passive_params[i][0]\n",
    "    phi1p,phi2p = simult_bargain(15,15, passive_cost,passive_wtp, MC, active=False)\n",
    "    p1p,p2p,s1p,s2p,profits1p,profits2p = calc_profits_price_shares(phi1p,phi2p, passive_cost,passive_wtp, MC)\n",
    "    \n",
    "    \n",
    "    print(  round(phi1a[0],2),round(p1a[0],2),round(phi1p[0],2),round(p1p[0],2) )"
   ]
  },
  {
   "cell_type": "markdown",
   "id": "cb377d02",
   "metadata": {},
   "source": [
    "# merger simulation"
   ]
  },
  {
   "cell_type": "code",
   "execution_count": 6,
   "id": "6dc5168f",
   "metadata": {},
   "outputs": [
    {
     "name": "stdout",
     "output_type": "stream",
     "text": [
      "12.248437500000001\n",
      "(31.370314821193183, 31.370346777908892, 0.2291700907061347, 0.22916935835496108, 4.230883384307691, 4.230877187315578)\n"
     ]
    },
    {
     "data": {
      "text/plain": [
       "[<matplotlib.lines.Line2D at 0x193fd6b0370>]"
      ]
     },
     "execution_count": 6,
     "metadata": {},
     "output_type": "execute_result"
    },
    {
     "data": {
      "image/png": "[encoded data removed]",
      "text/plain": [
       "<Figure size 640x480 with 1 Axes>"
      ]
     },
     "metadata": {},
     "output_type": "display_data"
    }
   ],
   "source": [
    "#solve nash bargaining with merged insurer\n",
    "\n",
    "def calc_sharesm(p1, p2,  cost, wtp):\n",
    "    \"\"\"compute the proportion of people choosing each insurer\n",
    "    assumes interior solution\"\"\"\n",
    "    u1 = (wtp - p1)/cost\n",
    "    u2 = (wtp - p2)/cost\n",
    "    s1 = np.exp(u1)/(np.exp(u1)+ np.exp(u2) + 1.25 )\n",
    "    s2 = np.exp(u2)/(np.exp(u1)+ np.exp(u2) + 1.25 )\n",
    "    \n",
    "    return s1,s2\n",
    "\n",
    "\n",
    "def profitsm(p,phi1,cost,wtp,mc1):\n",
    "    shares = np.array(calc_sharesm(p[0],p[1],cost, wtp))\n",
    "    profit =  ( shares * (np.array(p) -  phi1 - mc1 ) ).sum()\n",
    "    return profit \n",
    "    \n",
    "def calc_profits_price_sharesm(phi1,cost,wtp,mc1):\n",
    "    pi = lambda p: -1*profitsm(p,phi1,cost,wtp,mc1)\n",
    "    p = minimize(pi,[1,1],method='Nelder-Mead',tol=1e-4).x\n",
    "    s1,s2 = calc_sharesm(p[0],p[1], cost, wtp)\n",
    "    return p[0], p[1], s1 ,s2, s1*(p[0]-phi1 -mc1),s2*(p[1]-phi1 -mc1)\n",
    "\n",
    "\n",
    "def nash_in_nash_objm(phi1, cost, wtp, mc1, beta=.5):\n",
    "    p1,p2,s1,s2,profits1,profits2 = calc_profits_price_sharesm(phi1, cost, wtp, mc1)\n",
    "    hosp_profit = s1*phi1 +s2*phi1\n",
    "    obj = -1*(np.log(hosp_profit)*(1-beta) + np.log(profits1+profits2)*beta)\n",
    "    #print(obj)\n",
    "    return obj\n",
    "\n",
    "def nash_in_nashm(cost,wtp,mc1):\n",
    "    obj1 = lambda phi : nash_in_nash_objm(phi,cost,wtp,mc1)\n",
    "    result = minimize(obj1,13,method='Nelder-Mead',tol=1e-4)\n",
    "    \n",
    "    return result.x[0]\n",
    "\n",
    "print(nash_in_nashm(10,25,0))\n",
    "print(calc_profits_price_sharesm(12.908554077148436,10,25,0))\n",
    "\n",
    "\n",
    "COST = 5\n",
    "WTP1 = 25\n",
    "MC1 = 0\n",
    "\n",
    "plt.plot([i for i in np.linspace(0,4*COST,num=7)], \n",
    "         [-1*nash_in_nash_objm(i, COST,WTP1,MC1) for i in np.linspace(1,4*COST,num=7)])"
   ]
  },
  {
   "cell_type": "code",
   "execution_count": 9,
   "id": "96126390",
   "metadata": {},
   "outputs": [
    {
     "name": "stdout",
     "output_type": "stream",
     "text": [
      "10.35 24.39 29.24 63.4\n",
      "10.59 25.47 32.83 71.01\n",
      "10.94 26.71 34.21 73.98\n"
     ]
    }
   ],
   "source": [
    "active_params = [[5,25],[6,25],[7,25]]\n",
    "passive_params = [[ 5.8041324 , 69.87396866], [ 6.27539062, 78.27148438], [ 6.45077133, 81.54169083]]\n",
    "\n",
    "for i in range(3):\n",
    "    active_wtp =   np.array([active_params[i][1],active_params[i][1]])\n",
    "    active_cost = active_params[i][0]\n",
    "    #given p and reimb, solve for v and lambda?\n",
    "    monop_pricea = nash_in_nashm(active_cost,active_wtp[0],MC[0])\n",
    "    monop_prema = calc_profits_price_sharesm(monop_pricea,active_cost,active_wtp[0],MC[0])[0]\n",
    "    \n",
    "    passive_wtp =   np.array([passive_params[i][1],passive_params[i][1]])\n",
    "    passive_cost = passive_params[i][0]\n",
    "    monop_pricep = nash_in_nashm(passive_cost, passive_wtp[0], MC[0])\n",
    "    monop_prem = calc_profits_price_sharesm(monop_pricep, passive_cost, passive_wtp[0], MC[0])[0]\n",
    "    \n",
    "    print(  round(monop_pricea,2),round(monop_prema,2),round(monop_pricep,2),round(monop_prem,2) )"
   ]
  },
  {
   "cell_type": "code",
   "execution_count": 10,
   "id": "8f2263a5",
   "metadata": {},
   "outputs": [
    {
     "name": "stdout",
     "output_type": "stream",
     "text": [
      "5.85 14.75 10.35 24.39\n",
      "6.24 15.95 10.59 25.47\n",
      "6.52 16.79 10.94 26.71\n"
     ]
    }
   ],
   "source": [
    "active_params =  [[ 4.62780762, 12.21435547], [ 5.37875378, 12.25077868], [ 5.92254639, 12.16674805]]\n",
    "passive_params = [[5,25],[6,25],[7,25]]\n",
    "\n",
    "for i in range(3):\n",
    "    active_wtp =   np.array([active_params[i][1],active_params[i][1]])\n",
    "    active_cost = active_params[i][0]\n",
    "    #given p and reimb, solve for v and lambda?\n",
    "    monop_pricea = nash_in_nashm(active_cost,active_wtp[0],MC[0])\n",
    "    monop_prema = calc_profits_price_sharesm(monop_pricea,active_cost,active_wtp[0],MC[0])[0]\n",
    "    \n",
    "    passive_wtp =   np.array([passive_params[i][1],passive_params[i][1]])\n",
    "    passive_cost = passive_params[i][0]\n",
    "    monop_pricep = nash_in_nashm(passive_cost, passive_wtp[0], MC[0])\n",
    "    monop_prem = calc_profits_price_sharesm(monop_pricep, passive_cost, passive_wtp[0], MC[0])[0]\n",
    "    \n",
    "    print(  round(monop_pricea,2),round(monop_prema,2),round(monop_pricep,2),round(monop_prem,2) )"
   ]
  },
  {
   "cell_type": "code",
   "execution_count": null,
   "id": "889c8255",
   "metadata": {},
   "outputs": [],
   "source": []
  }
 ],
 "metadata": {
  "kernelspec": {
   "display_name": "Python 3 (ipykernel)",
   "language": "python",
   "name": "python3"
  },
  "language_info": {
   "codemirror_mode": {
    "name": "ipython",
    "version": 3
   },
   "file_extension": ".py",
   "mimetype": "text/x-python",
   "name": "python",
   "nbconvert_exporter": "python",
   "pygments_lexer": "ipython3",
   "version": "3.10.9"
  }
 },
 "nbformat": 4,
 "nbformat_minor": 5
}
