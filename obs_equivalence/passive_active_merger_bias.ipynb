{
 "cells": [
  {
   "cell_type": "code",
   "execution_count": 1,
   "id": "de399abc",
   "metadata": {},
   "outputs": [
    {
     "name": "stdout",
     "output_type": "stream",
     "text": [
      "13.75,18.75,9.17,25.00,10.21,20.42\n",
      "14.00,20.00,9.33,25.00,10.17,20.33\n",
      "14.25,21.25,9.50,25.00,10.12,20.25\n",
      "14.50,22.50,9.67,25.00,10.08,20.17\n",
      "\n",
      "13.75,18.75,7.50,25.00,10.62,21.25\n",
      "14.00,20.00,8.00,25.00,10.50,21.00\n",
      "14.25,21.25,8.50,25.00,10.38,20.75\n",
      "14.50,22.50,9.00,25.00,10.25,20.50\n",
      "\n",
      "13.75,18.75,5.00,25.00,11.25,22.50\n",
      "14.00,20.00,6.00,25.00,11.00,22.00\n",
      "14.25,21.25,7.00,25.00,10.75,21.50\n",
      "14.50,22.50,8.00,25.00,10.50,21.00\n"
     ]
    }
   ],
   "source": [
    "v = 25\n",
    "\n",
    "for cost in range(5,9):\n",
    "    active_reimb,active_prem = 1/4*cost + v/2,5/4*cost + v/2\n",
    "    passive_cost,passive_v = 2/3*active_reimb, 6/5*active_prem\n",
    "    passive_prem, passive_price = 3/2*passive_cost, 5/2*passive_cost\n",
    "    merge_reimb = v/2-passive_cost/4\n",
    "    merge_prem = 2*merge_reimb\n",
    "    print('%.2f,%.2f,%.2f,%.2f,%.2f,%.2f'%(active_reimb,active_prem,passive_cost,v,merge_reimb,merge_prem))\n",
    "    \n",
    "print('') \n",
    "for cost in range(5,9):\n",
    "    active_reimb,active_prem = 1/4*cost + v/2,5/4*cost + v/2\n",
    "    passive_cost,passive_v = 2/5*active_prem, 6/5*active_prem\n",
    "    merge_reimb = v/2-passive_cost/4\n",
    "    merge_prem = 2*merge_reimb\n",
    "    print('%.2f,%.2f,%.2f,%.2f,%.2f,%.2f'%(active_reimb,active_prem,passive_cost,v,merge_reimb,merge_prem))\n",
    "\n",
    "    \n",
    "print('') \n",
    "for cost in range(5,9):\n",
    "    active_reimb,active_prem = 1/4*cost + v/2,5/4*cost + v/2\n",
    "    passive_cost,passive_v = 2/5*active_prem, 6/5*active_prem\n",
    "    merge_reimb = v/2-cost/4\n",
    "    merge_prem = 2*merge_reimb\n",
    "    print('%.2f,%.2f,%.2f,%.2f,%.2f,%.2f'%(active_reimb,active_prem,cost,v,merge_reimb,merge_prem))"
   ]
  }
 ],
 "metadata": {
  "kernelspec": {
   "display_name": "Python 3 (ipykernel)",
   "language": "python",
   "name": "python3"
  },
  "language_info": {
   "codemirror_mode": {
    "name": "ipython",
    "version": 3
   },
   "file_extension": ".py",
   "mimetype": "text/x-python",
   "name": "python",
   "nbconvert_exporter": "python",
   "pygments_lexer": "ipython3",
   "version": "3.10.9"
  }
 },
 "nbformat": 4,
 "nbformat_minor": 5
}
