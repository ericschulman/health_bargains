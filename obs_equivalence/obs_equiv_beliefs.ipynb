{
 "cells": [
  {
   "cell_type": "code",
   "execution_count": 1,
   "id": "478fbbc4",
   "metadata": {},
   "outputs": [],
   "source": [
    "from sympy import *"
   ]
  },
  {
   "cell_type": "code",
   "execution_count": 2,
   "id": "72e6b249",
   "metadata": {},
   "outputs": [],
   "source": [
    "l = Symbol('\\lambda')\n",
    "v = Symbol('V')"
   ]
  },
  {
   "cell_type": "code",
   "execution_count": 8,
   "id": "cc2849ad",
   "metadata": {},
   "outputs": [
    {
     "name": "stdout",
     "output_type": "stream",
     "text": [
      "[(13.75, 18.75, 5, 25), (14.0, 20.0, 6, 25), (14.25, 21.25, 7, 25), (14.5, 22.5, 8, 25)]\n"
     ]
    }
   ],
   "source": [
    "#generate some outcomes for active reimb+premiums\n",
    "active_results = []\n",
    "v0 = 25\n",
    "for l0 in range(5,9):\n",
    "    active_results.append( (3/4*l0 + (v0-l0)/2, v0/2 + 5/4*l0 ,l0,v0) )\n",
    "\n",
    "print(active_results)"
   ]
  },
  {
   "cell_type": "code",
   "execution_count": 10,
   "id": "e7b2e1ef",
   "metadata": {},
   "outputs": [
    {
     "name": "stdout",
     "output_type": "stream",
     "text": [
      "l0, l1, p, r active, r passive\n",
      "5 7.50 18.75 13.75 11.25\n",
      "6 8.00000000000000 20.0 14.0 12.0000000000000\n",
      "7 8.50 21.25 14.25 12.75\n",
      "8 9.00000000000000 22.5 14.5 13.50\n",
      "\n",
      "l0, l1, r, p active, p passive\n",
      "5 9.17 13.75 18.75 22.92\n",
      "6 9.33 14.0 20.0 23.33\n",
      "7 9.50 14.25 21.25 23.75\n",
      "8 9.67 14.5 22.5 24.17\n"
     ]
    }
   ],
   "source": [
    "#same premium, reimb active... different reimbursement level in passive...\n",
    "print('l0, l1, p, r active, r passive')\n",
    "for (r,p,l0,v0) in active_results:\n",
    "    l1 = solve(p -5/2*l ,l)[0]\n",
    "    print(l0,round(l1,2), p, r ,round(3/2*l1,2) )\n",
    "\n",
    "#same premium, reimb active... different premium... different reimb level...\n",
    "print('\\nl0, l1, r, p active, p passive')\n",
    "for (r,p,l0,v0) in active_results:\n",
    "    l1 = solve(r -3/2*l ,l)[0]\n",
    "    print(l0,round(l1,2), r , p ,round(5/2*l1,2) )"
   ]
  },
  {
   "cell_type": "code",
   "execution_count": 23,
   "id": "71db9e9e",
   "metadata": {},
   "outputs": [
    {
     "name": "stdout",
     "output_type": "stream",
     "text": [
      "[(7.5, 12.5, 5, 25), (9.0, 15.0, 6, 25), (10.5, 17.5, 7, 25), (12.0, 20.0, 8, 25)]\n"
     ]
    }
   ],
   "source": [
    "passive_results = []\n",
    "v0 = 25\n",
    "for l0 in range(5,9):\n",
    "    passive_results.append( (3/2*l0, 5/2*l0,l0,v0) )\n",
    "\n",
    "print(passive_results)"
   ]
  },
  {
   "cell_type": "code",
   "execution_count": 32,
   "id": "8c9d6314",
   "metadata": {},
   "outputs": [
    {
     "name": "stdout",
     "output_type": "stream",
     "text": [
      "l0, v0, l1, v1 ,r, p, r merge, p merge     l1, v1, ,r, p, r merge, p merge\n",
      "5 25 7.5 12.5 11.25 22.5    5.0 12.5 7.5 12.5 5.0 10.0\n",
      "6 25 9.0 15.0 11.0 22.0    6.0 15.0 9.0 15.0 6.0 12.0\n",
      "7 25 10.5 17.5 10.75 21.5    7.0 17.5 10.5 17.5 7.0 14.0\n",
      "8 25 12.0 20.0 10.5 21.0    8.0 20.0 12.0 20.0 8.0 16.0\n"
     ]
    }
   ],
   "source": [
    "#same premium, reimb active... different reimbursement level in passive...\n",
    "print('l0, v0, l1, v1 ,r, p, r merge, p merge     l1, v1, ,r, p, r merge, p merge')\n",
    "for (r,p,l0,v0) in passive_results:\n",
    "    l1 = p-r\n",
    "    v1 = (5*r - p)/2\n",
    "    ra = 3/4*l1 + (v1-l1)/2\n",
    "    pa = v1/2 + 5/4*l1\n",
    "    rmep = (v0 -l0/2)/2\n",
    "    rmea = (v1 -l1/2)/2\n",
    "    pmep = v0-l0/2\n",
    "    pmea = b\n",
    "    print(l0,v0,r,p,rmep,pmep,'  ',l1,v1,ra,pa,rmea,pmea)\n"
   ]
  },
  {
   "cell_type": "code",
   "execution_count": 28,
   "id": "fecdfefc",
   "metadata": {},
   "outputs": [
    {
     "name": "stdout",
     "output_type": "stream",
     "text": [
      "1.0*p\n",
      "1.0*r\n"
     ]
    }
   ],
   "source": [
    "p = Symbol('p')\n",
    "r = Symbol('r')\n",
    "l1 = p-r\n",
    "v1 = (5*r - p)/2\n",
    "ra = 3/4*l1 + (v1-l1)/2\n",
    "pa = v1/2 + 5/4*l1\n",
    "\n",
    "print(simplify(pa))\n",
    "print(simplify(ra))"
   ]
  },
  {
   "cell_type": "code",
   "execution_count": null,
   "id": "acc5b14f",
   "metadata": {},
   "outputs": [],
   "source": []
  }
 ],
 "metadata": {
  "kernelspec": {
   "display_name": "Python 3 (ipykernel)",
   "language": "python",
   "name": "python3"
  },
  "language_info": {
   "codemirror_mode": {
    "name": "ipython",
    "version": 3
   },
   "file_extension": ".py",
   "mimetype": "text/x-python",
   "name": "python",
   "nbconvert_exporter": "python",
   "pygments_lexer": "ipython3",
   "version": "3.10.9"
  }
 },
 "nbformat": 4,
 "nbformat_minor": 5
}
