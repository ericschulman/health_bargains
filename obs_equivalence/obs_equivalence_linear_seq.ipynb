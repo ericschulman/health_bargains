{
 "cells": [
  {
   "cell_type": "code",
   "execution_count": 12,
   "id": "4d69fc7c",
   "metadata": {},
   "outputs": [
    {
     "name": "stdout",
     "output_type": "stream",
     "text": [
      "The autoreload extension is already loaded. To reload it, use:\n",
      "  %reload_ext autoreload\n"
     ]
    }
   ],
   "source": [
    "%load_ext autoreload\n",
    "%autoreload 2\n",
    "\n",
    "import numpy as np\n",
    "from scipy.optimize import minimize\n",
    "from scipy.optimize import fsolve\n",
    "from matplotlib import pyplot as plt\n",
    "import pandas as pd\n",
    "\n",
    "import sys\n",
    "sys.path.append(\"../\")\n",
    "from bargains_linear import *"
   ]
  },
  {
   "cell_type": "code",
   "execution_count": 13,
   "id": "8dcd6c2d",
   "metadata": {},
   "outputs": [
    {
     "name": "stdout",
     "output_type": "stream",
     "text": [
      "(array([15.6291746]), array([19.38060836]))\n"
     ]
    }
   ],
   "source": [
    "COST =5\n",
    "WTP = 25\n",
    "MC = np.array([0,0])\n",
    "\n",
    "#print(simult_bargain(15,15,COST,WTP,MC,active=True))\n",
    "\n",
    "print(seq_bargain(30, COST, WTP, MC))\n",
    "#print(calc_price(19.375,15.625, COST, WTP, MC))"
   ]
  },
  {
   "cell_type": "code",
   "execution_count": 14,
   "id": "cb8f5a70",
   "metadata": {
    "scrolled": false
   },
   "outputs": [
    {
     "name": "stdout",
     "output_type": "stream",
     "text": [
      "[15.6291746] [19.38060836]\n"
     ]
    },
    {
     "name": "stderr",
     "output_type": "stream",
     "text": [
      "C:\\Users\\ericsc\\Documents\\GitHub\\health_bargains\\obs_equivalence\\..\\bargains_linear.py:64: RuntimeWarning: divide by zero encountered in log\n",
      "  + np.log(profits1)*beta)\n",
      "C:\\Users\\ericsc\\Documents\\GitHub\\health_bargains\\obs_equivalence\\..\\bargains_linear.py:64: RuntimeWarning: invalid value encountered in log\n",
      "  + np.log(profits1)*beta)\n"
     ]
    },
    {
     "name": "stdout",
     "output_type": "stream",
     "text": [
      "5.000,25.000,15.629,19.381,21.880,23.130,0.498,0.169\n",
      "[16.25339143] [20.75489788]\n",
      "6.000,25.000,16.253,20.755,23.754,25.254,0.498,0.169\n",
      "[16.87778723] [22.1293112]\n",
      "7.000,25.000,16.878,22.129,25.628,27.379,0.498,0.169\n"
     ]
    }
   ],
   "source": [
    "def solve_parameters_obj(phi_obs, p_obs, cost, wtp, betas, active=True):\n",
    "    mc_i  = np.array([0,0])\n",
    "    wtp2 = np.array([wtp,wtp])\n",
    "    phi1,phi2 = simult_bargain(15,15,cost,wtp2[0],mc_i,betas=betas,active=active)\n",
    "    \n",
    "    p1,p2 = calc_price(phi1,phi2,cost, wtp2, mc_i)\n",
    "    \n",
    "    s1= calc_s(phi1,phi2,cost, wtp2, mc_i)\n",
    "    s2 = 1-s1\n",
    "    hosp_profit, profits1,profits2 = calc_profits(phi1,phi2,cost, wtp2, mc_i)\n",
    "\n",
    "    phi = np.array([phi1[0],phi2[0]])\n",
    "    p = np.array([p1[0],p2[0]])\n",
    "    return ((phi-phi_obs)**2).sum() + ((p-p_obs)**2).sum()\n",
    "\n",
    "def solve_parameters(phi_obs,p_obs,wtp=25,cost=5,active=True): \n",
    "    obj = lambda betas : solve_parameters_obj(phi_obs, p_obs, cost, wtp, betas, active=active)\n",
    "    \n",
    "    beta_implied = minimize(obj, [.5,.5], options={'fatol':1e-2,'xatol':1e-2,'maxiter':20},method='Nelder-Mead').x # \n",
    "    return beta_implied\n",
    "\n",
    "\n",
    "for i in range(0,3):\n",
    "    seq_phi1,seq_phi2 = seq_bargain(30, COST+i, WTP, MC)\n",
    "    print(seq_phi1,seq_phi2)\n",
    "    seq_phi =  np.array([seq_phi1[0],seq_phi2[0]])\n",
    "    seq_p1, seq_p2 = calc_price(seq_phi1[0],seq_phi2[0], COST+i, WTP, MC)\n",
    "    seq_p = np.array([seq_p1, seq_p2])\n",
    "    beta = solve_parameters( seq_phi,seq_p , wtp=WTP,cost= COST+i )\n",
    "    result = (COST+i, WTP, seq_phi1[0], seq_phi2[0], seq_p1, seq_p2, beta[0],beta[1])\n",
    "    print('%.3f,%.3f,%.3f,%.3f,%.3f,%.3f,%.3f,%.3f'%result)\n"
   ]
  },
  {
   "cell_type": "code",
   "execution_count": 4,
   "id": "6274e11d",
   "metadata": {},
   "outputs": [
    {
     "name": "stdout",
     "output_type": "stream",
     "text": [
      "5.000,25.000,19.375,15.625,23.125,21.875,0.169,0.498\n",
      "5.000,26.000,19.875,16.125,23.625,22.375,0.169,0.498\n",
      "5.000,27.000,20.375,16.625,24.125,22.875,0.169,0.498\n"
     ]
    }
   ],
   "source": [
    "for i in range(0,3):\n",
    "    seq_phi1,seq_phi2 = seq_bargain(30, COST, WTP+i, MC)\n",
    "    seq_phi =  np.array([seq_phi1[0],seq_phi2[0]])\n",
    "    seq_p1, seq_p2 = calc_price(seq_phi1[0],seq_phi2[0], COST, WTP+i, MC)\n",
    "    seq_p = np.array([seq_p1, seq_p2])\n",
    "    beta = solve_parameters( seq_phi,seq_p , wtp=WTP+i,cost= COST )\n",
    "    result = (COST, WTP+i, seq_phi1[0], seq_phi2[0], seq_p1, seq_p2, beta[0],beta[1])\n",
    "    print('%.3f,%.3f,%.3f,%.3f,%.3f,%.3f,%.3f,%.3f'%result)"
   ]
  }
 ],
 "metadata": {
  "kernelspec": {
   "display_name": "Python 3 (ipykernel)",
   "language": "python",
   "name": "python3"
  },
  "language_info": {
   "codemirror_mode": {
    "name": "ipython",
    "version": 3
   },
   "file_extension": ".py",
   "mimetype": "text/x-python",
   "name": "python",
   "nbconvert_exporter": "python",
   "pygments_lexer": "ipython3",
   "version": "3.10.9"
  }
 },
 "nbformat": 4,
 "nbformat_minor": 5
}
