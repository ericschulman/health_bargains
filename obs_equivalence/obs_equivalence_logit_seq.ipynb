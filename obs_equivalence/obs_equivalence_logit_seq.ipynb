{
 "cells": [
  {
   "cell_type": "code",
   "execution_count": 1,
   "id": "24792219",
   "metadata": {},
   "outputs": [],
   "source": [
    "%load_ext autoreload\n",
    "%autoreload 2\n",
    "\n",
    "import numpy as np\n",
    "from scipy.optimize import minimize\n",
    "from scipy.optimize import fsolve\n",
    "from matplotlib import pyplot as plt\n",
    "import pandas as pd\n",
    "\n",
    "import sys\n",
    "sys.path.append(\"../\")\n",
    "from bargains_logit import *"
   ]
  },
  {
   "cell_type": "code",
   "execution_count": 2,
   "id": "9866b93e",
   "metadata": {},
   "outputs": [
    {
     "name": "stdout",
     "output_type": "stream",
     "text": [
      "(array([15.72607688]), array([15.72216797]))\n",
      "(array([15.8158953]), array([17.14908905]))\n"
     ]
    }
   ],
   "source": [
    "COST =5\n",
    "WTP =  np.array([25,25])\n",
    "MC = np.array([0,0])\n",
    "\n",
    "print(simult_bargain(15,15,COST,WTP,MC,active=True))\n",
    "print(seq_bargain(15, COST, WTP, MC))"
   ]
  },
  {
   "cell_type": "code",
   "execution_count": 3,
   "id": "821b01a8",
   "metadata": {
    "scrolled": false
   },
   "outputs": [
    {
     "name": "stdout",
     "output_type": "stream",
     "text": [
      "(array([15.8158953]), array([17.14908905]))\n"
     ]
    }
   ],
   "source": [
    "WTP = np.array([25,25])\n",
    "print(seq_bargain(15, COST, WTP, MC))"
   ]
  },
  {
   "cell_type": "code",
   "execution_count": null,
   "id": "1bb064ee",
   "metadata": {
    "scrolled": false
   },
   "outputs": [
    {
     "name": "stdout",
     "output_type": "stream",
     "text": [
      "5.000,25.000,15.963,17.337,23.955,24.710,0.423,0.203\n",
      "6.000,25.000,15.963,17.337,25.127,25.932,0.500,0.500\n"
     ]
    }
   ],
   "source": [
    "import warnings\n",
    "warnings.filterwarnings('ignore')\n",
    "\n",
    "def solve_parameters_obj(phi_obs, p_obs, cost, wtp, betas, active=True):\n",
    "    mc_i  = np.array([0,0])\n",
    "    phi1,phi2 = simult_bargain(15,15,cost,wtp,mc_i,betas=betas,active=active)\n",
    "\n",
    "\n",
    "    p1, p2, s1,s2, profits1,profits2 = calc_profits_price_shares(phi1,phi2,cost, wtp, mc_i)\n",
    "\n",
    "    phi = np.array([phi1[0],phi2[0]])\n",
    "    p = np.array([p1[0],p2[0]])\n",
    "    return ((phi-phi_obs)**2).sum() + ((p-p_obs)**2).sum()\n",
    "\n",
    "def solve_parameters(phi_obs,p_obs,wtp=25,cost=5,active=True): \n",
    "    obj = lambda betas : solve_parameters_obj(phi_obs, p_obs, cost, wtp, betas, active=active)\n",
    "    beta_implied = minimize(obj, [.5,.5], options={'fatol':1e-2,'xatol':1e-2,'maxiter':20},method='Nelder-Mead').x # \n",
    "    return beta_implied\n",
    "\n",
    "\n",
    "for i in range(0,3):\n",
    "    #seq_phi1,seq_phi2 = seq_bargain(15, COST+i, WTP, MC)\n",
    "    #print(seq_phi1,seq_phi2)\n",
    "    seq_phi1,seq_phi2 = np.array([15.96286645]), np.array([17.33714647])\n",
    "    seq_phi =  np.array([seq_phi1[0],seq_phi2[0]])\n",
    "    seq_p1, seq_p2, _,_,_,_= calc_profits_price_shares(seq_phi1[0],seq_phi2[0], COST+i, WTP, MC)\n",
    "    seq_p = np.array([seq_p1, seq_p2])\n",
    "    beta = solve_parameters( seq_phi,seq_p , wtp=WTP,cost= COST+i )\n",
    "    result = (COST+i, WTP[0], seq_phi1[0], seq_phi2[0], seq_p1, seq_p2, beta[0],beta[1])\n",
    "    print('%.3f,%.3f,%.3f,%.3f,%.3f,%.3f,%.3f,%.3f'%result)\n"
   ]
  },
  {
   "cell_type": "markdown",
   "id": "07ba88d7",
   "metadata": {},
   "source": [
    "# "
   ]
  }
 ],
 "metadata": {
  "kernelspec": {
   "display_name": "Python 3 (ipykernel)",
   "language": "python",
   "name": "python3"
  },
  "language_info": {
   "codemirror_mode": {
    "name": "ipython",
    "version": 3
   },
   "file_extension": ".py",
   "mimetype": "text/x-python",
   "name": "python",
   "nbconvert_exporter": "python",
   "pygments_lexer": "ipython3",
   "version": "3.11.5"
  }
 },
 "nbformat": 4,
 "nbformat_minor": 5
}
