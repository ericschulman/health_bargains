{
 "cells": [
  {
   "cell_type": "code",
   "execution_count": 2,
   "id": "24792219",
   "metadata": {},
   "outputs": [
    {
     "name": "stdout",
     "output_type": "stream",
     "text": [
      "The autoreload extension is already loaded. To reload it, use:\n",
      "  %reload_ext autoreload\n"
     ]
    }
   ],
   "source": [
    "%load_ext autoreload\n",
    "%autoreload 2\n",
    "\n",
    "import numpy as np\n",
    "from scipy.optimize import minimize\n",
    "from scipy.optimize import fsolve\n",
    "from matplotlib import pyplot as plt\n",
    "import pandas as pd\n",
    "\n",
    "import sys\n",
    "sys.path.append(\"../\")\n",
    "from bargains_logit import *"
   ]
  },
  {
   "cell_type": "code",
   "execution_count": 4,
   "id": "9866b93e",
   "metadata": {},
   "outputs": [
    {
     "name": "stdout",
     "output_type": "stream",
     "text": [
      "(array([13.92938232]), array([13.93029785]))\n",
      "(array([15.]), array([12.28417969]))\n"
     ]
    }
   ],
   "source": [
    "COST =5\n",
    "WTP =  np.array([25,25])\n",
    "MC = np.array([0,0])\n",
    "\n",
    "print(simult_bargain(15,15,COST,WTP,MC,active=True))\n",
    "print(seq_bargain(15, COST, WTP, MC))"
   ]
  },
  {
   "cell_type": "code",
   "execution_count": 5,
   "id": "821b01a8",
   "metadata": {},
   "outputs": [
    {
     "name": "stdout",
     "output_type": "stream",
     "text": [
      "(array([15.33690262]), array([12.68554688]))\n"
     ]
    }
   ],
   "source": [
    "WTP = np.array([25,26])\n",
    "print(seq_bargain(30, COST, WTP, MC))"
   ]
  },
  {
   "cell_type": "code",
   "execution_count": 6,
   "id": "1bb064ee",
   "metadata": {},
   "outputs": [
    {
     "ename": "NameError",
     "evalue": "name 'calc_price' is not defined",
     "output_type": "error",
     "traceback": [
      "\u001b[1;31m---------------------------------------------------------------------------\u001b[0m",
      "\u001b[1;31mNameError\u001b[0m                                 Traceback (most recent call last)",
      "Cell \u001b[1;32mIn[6], line 22\u001b[0m\n\u001b[0;32m     20\u001b[0m seq_phi1,seq_phi2 \u001b[38;5;241m=\u001b[39m seq_bargain(\u001b[38;5;241m30\u001b[39m, COST\u001b[38;5;241m+\u001b[39mi, WTP, MC)\n\u001b[0;32m     21\u001b[0m seq_phi \u001b[38;5;241m=\u001b[39m  np\u001b[38;5;241m.\u001b[39marray([seq_phi1[\u001b[38;5;241m0\u001b[39m],seq_phi2[\u001b[38;5;241m0\u001b[39m]])\n\u001b[1;32m---> 22\u001b[0m seq_p1, seq_p2 \u001b[38;5;241m=\u001b[39m \u001b[43mcalc_price\u001b[49m(seq_phi1[\u001b[38;5;241m0\u001b[39m],seq_phi2[\u001b[38;5;241m0\u001b[39m], COST\u001b[38;5;241m+\u001b[39mi, WTP, MC)\n\u001b[0;32m     23\u001b[0m seq_p \u001b[38;5;241m=\u001b[39m np\u001b[38;5;241m.\u001b[39marray([seq_p1, seq_p2])\n\u001b[0;32m     24\u001b[0m beta \u001b[38;5;241m=\u001b[39m solve_parameters( seq_phi,seq_p , wtp\u001b[38;5;241m=\u001b[39mWTP,cost\u001b[38;5;241m=\u001b[39m COST\u001b[38;5;241m+\u001b[39mi )\n",
      "\u001b[1;31mNameError\u001b[0m: name 'calc_price' is not defined"
     ]
    }
   ],
   "source": [
    "def solve_parameters_obj(phi_obs, p_obs, cost, wtp,active=False):\n",
    "    mc_i  = np.array([0,0])\n",
    "    wtp2 = np.array([wtp,wtp])\n",
    "    phi1,phi2 = simult_bargain(15,15,cost,wtp2,mc_i,active=active)\n",
    "    p1,p2,s1,s2,profits1,profits2 = calc_profits_price_shares(phi1,phi2,cost,wtp2,mc_i)\n",
    "    \n",
    "    phi = np.array([phi1[0],phi2[0]])\n",
    "    p = np.array([p1[0],p2[0]])\n",
    "    return ((phi-phi_obs)**2).sum() + ((p-p_obs)**2).sum()\n",
    "\n",
    "\n",
    "def solve_parameters(phi_obs,p_obs,wtp=np.array([25,25]),cost=5,active=True): \n",
    "    obj = lambda betas : solve_parameters_obj(phi_obs, p_obs, cost, wtp, betas, active=active)\n",
    "    \n",
    "    beta_implied = minimize(obj, [.5,.5], options={'fatol':1e-2,'xatol':1e-2,'maxiter':20},method='Nelder-Mead').x # \n",
    "    return beta_implied\n",
    "\n",
    "\n",
    "for i in range(0,3):\n",
    "    seq_phi1,seq_phi2 = seq_bargain(30, COST+i, WTP, MC)\n",
    "    seq_phi =  np.array([seq_phi1[0],seq_phi2[0]])\n",
    "    seq_p1, seq_p2 = calc_price(seq_phi1[0],seq_phi2[0], COST+i, WTP, MC)\n",
    "    seq_p = np.array([seq_p1, seq_p2])\n",
    "    beta = solve_parameters( seq_phi,seq_p , wtp=WTP,cost= COST+i )\n",
    "    result = (COST+i, WTP, seq_phi1[0], seq_phi2[0], seq_p1, seq_p2, beta[0],beta[1])\n",
    "    print('%.2f,%.2f,%.2f,%.2f,%.2f,%.2f,%.2f,%.2f'%result)\n"
   ]
  },
  {
   "cell_type": "code",
   "execution_count": null,
   "id": "d1463034",
   "metadata": {},
   "outputs": [],
   "source": []
  }
 ],
 "metadata": {
  "kernelspec": {
   "display_name": "Python 3 (ipykernel)",
   "language": "python",
   "name": "python3"
  },
  "language_info": {
   "codemirror_mode": {
    "name": "ipython",
    "version": 3
   },
   "file_extension": ".py",
   "mimetype": "text/x-python",
   "name": "python",
   "nbconvert_exporter": "python",
   "pygments_lexer": "ipython3",
   "version": "3.10.9"
  }
 },
 "nbformat": 4,
 "nbformat_minor": 5
}
