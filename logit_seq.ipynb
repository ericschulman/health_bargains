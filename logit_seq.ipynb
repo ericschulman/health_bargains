{
 "cells": [
  {
   "cell_type": "code",
   "execution_count": 1,
   "id": "74168559",
   "metadata": {},
   "outputs": [],
   "source": [
    "import numpy as np\n",
    "from scipy.optimize import minimize\n",
    "from scipy.optimize import fsolve\n",
    "from matplotlib import pyplot as plt\n",
    "import pandas as pd"
   ]
  },
  {
   "cell_type": "code",
   "execution_count": 2,
   "id": "40acc926",
   "metadata": {},
   "outputs": [
    {
     "name": "stdout",
     "output_type": "stream",
     "text": [
      "9.483676147460931\n"
     ]
    },
    {
     "data": {
      "text/plain": [
       "[<matplotlib.lines.Line2D at 0x7f2f4e3243a0>]"
      ]
     },
     "execution_count": 2,
     "metadata": {},
     "output_type": "execute_result"
    },
    {
     "data": {
      "image/png": "[encoded data removed]",
      "text/plain": [
       "<Figure size 432x288 with 1 Axes>"
      ]
     },
     "metadata": {
      "needs_background": "light"
     },
     "output_type": "display_data"
    }
   ],
   "source": [
    "#solve nash bargaining with one insurer\n",
    "\n",
    "def calc_shares1(p1, cost, wtp):\n",
    "    \"\"\"compute the proportion of people choosing each insurer\n",
    "    assumes interior solution\"\"\"\n",
    "    u1 = (wtp - p1)/cost\n",
    "    s1 = np.exp(u1)/(np.exp(u1) + 1 )\n",
    "    return s1\n",
    "  \n",
    "\n",
    "def calc_profits_price_shares1(phi1,cost,wtp,mc1):\n",
    "    pi1 = lambda p : -1*calc_shares1(p, cost, wtp)[0]*(p-phi1 -mc1)\n",
    "    p1 = minimize(pi1,1,method='Nelder-Mead',tol=1e-6).x\n",
    "    s1 = calc_shares1(p1,  cost, wtp)\n",
    "    return p1[0], s1[0], s1[0]*(p1[0]-phi1 -mc1)\n",
    "\n",
    "def nash_in_nash_obj1(phi1, cost, wtp, mc1, beta=.5):\n",
    "    p1,s1,profits1 = calc_profits_price_shares1(phi1, cost, wtp, mc1)\n",
    "    hosp_profit = s1*phi1\n",
    "    obj = -1*(np.log(hosp_profit)*(1-beta) + np.log(profits1)*beta)\n",
    "\n",
    "    return obj\n",
    "\n",
    "def nash_in_nash1(cost,wtp,mc1,outside_option=False):\n",
    "    obj1 = lambda phi : nash_in_nash_obj1(phi,cost,wtp,mc1)\n",
    "    result = minimize(obj1,13,method='Nelder-Mead',tol=1e-6)\n",
    "    \n",
    "    if outside_option:\n",
    "        return result.x[0]*calc_shares1(result.x[0], cost, wtp)\n",
    "    return result.x[0]\n",
    "\n",
    "print(nash_in_nash1(5,25,0))\n",
    "\n",
    "COST = 5\n",
    "WTP1 = 25\n",
    "MC1 = 0\n",
    "\n",
    "plt.plot([i for i in np.linspace(0,4*COST,num=7)], \n",
    "         [-1*nash_in_nash_obj1(i, COST,WTP1,MC1) for i in np.linspace(1,4*COST,num=7)])"
   ]
  },
  {
   "cell_type": "code",
   "execution_count": 3,
   "id": "f31abd84",
   "metadata": {},
   "outputs": [
    {
     "name": "stdout",
     "output_type": "stream",
     "text": [
      "[-0.93382265]\n"
     ]
    }
   ],
   "source": [
    "#solve nash bargaining with 2 insurers\n",
    "\n",
    "def calc_shares(p1, p2,  cost, wtp):\n",
    "    \"\"\"compute the proportion of people choosing each insurer\n",
    "    assumes interior solution\"\"\"\n",
    "    u1 = (wtp[0] - p1)/cost\n",
    "    u2 = (wtp[1] - p2)/cost\n",
    "    s1 = np.exp(u1)/(np.exp(u1)+ np.exp(u2) + 1 )\n",
    "    s2 = np.exp(u2)/(np.exp(u1)+ np.exp(u2) + 1 )\n",
    "    \n",
    "    return s1,s2\n",
    "  \n",
    "\n",
    "def calc_profits_price_shares(phi1,phi2,cost,wtp,mc):\n",
    "    mc1,mc2 = mc\n",
    "    \n",
    "    p1,p2 = 1,2\n",
    "    diff =  np.maximum(p1,p1)\n",
    "    p10,p20 = 0,0\n",
    "    maxiter = 10\n",
    "    while maxiter >=0 and diff > 10e-7:\n",
    "        #seems as though there is a contraction mapping here, need to think more about why\n",
    "        \n",
    "        pi1 = lambda p : -1*calc_shares(p, p20,  cost, wtp)[0]*(p-phi1 -mc1)\n",
    "        pi2 = lambda p :  -1*calc_shares(p10, p,  cost, wtp)[1]*(p-phi2 -mc2)\n",
    "\n",
    "        \n",
    "        p1 = minimize(pi1,p10).x\n",
    "        p2 = minimize(pi2,p20).x\n",
    "        \n",
    "        #update loop variables\n",
    "        diff = np.abs(np.maximum(p1 - p10,p2-p20))[0]\n",
    "        p10,p20 = p1,p2\n",
    "        maxiter = maxiter-1\n",
    "        \n",
    "    s1,s2 = calc_shares(p1, p2,  cost, wtp)\n",
    "    return p1, p2, s1,s2, s1*(p1-phi1 -mc1), s2*(p2-phi2 -mc2)\n",
    "\n",
    "\n",
    "\n",
    "#arbitrary outside option...\n",
    "def nash_in_nash(phi1, phi2, cost, wtp, mc, beta=.5, outside_option=None):\n",
    "    p1,p2,s1,s2,profits1,profits2 = calc_profits_price_shares(phi1,phi2,cost,wtp,mc)\n",
    "    hosp_profit = s1*phi1 + s2*phi2\n",
    "        \n",
    "    obj = -1*(np.log(max(hosp_profit-outside_option,1e-6))*(1-beta) \n",
    "              + np.log(profits1)*beta)\n",
    "    return obj\n",
    "\n",
    "\n",
    "COST = 5\n",
    "WTP = np.array([25,25])\n",
    "MC = np.array([0,0])\n",
    "OUTSIDE = nash_in_nash1(COST,WTP[0],MC[0],outside_option=True)\n",
    "print(nash_in_nash(3*COST,3*COST, COST, WTP, MC,outside_option=OUTSIDE))"
   ]
  },
  {
   "cell_type": "code",
   "execution_count": 4,
   "id": "6018e369",
   "metadata": {
    "scrolled": false
   },
   "outputs": [
    {
     "data": {
      "text/plain": [
       "[<matplotlib.lines.Line2D at 0x7f2f4da4d1c0>]"
      ]
     },
     "execution_count": 4,
     "metadata": {},
     "output_type": "execute_result"
    },
    {
     "data": {
      "image/png": "[encoded data removed]",
      "text/plain": [
       "<Figure size 432x288 with 1 Axes>"
      ]
     },
     "metadata": {
      "needs_background": "light"
     },
     "output_type": "display_data"
    }
   ],
   "source": [
    "def bargain_helper_seq(phi1, cost, wtp, mc,beta=.5):\n",
    "    \"\"\" solve firm 1s optimization holding theta 2 fixed \"\"\"\n",
    "    #figure out mkt shares if p1 is locked in...\n",
    "    p1,s1,profit1 = calc_profits_price_shares1(phi1,cost,wtp[0],mc[0])\n",
    "\n",
    "    result = minimize( nash_in_nash, 15., args=(phi1, cost, wtp[::-1], mc[::-1], beta, s1*phi1),\n",
    "                      method='Nelder-Mead', options={'disp': False} )\n",
    "    return result.x\n",
    "\n",
    "\n",
    "def seq_obj(phi1, cost, wtp, mc, betas=np.array([.5,.5]),outside_option=None):\n",
    "    \"\"\" theta1 is a guess for the first stage \"\"\"\n",
    "    phi2 = bargain_helper_seq(phi1, cost, wtp, mc,betas[1])\n",
    "    return nash_in_nash( phi1, phi2, cost, wtp, mc, betas[0], outside_option=outside_option )\n",
    "\n",
    "\n",
    "\n",
    "\n",
    "COST = 5\n",
    "WTP = np.array([25,25])\n",
    "MC = np.array([0,0])\n",
    "OUTSIDE = nash_in_nash1(COST,WTP[0],MC[0],outside_option=True)\n",
    "SUPPORT = [i for i in np.linspace(12,14+1.5*COST,num=7)]\n",
    "\n",
    "plt.plot(SUPPORT,  \n",
    "         [seq_obj(i, COST, WTP,MC,outside_option=OUTSIDE) for i in SUPPORT])"
   ]
  },
  {
   "cell_type": "code",
   "execution_count": 14,
   "id": "fc758bcc",
   "metadata": {},
   "outputs": [
    {
     "name": "stdout",
     "output_type": "stream",
     "text": [
      "(array([15.28710938]), array([12.67456055]))\n",
      "(array([15.36328125]), array([12.42041016]))\n"
     ]
    }
   ],
   "source": [
    "def seq_bargain(phi1, cost, wtp, mc, betas=[.5,.5]):\n",
    "    \"\"\"solve the bargaining problems seperately,\n",
    "    then solve for the solution\"\"\"   \n",
    "    #only compute no deal 1x for initial\n",
    "    outside1 = nash_in_nash1(cost,wtp[1],mc[1],outside_option=True)\n",
    "    result = minimize(seq_obj, phi1, args=(cost, wtp, mc, betas,outside1),\n",
    "                      method='Nelder-Mead', options={'disp': False})\n",
    "    \n",
    "    phi1 = result.x\n",
    "    phi2 = bargain_helper_seq(phi1, cost, wtp, mc ,beta=betas[1])\n",
    "    return phi1, phi2\n",
    "\n",
    "#WTP = np.array([25,25])\n",
    "#print(seq_bargain(30, COST, WTP, MC))\n",
    "WTP = np.array([25,26])\n",
    "print(seq_bargain(30, COST, WTP, MC))\n",
    "WTP = np.array([26,25])\n",
    "print(seq_bargain(30, COST, WTP, MC))"
   ]
  },
  {
   "cell_type": "code",
   "execution_count": 7,
   "id": "aedc5def",
   "metadata": {},
   "outputs": [
    {
     "name": "stdout",
     "output_type": "stream",
     "text": [
      "l phi1 phi 2 hosp profit profit 1 profit 2\n",
      "5.0 15.091 12.302 22.672 21.324 10.622 2.581 4.022\n",
      "6.0 16.019 12.422 24.611 22.689 9.995 2.592 4.267\n",
      "7.0 17.101 12.671 26.681 24.116 9.526 2.579 4.445\n",
      "8.0 18.167 12.996 28.758 25.576 9.176 2.591 4.58\n"
     ]
    }
   ],
   "source": [
    "COST = 5\n",
    "WTP = np.array([25,25])\n",
    "\n",
    "print(\"l\" , \"phi1\", \"phi 2\", \"hosp profit\", \"profit 1\", \"profit 2\")\n",
    "for i in np.linspace(0,3,4):\n",
    "    mc_i = np.array([0, 0])\n",
    "    phi1,phi2 = seq_bargain(22,COST+i,WTP,mc_i)\n",
    "    p1,p2,s1,s2,profits1,profits2 = calc_profits_price_shares(phi1,phi2,COST+i,WTP,mc_i)\n",
    "    hosp_profit = s1*phi1[0] + s2*phi2[0]\n",
    "    print(COST+i, round(phi1[0],3), round(phi2[0],3), round(p1[0],3), round(p2[0],3), \n",
    "          round(hosp_profit[0],3), round(profits1[0],3), round(profits2[0],3))"
   ]
  },
  {
   "cell_type": "code",
   "execution_count": 8,
   "id": "ed2d0a07",
   "metadata": {},
   "outputs": [
    {
     "name": "stdout",
     "output_type": "stream",
     "text": [
      "v phi 1 phi 2 hosp profit profit 1 profit 2\n",
      "25.0 25.0 15.091 12.302 22.672 21.324 10.622 2.581 4.022\n",
      "26.0 26.0 15.503 12.785 23.187 21.903 11.19 2.684 4.118\n",
      "27.0 27.0 15.89 13.277 23.685 22.478 11.76 2.796 4.201\n",
      "28.0 28.0 16.455 13.799 24.31 23.104 12.366 2.856 4.305\n",
      "29.0 29.0 16.912 14.32 24.859 23.704 12.962 2.947 4.384\n",
      "30.0 30.0 17.489 14.851 25.49 24.333 13.58 3.001 4.483\n"
     ]
    }
   ],
   "source": [
    "COST = 5\n",
    "WTP = np.array([25,25])\n",
    "\n",
    "print(\"v\" ,\"phi 1\" , \"phi 2\", \"hosp profit\", \"profit 1\", \"profit 2\")\n",
    "for i in np.linspace(0,3,4):\n",
    "    mc_i = np.array([0, 0])\n",
    "    phi1,phi2 = seq_bargain(22,COST,WTP+i,mc_i)\n",
    "    p1,p2,s1,s2,profits1,profits2 = calc_profits_price_shares(phi1,phi2,COST,WTP+i,mc_i)\n",
    "    hosp_profit = s1*phi1 + s2*phi2\n",
    "    print(WTP[0]+i,WTP[0]+i, round(phi1[0],3), round(phi2[0],3), round(p1[0],3), round(p2[0],3), \n",
    "          round(hosp_profit[0],3), round(profits1[0],3), round(profits2[0],3))"
   ]
  },
  {
   "cell_type": "code",
   "execution_count": 15,
   "id": "58dfa820",
   "metadata": {},
   "outputs": [
    {
     "name": "stdout",
     "output_type": "stream",
     "text": [
      "v1 v2 phi 1 phi 2 hosp profit profit 1 profit 2\n",
      "25.0 25.0 15.091 12.302 22.672 21.324 10.622 2.581 4.022\n",
      "26.0 25.0 15.297 12.406 23.136 21.234 10.92 2.839 3.829\n",
      "27.0 25.0 15.613 12.529 23.692 21.182 11.24 3.08 3.653\n",
      "28.0 25.0 15.783 12.616 24.162 21.084 11.532 3.379 3.469\n"
     ]
    }
   ],
   "source": [
    "COST = 5\n",
    "WTP = np.array([25,25])\n",
    "\n",
    "print(\"v1\" ,\"v2\" ,\"phi 1\" , \"phi 2\", \"hosp profit\", \"profit 1\", \"profit 2\")\n",
    "for i in np.linspace(0,3,4):\n",
    "    mc_i = np.array([0, 0])\n",
    "    wtp_i = np.array([WTP[0]+i,WTP[1]])\n",
    "    phi1,phi2 = seq_bargain(22,COST,wtp_i,mc_i)\n",
    "    p1,p2,s1,s2,profits1,profits2 = calc_profits_price_shares(phi1,phi2,COST,wtp_i,mc_i)\n",
    "    hosp_profit = s1*phi1 + s2*phi2\n",
    "    print(wtp_i[0],wtp_i[1], round(phi1[0],3), round(phi2[0],3), round(p1[0],3), round(p2[0],3), \n",
    "          round(hosp_profit[0],3), round(profits1[0],3), round(profits2[0],3))"
   ]
  },
  {
   "cell_type": "code",
   "execution_count": 16,
   "id": "989885cc",
   "metadata": {},
   "outputs": [
    {
     "name": "stdout",
     "output_type": "stream",
     "text": [
      "v1 v2 phi 1 phi 2 hosp profit profit 1 profit 2\n",
      "25.0 25.0 15.091 12.302 22.672 21.324 10.622 2.581 4.022\n",
      "25.0 26.0 15.366 12.69 22.786 22.022 10.904 2.421 4.332\n",
      "25.0 27.0 15.529 13.062 22.826 22.703 11.177 2.297 4.641\n",
      "25.0 28.0 15.606 13.43 22.807 23.374 11.448 2.201 4.945\n"
     ]
    }
   ],
   "source": [
    "COST = 5\n",
    "WTP = np.array([25,25])\n",
    "\n",
    "print(\"v1\" ,\"v2\" ,\"phi 1\" , \"phi 2\", \"hosp profit\", \"profit 1\", \"profit 2\")\n",
    "for i in np.linspace(0,3,4):\n",
    "    mc_i = np.array([0, 0])\n",
    "    wtp_i = np.array([WTP[0],WTP[1]+i])\n",
    "    phi1,phi2 = seq_bargain(22,COST,wtp_i,mc_i)\n",
    "    p1,p2,s1,s2,profits1,profits2 = calc_profits_price_shares(phi1,phi2,COST,wtp_i,mc_i)\n",
    "    hosp_profit = s1*phi1 + s2*phi2\n",
    "    print(wtp_i[0],wtp_i[1], round(phi1[0],3), round(phi2[0],3), round(p1[0],3), round(p2[0],3), \n",
    "          round(hosp_profit[0],3), round(profits1[0],3), round(profits2[0],3))"
   ]
  },
  {
   "cell_type": "code",
   "execution_count": null,
   "id": "e59ff09b",
   "metadata": {},
   "outputs": [],
   "source": []
  },
  {
   "cell_type": "code",
   "execution_count": null,
   "id": "91720cd0",
   "metadata": {},
   "outputs": [],
   "source": []
  }
 ],
 "metadata": {
  "kernelspec": {
   "display_name": "Python 3 (ipykernel)",
   "language": "python",
   "name": "python3"
  },
  "language_info": {
   "codemirror_mode": {
    "name": "ipython",
    "version": 3
   },
   "file_extension": ".py",
   "mimetype": "text/x-python",
   "name": "python",
   "nbconvert_exporter": "python",
   "pygments_lexer": "ipython3",
   "version": "3.9.7"
  }
 },
 "nbformat": 4,
 "nbformat_minor": 5
}
