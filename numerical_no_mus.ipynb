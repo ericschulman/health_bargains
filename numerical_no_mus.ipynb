{
 "cells": [
  {
   "cell_type": "code",
   "execution_count": 1,
   "metadata": {},
   "outputs": [],
   "source": [
    "import numpy as np\n",
    "from scipy.optimize import minimize\n",
    "from scipy.optimize import fsolve\n",
    "from matplotlib import pyplot as plt\n",
    "import pandas as pd"
   ]
  },
  {
   "cell_type": "code",
   "execution_count": 2,
   "metadata": {},
   "outputs": [
    {
     "name": "stdout",
     "output_type": "stream",
     "text": [
      "-1.5151423275303253\n"
     ]
    }
   ],
   "source": [
    "def calc_price(theta1, theta2, cost, wtp):\n",
    "    \"\"\"compute each insurer's price (assumes interior solution)\"\"\"\n",
    "    p1 = (2*theta1+theta2)/3. + cost\n",
    "    p2 = (2*theta2+theta1)/3. + cost\n",
    "    return p1, p2\n",
    "\n",
    "def calc_t(theta1, theta2, cost, wtp):\n",
    "    \"\"\"compute the proportion of people choosing each insurer\n",
    "    assumes interior solution\"\"\"\n",
    "    p1, p2 = calc_price(theta1, theta2, cost, wtp)\n",
    "    t_hat = .5 + (p2 - p1)/(2.*cost)\n",
    "    return t_hat\n",
    "\n",
    "\n",
    "def calc_profits(theta1,theta2,cost, wtp):\n",
    "    t= calc_t(theta1, theta2, cost, wtp)\n",
    "    p1,p2 = calc_price(theta1, theta2, cost, wtp)\n",
    "    profits1, profits2 = t*(p1-theta1), (1-t)*(p2-theta2)\n",
    "    hosp_profit = t*theta1 +  (1-t)*theta2\n",
    "    return hosp_profit, profits1, profits2\n",
    "\n",
    "\n",
    "def outside_simlt(theta1, theta2, cost, wtp):\n",
    "    \"\"\"outside option in simult case\n",
    "    assuming listprice high enough\"\"\"\n",
    "    if wtp < 8*cost/3:\n",
    "        return 3.*wtp**2/(32.*cost)\n",
    "    else:\n",
    "        return (wtp-cost)/(2)\n",
    "    return \n",
    "\n",
    "\n",
    "#arbitrary outside option...\n",
    "def nash_in_nash(theta1, theta2, cost, wtp,beta=.5,seq=False):\n",
    "    hosp_profit, profits1, profits2 = calc_profits(theta1, theta2,  cost,  wtp)\n",
    "    outside = outside_simlt(theta1, theta2, cost, wtp)\n",
    "    if seq:\n",
    "        #print(outside)\n",
    "        #print(theta1,theta2,'bargain_obj')\n",
    "        outside = theta2\n",
    "    obj = -1*(np.log(max(hosp_profit-outside,1e-4))*(1-beta) + np.log(profits1)*beta)\n",
    "    return obj\n",
    "\n",
    "\n",
    "\n",
    "COST = 10\n",
    "WTP = 25\n",
    "\n",
    "print(nash_in_nash(COST,COST, COST, WTP))"
   ]
  },
  {
   "cell_type": "code",
   "execution_count": 3,
   "metadata": {},
   "outputs": [
    {
     "data": {
      "text/plain": [
       "[<matplotlib.lines.Line2D at 0x7f519fcfd4f0>]"
      ]
     },
     "execution_count": 3,
     "metadata": {},
     "output_type": "execute_result"
    },
    {
     "data": {
      "image/png": "[encoded data removed]",
      "text/plain": [
       "<Figure size 432x288 with 1 Axes>"
      ]
     },
     "metadata": {
      "needs_background": "light"
     },
     "output_type": "display_data"
    }
   ],
   "source": [
    "COST = 5\n",
    "WTP  = 25\n",
    "plt.plot([i for i in np.linspace(1,2*WTP,num=20)], \n",
    "         [-1*nash_in_nash(i, 15, COST,WTP) for i in np.linspace(1,2*WTP,num=20)])"
   ]
  },
  {
   "cell_type": "code",
   "execution_count": 4,
   "metadata": {},
   "outputs": [
    {
     "name": "stdout",
     "output_type": "stream",
     "text": [
      "[13.52636719]\n"
     ]
    }
   ],
   "source": [
    "def bargain_helper(theta1, theta2, cost, wtp,beta=.5):\n",
    "    \"\"\"solve each firm 1s optimization holding theta 2 fixed\"\"\"\n",
    "    result = minimize(nash_in_nash, theta1, args=(theta2,cost, wtp, beta),\n",
    "                      method='Nelder-Mead', options={'disp': False})\n",
    "    return result.x\n",
    "\n",
    "COST = 5\n",
    "WTP  = 25\n",
    "print(bargain_helper(11.25,11.25, COST,WTP))"
   ]
  },
  {
   "cell_type": "code",
   "execution_count": 5,
   "metadata": {
    "scrolled": false
   },
   "outputs": [
    {
     "name": "stdout",
     "output_type": "stream",
     "text": [
      "(array([13.74998685]), array([13.75003069]))\n"
     ]
    }
   ],
   "source": [
    "def simult_bargain(theta1, theta2, cost, wtp, betas=[.5,.5]):\n",
    "    \"\"\"solve the bargaining problems seperately and iterate for a solution\"\"\"       \n",
    "    \n",
    "    #loop variables\n",
    "    diff =  theta1\n",
    "\n",
    "    maxiter = 10\n",
    "    while maxiter >=0 and diff > 10e-7:\n",
    "        #seems as though there is a contraction mapping here, need to think more about why\n",
    "        theta1 = bargain_helper(theta1, theta2, cost, wtp, betas[0])\n",
    "        theta2 = bargain_helper(theta2, theta1, cost, wtp, betas[1])\n",
    "        \n",
    "        #update loop variables\n",
    "        diff = np.abs(np.max(theta1 - theta2))\n",
    "        maxiter = maxiter-1\n",
    "        \n",
    "    return theta1, theta2\n",
    "\n",
    "COST = 5\n",
    "WTP  = 25\n",
    "print(simult_bargain(11.25,11.25,COST,WTP))\n"
   ]
  },
  {
   "cell_type": "code",
   "execution_count": 6,
   "metadata": {
    "scrolled": false
   },
   "outputs": [
    {
     "data": {
      "text/plain": [
       "[<matplotlib.lines.Line2D at 0x7f519fc6e400>]"
      ]
     },
     "execution_count": 6,
     "metadata": {},
     "output_type": "execute_result"
    },
    {
     "data": {
      "image/png": "[encoded data removed]",
      "text/plain": [
       "<Figure size 432x288 with 1 Axes>"
      ]
     },
     "metadata": {
      "needs_background": "light"
     },
     "output_type": "display_data"
    }
   ],
   "source": [
    "def bargain_helper_seq(theta1, cost, wtp,beta=.5):\n",
    "    \"\"\" solve firm 1s optimization holding theta 2 fixed \"\"\"\n",
    "\n",
    "    result = minimize( nash_in_nash, 15., args=(theta1, cost, wtp, beta),\n",
    "                      method='Nelder-Mead', options={'disp': False} )\n",
    "    return result.x\n",
    "\n",
    "def seq_obj(theta1, cost, wtp,betas=[.5,.5]):\n",
    "    \"\"\" theta1 is a guess for the first stage \"\"\"\n",
    "    theta2 = bargain_helper_seq(theta1, cost, wtp, betas[1])\n",
    "\n",
    "    return nash_in_nash(theta1, theta2, cost, wtp,betas[0],seq=True)\n",
    "\n",
    "\n",
    "COST = 5\n",
    "WTP = 25\n",
    "plt.plot([i for i in np.linspace(COST+3,WTP +10,num=20)],  \n",
    "         [seq_obj(i, 13.5 , WTP) for i in np.linspace(COST+3,WTP +10,num=20)])\n"
   ]
  },
  {
   "cell_type": "code",
   "execution_count": 7,
   "metadata": {},
   "outputs": [
    {
     "name": "stdout",
     "output_type": "stream",
     "text": [
      "(array([19.37503662]), array([15.62502572]))\n",
      "(17.40625, 11.28125, 13.78125)\n",
      "(array([19.87496948]), array([16.12500042]))\n",
      "(17.409855769230766, 11.780048076923077, 14.280048076923078)\n"
     ]
    }
   ],
   "source": [
    "def seq_bargain(theta1, cost, wtp,betas=[.5,.5]):\n",
    "    \"\"\"solve the bargaining problems seperately,\n",
    "    then solve for the solution\"\"\"   \n",
    "    #only compute no deal 1x for initial\n",
    "    result = minimize(seq_obj, theta1, args=(cost, wtp,betas),\n",
    "                      method='Nelder-Mead', options={'disp': False})\n",
    "    \n",
    "    theta1 = result.x\n",
    "    theta2 = bargain_helper(theta1, theta1, cost, wtp,beta=betas[1])\n",
    "    return theta1, theta2\n",
    "\n",
    "#WTP for insurer \n",
    "\n",
    "print(seq_bargain(19,5,25))\n",
    "print(calc_profits(19.375,15.625,25,5))\n",
    "print(seq_bargain(19,5,26))\n",
    "print(calc_profits(19.375,15.625,26,5))"
   ]
  },
  {
   "cell_type": "code",
   "execution_count": null,
   "metadata": {},
   "outputs": [],
   "source": []
  },
  {
   "cell_type": "code",
   "execution_count": 12,
   "metadata": {
    "scrolled": false
   },
   "outputs": [
    {
     "name": "stdout",
     "output_type": "stream",
     "text": [
      "\n",
      " Simultaneous \n",
      "\n",
      "25.000 & 13.750  & 18.750  & 2.500  & 13.750  \\\\\n",
      "26.000 & 14.250  & 19.250  & 2.500  & 14.250  \\\\\n",
      "27.000 & 14.750  & 19.750  & 2.500  & 14.750  \\\\\n",
      "28.000 & 15.250  & 20.250  & 2.500  & 15.250  \\\\\n",
      "29.000 & 15.750  & 20.750  & 2.500  & 15.750  \\\\\n",
      "30.000 & 16.250  & 21.250  & 2.500  & 16.250  \\\\\n",
      "\n",
      "\n",
      "25.000 & 13.750  & 18.750  & 2.500  & 13.750   \\\\\n",
      "26.000 & 14.250  & 19.250  & 2.500  & 14.250   \\\\\n",
      "27.000 & 14.750  & 19.750  & 2.500  & 14.750   \\\\\n",
      "28.000 & 15.250  & 20.250  & 2.500  & 15.250   \\\\\n",
      "29.000 & 15.750  & 20.750  & 2.500  & 15.750   \\\\\n",
      "30.000 & 16.250  & 21.250  & 2.500  & 16.250   \\\\\n",
      "\n",
      " Sequential \n",
      "\n",
      "25.000 & 19.375  & 23.125  & 1.406  & 17.031  \\\\\n",
      "26.000 & 19.875  & 23.625  & 1.406  & 17.531  \\\\\n",
      "27.000 & 20.375  & 24.125  & 1.406  & 18.031  \\\\\n",
      "28.000 & 20.875  & 24.625  & 1.406  & 18.531  \\\\\n",
      "29.000 & 21.375  & 25.125  & 1.406  & 19.031  \\\\\n",
      "30.000 & 21.875  & 25.625  & 1.406  & 19.531  \\\\\n",
      "\n",
      "\n",
      "25.000 & 15.625  & 21.875  & 3.906  & 17.031   \\\\\n",
      "26.000 & 16.125  & 22.375  & 3.906  & 17.531   \\\\\n",
      "27.000 & 16.625  & 22.875  & 3.906  & 18.031   \\\\\n",
      "28.000 & 17.125  & 23.375  & 3.906  & 18.531   \\\\\n",
      "29.000 & 17.625  & 23.875  & 3.906  & 19.031   \\\\\n",
      "30.000 & 18.125  & 24.375  & 3.906  & 19.531   \\\\\n"
     ]
    }
   ],
   "source": [
    "def make_table(arg, steps, params,betas=[.5,.5]):\n",
    "    \"\"\"the argument is \n",
    "    args =  0 -cost, 1 - wtp\n",
    "    steps = min_arg, max_arg, no_step \"\"\"\n",
    "    \n",
    "    min_arg, max_arg, no_step = steps\n",
    "    \n",
    "    cols = ['eq_type','listprice','distance_cost','mc1','mc2','profit1','profit2','hosp_profit','share1','share2']\n",
    "    \n",
    "    indep_var = np.linspace(min_arg, max_arg, no_step)\n",
    "    \n",
    "    for eq_type in ['Simultaneous', 'Sequential']:\n",
    "        result1 = []\n",
    "        result2 = []\n",
    "        for var in indep_var:\n",
    "        \n",
    "            param_copy = list(params)\n",
    "            param_copy[arg] = var\n",
    "            cost,wtp = param_copy\n",
    "            \n",
    "            mc1,mc2 = 20,20\n",
    "            \n",
    "            if eq_type == 'Simultaneous':\n",
    "                mc1,mc2 = simult_bargain(mc1, mc2, cost, wtp,betas=betas)\n",
    "            else:\n",
    "                mc1,mc2 = seq_bargain(mc1, cost, wtp,betas=betas)\n",
    "            \n",
    "            s1 = calc_t(mc1,mc2, cost,wtp)\n",
    "            s2 = (1-s1)\n",
    "            p1,p2 = calc_price(mc1,mc2,cost,wtp)\n",
    "            pi_h,pi1,pi2 = calc_profits(mc1,mc2,cost, wtp)\n",
    "            cons1 = wtp - s1*cost - p1\n",
    "            cons2 = wtp - s2*cost - p2\n",
    "\n",
    "            result1.append( (wtp, mc1, p1, pi1,  pi_h) ) \n",
    "            result2.append( (wtp, mc2, p2, pi2,  pi_h) ) \n",
    "        print('\\n',eq_type, '\\n')\n",
    "        \n",
    "        for line in result1:\n",
    "            print(\"%.3f & %.3f  & %.3f  & %.3f  & %.3f  \\\\\\\\\"%line)\n",
    "            \n",
    "        print('\\n')\n",
    "        \n",
    "        for line in result2:\n",
    "            print(\"%.3f & %.3f  & %.3f  & %.3f  & %.3f   \\\\\\\\\"%line)\n",
    "            \n",
    "#make_table(0, (5,7,3), (5,25),betas=[.5,.5])\n",
    "make_table(1, (25,30,6), (5,25),betas=[.5,.5])"
   ]
  },
  {
   "cell_type": "code",
   "execution_count": null,
   "metadata": {},
   "outputs": [],
   "source": []
  },
  {
   "cell_type": "code",
   "execution_count": null,
   "metadata": {},
   "outputs": [],
   "source": []
  },
  {
   "cell_type": "code",
   "execution_count": null,
   "metadata": {},
   "outputs": [],
   "source": []
  }
 ],
 "metadata": {
  "kernelspec": {
   "display_name": "Python 3",
   "language": "python",
   "name": "python3"
  },
  "language_info": {
   "codemirror_mode": {
    "name": "ipython",
    "version": 3
   },
   "file_extension": ".py",
   "mimetype": "text/x-python",
   "name": "python",
   "nbconvert_exporter": "python",
   "pygments_lexer": "ipython3",
   "version": "3.8.8"
  }
 },
 "nbformat": 4,
 "nbformat_minor": 2
}
