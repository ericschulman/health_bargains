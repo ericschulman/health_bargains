{
 "metadata": {
  "language_info": {
   "codemirror_mode": {
    "name": "ipython",
    "version": 3
   },
   "file_extension": ".py",
   "mimetype": "text/x-python",
   "name": "python",
   "nbconvert_exporter": "python",
   "pygments_lexer": "ipython3",
   "version": "3.7.6-final"
  },
  "orig_nbformat": 2,
  "kernelspec": {
   "name": "python3",
   "display_name": "Python 3",
   "language": "python"
  }
 },
 "nbformat": 4,
 "nbformat_minor": 2,
 "cells": [
  {
   "cell_type": "code",
   "execution_count": 2,
   "metadata": {},
   "outputs": [
    {
     "output_type": "display_data",
     "data": {
      "text/plain": " ⎛   2       ⎞                             \n-⎝tan (δ) + 1⎠⋅sin(tan(δ))⋅cos(cos(tan(δ)))",
      "image/png": "[encoded data removed]",
      "text/latex": "$\\displaystyle - \\left(\\tan^{2}{\\left(\\delta \\right)} + 1\\right) \\sin{\\left(\\tan{\\left(\\delta \\right)} \\right)} \\cos{\\left(\\cos{\\left(\\tan{\\left(\\delta \\right)} \\right)} \\right)}$"
     },
     "metadata": {}
    }
   ],
   "source": [
    "import numpy as np\n",
    "from sympy.interactive import printing\n",
    "printing.init_printing(use_latex=True)\n",
    "import sympy as sp\n",
    "\n",
    "delta = sp.symbols('delta')\n",
    "\n",
    "func = sp.sin(sp.cos(sp.tan(delta)))\n",
    "\n",
    "diul = sp.diff(func,delta)\n",
    "\n",
    "display(diul)"
   ]
  }
 ]
}