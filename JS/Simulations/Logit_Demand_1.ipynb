{
 "metadata": {
  "language_info": {
   "codemirror_mode": {
    "name": "ipython",
    "version": 3
   },
   "file_extension": ".py",
   "mimetype": "text/x-python",
   "name": "python",
   "nbconvert_exporter": "python",
   "pygments_lexer": "ipython3",
   "version": 3
  },
  "orig_nbformat": 2
 },
 "nbformat": 4,
 "nbformat_minor": 2,
 "cells": [
  {
   "cell_type": "code",
   "execution_count": null,
   "metadata": {},
   "outputs": [],
   "source": [
    "import numpy as np\n",
    "from scipy.optimize import minimize,fsolve\n",
    "import matplotlib.pyplot as plt\n",
    "import pandas as pd"
   ]
  },
  {
   "cell_type": "code",
   "execution_count": null,
   "metadata": {},
   "outputs": [],
   "source": [
    "#   We first want to compute the price $p_i$ offered by each insurer $i$. Since we are now dealing with the logit case, we have a few additional items we need to look into. \n",
    "def calc_price(phi1, phi2, lam, v):\n",
    "    p1 = \n",
    "    p2 = \n",
    "    return p1, p2\n",
    "#   Computing the market share $s_i$ captured by each insurer $i$. We previously assumed exogenous recapture, but this isn't necessarily the case. "
   ]
  }
 ]
}