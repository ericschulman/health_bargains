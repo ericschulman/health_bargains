{
 "cells": [
  {
   "cell_type": "code",
   "execution_count": 2,
   "metadata": {},
   "outputs": [],
   "source": [
    "from sympy import *"
   ]
  },
  {
   "cell_type": "code",
   "execution_count": 5,
   "metadata": {},
   "outputs": [],
   "source": [
    "#general purpose code for interior cases\n",
    "\n",
    "theta1=Symbol('\\\\theta_1') #phi_1\n",
    "theta2 =Symbol('\\\\theta_2') #phi_2\n",
    "lamb =Symbol('\\lambda') #can't name variable lambda\n",
    "out = Symbol('\\pi') #outside option: pi_h(g\\i)\n",
    "\n",
    "def profit(theta1,theta2, lamb):\n",
    "    return ((3*lamb)+ theta2 - theta1)**2/(18*lamb)\n",
    "\n",
    "def t(theta1, theta2, lamb): #market share\n",
    "    return (3*lamb + theta2 - theta1)/(6*lamb)\n",
    "\n",
    "#analyze symmetric simultaneous case first\n",
    "def nb_objective(theta1,theta2, lamb, outside):\n",
    "    term1 = (profit(theta1,theta2, lamb))\n",
    "    term2 = ( theta2 + (theta1- theta2)*t(theta1, theta2,lamb))\n",
    "    return term1*(term2 - outside)\n",
    "#beta\\neq1/2 makes it much harder to get analytical solutions in Python; we just have 1/2 for symmetry\n"
   ]
  },
  {
   "cell_type": "code",
   "execution_count": 6,
   "metadata": {},
   "outputs": [
    {
     "output_type": "stream",
     "name": "stdout",
     "text": [
      "3*\\lambda + \\theta_1 \n\n-3*\\lambda*\\partial_2/4 + 15*\\lambda/8 + \\theta_1 - sqrt(3)*sqrt(12*\\lambda**2*\\partial_2**2 + 36*\\lambda**2*\\partial_2 + 27*\\lambda**2 - 64*\\lambda*\\pi + 64*\\lambda*\\theta_1)/8 \n\n-3*\\lambda*\\partial_2/4 + 15*\\lambda/8 + \\theta_1 + sqrt(3)*sqrt(12*\\lambda**2*\\partial_2**2 + 36*\\lambda**2*\\partial_2 + 27*\\lambda**2 - 64*\\lambda*\\pi + 64*\\lambda*\\theta_1)/8 \n\n"
     ]
    }
   ],
   "source": [
    "#working out simultaneous solution\n",
    "partial1 = Symbol('\\partial_1')\n",
    "partial2 = Symbol('\\partial_2')\n",
    "\n",
    "foc =  diff(nb_objective(theta2, theta1, lamb, out), theta2)\n",
    "foc = foc - partial2*profit(theta2,theta1, lamb) #extra term with partial derivative is subtracted from existing expression #Python will not differentiate a symbol (variable), so we include the disagreement point as a symbol - and it will thus not be differentiated wrt theta. to figure out what the partial derivative of the disagreemen tpoint (whole point of notebook) need to manually include it (there's a missing partial derivative term) \n",
    "#Since we included the disagree as a symbol, sympy simply moves these around rather than actually solving [symbols are nodes in the tree of the expression]. since disag is a symbol, taking the derivative of it wrt another symbol is zero, even though technically we want it to be a function we haven't really specified. partial wasn't showing up, so we threw it in there.\n",
    "\n",
    "h =solve(foc,theta2)\n",
    "\n",
    "for i in range(0,len(h)):\n",
    "    print(h[i], '\\n')\n",
    "\n"
   ]
  },
  {
   "cell_type": "code",
   "execution_count": 10,
   "metadata": {},
   "outputs": [
    {
     "output_type": "stream",
     "name": "stdout",
     "text": [
      "[3*\\lambda + \\theta_1, -3*\\lambda*\\partial_2/4 + 15*\\lambda/8 + \\theta_1 - sqrt(3)*sqrt(12*\\lambda**2*\\partial_2**2 + 36*\\lambda**2*\\partial_2 + 27*\\lambda**2 - 64*\\lambda*\\pi + 64*\\lambda*\\theta_1)/8, -3*\\lambda*\\partial_2/4 + 15*\\lambda/8 + \\theta_1 + sqrt(3)*sqrt(12*\\lambda**2*\\partial_2**2 + 36*\\lambda**2*\\partial_2 + 27*\\lambda**2 - 64*\\lambda*\\pi + 64*\\lambda*\\theta_1)/8] \n",
      "\n",
      "(3*\\lambda - \\theta_1 + \\theta_2)*(-6*\\lambda*\\partial_1*(3*\\lambda - \\theta_1 + \\theta_2) - 12*\\lambda*(-\\pi + \\theta_2) - 2*(\\theta_1 - \\theta_2)*(3*\\lambda - \\theta_1 + \\theta_2) + (3*\\lambda - 2*\\theta_1 + 2*\\theta_2)*(3*\\lambda - \\theta_1 + \\theta_2))/(108*\\lambda**2) \n",
      "\n",
      "[3*\\lambda + \\theta_2, -3*\\lambda*\\partial_1/4 + 15*\\lambda/8 + \\theta_2 - sqrt(3)*sqrt(12*\\lambda**2*\\partial_1**2 + 36*\\lambda**2*\\partial_1 + 27*\\lambda**2 - 64*\\lambda*\\pi + 64*\\lambda*\\theta_2)/8, -3*\\lambda*\\partial_1/4 + 15*\\lambda/8 + \\theta_2 + sqrt(3)*sqrt(12*\\lambda**2*\\partial_1**2 + 36*\\lambda**2*\\partial_1 + 27*\\lambda**2 - 64*\\lambda*\\pi + 64*\\lambda*\\theta_2)/8] \n",
      "\n",
      "[-3*\\lambda*\\partial_1/2 + 3*\\lambda/4 + \\pi]\n"
     ]
    }
   ],
   "source": [
    "foc_firm1 =  diff(nb_objective(theta1, theta2, lamb, out), theta1)\n",
    "foc_firm1 = foc_firm1 - partial1*profit(theta1,theta2, lamb) #same as line 4,5 of cell 10 except for firm 1 instead of 2\n",
    "foc_firm1 = foc_firm1.subs({theta2:h}) #which one did it choose? \n",
    "print(h,'\\n') #whole list of h\n",
    "print(simplify(foc_firm1),'\\n') #square brackets - evaluated for each h value in the list. #'\\n' prints a new line\n",
    "\n",
    "print(solve(foc_firm1,theta1),'\\n')\n",
    "\n",
    "print(solve(foc_firm1.subs({theta2:theta1}),theta1)) #substitutes theta1=theta2, since symmetric! (the previous lines don't really work)"
   ]
  },
  {
   "cell_type": "code",
   "execution_count": null,
   "metadata": {},
   "outputs": [],
   "source": []
  }
 ],
 "metadata": {
  "kernelspec": {
   "display_name": "Python 3",
   "language": "python",
   "name": "python3"
  },
  "language_info": {
   "codemirror_mode": {
    "name": "ipython",
    "version": 3
   },
   "file_extension": ".py",
   "mimetype": "text/x-python",
   "name": "python",
   "nbconvert_exporter": "python",
   "pygments_lexer": "ipython3",
   "version": "3.7.6-final"
  }
 },
 "nbformat": 4,
 "nbformat_minor": 2
}