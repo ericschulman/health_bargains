{
 "cells": [
  {
   "cell_type": "code",
   "execution_count": 17,
   "metadata": {},
   "outputs": [],
   "source": [
    "import numpy as np\n",
    "from scipy.optimize import minimize\n",
    "from scipy.optimize import fsolve\n",
    "from matplotlib import pyplot as plt\n",
    "import pandas as pd"
   ]
  },
  {
   "cell_type": "code",
   "execution_count": 18,
   "metadata": {},
   "outputs": [
    {
     "name": "stdout",
     "output_type": "stream",
     "text": [
      "4.147024820051014\n"
     ]
    }
   ],
   "source": [
    "def calc_price(theta1, theta2, cost, wtp):\n",
    "    \"\"\"compute each insurer's price (assumes interior solution)\"\"\"\n",
    "    p1 = (2*theta1+theta2)/3. + cost\n",
    "    p2 = (2*theta2+theta1)/3. + cost\n",
    "    return p1, p2\n",
    "  \n",
    "    \n",
    "def calc_t(theta1, theta2, cost, wtp):\n",
    "    \"\"\"compute the proportion of people choosing each insurer\n",
    "    assumes interior solution\"\"\"\n",
    "    p1, p2 = calc_price(theta1, theta2, cost, wtp)\n",
    "    t_hat = .5 + (p2 - p1)/(2.*cost)\n",
    "    return t_hat\n",
    "\n",
    "\n",
    "def calc_profits(theta1,theta2,cost, wtp):\n",
    "    t= calc_t(theta1, theta2, cost, wtp)\n",
    "    p1,p2 = calc_price(theta1, theta2, cost, wtp)\n",
    "    profits1, profits2 = t*(p1-theta1), (1-t)*(p2-theta2)\n",
    "    hosp_profit = t*theta1 +  (1-t)*theta2\n",
    "    return hosp_profit, profits1, profits2\n",
    "\n",
    "    \n",
    "def outside_simlt(theta1, theta2, cost, wtp):\n",
    "    \"\"\"outside option in simult case\n",
    "    assuming listprice high enough\"\"\"\n",
    "    r  = 0\n",
    "    t_hat = calc_t(theta1, theta2, cost, wtp)\n",
    "    #t_hat = .5\n",
    "    #print(theta1, theta2,  t_hat)\n",
    "    return 10\n",
    "    return r*t_hat*theta2 + (1-t_hat)*theta2\n",
    "\n",
    "#arbitrary outside option...\n",
    "def nash_in_nash(theta1, theta2, cost, wtp,beta=.5):\n",
    "    hosp_profit, profits1, profits2 = calc_profits(theta1, theta2,  cost,  wtp)\n",
    "    obj = -1*(np.log(max(hosp_profit-outside_simlt(theta1, theta2,cost, wtp),1e-4))*(1-beta) \n",
    "              + np.log(profits1)*beta)\n",
    "    return obj\n",
    "\n",
    "\n",
    "COST = 5\n",
    "WTP = 25\n",
    "\n",
    "print(nash_in_nash(COST,COST, COST, WTP))"
   ]
  },
  {
   "cell_type": "code",
   "execution_count": 19,
   "metadata": {},
   "outputs": [
    {
     "data": {
      "text/plain": [
       "[<matplotlib.lines.Line2D at 0x7f39be01a2d0>]"
      ]
     },
     "execution_count": 19,
     "metadata": {},
     "output_type": "execute_result"
    },
    {
     "data": {
      "image/png": "[encoded data removed]",
      "text/plain": [
       "<Figure size 432x288 with 1 Axes>"
      ]
     },
     "metadata": {
      "needs_background": "light"
     },
     "output_type": "display_data"
    }
   ],
   "source": [
    "COST = 5\n",
    "WTP = 25\n",
    "\n",
    "plt.plot([i for i in np.linspace(1,2*COST,num=7)], \n",
    "         [-1*nash_in_nash(i, 7.5, COST,WTP) for i in np.linspace(1,2*COST,num=7)])"
   ]
  },
  {
   "cell_type": "code",
   "execution_count": 20,
   "metadata": {},
   "outputs": [
    {
     "name": "stdout",
     "output_type": "stream",
     "text": [
      "[-4.75368975e+29]\n"
     ]
    }
   ],
   "source": [
    "def bargain_helper(theta1, theta2, cost, wtp,beta=.5):\n",
    "    \"\"\"solve each firm 1s optimization holding theta 2 fixed\"\"\"\n",
    "    result = minimize(nash_in_nash, theta1, args=(theta2,cost, wtp, beta),\n",
    "                      method='Nelder-Mead', options={'disp': False})\n",
    "    return result.x\n",
    "\n",
    "COST = 5\n",
    "WTP  = 25\n",
    "print(bargain_helper(7.5,7.5, COST,WTP))"
   ]
  },
  {
   "cell_type": "code",
   "execution_count": 21,
   "metadata": {
    "scrolled": false
   },
   "outputs": [
    {
     "name": "stdout",
     "output_type": "stream",
     "text": [
      "(array([13.74998685]), array([13.75003069]))\n"
     ]
    }
   ],
   "source": [
    "def simult_bargain(theta1, theta2, cost, wtp, betas=[.5,.5]):\n",
    "    \"\"\"solve the bargaining problems seperately and iterate for a solution\"\"\"       \n",
    "    \n",
    "    #loop variables\n",
    "    diff =  theta1\n",
    "\n",
    "    maxiter = 10\n",
    "    while maxiter >=0 and diff > 10e-7:\n",
    "        #seems as though there is a contraction mapping here, need to think more about why\n",
    "        theta1 = bargain_helper(theta1, theta2, cost, wtp, betas[0])\n",
    "        theta2 = bargain_helper(theta2, theta1, cost, wtp, betas[1])\n",
    "        \n",
    "        #update loop variables\n",
    "        diff = np.abs(np.max(theta1 - theta2))\n",
    "        maxiter = maxiter-1\n",
    "        \n",
    "    return theta1, theta2\n",
    "\n",
    "COST = 5\n",
    "WTP  = 25\n",
    "print(simult_bargain(11.25,11.25,COST,WTP))"
   ]
  },
  {
   "cell_type": "code",
   "execution_count": 22,
   "metadata": {
    "scrolled": false
   },
   "outputs": [
    {
     "data": {
      "text/plain": [
       "[<matplotlib.lines.Line2D at 0x7f39bdfa4450>]"
      ]
     },
     "execution_count": 22,
     "metadata": {},
     "output_type": "execute_result"
    },
    {
     "data": {
      "image/png": "[encoded data removed]",
      "text/plain": [
       "<Figure size 432x288 with 1 Axes>"
      ]
     },
     "metadata": {
      "needs_background": "light"
     },
     "output_type": "display_data"
    }
   ],
   "source": [
    "def bargain_helper_seq(theta1, cost, wtp,beta=.5):\n",
    "    \"\"\" solve firm 1s optimization holding theta 2 fixed \"\"\"\n",
    "    result = minimize( nash_in_nash, 10., args=(theta1, cost, wtp,beta),\n",
    "                      method='Nelder-Mead', options={'disp': False} )\n",
    "    return result.x\n",
    "\n",
    "\n",
    "def seq_obj(theta1, cost, wtp,betas=[.5,.5]):\n",
    "    \"\"\" theta1 is a guess for the first stage \"\"\"\n",
    "    \n",
    "    theta2 = bargain_helper_seq(theta1, cost, wtp, betas[1])\n",
    "    \n",
    "    return nash_in_nash(theta1, theta2, cost, wtp,betas[0])\n",
    "\n",
    "\n",
    "COST = 5\n",
    "WTP = 25\n",
    "plt.plot([i for i in np.linspace(COST+3,WTP +10,num=20)],  \n",
    "         [seq_obj(i, 13.5 , WTP) for i in np.linspace(COST+3,WTP +10,num=20)])"
   ]
  },
  {
   "cell_type": "code",
   "execution_count": 23,
   "metadata": {},
   "outputs": [
    {
     "name": "stdout",
     "output_type": "stream",
     "text": [
      "(array([17.12368164]), array([14.7302437]))\n"
     ]
    }
   ],
   "source": [
    "def seq_bargain(theta1, cost, wtp,betas=[.5,.5]):\n",
    "    \"\"\"solve the bargaining problems seperately,\n",
    "    then solve for the solution\"\"\"   \n",
    "    #only compute no deal 1x for initial\n",
    "    theta1=17\n",
    "    result = minimize(seq_obj, theta1, args=(cost, wtp,betas),\n",
    "                      method='Nelder-Mead', options={'disp': False})\n",
    "    \n",
    "    theta1 = result.x\n",
    "    theta2 = bargain_helper(theta1, theta1, cost, wtp,beta=betas[1])\n",
    "    return theta1, theta2\n",
    "\n",
    "print(seq_bargain(17,5,25))"
   ]
  },
  {
   "cell_type": "code",
   "execution_count": 24,
   "metadata": {
    "scrolled": false
   },
   "outputs": [
    {
     "name": "stdout",
     "output_type": "stream",
     "text": [
      "\n",
      " Simultaneous \n",
      "\n",
      "5.000 & 13.750  & 18.750  & 2.500  & 13.750  \\\\\n",
      "6.000 & 14.500  & 20.500  & 3.000  & 14.500  \\\\\n",
      "7.000 & 15.250  & 22.250  & 3.500  & 15.250  \\\\\n",
      "\n",
      "\n",
      "5.000 & 13.750  & 18.750  & 2.500  & 13.750   \\\\\n",
      "6.000 & 14.500  & 20.500  & 3.000  & 14.500   \\\\\n",
      "7.000 & 15.250  & 22.250  & 3.500  & 15.250   \\\\\n",
      "\n",
      " Sequential \n",
      "\n",
      "5.000 & 17.124  & 21.326  & 1.766  & 15.736  \\\\\n",
      "6.000 & 18.516  & 23.565  & 2.125  & 16.864  \\\\\n",
      "7.000 & 19.977  & 25.859  & 2.472  & 18.032  \\\\\n",
      "\n",
      "\n",
      "5.000 & 14.730  & 20.528  & 3.361  & 15.736   \\\\\n",
      "6.000 & 15.664  & 22.615  & 4.026  & 16.864   \\\\\n",
      "7.000 & 16.624  & 24.741  & 4.707  & 18.032   \\\\\n"
     ]
    }
   ],
   "source": [
    "def make_table(arg, steps, params,betas=[.5,.5]):\n",
    "    \"\"\"the argument is \n",
    "    args =  0 -cost, 1 - wtp\n",
    "    steps = min_arg, max_arg, no_step \"\"\"\n",
    "    \n",
    "    min_arg, max_arg, no_step = steps\n",
    "    \n",
    "    cols = ['eq_type','listprice','distance_cost','mc1','mc2','profit1','profit2','hosp_profit','share1','share2']\n",
    "    \n",
    "    indep_var = np.linspace(min_arg, max_arg, no_step)\n",
    "    \n",
    "    for eq_type in ['Simultaneous', 'Sequential']:\n",
    "        result1 = []\n",
    "        result2 = []\n",
    "        for var in indep_var:\n",
    "        \n",
    "            param_copy = list(params)\n",
    "            param_copy[arg] = var\n",
    "            cost,wtp = param_copy\n",
    "            \n",
    "            mc1,mc2 = 20,20\n",
    "            \n",
    "            if eq_type == 'Simultaneous':\n",
    "                mc1,mc2 = simult_bargain(mc1, mc2, cost, wtp,betas=betas)\n",
    "            else:\n",
    "                mc1,mc2 = seq_bargain(mc1, cost, wtp,betas=betas)\n",
    "            \n",
    "            s1 = calc_t(mc1,mc2, cost,wtp)\n",
    "            s2 = calc_t(mc2,mc1,cost,wtp)\n",
    "            p1,p2 = calc_price(mc1,mc2,cost,wtp)\n",
    "            pi1,pi2 = s1*(p1-mc1),  s2*(p2-mc2)\n",
    "            pi_h = s1*mc1 + s2*mc2\n",
    "            cons1 = wtp - s1*cost - p1\n",
    "            cons2 = wtp - s2*cost - p2\n",
    "            \n",
    "            result1.append( (cost, mc1, p1, pi1,  pi_h) ) \n",
    "            result2.append( (cost, mc2, p2, pi2,  pi_h) ) \n",
    "        print('\\n',eq_type, '\\n')\n",
    "        \n",
    "        for line in result1:\n",
    "            print(\"%.3f & %.3f  & %.3f  & %.3f  & %.3f  \\\\\\\\\"%line)\n",
    "            \n",
    "        print('\\n')\n",
    "        \n",
    "        for line in result2:\n",
    "            print(\"%.3f & %.3f  & %.3f  & %.3f  & %.3f   \\\\\\\\\"%line)\n",
    "            \n",
    "make_table(0, (5,7,3), (5,25),betas=[.5,.5])"
   ]
  },
  {
   "cell_type": "code",
   "execution_count": null,
   "metadata": {},
   "outputs": [],
   "source": []
  }
 ],
 "metadata": {
  "kernelspec": {
   "display_name": "Python 3",
   "language": "python",
   "name": "python3"
  },
  "language_info": {
   "codemirror_mode": {
    "name": "ipython",
    "version": 3
   },
   "file_extension": ".py",
   "mimetype": "text/x-python",
   "name": "python",
   "nbconvert_exporter": "python",
   "pygments_lexer": "ipython3",
   "version": "3.7.4"
  }
 },
 "nbformat": 4,
 "nbformat_minor": 2
}
