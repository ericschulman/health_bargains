{
 "cells": [
  {
   "cell_type": "code",
   "execution_count": 1,
   "metadata": {},
   "outputs": [],
   "source": [
    "import numpy as np\n",
    "from scipy.optimize import minimize\n",
    "from scipy.optimize import fsolve\n",
    "from matplotlib import pyplot as plt\n",
    "import pandas as pd"
   ]
  },
  {
   "cell_type": "code",
   "execution_count": 2,
   "metadata": {},
   "outputs": [
    {
     "data": {
      "text/plain": [
       "(0, 0, 0)"
      ]
     },
     "execution_count": 2,
     "metadata": {},
     "output_type": "execute_result"
    }
   ],
   "source": [
    "def calc_price(phi1, phi2, cost, wtp):\n",
    "    \"\"\"compute each insurer's price (assumes interior solution)\"\"\"\n",
    "    phi1, phi2 = phi1, phi2\n",
    "    p1 = (2*phi1+phi2)/3. + cost\n",
    "    p2 = (2*phi2+phi1)/3. + cost\n",
    "    if phi1 <= 0 or phi2 <= 0:\n",
    "        return 0,0\n",
    "    \n",
    "    return p1, p2\n",
    "  \n",
    "    \n",
    "def calc_s(phi1, phi2, cost, wtp):\n",
    "    \"\"\"compute the proportion of people choosing each insurer\n",
    "    assumes interior solution\"\"\"\n",
    "    p1, p2 = calc_price(phi1, phi2, cost, wtp)\n",
    "    s_hat = .5 + (p2 - p1)/(2.*cost)\n",
    "    return s_hat\n",
    "\n",
    "\n",
    "def calc_profits(phi1,phi2,cost, wtp, mc):\n",
    "    phi1, phi2 = phi1, phi2\n",
    "    s= calc_s(phi1, phi2, cost, wtp)\n",
    "    p1,p2 = calc_price(phi1, phi2, cost, wtp)\n",
    "    profits1, profits2 = s*(p1-phi1), (1-s)*(p2-phi2)\n",
    "    mc1,mc2 = mc\n",
    "    hosp_profit = s*(phi1-mc1) +  (1-s)*(phi2-mc2)\n",
    "    \n",
    "    if phi1 <= 0 or phi2 <= 0:\n",
    "        return 0,0,0\n",
    "    \n",
    "    return hosp_profit, profits1, profits2\n",
    "\n",
    "    \n",
    "def outside_simlt(phi1, phi2, cost, wtp,  mc):\n",
    "    \"\"\"outside option in simult case\n",
    "    assuming listprice high enough\"\"\"\n",
    "    mc1,mc2 = mc\n",
    "    \n",
    "    s_hat = calc_s(phi1, phi2, cost, wtp) # s_hat with no recapture\n",
    "    p1,p2 = calc_price(phi1, phi2, cost, wtp)\n",
    "    #s_hat  = np.clip((cost + p2 - wtp)/cost,0,1) #s_hat with recapture\n",
    "    \n",
    "    return (1-s_hat)*(phi2 -mc2)\n",
    "\n",
    "\n",
    "calc_profits(5,0 ,5, 26, [0,0])"
   ]
  },
  {
   "cell_type": "code",
   "execution_count": 3,
   "metadata": {},
   "outputs": [],
   "source": [
    "#arbitrary outside option...\n",
    "def nash_in_nash(phi1, phi2, cost, wtp, mc, beta=.5,outside=None):\n",
    "    if outside == None:\n",
    "        outside = outside_simlt(phi1, phi2,cost, wtp , mc)\n",
    "\n",
    "    hosp_profit, profits1, profits2 = calc_profits(phi1, phi2,  cost,  wtp, mc)\n",
    "    obj = -1*(np.log(max(hosp_profit-outside,1e-4))*(1-beta) \n",
    "              + np.log(profits1)*beta)\n",
    "    return obj"
   ]
  },
  {
   "cell_type": "code",
   "execution_count": 4,
   "metadata": {},
   "outputs": [
    {
     "data": {
      "text/plain": [
       "[<matplotlib.lines.Line2D at 0x7f043b472630>]"
      ]
     },
     "execution_count": 4,
     "metadata": {},
     "output_type": "execute_result"
    },
    {
     "data": {
      "image/png": "[encoded data removed]",
      "text/plain": [
       "<Figure size 432x288 with 1 Axes>"
      ]
     },
     "metadata": {
      "needs_background": "light"
     },
     "output_type": "display_data"
    }
   ],
   "source": [
    "COST = 5\n",
    "WTP = 25\n",
    "MC = np.array([0,0])\n",
    "\n",
    "plt.plot([i for i in np.linspace(0,3*COST,num=7)], \n",
    "         [-1*nash_in_nash(i, 4, COST,WTP,MC) for i in np.linspace(1,2*COST,num=7)])"
   ]
  },
  {
   "cell_type": "code",
   "execution_count": 5,
   "metadata": {},
   "outputs": [
    {
     "name": "stdout",
     "output_type": "stream",
     "text": [
      "[7.5]\n"
     ]
    }
   ],
   "source": [
    "def bargain_helper(phi1, phi2, cost, wtp, mc, beta=.5,outside=None):\n",
    "    \"\"\"solve each firm 1s optimization holding phi 2 fixed\"\"\"\n",
    "    result = minimize(nash_in_nash, phi1, args=(phi2,cost, wtp, mc, beta, outside),\n",
    "                      method='Nelder-Mead', options={'disp': False})\n",
    "    return result.x\n",
    "\n",
    "COST = 5\n",
    "WTP  = 10\n",
    "MC = np.array([0,0])\n",
    "\n",
    "print(bargain_helper(15,15, COST,WTP,MC,beta=.5))"
   ]
  },
  {
   "cell_type": "code",
   "execution_count": 6,
   "metadata": {
    "scrolled": false
   },
   "outputs": [
    {
     "name": "stdout",
     "output_type": "stream",
     "text": [
      "(array([10.49992635]), array([10.49998064]))\n"
     ]
    }
   ],
   "source": [
    "def simult_bargain(phi1, phi2, cost, wtp, mc, betas=[.5,.5]):\n",
    "    \"\"\"solve the bargaining problems seperately and iterate for a solution\"\"\"       \n",
    "    \n",
    "    #loop variables, check on this...\n",
    "    diff =  np.maximum(phi1,phi2)\n",
    "    phi10,phi20 = 0,0\n",
    "    maxiter = 20\n",
    "    while maxiter >=0 and diff > 10e-7:\n",
    "        #seems as though there is a contraction mapping here, need to think more about why\n",
    "        \n",
    "        outside1 = outside_simlt(phi10, phi20, cost, wtp,  mc)\n",
    "        outside2 = outside_simlt(phi20, phi10, cost, wtp, mc[::-1])\n",
    "        phi1 = bargain_helper(phi1, phi2, cost, wtp, mc, beta=betas[0],outside=outside1)\n",
    "        phi2 = bargain_helper(phi2, phi1, cost, wtp, mc[::-1], beta=betas[1],outside=outside2)\n",
    "        \n",
    "        #update loop variables\n",
    "        diff = np.abs(np.maximum(phi1 - phi10,phi2-phi20))[0]\n",
    "        phi10,phi20 = phi1,phi2\n",
    "        maxiter = maxiter-1\n",
    "        \n",
    "    return phi1, phi2\n",
    "\n",
    "COST = 7\n",
    "WTP  = 25\n",
    "MC = np.array([0,0])\n",
    "print(simult_bargain(2,2,COST,WTP,MC))\n",
    "#print(simult_bargain(15,15,COST,WTP,MC,active=True))"
   ]
  },
  {
   "cell_type": "code",
   "execution_count": 10,
   "metadata": {},
   "outputs": [
    {
     "name": "stdout",
     "output_type": "stream",
     "text": [
      "[[0.24075381 0.09404739]\n",
      " [0.09404739 0.24421636]]\n"
     ]
    }
   ],
   "source": [
    "def compute_cov(nobs=1000):\n",
    "    mcs = np.random.uniform(low=0.0, high=2.0, size=(2,nobs))\n",
    "    phis = []\n",
    "    for i in range(nobs):\n",
    "        phi = simult_bargain(10,10,COST,WTP,mcs[:,i]) \n",
    "        phis.append(np.array(phi).flatten())\n",
    "\n",
    "    phis = np.array(phis)\n",
    "    return np.cov(phis,rowvar=False)\n",
    "\n",
    "print(compute_cov())"
   ]
  },
  {
   "cell_type": "code",
   "execution_count": 11,
   "metadata": {},
   "outputs": [
    {
     "name": "stdout",
     "output_type": "stream",
     "text": [
      "(array([-7.66523999e-06,  1.50003007e+00]), array([-2.13914592e-06,  1.50000454e+00]))\n"
     ]
    }
   ],
   "source": [
    "def compute_solution(nobs=20):\n",
    "    #mcs = np.random.uniform(low=0.0, high=2.0, size=(2,nobs))\n",
    "    phis = []\n",
    "    vs = np.random.uniform(low=26,high=26.5,size=(nobs))\n",
    "    lambdas = np.random.uniform(low=5,high=6,size=(nobs))\n",
    "    x = np.concatenate(([vs],[lambdas])) #,mcs\n",
    "    for i in range(nobs):\n",
    "        phi = simult_bargain(10,10,lambdas[i],vs[i],np.array([0,0])) \n",
    "        phis.append(np.array(phi).flatten())\n",
    "    phis = np.array(phis)\n",
    "    xx = x.dot(x.transpose())\n",
    "    xy1 = x.dot(phis[:,0])\n",
    "    xy2 = x.dot(phis[:,1])\n",
    "    return np.linalg.inv(xx).dot(xy1),np.linalg.inv(xx).dot(xy2)\n",
    "    \n",
    "print(compute_solution(nobs=10))"
   ]
  },
  {
   "cell_type": "code",
   "execution_count": 12,
   "metadata": {},
   "outputs": [
    {
     "name": "stdout",
     "output_type": "stream",
     "text": [
      "(array([7.89065041e-07, 1.49999592e+00, 8.33335933e-01, 1.66641306e-01]), array([-5.32697186e-07,  1.50000009e+00,  1.66660990e-01,  8.33329702e-01]))\n"
     ]
    }
   ],
   "source": [
    "def compute_solution(nobs=20):\n",
    "    \n",
    "    #set up x variables to solve the model\n",
    "    phis = []\n",
    "    vs = np.random.uniform(low=25,high=26,size=(nobs))\n",
    "    lambdas = np.random.uniform(low=5,high=6,size=(nobs))\n",
    "    mcs = np.random.uniform(low=0.0, high=2.0, size=(2,nobs))\n",
    "    x = np.concatenate(([vs],[lambdas],mcs))\n",
    "    \n",
    "    #generate a few solutions...\n",
    "    for i in range(nobs):\n",
    "        phi = simult_bargain(11.25,11.25,lambdas[i],vs[i],mcs[:,i]) \n",
    "        phis.append(np.array(phi).flatten())\n",
    "        \n",
    "    #do regression stuff to solve\n",
    "    phis = np.array(phis)\n",
    "    xx = x.dot(x.transpose())\n",
    "    xy1 = x.dot(phis[:,0])\n",
    "    xy2 = x.dot(phis[:,1])\n",
    "    return np.linalg.inv(xx).dot(xy1),np.linalg.inv(xx).dot(xy2)\n",
    "\n",
    "#coeffs are v, lambda, c1, c2\n",
    "print(compute_solution(nobs=10))"
   ]
  },
  {
   "cell_type": "code",
   "execution_count": null,
   "metadata": {},
   "outputs": [],
   "source": [
    "#5/6 and 1/6..."
   ]
  }
 ],
 "metadata": {
  "kernelspec": {
   "display_name": "Python 3",
   "language": "python",
   "name": "python3"
  },
  "language_info": {
   "codemirror_mode": {
    "name": "ipython",
    "version": 3
   },
   "file_extension": ".py",
   "mimetype": "text/x-python",
   "name": "python",
   "nbconvert_exporter": "python",
   "pygments_lexer": "ipython3",
   "version": "3.7.3"
  }
 },
 "nbformat": 4,
 "nbformat_minor": 2
}
