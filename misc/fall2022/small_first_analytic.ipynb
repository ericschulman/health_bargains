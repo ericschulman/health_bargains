{
 "cells": [
  {
   "cell_type": "code",
   "execution_count": 7,
   "id": "011a3419",
   "metadata": {},
   "outputs": [],
   "source": [
    "from sympy import *"
   ]
  },
  {
   "cell_type": "code",
   "execution_count": 8,
   "id": "15f15591",
   "metadata": {},
   "outputs": [
    {
     "name": "stdout",
     "output_type": "stream",
     "text": [
      "-l*s + v1\n",
      "(l + p_2 - v1)/l\n"
     ]
    }
   ],
   "source": [
    "p1 = Symbol('p_1')\n",
    "p2 = Symbol('p_2')\n",
    "v1 = Symbol('v1')\n",
    "v2 = Symbol('v2')\n",
    "l = Symbol('l')\n",
    "s = Symbol('s')\n",
    "\n",
    "eq1 =  p1 - v1 + l*s\n",
    "eq3 = s - .5 - (p2 -  p1)/(2*l)\n",
    "\n",
    "############### s1(p2)\n",
    "p1_s =  solve(eq1,p1)[0]\n",
    "print(p1_s)\n",
    "s1_p2 = solve(eq3.subs(p1,p1_s),s)[0]\n",
    "print(s1_p2)"
   ]
  },
  {
   "cell_type": "code",
   "execution_count": 9,
   "id": "5db932df",
   "metadata": {},
   "outputs": [
    {
     "name": "stdout",
     "output_type": "stream",
     "text": [
      "(-p_2 + v1)*(p_2 - t2)/l\n",
      "t2/2 + v1/2\n",
      "(-t2 + v1)**2/(4*l)\n"
     ]
    }
   ],
   "source": [
    "t2 = Symbol('t2')\n",
    "profits = (1-s1_p2)*(p2-t2)\n",
    "print(simplify(profits))\n",
    "p_star = solve(diff(profits,p2),p2)[0]\n",
    "print(p_star)\n",
    "profits_t2 = (simplify(profits.subs(p2,p_star)))\n",
    "print(profits_t2)"
   ]
  },
  {
   "cell_type": "code",
   "execution_count": 10,
   "id": "9b6e2314",
   "metadata": {},
   "outputs": [
    {
     "name": "stdout",
     "output_type": "stream",
     "text": [
      "-l - 1.0*p_1 + 2.0*v1\n"
     ]
    }
   ],
   "source": [
    "################ p2(p1)\n",
    "p2_s_p1 = solve(eq3,p2)[0]\n",
    "s_p1 = solve(eq1,s)[0]\n",
    "p2_p1 = simplify(p2_s_p1.subs(s,s_p1))\n",
    "print(p2_p1)"
   ]
  },
  {
   "cell_type": "code",
   "execution_count": 11,
   "id": "a7e9b630",
   "metadata": {},
   "outputs": [
    {
     "name": "stdout",
     "output_type": "stream",
     "text": [
      "t2 v1\n",
      "s: 1\n",
      "p1: [-l + v1]\n",
      "p2: 1\n",
      "-----\n",
      "t2 -l/3 + 2*v1/3\n",
      "s: (5*l/6 - v1/6)/l\n",
      "p1: [-5*l/6 + 7*v1/6]\n",
      "p2: (5*l/6 - v1/6)/l\n",
      "-----\n"
     ]
    }
   ],
   "source": [
    "nbo=(t2 - (v1 - l)/2)*(profits_t2)\n",
    "sols = solve(diff(nbo,t2),t2)\n",
    "for sol in sols:\n",
    "    s1_t2 = s1_p2.subs(p2,p_star)\n",
    "    s1_sol = s1_t2.subs(t2,sol)\n",
    "    print(\"t2\",sol)\n",
    "    print(\"s:\", s1_sol)\n",
    "    p1_sol = solve(eq1.subs(s,s1_sol),p1)\n",
    "    print(\"p1:\", p1_sol)\n",
    "    p2_sol =  solve(p2_p1.subs(p1,p1_sol),p2)\n",
    "    print(\"p2:\", s1_sol)\n",
    "    print('-----')"
   ]
  },
  {
   "cell_type": "code",
   "execution_count": null,
   "id": "98b37c8c",
   "metadata": {},
   "outputs": [],
   "source": []
  },
  {
   "cell_type": "code",
   "execution_count": null,
   "id": "47799afc",
   "metadata": {},
   "outputs": [],
   "source": []
  }
 ],
 "metadata": {
  "kernelspec": {
   "display_name": "Python 3 (ipykernel)",
   "language": "python",
   "name": "python3"
  },
  "language_info": {
   "codemirror_mode": {
    "name": "ipython",
    "version": 3
   },
   "file_extension": ".py",
   "mimetype": "text/x-python",
   "name": "python",
   "nbconvert_exporter": "python",
   "pygments_lexer": "ipython3",
   "version": "3.10.9"
  }
 },
 "nbformat": 4,
 "nbformat_minor": 5
}
