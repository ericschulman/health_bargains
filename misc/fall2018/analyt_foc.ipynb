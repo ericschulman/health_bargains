{
 "cells": [
  {
   "cell_type": "code",
   "execution_count": 1,
   "metadata": {},
   "outputs": [],
   "source": [
    "from sympy import *"
   ]
  },
  {
   "cell_type": "code",
   "execution_count": 2,
   "metadata": {},
   "outputs": [],
   "source": [
    "#analyzing the corner case when market is not covered\n",
    "\n",
    "theta=Symbol('\\theta_1')\n",
    "lamb =Symbol('\\lambda')\n",
    "ell =Symbol('\\ell')\n",
    "mu =Symbol('\\mu_1')\n",
    "pi_l = Symbol('\\pi_l')\n",
    "t2_theta =Symbol('\\theta_2')\n",
    "\n",
    "\n",
    "def price(theta, mu, lamb):\n",
    "    p = Symbol('p')\n",
    "    profit = (ell-p)/lamb*(p- mu*theta)\n",
    "    return solve(diff(profit,p),p)\n",
    "    \n",
    "\n",
    "def obj_condtion(theta, lamb, ell, mu, pi_l, t2_theta):\n",
    "    \"\"\"analytic first order condition\"\"\"\n",
    "    \n",
    "    firm_profit = (1/(4*lamb)*(ell - mu*theta)**2 - pi_l)\n",
    "    hosp_profit = (1/(2*lamb)*(ell - mu*theta)*theta + t2_theta)\n",
    "    v1 =  firm_profit*hosp_profit\n",
    "    return simplify(solve(simplify(diff(v1, theta)),theta))\n"
   ]
  },
  {
   "cell_type": "code",
   "execution_count": 3,
   "metadata": {},
   "outputs": [
    {
     "name": "stdout",
     "output_type": "stream",
     "text": [
      "-\\mu_1/(6*\\lambda)\n",
      "-\\mu_1*(3*\\lambda - \\mu_1*\\theta_1 + \\mu_2*\\theta_2)/(9*\\lambda)\n"
     ]
    }
   ],
   "source": [
    "#general purpose code for interior cases\n",
    "\n",
    "theta1=Symbol('\\\\theta_1')\n",
    "theta2 =Symbol('\\\\theta_2')\n",
    "lamb =Symbol('\\lambda')\n",
    "ell =Symbol('\\ell')\n",
    "mu1 =Symbol('\\mu_1')\n",
    "mu2 =Symbol('\\mu_2')\n",
    "\n",
    "def profit(theta1,theta2, mu1, mu2, lamb):\n",
    "    return ((3*lamb)+ mu2*theta2 - mu1*theta1)**2/(18*lamb)\n",
    "\n",
    "def t(theta1, theta2, mu1, mu2, lamb):\n",
    "    return (3*lamb + mu2*theta2 - mu1*theta1)/(6*lamb)\n",
    "\n",
    "dif_t = diff(t(theta1, theta2, mu1, mu2, lamb), theta1)\n",
    "print dif_t\n",
    "dif_prof = diff(profit(theta1,theta2, mu1, mu2, lamb), theta1)\n",
    "print dif_prof"
   ]
  },
  {
   "cell_type": "code",
   "execution_count": 6,
   "metadata": {},
   "outputs": [
    {
     "data": {
      "text/plain": [
       "[-234.899959967968, 14.8999599679680]"
      ]
     },
     "execution_count": 6,
     "metadata": {},
     "output_type": "execute_result"
    }
   ],
   "source": [
    "#analyze symmetric simultaneous case first\n",
    "def nb_objective(theta1,theta2, mu1, mu2, lamb, ell):\n",
    "    term1 = (profit(theta1,theta2, mu1, mu2, lamb) - profit(ell,theta2, mu1, mu2, lamb))\n",
    "    term2 = ( mu2*theta2 + (mu1*theta1- mu2*theta2)*t(theta1, theta2, mu1, mu2,lamb))\n",
    "    return term1*term2\n",
    "\n",
    "foc =  diff(nb_objective(theta1,theta2, mu1, mu2, lamb, ell), theta1)\n",
    "solve(foc.subs({ell:70, lamb:10, mu1:.5, mu2:.5, theta2:theta1}),theta1)"
   ]
  },
  {
   "cell_type": "code",
   "execution_count": 6,
   "metadata": {},
   "outputs": [
    {
     "data": {
      "text/plain": [
       "0.874507866387543"
      ]
     },
     "execution_count": 6,
     "metadata": {},
     "output_type": "execute_result"
    }
   ],
   "source": [
    "#anaylzing simultaneous symmetric case (solution)\n",
    "\n",
    "final = ell - 18*lamb + (12*lamb*(27*lamb - 2*ell))**(.5)\n",
    "final.subs({ell:3, lamb:1})"
   ]
  },
  {
   "cell_type": "code",
   "execution_count": 7,
   "metadata": {},
   "outputs": [
    {
     "name": "stdout",
     "output_type": "stream",
     "text": [
      "[5.33066784407567 + 0.e-21*I, 57.5514036695843 + 0.e-19*I, 111.68951050634 - 0.e-19*I]\n"
     ]
    }
   ],
   "source": [
    "#assymetric case\n",
    "\n",
    "foc =  diff(nb_objective(theta1,theta2, mu1, mu2, lamb, ell), theta1)\n",
    "print solve(foc.subs({mu1:.5, mu2:.5, lamb:10, ell:21, theta2:13.19052734}),theta1)"
   ]
  },
  {
   "cell_type": "code",
   "execution_count": 8,
   "metadata": {},
   "outputs": [
    {
     "name": "stdout",
     "output_type": "stream",
     "text": [
      "9.69146776583\n",
      "11.4248473163\n",
      "------------\n",
      "0.519845377583\n",
      "0.565498829133\n",
      "------------\n",
      "5.4047843319\n",
      "6.39577851501\n"
     ]
    }
   ],
   "source": [
    "#some test cases to compare with numerical simulations\n",
    "\n",
    "print nb_objective(10.80908203, 13.19052734, .5, .5, 10, 21)\n",
    "print nb_objective(5.33066784407567, 13.19052734, .5, .5, 10, 21)\n",
    "print '------------'\n",
    "print t(10.80908203, 13.19052734, .5, .5, 10)\n",
    "print t(5.33066784407567, 13.19052734, .5, .5, 10)\n",
    "print '------------'\n",
    "print profit(10.80908203, 13.19052734, .5, .5, 10)\n",
    "print profit(5.33066784407567, 13.19052734, .5, .5, 10)"
   ]
  },
  {
   "cell_type": "code",
   "execution_count": 10,
   "metadata": {},
   "outputs": [
    {
     "name": "stdout",
     "output_type": "stream",
     "text": [
      "[18.4529124878193 + 0.e-21*I, 95.2366429190562 + 0.e-19*I, 136.926120093124 - 0.e-21*I]\n"
     ]
    }
   ],
   "source": [
    "#trying to really amp up ell to see what happens\n",
    "\n",
    "foc = diff(nb_objective(theta1,theta2, mu1, mu2, lamb, ell), theta1)\n",
    "print solve(foc.subs({mu1:.5, mu2:.5, lamb:15, ell:70, theta2:16.0385585}),theta1)"
   ]
  },
  {
   "cell_type": "code",
   "execution_count": 10,
   "metadata": {},
   "outputs": [
    {
     "name": "stdout",
     "output_type": "stream",
     "text": [
      "[15.6767567471298 + 0.e-22*I, 78.0592897505024 + 0.e-19*I, 98.4487488223679 + 0.e-19*I]\n"
     ]
    }
   ],
   "source": [
    "foc = diff(nb_objective(theta1,theta2, mu1, mu2, lamb, ell), theta1)\n",
    "print solve(foc.subs({mu1:.5, mu2:.5, lamb:10, ell:70, theta2:19.06159844}),theta1)"
   ]
  },
  {
   "cell_type": "code",
   "execution_count": 9,
   "metadata": {},
   "outputs": [
    {
     "name": "stdout",
     "output_type": "stream",
     "text": [
      "[8.26623047872175 + 0.e-19*I, 43.3119411231513 + 0.e-19*I, 86.770645034127 - 0.e-19*I]\n",
      "[2.79071140008723 + 0.e-21*I, 122.390644839785 - 0.e-21*I, 274.315227985127 - 0.e-20*I]\n"
     ]
    }
   ],
   "source": [
    "#playing with assymetric mu\n",
    "foc =  diff(nb_objective(theta1,theta2, mu1, mu2, lamb, ell), theta1)\n",
    "#first test that symmetric timing works\n",
    "print solve(foc.subs({mu1:.5, mu2:.2, lamb:10, ell:21, theta2:2.79068053 }),theta1)\n",
    "print solve(foc.subs({mu1:.2, mu2:.5, lamb:10, ell:21, theta2:8.26621123 }),theta1)"
   ]
  },
  {
   "cell_type": "code",
   "execution_count": 11,
   "metadata": {},
   "outputs": [
    {
     "name": "stdout",
     "output_type": "stream",
     "text": [
      "-2*(6*\\lambda*\\mu_2*\\theta_2 + (\\mu_1*\\theta_1 - \\mu_2*\\theta_2)*(3*\\lambda - \\mu_1*\\theta_1 + \\mu_2*\\theta_2))*(3*\\lambda - \\mu_1*\\theta_1 + \\mu_2*\\theta_2) + ((3*\\lambda - \\mu_1*\\theta_1 + \\mu_2*\\theta_2)**2 - (-\\ell*\\mu_1 + 3*\\lambda + \\mu_2*\\theta_2)**2)*(3*\\lambda - 2*\\mu_1*\\theta_1 + 2*\\mu_2*\\theta_2)\n"
     ]
    }
   ],
   "source": [
    "print  simplify((108*lamb**2/mu1)*diff(nb_objective(theta1,theta2, mu1, mu2, lamb, ell), theta1))"
   ]
  },
  {
   "cell_type": "code",
   "execution_count": 12,
   "metadata": {},
   "outputs": [
    {
     "name": "stdout",
     "output_type": "stream",
     "text": [
      "[0.884089799726831 + 0.e-20*I, 7.65798697864058 + 0.e-22*I, 13.9579232216326 - 0.e-22*I]\n"
     ]
    }
   ],
   "source": [
    "#this is the real first order condition\n",
    "\n",
    "foc = (2*(3*lamb + mu2*theta2 - mu1*theta1)*\n",
    "       (6*lamb*mu2*theta2 + (mu1*theta1 - mu2*theta2)*(3*lamb + mu2*theta2 - mu1*theta1)) -\n",
    "(3*lamb- 2*mu1*theta1 + 2*mu2*theta2)*((3*lamb + mu2*theta2 -mu1*theta1)**2 - (3*lamb + mu2*theta2 -mu1*ell)**2 ))\n",
    "\n",
    "print solve(foc.subs({mu1:.5, mu2:.5, lamb:1, ell:3, theta2:3}),theta1)"
   ]
  },
  {
   "cell_type": "code",
   "execution_count": 47,
   "metadata": {},
   "outputs": [
    {
     "name": "stdout",
     "output_type": "stream",
     "text": [
      "3*\\lambda*\\mu_2*\\theta_2 - \\mu_1**2*\\theta_1**2 - \\mu_2**2*\\theta_2**2 + \\theta_1*(3*\\lambda*\\mu_1 + 2*\\mu_1*\\mu_2*\\theta_2)\n"
     ]
    }
   ],
   "source": [
    "#LHS of FOC\n",
    "\n",
    "print collect( expand(6*lamb*mu2*theta2 + (mu1*theta1 - mu2*theta2)*(3*lamb + mu2*theta2 - mu1*theta1)),theta1 )"
   ]
  },
  {
   "cell_type": "code",
   "execution_count": 21,
   "metadata": {},
   "outputs": [
    {
     "name": "stdout",
     "output_type": "stream",
     "text": [
      "18*\\lambda**2*\\mu_2*\\theta_2 + 2*\\mu_1**3*\\theta_1**3 - 2*\\mu_2**3*\\theta_2**3 + \\theta_1**2*(-12*\\lambda*\\mu_1**2 - 6*\\mu_1**2*\\mu_2*\\theta_2) + \\theta_1*(18*\\lambda**2*\\mu_1 + 12*\\lambda*\\mu_1*\\mu_2*\\theta_2 + 6*\\mu_1*\\mu_2**2*\\theta_2**2)\n",
      "-----\n",
      "6*\\mu_1*(3*\\lambda**2 + 2*\\lambda*\\mu_2*\\theta_2 + \\mu_2**2*\\theta_2**2)\n"
     ]
    }
   ],
   "source": [
    "#LHS continued\n",
    "lhs =  (2*(3*lamb + mu2*theta2 - mu1*theta1)*\n",
    "        (6*lamb*mu2*theta2 + (mu1*theta1 - mu2*theta2)*(3*lamb + mu2*theta2 - mu1*theta1)))\n",
    "\n",
    "print collect(expand(lhs) ,theta1 )\n",
    "print '-----'\n",
    "print factor(18*lamb**2*mu1 + 12*lamb*mu1*mu2*theta2 + 6*mu1*mu2**2*theta2**2)"
   ]
  },
  {
   "cell_type": "code",
   "execution_count": 72,
   "metadata": {},
   "outputs": [
    {
     "name": "stdout",
     "output_type": "stream",
     "text": [
      "0.25*\\theta_1**3 - 5.25*\\theta_1**2 + 24.75*\\theta_1 + 20.25\n",
      "0.25*\\theta_1**3 - 5.25*\\theta_1**2 + 24.75*\\theta_1 + 1.0*\\theta_2(6.75)\n"
     ]
    }
   ],
   "source": [
    "lhs_simp = (2*mu1**3)*theta1**3  - (6*mu1**2 *(2*lamb+ mu2*theta2))*theta1**2 + (6*mu1*(3*lamb**2 + 2*lamb*mu2*theta2 + mu2**2*theta2**2))*theta1 + (2*mu2*theta2(9*lamb**2 - mu2**2*theta2**2))\n",
    "\n",
    "print expand(lhs.subs({mu1:.5, mu2:.5, lamb:1, ell:3, theta2:3}))\n",
    "print expand(lhs_simp.subs({mu1:.5, mu2:.5, lamb:1, ell:3, theta2:3}))"
   ]
  },
  {
   "cell_type": "code",
   "execution_count": 24,
   "metadata": {},
   "outputs": [
    {
     "name": "stdout",
     "output_type": "stream",
     "text": [
      "-3*\\ell**2*\\lambda*\\mu_1**2 - 2*\\ell**2*\\mu_1**2*\\mu_2*\\theta_2 + 18*\\ell*\\lambda**2*\\mu_1 + 18*\\ell*\\lambda*\\mu_1*\\mu_2*\\theta_2 + 4*\\ell*\\mu_1*\\mu_2**2*\\theta_2**2 - 2*\\mu_1**3*\\theta_1**3 + \\theta_1**2*(15*\\lambda*\\mu_1**2 + 6*\\mu_1**2*\\mu_2*\\theta_2) + \\theta_1*(2*\\ell**2*\\mu_1**3 - 12*\\ell*\\lambda*\\mu_1**2 - 4*\\ell*\\mu_1**2*\\mu_2*\\theta_2 - 18*\\lambda**2*\\mu_1 - 18*\\lambda*\\mu_1*\\mu_2*\\theta_2 - 4*\\mu_1*\\mu_2**2*\\theta_2**2)\n",
      "----\n",
      "-\\ell*\\mu_1*(3*\\lambda + 2*\\mu_2*\\theta_2)*(\\ell*\\mu_1 - 6*\\lambda - 2*\\mu_2*\\theta_2)\n",
      "----\n",
      "3*\\mu_1**2*(5*\\lambda + 2*\\mu_2*\\theta_2)\n",
      "-----\n",
      "2*\\mu_1*(\\ell**2*\\mu_1**2 - 6*\\ell*\\lambda*\\mu_1 - 2*\\ell*\\mu_1*\\mu_2*\\theta_2 - 9*\\lambda**2 - 9*\\lambda*\\mu_2*\\theta_2 - 2*\\mu_2**2*\\theta_2**2)\n"
     ]
    }
   ],
   "source": [
    "#analyze RHS of FOC\n",
    "rhs = (3*lamb- 2*mu1*theta1 + 2*mu2*theta2)*((3*lamb + mu2*theta2 -mu1*theta1)**2 - (3*lamb + mu2*theta2 -mu1*ell)**2 )\n",
    "\n",
    "print collect( expand(rhs),theta1 )\n",
    "print '----'\n",
    "print factor(-3*ell**2*lamb*mu1**2 - 2*ell**2*mu1**2*mu2*theta2 + 18*ell*lamb**2*mu1 + \n",
    "             18*ell*lamb*mu1*mu2*theta2 + 4*ell*mu1*mu2**2*theta2**2)\n",
    "print '----'\n",
    "print factor(15*lamb*mu1**2 + 6*mu1**2*mu2*theta2)\n",
    "print '-----'\n",
    "print factor(2*ell**2*mu1**3 - 12*ell*lamb*mu1**2 - 4*ell*mu1**2*mu2*theta2 \n",
    "             - 18*lamb**2*mu1 - 18*lamb*mu1*mu2*theta2 - 4*mu1*mu2**2*theta2**2)"
   ]
  },
  {
   "cell_type": "code",
   "execution_count": 29,
   "metadata": {},
   "outputs": [
    {
     "name": "stdout",
     "output_type": "stream",
     "text": [
      "3*\\ell**2*\\lambda*\\mu_1**2 + 2*\\ell**2*\\mu_1**2*\\mu_2*\\theta_2 - 18*\\ell*\\lambda**2*\\mu_1 - 18*\\ell*\\lambda*\\mu_1*\\mu_2*\\theta_2 - 4*\\ell*\\mu_1*\\mu_2**2*\\theta_2**2 + 18*\\lambda**2*\\mu_2*\\theta_2 + 4*\\mu_1**3*\\theta_1**3 - 2*\\mu_2**3*\\theta_2**3 + \\theta_1**2*(-27*\\lambda*\\mu_1**2 - 12*\\mu_1**2*\\mu_2*\\theta_2) + \\theta_1*(-2*\\ell**2*\\mu_1**3 + 12*\\ell*\\lambda*\\mu_1**2 + 4*\\ell*\\mu_1**2*\\mu_2*\\theta_2 + 36*\\lambda**2*\\mu_1 + 30*\\lambda*\\mu_1*\\mu_2*\\theta_2 + 10*\\mu_1*\\mu_2**2*\\theta_2**2)\n",
      "----- constant --------\n",
      "3*\\ell**2*\\lambda*\\mu_1**2 + 2*\\ell**2*\\mu_1**2*\\mu_2*\\theta_2 - 18*\\ell*\\lambda**2*\\mu_1 - 18*\\ell*\\lambda*\\mu_1*\\mu_2*\\theta_2 - 4*\\ell*\\mu_1*\\mu_2**2*\\theta_2**2 + 18*\\lambda**2*\\mu_2*\\theta_2 - 2*\\mu_2**3*\\theta_2**3\n",
      "----theta^2--------\n",
      "-3*\\mu_1**2*(9*\\lambda + 4*\\mu_2*\\theta_2)\n",
      "-----theta --------\n",
      "-2*\\mu_1*(\\ell**2*\\mu_1**2 - 6*\\ell*\\lambda*\\mu_1 - 2*\\ell*\\mu_1*\\mu_2*\\theta_2 - 18*\\lambda**2 - 15*\\lambda*\\mu_2*\\theta_2 - 5*\\mu_2**2*\\theta_2**2)\n"
     ]
    }
   ],
   "source": [
    "# whole thing...\n",
    "\n",
    "print collect(expand(foc), theta1)\n",
    "print '----- constant --------'\n",
    "print factor(3*ell**2*lamb*mu1**2 + 2*ell**2*mu1**2*mu2*theta2 - \n",
    "             18*ell*lamb**2*mu1 - 18*ell*lamb*mu1*mu2*theta2 - 4*ell*mu1*mu2**2*theta2**2 + \n",
    "             18*lamb**2*mu2*theta2 - 2*mu2**3*theta2**3)\n",
    "print '----theta^2--------'\n",
    "print factor(-27*lamb*mu1**2 - 12*mu1**2*mu2*theta2)\n",
    "print '-----theta --------'\n",
    "print factor(-2*ell**2*mu1**3 + 12*ell*lamb*mu1**2 + 4*ell*mu1**2*mu2*theta2 +\n",
    "       36*lamb**2*mu1 + 30*lamb*mu1*mu2*theta2 + 10*mu1*mu2**2*theta2**2)"
   ]
  },
  {
   "cell_type": "code",
   "execution_count": 70,
   "metadata": {},
   "outputs": [
    {
     "data": {
      "text/plain": [
       "-(-3*\\psi_1(\\theta_2)/(2*\\mu_1) + \\psi_1(\\theta_2)**2/(4*\\mu_1**2))/(3*(sqrt(-4*(-3*\\psi_1(\\theta_2)/(2*\\mu_1) + \\psi_1(\\theta_2)**2/(4*\\mu_1**2))**3 + (27*\\psi_1(\\theta_2)/(2*\\mu_1) - 9*\\psi_1(\\theta_2)**2/(4*\\mu_1**2) + \\psi_1(\\theta_2)**3/(4*\\mu_1**3))**2)/2 + 27*\\psi_1(\\theta_2)/(4*\\mu_1) - 9*\\psi_1(\\theta_2)**2/(8*\\mu_1**2) + \\psi_1(\\theta_2)**3/(8*\\mu_1**3))**(1/3)) - (sqrt(-4*(-3*\\psi_1(\\theta_2)/(2*\\mu_1) + \\psi_1(\\theta_2)**2/(4*\\mu_1**2))**3 + (27*\\psi_1(\\theta_2)/(2*\\mu_1) - 9*\\psi_1(\\theta_2)**2/(4*\\mu_1**2) + \\psi_1(\\theta_2)**3/(4*\\mu_1**3))**2)/2 + 27*\\psi_1(\\theta_2)/(4*\\mu_1) - 9*\\psi_1(\\theta_2)**2/(8*\\mu_1**2) + \\psi_1(\\theta_2)**3/(8*\\mu_1**3))**(1/3)/3 - \\psi_1(\\theta_2)/(6*\\mu_1)"
      ]
     },
     "execution_count": 70,
     "metadata": {},
     "output_type": "execute_result"
    }
   ],
   "source": [
    "theta1=Symbol('\\\\theta_1')\n",
    "psi0 =Symbol('\\psi_0(\\\\theta_2)')\n",
    "psi1 = Symbol('\\psi_1(\\\\theta_2)')\n",
    "psi2 = Symbol('\\psi_1(\\\\theta_2)')\n",
    "\n",
    "\n",
    "solve(2*mu1*theta1**3 + psi2*theta1**2 + psi1*theta1 + psi1, theta1)[0]"
   ]
  },
  {
   "cell_type": "code",
   "execution_count": null,
   "metadata": {},
   "outputs": [],
   "source": []
  }
 ],
 "metadata": {
  "kernelspec": {
   "display_name": "Python 2",
   "language": "python",
   "name": "python2"
  },
  "language_info": {
   "codemirror_mode": {
    "name": "ipython",
    "version": 2
   },
   "file_extension": ".py",
   "mimetype": "text/x-python",
   "name": "python",
   "nbconvert_exporter": "python",
   "pygments_lexer": "ipython2",
   "version": "2.7.15"
  }
 },
 "nbformat": 4,
 "nbformat_minor": 2
}
