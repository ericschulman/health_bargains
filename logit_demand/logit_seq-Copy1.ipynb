{
 "cells": [
  {
   "cell_type": "code",
   "execution_count": 1,
   "id": "74168559",
   "metadata": {},
   "outputs": [],
   "source": [
    "import numpy as np\n",
    "from scipy.optimize import minimize\n",
    "from scipy.optimize import fsolve\n",
    "from matplotlib import pyplot as plt\n",
    "import pandas as pd"
   ]
  },
  {
   "cell_type": "code",
   "execution_count": 2,
   "id": "40acc926",
   "metadata": {},
   "outputs": [
    {
     "name": "stdout",
     "output_type": "stream",
     "text": [
      "10.771318054199217\n"
     ]
    },
    {
     "data": {
      "text/plain": [
       "[<matplotlib.lines.Line2D at 0x1f8396f3970>]"
      ]
     },
     "execution_count": 2,
     "metadata": {},
     "output_type": "execute_result"
    },
    {
     "data": {
      "image/png": "[encoded data removed]",
      "text/plain": [
       "<Figure size 640x480 with 1 Axes>"
      ]
     },
     "metadata": {},
     "output_type": "display_data"
    }
   ],
   "source": [
    "#solve nash bargaining with one insurer\n",
    "\n",
    "def calc_shares1(p1, cost, wtp):\n",
    "    \"\"\"compute the proportion of people choosing each insurer\n",
    "    assumes interior solution\"\"\"\n",
    "    u1 = (wtp - p1)/cost\n",
    "    s1 = 2*np.exp(u1)/(2*np.exp(u1) + 1 )\n",
    "    return s1\n",
    "  \n",
    "\n",
    "def calc_profits_price_shares1(phi1,cost,wtp,mc1):\n",
    "    pi1 = lambda p : -1*calc_shares1(p, cost, wtp)[0]*(p-phi1 -mc1)\n",
    "    p1 = minimize(pi1,1,method='Nelder-Mead',tol=1e-6).x\n",
    "    s1 = calc_shares1(p1,  cost, wtp)\n",
    "    return p1[0], s1[0], s1[0]*(p1[0]-phi1 -mc1)\n",
    "\n",
    "def nash_in_nash_obj1(phi1, cost, wtp, mc1, beta=.5):\n",
    "    p1,s1,profits1 = calc_profits_price_shares1(phi1, cost, wtp, mc1)\n",
    "    hosp_profit = s1*phi1\n",
    "    obj = -1*(np.log(max(hosp_profit,1e-6))*(1-beta) + np.log(max(profits1,1e-6))*beta)\n",
    "\n",
    "    #print(obj)\n",
    "    return obj\n",
    "\n",
    "def nash_in_nash1(cost,wtp,mc1,outside_option=False):\n",
    "    obj1 = lambda phi : nash_in_nash_obj1(phi,cost,wtp,mc1)\n",
    "    result = minimize(obj1,13,method='Nelder-Mead',tol=1e-6)\n",
    "    \n",
    "    if outside_option:\n",
    "        return result.x[0]*calc_shares1(result.x[0], cost, wtp)\n",
    "    return result.x[0]\n",
    "\n",
    "print(nash_in_nash1(5,25,0))\n",
    "\n",
    "COST = 5\n",
    "WTP1 = 25\n",
    "MC1 = 0\n",
    "\n",
    "plt.plot([i for i in np.linspace(0,4*COST,num=7)], \n",
    "         [-1*nash_in_nash_obj1(i, COST,WTP1,MC1) for i in np.linspace(1,4*COST,num=7)])"
   ]
  },
  {
   "cell_type": "code",
   "execution_count": 3,
   "id": "f31abd84",
   "metadata": {},
   "outputs": [
    {
     "name": "stdout",
     "output_type": "stream",
     "text": [
      "[-1.41148121]\n"
     ]
    }
   ],
   "source": [
    "#solve nash bargaining with 2 insurers\n",
    "\n",
    "def calc_shares(p1, p2,  cost, wtp):\n",
    "    \"\"\"compute the proportion of people choosing each insurer\n",
    "    assumes interior solution\"\"\"\n",
    "    u1 = (wtp[0] - p1)/cost\n",
    "    u2 = (wtp[1] - p2)/cost\n",
    "    s1 = np.exp(u1)/(np.exp(u1)+ np.exp(u2) + 1 )\n",
    "    s2 = np.exp(u2)/(np.exp(u1)+ np.exp(u2) + 1 )\n",
    "    \n",
    "    return s1,s2\n",
    "  \n",
    "\n",
    "def calc_profits_price_shares(phi1,phi2,cost,wtp,mc):\n",
    "    mc1,mc2 = mc\n",
    "    \n",
    "    p1,p2 = 1,2\n",
    "    diff =  np.maximum(p1,p1)\n",
    "    p10,p20 = 0,0\n",
    "    maxiter = 10\n",
    "    while maxiter >=0 and diff > 10e-7:\n",
    "        #seems as though there is a contraction mapping here, need to think more about why\n",
    "        \n",
    "        pi1 = lambda p : -1*calc_shares(p, p20,  cost, wtp)[0]*(p-phi1 -mc1)\n",
    "        pi2 = lambda p :  -1*calc_shares(p10, p,  cost, wtp)[1]*(p-phi2 -mc2)\n",
    "\n",
    "        \n",
    "        p1 = minimize(pi1,p10).x\n",
    "        p2 = minimize(pi2,p20).x\n",
    "        \n",
    "        #update loop variables\n",
    "        diff = np.abs(np.maximum(p1 - p10,p2-p20))[0]\n",
    "        p10,p20 = p1,p2\n",
    "        maxiter = maxiter-1\n",
    "        \n",
    "    s1,s2 = calc_shares(p1, p2,  cost, wtp)\n",
    "    return p1, p2, s1,s2, s1*(p1-phi1 -mc1), s2*(p2-phi2 -mc2)\n",
    "\n",
    "\n",
    "\n",
    "#arbitrary outside option...\n",
    "def nash_in_nash(phi1, phi2, cost, wtp, mc, beta=.5, outside_option=None):\n",
    "    p1,p2,s1,s2,profits1,profits2 = calc_profits_price_shares(phi1,phi2,cost,wtp,mc)\n",
    "    hosp_profit = s1*phi1 + s2*phi2\n",
    "    \n",
    "    #the passive beliefs case\n",
    "    if outside_option is None:\n",
    "        outside_option = s2*phi2\n",
    "        \n",
    "    obj = -1*(np.log(max(hosp_profit-outside_option,1e-6))*(1-beta) \n",
    "              + np.log(max(profits1,1e-6))*beta)\n",
    "    return obj\n",
    "\n",
    "\n",
    "COST = 5\n",
    "WTP = np.array([25,25])\n",
    "MC = np.array([0,0])\n",
    "\n",
    "print(nash_in_nash(3*COST,3*COST, COST, WTP, MC))"
   ]
  },
  {
   "cell_type": "code",
   "execution_count": 4,
   "id": "6018e369",
   "metadata": {
    "scrolled": false
   },
   "outputs": [
    {
     "name": "stdout",
     "output_type": "stream",
     "text": [
      "(array([16.15536378]), array([-6.77224491e+58]))\n"
     ]
    }
   ],
   "source": [
    "def bargain_helper(phi1, phi2, cost, wtp, mc, beta=.5,outside_option=None):\n",
    "    \"\"\"solve each firm 1s optimization holding phi 2 fixed\"\"\"\n",
    "    result = minimize(nash_in_nash, phi1, args=(phi2,cost, wtp, mc,  beta, outside_option),\n",
    "                      method='Nelder-Mead', options={'disp': False})\n",
    "    return result.x\n",
    "\n",
    "def seq_bargain(phi1, cost, wtp, mc, betas=[.5,.5]):\n",
    "    \"\"\"solve the bargaining problems seperately and iterate for a solution\"\"\"\n",
    "    outside = nash_in_nash1(cost,wtp[1],mc[1],outside_option=True)\n",
    "    \n",
    "    phi2 = phi1 + 2\n",
    "    \n",
    "    diff =  np.maximum(phi1,phi2)\n",
    "    phi10,phi20 = phi1+.5,phi2+.5\n",
    "    maxiter = 20\n",
    "    \n",
    "    while maxiter >=0 and diff > 10e-7:\n",
    "        \n",
    "        p10,p20,_,_,_,_ = calc_profits_price_shares(phi10,phi20,cost,wtp,mc)\n",
    "        s10 = calc_shares1(p10[0],cost,wtp[0])\n",
    "        #_,s10,_ = calc_profits_price_shares1(phi10,cost,wtp[0],mc[0])\n",
    "        #print('outside1',outside)\n",
    "        #print('outside2',phi10*s10)\n",
    "        phi2 = bargain_helper(phi20, phi10, cost, wtp[::-1], mc[::-1], beta=betas[1],outside_option=phi10*s10)\n",
    "        phi1 = bargain_helper(phi10, phi20, cost, wtp, mc, beta=betas[0] ,outside_option=outside)\n",
    "        #print(phi1)\n",
    "        #print(phi2)\n",
    "        #print('---')\n",
    "        #update loop variables\n",
    "        diff = np.abs(np.maximum(phi1 - phi10,phi2-phi20))[0]\n",
    "        phi10,phi20 = phi1,phi2\n",
    "        maxiter = maxiter-1\n",
    "        \n",
    "    return phi1, phi2\n",
    "\n",
    "\n",
    "\n",
    "#WTP = np.array([25,25])\n",
    "#print(seq_bargain(30, COST, WTP, MC))\n",
    "WTP = np.array([27,25])\n",
    "print(seq_bargain(14, 5, WTP, MC))\n",
    "#WTP = np.array([26,25])\n",
    "#print(seq_bargain(30, COST, WTP, MC))"
   ]
  },
  {
   "cell_type": "code",
   "execution_count": 5,
   "id": "ed2d0a07",
   "metadata": {
    "scrolled": false
   },
   "outputs": [
    {
     "name": "stdout",
     "output_type": "stream",
     "text": [
      "v phi 1 phi 2 hosp profit profit 1 profit 2\n",
      "25.0 25.0 15.816 17.149 23.834 24.561 11.535 3.018 2.412\n",
      "26.0 26.0 16.163 17.659 24.345 25.141 12.144 3.182 2.482\n",
      "27.0 27.0 16.527 18.18 24.87 25.728 12.759 3.343 2.548\n",
      "28.0 28.0 16.906 18.709 25.407 26.32 13.38 3.5 2.611\n"
     ]
    }
   ],
   "source": [
    "#vary v\n",
    "COST = 5\n",
    "WTP = np.array([25,25])\n",
    "\n",
    "print(\"v\" ,\"phi 1\" , \"phi 2\", \"hosp profit\", \"profit 1\", \"profit 2\")\n",
    "for i in np.linspace(0,3,4):\n",
    "    mc_i = np.array([0, 0])\n",
    "    wtp_i = np.array([WTP[0]+i,WTP[1]+i])\n",
    "    phi1,phi2 = seq_bargain(15,COST,wtp_i,mc_i)\n",
    "    p1,p2,s1,s2,profits1,profits2 = calc_profits_price_shares(phi1,phi2,COST,wtp_i,mc_i)\n",
    "    hosp_profit = s1*phi1 + s2*phi2\n",
    "    print(WTP[0]+i,WTP[0]+i, round(phi1[0],3), round(phi2[0],3), round(p1[0],3), round(p2[0],3), \n",
    "          round(hosp_profit[0],3), round(profits1[0],3), round(profits2[0],3))"
   ]
  },
  {
   "cell_type": "code",
   "execution_count": 15,
   "id": "eab58bc8",
   "metadata": {},
   "outputs": [
    {
     "name": "stdout",
     "output_type": "stream",
     "text": [
      "v1 v2 phi 1 phi 2 hosp profit profit 1 profit 2\n",
      "25.0 25.0 15.816 17.145 23.833 24.559 11.535 3.018 2.414\n",
      "26.0 25.0 16.03 17.498 24.386 24.719 11.82 3.356 2.221\n",
      "27.0 25.0 16.223 -6.982294883471509e+58 21.327 -110.837 -6.982294883425886e+58 0.0 6.982294883425886e+58\n",
      "28.0 25.0 16.462 -7.030353943633111e+58 21.582 -85.71 -7.03035393579014e+58 0.0 7.03035393579014e+58\n"
     ]
    }
   ],
   "source": [
    "#firm 1 high wtp\n",
    "COST = 5\n",
    "WTP = np.array([25,25])\n",
    "\n",
    "print(\"v1\" ,\"v2\" ,\"phi 1\" , \"phi 2\", \"hosp profit\", \"profit 1\", \"profit 2\")\n",
    "for i in np.linspace(0,3,4):\n",
    "    mc_i = np.array([0, 0])\n",
    "    wtp_i = np.array([WTP[0]+i,WTP[1]])\n",
    "    phi1,phi2 = seq_bargain(15,COST,wtp_i,mc_i)\n",
    "    p1,p2,s1,s2,profits1,profits2 = calc_profits_price_shares(phi1,phi2,COST,wtp_i,mc_i)\n",
    "    hosp_profit = s1*phi1 + s2*phi2\n",
    "    print(wtp_i[0],wtp_i[1], round(phi1[0],3), round(phi2[0],3), round(p1[0],3), round(p2[0],3), \n",
    "          round(hosp_profit[0],3), round(profits1[0],3), round(profits2[0],3))"
   ]
  },
  {
   "cell_type": "code",
   "execution_count": 8,
   "id": "ba223223",
   "metadata": {},
   "outputs": [
    {
     "name": "stdout",
     "output_type": "stream",
     "text": [
      "v1 v2 phi 1 phi 2 hosp profit profit 1 profit 2\n",
      "25.0 25.0 15.816 17.145 23.833 24.559 11.535 3.018 2.414\n",
      "25.0 26.0 15.964 17.337 23.82 25.02 11.859 2.856 2.684\n",
      "25.0 27.0 16.111 17.556 23.814 25.52 12.188 2.703 2.964\n",
      "25.0 28.0 16.263 17.811 23.822 26.062 12.524 2.559 3.252\n"
     ]
    }
   ],
   "source": [
    "#firm 2 high wtp\n",
    "COST = 5\n",
    "WTP = np.array([25,25])\n",
    "\n",
    "print(\"v1\" ,\"v2\" ,\"phi 1\" , \"phi 2\", \"hosp profit\", \"profit 1\", \"profit 2\")\n",
    "for i in np.linspace(0,3,4):\n",
    "    mc_i = np.array([0, 0])\n",
    "    wtp_i = np.array([WTP[0],WTP[1]+i])\n",
    "    phi1,phi2 = seq_bargain(15,COST,wtp_i,mc_i)\n",
    "    p1,p2,s1,s2,profits1,profits2 = calc_profits_price_shares(phi1,phi2,COST,wtp_i,mc_i)\n",
    "    hosp_profit = s1*phi1 + s2*phi2\n",
    "    print(wtp_i[0],wtp_i[1], round(phi1[0],3), round(phi2[0],3), round(p1[0],3), round(p2[0],3), \n",
    "          round(hosp_profit[0],3), round(profits1[0],3), round(profits2[0],3))"
   ]
  },
  {
   "cell_type": "code",
   "execution_count": 9,
   "id": "58dfa820",
   "metadata": {},
   "outputs": [
    {
     "name": "stdout",
     "output_type": "stream",
     "text": [
      "v1 v2 phi 1 phi 2 hosp profit profit 1 profit 2\n",
      "25 25 15.816 17.145 23.833 24.559 11.535 3.018 2.414\n",
      "25 25 15.728 16.981 24.081 24.494 11.393 2.853 2.513\n",
      "25 25 15.656 16.813 24.344 24.431 11.252 2.688 2.618\n"
     ]
    }
   ],
   "source": [
    "#firm 1 high cost\n",
    "COST = 5\n",
    "WTP = np.array([25,25])\n",
    "\n",
    "print(\"v1\" ,\"v2\" ,\"phi 1\" , \"phi 2\", \"hosp profit\", \"profit 1\", \"profit 2\")\n",
    "for i in np.linspace(0,1,3):\n",
    "    mc_i = np.array([i, 0])\n",
    "    wtp_i = np.array([WTP[0],WTP[1]])\n",
    "    phi1,phi2 = seq_bargain(15,COST,wtp_i,mc_i)\n",
    "    p1,p2,s1,s2,profits1,profits2 = calc_profits_price_shares(phi1,phi2,COST,wtp_i,mc_i)\n",
    "    hosp_profit = s1*phi1 + s2*phi2\n",
    "    print(mc_i[0],mc_i[1], round(phi1[0],3), round(phi2[0],3), round(p1[0],3), round(p2[0],3), \n",
    "          round(hosp_profit[0],3), round(profits1[0],3), round(profits2[0],3))"
   ]
  },
  {
   "cell_type": "code",
   "execution_count": 12,
   "id": "989885cc",
   "metadata": {},
   "outputs": [
    {
     "name": "stdout",
     "output_type": "stream",
     "text": [
      "v1 v2 phi 1 phi 2 hosp profit profit 1 profit 2\n",
      "0.0 0.0 15.817 17.149 23.835 24.561 11.535 3.018 2.413\n",
      "0.0 0.5 15.794 17.094 23.881 24.873 11.381 3.087 2.279\n",
      "0.0 1.0 16.231 -7.833822965762598e+58 21.298 -121.944 -7.833822965758415e+58 0.0 7.833822965758415e+58\n"
     ]
    }
   ],
   "source": [
    "#firm 2 high cost\n",
    "\n",
    "COST = 5\n",
    "WTP = np.array([25,25])\n",
    "\n",
    "print(\"v1\" ,\"v2\" ,\"phi 1\" , \"phi 2\", \"hosp profit\", \"profit 1\", \"profit 2\")\n",
    "for i in np.linspace(0,1,3):\n",
    "    mc_i = np.array([0, i])\n",
    "    wtp_i = np.array([WTP[0],WTP[1]])\n",
    "    phi1,phi2 = seq_bargain(13,COST,wtp_i,mc_i)\n",
    "    p1,p2,s1,s2,profits1,profits2 = calc_profits_price_shares(phi1,phi2,COST,wtp_i,mc_i)\n",
    "    hosp_profit = s1*phi1 + s2*phi2\n",
    "    print(mc_i[0],mc_i[1], round(phi1[0],3), round(phi2[0],3), round(p1[0],3), round(p2[0],3), \n",
    "          round(hosp_profit[0],3), round(profits1[0],3), round(profits2[0],3))"
   ]
  },
  {
   "cell_type": "code",
   "execution_count": null,
   "id": "e59ff09b",
   "metadata": {},
   "outputs": [],
   "source": []
  },
  {
   "cell_type": "code",
   "execution_count": null,
   "id": "91720cd0",
   "metadata": {},
   "outputs": [],
   "source": []
  }
 ],
 "metadata": {
  "kernelspec": {
   "display_name": "Python 3 (ipykernel)",
   "language": "python",
   "name": "python3"
  },
  "language_info": {
   "codemirror_mode": {
    "name": "ipython",
    "version": 3
   },
   "file_extension": ".py",
   "mimetype": "text/x-python",
   "name": "python",
   "nbconvert_exporter": "python",
   "pygments_lexer": "ipython3",
   "version": "3.10.9"
  }
 },
 "nbformat": 4,
 "nbformat_minor": 5
}
