{
 "cells": [
  {
   "cell_type": "code",
   "execution_count": 1,
   "metadata": {
    "scrolled": true
   },
   "outputs": [],
   "source": [
    "using Pkg\n",
    "using Distributions\n",
    "#Pkg.add(\"Optim\")\n",
    "#Pkg.add(\"PyPlot\")\n",
    "#Pkg.add(\"LinearAlgebra\")\n",
    "using Optim\n",
    "using PyPlot\n",
    "using LinearAlgebra"
   ]
  },
  {
   "cell_type": "code",
   "execution_count": 2,
   "metadata": {},
   "outputs": [
    {
     "name": "stdout",
     "output_type": "stream",
     "text": [
      "[-1.26064, -1.26064]"
     ]
    }
   ],
   "source": [
    "function market_shares(p, wtp, alpha)\n",
    "    return exp.(wtp .- alpha.*p) / (1 + sum( exp.(wtp .- alpha.*p) ) )\n",
    "end\n",
    "\n",
    "\n",
    "function mco_profits(p, phi, mu, wtp, alpha)\n",
    "    return market_shares(p, wtp, alpha) .* ( p - mu .* phi )\n",
    "end\n",
    "\n",
    "\n",
    "function price_profits(phi,mu,wtp,alpha)\n",
    "    diff =  5.\n",
    "    p = [1.,1.]\n",
    "    profits = [0.,0.]\n",
    "    \n",
    "    maxiter = 1000\n",
    "    \n",
    "    while (maxiter >=0) & (diff > 10e-10)\n",
    "        #set up objective\n",
    "        obj1(p0) = -1*mco_profits( [p0[1], p[2]],phi,mu,wtp,alpha)[1]\n",
    "        res1 = optimize(obj1, [p[1]] , BFGS())\n",
    "        obj2(p0) = -1*mco_profits( [p[1], p0[1]] ,phi,mu,wtp,alpha)[2]\n",
    "        res2 = optimize(obj2,[p[2]], BFGS())\n",
    "        \n",
    "        #update loop variables\n",
    "        diff = max( abs( res1.minimizer[1] - p[1] ), abs( res2.minimizer[1] - p[2] ) )\n",
    "        maxiter = maxiter-1\n",
    "        \n",
    "        #update result\n",
    "        p = [res1.minimizer[1],res2.minimizer[1]]\n",
    "        profits =  [-1*res1.minimum, -1*res2.minimum]        \n",
    "    end\n",
    "    #println(\"price profits : phi $(phi), mu $(mu), wtp $(wtp), alpha $(alpha), p $(p)\")\n",
    "    return p, profits\n",
    "end\n",
    "\n",
    "\n",
    "#arbitrary outside option... passive beliefs\n",
    "function nash_in_nash(phi, mu, beta, wtp, alpha,  mc; pi0=0.)\n",
    "    #println(\"nbo : phi $(phi), mu $(mu), beta $(beta), wtp $(wtp), alpha $(alpha),  mc $(mc)\")\n",
    "    p, profits = price_profits(phi,mu,wtp,alpha)\n",
    "    s = market_shares(p,wtp,alpha)\n",
    "    hosp = sum(mu .* s .* (phi .- mc) ) - pi0\n",
    "    return   beta.*log.(max.(profits,1e-4)) + (1 .- beta).*log.(max.(hosp,1e-4))\n",
    "end\n",
    "\n",
    "print( nash_in_nash( [3,3], [.2,.2] , [.5,.5], 3.,2., 1.) )"
   ]
  },
  {
   "cell_type": "code",
   "execution_count": 3,
   "metadata": {},
   "outputs": [
    {
     "data": {
      "image/png": "[encoded data removed]",
      "text/plain": [
       "Figure(PyObject <Figure size 640x480 with 1 Axes>)"
      ]
     },
     "metadata": {},
     "output_type": "display_data"
    },
    {
     "data": {
      "text/plain": [
       "1-element Array{PyCall.PyObject,1}:\n",
       " PyObject <matplotlib.lines.Line2D object at 0x7fc1db02fb00>"
      ]
     },
     "execution_count": 3,
     "metadata": {},
     "output_type": "execute_result"
    }
   ],
   "source": [
    "obj(x) = nash_in_nash( [x,3.],  [.2,.2] , [.5,.5], 3.,2.,1.)[1]\n",
    "xs = collect(25:45)/10\n",
    "objs = []\n",
    "for x=xs \n",
    "    append!(objs,obj(x))\n",
    "end \n",
    "\n",
    "plot(xs,objs)"
   ]
  },
  {
   "cell_type": "code",
   "execution_count": 4,
   "metadata": {},
   "outputs": [
    {
     "name": "stdout",
     "output_type": "stream",
     "text": [
      "[2.78157, 2.78157]\n"
     ]
    }
   ],
   "source": [
    "function bargain_helper(phi, mu, beta, wtp, alpha, mc)\n",
    "    \"\"\"solve each firm 1s optimization holding theta 2 fixed\"\"\"\n",
    "    \n",
    "    obj1(phi0) = -1*nash_in_nash( [phi0[1], phi[2]] , mu,  beta, wtp, alpha, mc)[1]\n",
    "    res1 =  optimize(obj1, [phi[1]], BFGS())\n",
    "\n",
    "    obj2(phi0) = -1*nash_in_nash( [phi[1], phi0[1]], mu,  beta, wtp, alpha, mc)[2]\n",
    "    \n",
    "    \n",
    "    res2 =  optimize(obj2, [phi[2]], BFGS())\n",
    "    \n",
    "    return [ res1.minimizer[1], res2.minimizer[1] ]\n",
    "end\n",
    "\n",
    "println( bargain_helper([3.,3.], [.2,.2] , [.5,.5], 3.,2.,1.) )"
   ]
  },
  {
   "cell_type": "code",
   "execution_count": 33,
   "metadata": {
    "scrolled": false
   },
   "outputs": [
    {
     "name": "stdout",
     "output_type": "stream",
     "text": [
      "[1.84081, 1.84081]"
     ]
    }
   ],
   "source": [
    "function simult_bargain(mu, beta, wtp, alpha, mc)\n",
    "    \"\"\"solve the bargaining problems seperately and iterate for a solution\"\"\"       \n",
    "    \n",
    "    #loop variables\n",
    "    diff =  5.\n",
    "    phi = [3*alpha, 3*alpha]\n",
    "\n",
    "    maxiter = 1000\n",
    "    while (maxiter >=0) & (diff > 10e-10)\n",
    "        #seems as though there is a contraction mapping here, need to think more about why\n",
    "        phi_new = bargain_helper(phi, mu, beta, wtp, alpha, mc)\n",
    "        \n",
    "        #update loop variables\n",
    "        diff = maximum( abs.(phi - phi_new) )\n",
    "        maxiter = maxiter-1\n",
    "        \n",
    "        #update phi\n",
    "        phi = phi_new\n",
    "    end\n",
    "    return phi\n",
    "end\n",
    "    \n",
    "print(simult_bargain([.2,.2] , [.5,.5], 3.,2., -.15 ))"
   ]
  },
  {
   "cell_type": "code",
   "execution_count": 34,
   "metadata": {},
   "outputs": [
    {
     "name": "stdout",
     "output_type": "stream",
     "text": [
      "[2.38435, 2.38435]"
     ]
    }
   ],
   "source": [
    "print(simult_bargain([.2,.2] , [.5,.5], 3.,2.,.5 ))"
   ]
  },
  {
   "cell_type": "code",
   "execution_count": 36,
   "metadata": {},
   "outputs": [
    {
     "name": "stdout",
     "output_type": "stream",
     "text": [
      "([-0.0702484 0.0331414; 0.0331414 -0.0702484], [-0.0516658 0.0243738; 0.0243738 -0.0516658])"
     ]
    }
   ],
   "source": [
    "function calc_derivatives(phi,mu,wtp,alpha;h=0.000001)\n",
    "    gradient_profit = zeros(2,2)\n",
    "    gradient_s = zeros(2,2)\n",
    "    \n",
    "    for i=1:2\n",
    "        \n",
    "        hs = zeros(2)\n",
    "        hs[i] = h\n",
    "        #println(hs[i],phi+hs,phi-hs)\n",
    "        p1,profit1 = price_profits(phi+hs,mu,wtp,alpha)\n",
    "        #println(p1,profit1)\n",
    "        p2,profit2 = price_profits(phi-hs,mu,wtp,alpha)\n",
    "        #println(p2,profit2)\n",
    "        #println(\" \")\n",
    "        s1 = market_shares( p1, wtp, alpha)\n",
    "        s2 = market_shares( p2, wtp, alpha)\n",
    "        \n",
    "        gradient_profit[:,i] =  1/(2*h) .* (profit1 - profit2) \n",
    "        gradient_s[:,i] = 1/(2*h) .* (s1 - s2) \n",
    "    end\n",
    "    return gradient_profit, gradient_s\n",
    "end\n",
    "\n",
    "\n",
    "\n",
    "print( calc_derivatives([1.84081, 1.84081],[.2,.2] , 3.,2.) )"
   ]
  },
  {
   "cell_type": "code",
   "execution_count": 37,
   "metadata": {},
   "outputs": [
    {
     "name": "stdout",
     "output_type": "stream",
     "text": [
      "-0.10824008283083414\n",
      "-0.1086742283495417\n",
      "0.18514195571440062[0.251441, 0.251441][1.84081, 1.84081][0.2, 0.2]\n",
      "-0.10824008283083414\n",
      "-0.1086742283495417\n",
      "0.18514195571440062[0.251441, 0.251441][1.84081, 1.84081][0.2, 0.2]\n",
      "[-0.00590342, -0.00590342]"
     ]
    }
   ],
   "source": [
    "function calc_hospital_cost(phi,mu,beta,wtp,alpha)\n",
    "    gradient_profit, gradient_s = calc_derivatives(phi,mu,wtp,alpha)\n",
    "    price, profits = price_profits(phi,mu,wtp,alpha)\n",
    "    shares = market_shares(phi,wtp,alpha)\n",
    "    mc = zeros(2)\n",
    "    for i=1:2\n",
    "        not_i = mod(i,2)+1\n",
    "        \n",
    "        A = sum( mu .*shares .* phi) \n",
    "        B = sum( mu .* shares)\n",
    "        \n",
    "        \n",
    "        dA = mu[i]*(gradient_s[i,i]*phi[i] + shares[i]) + mu[not_i]*gradient_s[not_i,i]*phi[not_i]\n",
    "        dB = mu[i]*(gradient_s[i,i]) + mu[not_i]*gradient_s[not_i,i]\n",
    "        \n",
    "        C = -beta[i]/(1-beta[i]) * gradient_profit[i,i]/profits[i]\n",
    "        \n",
    "        \n",
    "        mc[i] = (C*A - dA)/(C*B - dB)\n",
    "        #println(C, \" \",A, \" \", dA ,\" \", C*A, \" \", C*A -dA)\n",
    "        println(beta[i]*gradient_profit[i,i]/profits[i])\n",
    "        println(-(1 .-beta[i])*dA/A)\n",
    "        println(A,shares,phi,mu)\n",
    "        \n",
    "        #mc[i] = mc[i]/(gradient_s[i,i]*phi[i] + shares[i] + gradient_s[not_i,i]*phi[not_i] - sum(shares))\n",
    "    end\n",
    "    return mc\n",
    "end \n",
    "\n",
    "print(calc_hospital_cost([1.84081, 1.84081],[.2,.2],[.5,.5], 3.,2.))"
   ]
  },
  {
   "cell_type": "code",
   "execution_count": 8,
   "metadata": {},
   "outputs": [
    {
     "name": "stdout",
     "output_type": "stream",
     "text": [
      "[3.45541, 3.45541]-0.05541551911791842,  0.24577854735422192 0.026610840131680604 -0.01991602540079984 0.00654037363143989 0.02645639903223973\n",
      "-0.05541551911791842,  0.24577854735422192 0.026610840131680604 -0.01991602540079984 0.00654037363143989 0.02645639903223973\n",
      "[3.01639, 3.01639][4.53361, 4.53361]"
     ]
    }
   ],
   "source": [
    "print(simult_bargain([.2,.2] , [.5,.5], 3.,2., 1.76523 ))\n",
    "print(calc_hospital_cost([3.45541, 3.45541],[.2,.2],[.5,.5], 3.,2.))\n",
    "print(simult_bargain([.2,.2] , [.5,.5], 3.,2., 3.01642))"
   ]
  },
  {
   "cell_type": "code",
   "execution_count": null,
   "metadata": {},
   "outputs": [],
   "source": []
  },
  {
   "cell_type": "code",
   "execution_count": null,
   "metadata": {},
   "outputs": [],
   "source": []
  },
  {
   "cell_type": "code",
   "execution_count": null,
   "metadata": {},
   "outputs": [],
   "source": []
  }
 ],
 "metadata": {
  "kernelspec": {
   "display_name": "Julia 1.4.1",
   "language": "julia",
   "name": "julia-1.4"
  },
  "language_info": {
   "file_extension": ".jl",
   "mimetype": "application/julia",
   "name": "julia",
   "version": "1.4.1"
  }
 },
 "nbformat": 4,
 "nbformat_minor": 2
}
