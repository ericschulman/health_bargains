{
 "cells": [
  {
   "cell_type": "code",
   "execution_count": 13,
   "id": "4b0368f6",
   "metadata": {},
   "outputs": [
    {
     "name": "stdout",
     "output_type": "stream",
     "text": [
      "The autoreload extension is already loaded. To reload it, use:\n",
      "  %reload_ext autoreload\n"
     ]
    }
   ],
   "source": [
    "%load_ext autoreload\n",
    "%autoreload 2\n",
    "\n",
    "import numpy as np\n",
    "from scipy.optimize import minimize\n",
    "from scipy.optimize import fsolve\n",
    "from matplotlib import pyplot as plt\n",
    "import pandas as pd\n",
    "import statsmodels.api as sm\n",
    "\n",
    "import sys\n",
    "sys.path.append(\"../\")\n",
    "from bargains_linear import * "
   ]
  },
  {
   "cell_type": "code",
   "execution_count": 14,
   "id": "31f80880",
   "metadata": {},
   "outputs": [
    {
     "name": "stdout",
     "output_type": "stream",
     "text": [
      "phi1    19.417575\n",
      "phi2    25.033286\n",
      "p1      26.293434\n",
      "p2      28.144201\n",
      "s1       0.690933\n",
      "s2       0.309067\n",
      "c1       0.026909\n",
      "c2      -0.033164\n",
      "dtype: float64\n",
      "phi1    15.902723\n",
      "phi2    20.642886\n",
      "p1      22.486732\n",
      "p2      24.045650\n",
      "s1       0.655864\n",
      "s2       0.344136\n",
      "c1       0.026909\n",
      "c2      -0.033164\n",
      "dtype: float64\n",
      "phi1    12.768863\n",
      "phi2    18.053482\n",
      "p1      19.534358\n",
      "p2      21.274761\n",
      "s1       0.673997\n",
      "s2       0.326003\n",
      "c1       0.026909\n",
      "c2      -0.033164\n",
      "dtype: float64\n"
     ]
    }
   ],
   "source": [
    "seq_result = pd.read_csv('../GMM_est/fake_data/seq_data_3.csv',index_col=0)\n",
    "active_result = pd.read_csv('../GMM_est/fake_data/active_data_3.csv',index_col=0)\n",
    "passive_result = pd.read_csv('../GMM_est/fake_data/passive_data_3.csv',index_col=0)\n",
    "\n",
    "print(seq_result.mean())\n",
    "print(active_result.mean())\n",
    "print(passive_result.mean())"
   ]
  },
  {
   "cell_type": "code",
   "execution_count": 16,
   "id": "63faaa41",
   "metadata": {},
   "outputs": [
    {
     "name": "stdout",
     "output_type": "stream",
     "text": [
      "const    16.737314\n",
      "phi1      0.492138\n",
      "Name: param, dtype: float64\n",
      "param\n",
      "se\n",
      "----\n",
      "const    2.718398\n",
      "phi1     1.316950\n",
      "Name: param, dtype: float64\n",
      "param\n",
      "se\n",
      "----\n",
      "const    21.946052\n",
      "phi1      0.033999\n",
      "Name: param, dtype: float64\n",
      "param\n",
      "se\n"
     ]
    }
   ],
   "source": [
    "seq_result = pd.read_csv('../GMM_est/fake_data/seq_data_3.csv',index_col=0)\n",
    "active_result = pd.read_csv('../GMM_est/fake_data/active_data_3.csv',index_col=0)\n",
    "passive_result = pd.read_csv('../GMM_est/fake_data/passive_data_3.csv',index_col=0)\n",
    "\n",
    "def print_test(data):\n",
    "    data = data.copy()\n",
    "    model1 = sm.OLS(data['p1'],sm.add_constant(data['phi1']))\n",
    "    model1_fit = model1.fit()\n",
    "    param, se = model1_fit.params.rename('param'),model1_fit.bse.rename('se')\n",
    "    print(param)\n",
    "    model1_result = pd.merge(param,se,left_index=True,right_index=True)\n",
    "\n",
    "    return model1_result\n",
    "\n",
    "\n",
    "for i in (print_test(seq_result)):print(i) \n",
    "print('----')\n",
    "for i in (print_test(passive_result)):print(i)\n",
    "print('----')\n",
    "for i in (print_test(active_result)):print(i) "
   ]
  },
  {
   "cell_type": "code",
   "execution_count": 3,
   "id": "8ff52181",
   "metadata": {},
   "outputs": [
    {
     "name": "stdout",
     "output_type": "stream",
     "text": [
      "                param        se\n",
      "const       -2.092882  0.085712\n",
      "outside_seq  0.223053  0.004596\n",
      "                    param        se\n",
      "const            3.096340  0.064583\n",
      "outside_passive -0.126439  0.004985\n",
      "----\n",
      "                param        se\n",
      "const        1.519813  0.105655\n",
      "outside_seq  0.090070  0.013832\n",
      "                    param        se\n",
      "const            1.872919  0.045817\n",
      "outside_passive  0.082432  0.010581\n",
      "----\n",
      "                param        se\n",
      "const       -3.242476  0.098916\n",
      "outside_seq  0.416097  0.007326\n",
      "                    param        se\n",
      "const           -0.840627  0.060688\n",
      "outside_passive  0.456865  0.008463\n"
     ]
    }
   ],
   "source": [
    "def print_test(data):\n",
    "    data = data.copy()\n",
    "    data['outside_passive'] = data['phi1']*data['s1']\n",
    "    data['outside_seq'] =  data['phi1']\n",
    "    \n",
    "    data['ins_profit2'] = (data['p2'] - data['phi2'])*data['s2']\n",
    "    \n",
    "    model1 = sm.OLS(data['ins_profit2'],sm.add_constant(data['outside_seq']))\n",
    "    model1_fit = model1.fit()\n",
    "    param, se = model1_fit.params.rename('param'),model1_fit.bse.rename('se')\n",
    "    model1_result = pd.merge(param,se,left_index=True,right_index=True)\n",
    "    \n",
    "    model2 = sm.OLS(data['ins_profit2'],sm.add_constant(data['outside_passive']))\n",
    "    param, se = model2.fit().params.rename('param'),model2.fit().bse.rename('se')\n",
    "    model2_result = pd.merge(param,se,left_index=True,right_index=True)\n",
    "    \n",
    "    return model1_result,model2_result\n",
    "\n",
    "\n",
    "for i in (print_test(seq_result)):print(i) \n",
    "print('----')\n",
    "for i in (print_test(passive_result)):print(i)\n",
    "print('----')\n",
    "for i in (print_test(active_result)):print(i) "
   ]
  },
  {
   "cell_type": "code",
   "execution_count": 4,
   "id": "d1419702",
   "metadata": {},
   "outputs": [
    {
     "name": "stdout",
     "output_type": "stream",
     "text": [
      "                 param        se\n",
      "const         7.473813  0.102871\n",
      "hosp_passive -0.823179  0.014026\n",
      "             param        se\n",
      "const     1.998012  0.017441\n",
      "hosp_seq -0.475210  0.002514\n",
      "----\n",
      "                 param        se\n",
      "const         2.735984  0.041960\n",
      "hosp_passive -0.136322  0.009399\n",
      "             param        se\n",
      "const     2.296717  0.019961\n",
      "hosp_seq -0.269889  0.014455\n",
      "----\n",
      "                 param        se\n",
      "const         5.344232  0.061022\n",
      "hosp_passive -0.449040  0.008510\n",
      "             param        se\n",
      "const     2.440875  0.018575\n",
      "hosp_seq -0.420578  0.007427\n"
     ]
    }
   ],
   "source": [
    "def print_test(data):\n",
    "    data = data.copy()\n",
    "    data['hosp_passive'] = data['phi2']*data['s2']\n",
    "    data['hosp_seq'] =   data['phi1']*data['s1'] + data['phi2']*data['s2'] - data['phi1']\n",
    "    data['ins_profit2'] = (data['p2'] - data['phi2'])*data['s2']\n",
    "    \n",
    "    model1 = sm.OLS(data['ins_profit2'],sm.add_constant(data['hosp_passive']))\n",
    "    model1_fit = model1.fit()\n",
    "    param, se = model1_fit.params.rename('param'),model1_fit.bse.rename('se')\n",
    "    model1_result = pd.merge(param,se,left_index=True,right_index=True)\n",
    "    \n",
    "    model2 = sm.OLS(data['ins_profit2'],sm.add_constant(data['hosp_seq']))\n",
    "    param, se = model2.fit().params.rename('param'),model2.fit().bse.rename('se')\n",
    "    model2_result = pd.merge(param,se,left_index=True,right_index=True)\n",
    "    \n",
    "    return model1_result,model2_result\n",
    "\n",
    "\n",
    "for i in (print_test(seq_result)):print(i) \n",
    "print('----')\n",
    "for i in (print_test(passive_result)):print(i)\n",
    "print('----')\n",
    "for i in (print_test(active_result)):print(i) "
   ]
  },
  {
   "cell_type": "code",
   "execution_count": null,
   "id": "11a1df89",
   "metadata": {},
   "outputs": [],
   "source": []
  }
 ],
 "metadata": {
  "kernelspec": {
   "display_name": "Python 3 (ipykernel)",
   "language": "python",
   "name": "python3"
  },
  "language_info": {
   "codemirror_mode": {
    "name": "ipython",
    "version": 3
   },
   "file_extension": ".py",
   "mimetype": "text/x-python",
   "name": "python",
   "nbconvert_exporter": "python",
   "pygments_lexer": "ipython3",
   "version": "3.10.9"
  }
 },
 "nbformat": 4,
 "nbformat_minor": 5
}
