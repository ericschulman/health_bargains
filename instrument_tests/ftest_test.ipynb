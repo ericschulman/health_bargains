{
 "cells": [
  {
   "cell_type": "code",
   "execution_count": 1,
   "id": "580854d8",
   "metadata": {},
   "outputs": [],
   "source": [
    "%load_ext autoreload\n",
    "%autoreload 2\n",
    "\n",
    "import numpy as np\n",
    "from scipy.optimize import minimize\n",
    "from scipy.optimize import fsolve\n",
    "from matplotlib import pyplot as plt\n",
    "import pandas as pd\n",
    "import statsmodels.api as sm\n",
    "import statsmodels.stats.api as sms\n",
    "import matplotlib.pyplot as plt \n",
    "\n",
    "import sys\n",
    "sys.path.append(\"../\")\n",
    "from bargains_linear import * "
   ]
  },
  {
   "cell_type": "code",
   "execution_count": 2,
   "id": "ff6b833c",
   "metadata": {},
   "outputs": [],
   "source": [
    "def solve_c1_c2(beta1,lambda_val,phi1,phi2):\n",
    "    return (3.0*beta1*lambda_val + 2.0*beta1*phi2 - 3.0*lambda_val + 2.0*phi1 - 2.0*phi2) / (beta1 - 1.0) \n",
    "\n",
    "def solve_beta1(c1_c2, lambda_val,phi1,phi2):\n",
    "    return (3.0*lambda_val - 2.0*phi1 + 2.0*phi2 - c1_c2 )/(3.0*lambda_val + 2.0*phi2 - c1_c2)\n",
    "\n",
    "def solve_foc(beta1, c1_c2, lambda_val, phi1, phi2):\n",
    "    return beta1*(3.0*lambda_val + 2.0*phi2 - c1_c2) - (3.0*lambda_val - 2.0*phi1 + 2.0*phi2 - c1_c2 )"
   ]
  },
  {
   "cell_type": "code",
   "execution_count": 3,
   "id": "1f4bf81b",
   "metadata": {
    "scrolled": false
   },
   "outputs": [
    {
     "name": "stdout",
     "output_type": "stream",
     "text": [
      "False\n",
      "--\n",
      "True\n",
      "--\n",
      "True\n",
      "--\n"
     ]
    }
   ],
   "source": [
    "def create_test_stat(df,c1_c2=0):\n",
    "    df = df.copy()\n",
    "    lambda_val = ( df['p1'] - (2*df['phi1'] + df['phi2'])/3 ).mean()\n",
    "    \n",
    "    beta1 = solve_beta1(c1_c2, lambda_val,df['phi1'].mean(),df['phi2'].mean())\n",
    "    c1_c2_obs = solve_c1_c2(beta1,lambda_val,df['phi1'],df['phi2'])\n",
    "    beta1_obs = solve_beta1(c1_c2_obs, lambda_val,df['phi1'],df['phi2'])\n",
    "    \n",
    "    # Create a new dataframe with d1 and d2\n",
    "    \n",
    "    model = sm.OLS(df['phi2'], sm.add_constant(c1_c2_obs) )\n",
    "    #model = sm.OLS(c1_c2_obs, sm.add_constant( df[['c1','c2']]) )\n",
    "    model_fit = model.fit()\n",
    "    \n",
    "\n",
    "    clean_resid = np.abs(model_fit.resid) < 2.75*model_fit.resid.std()\n",
    "    model = sm.OLS(c1_c2_obs[clean_resid], sm.add_constant( df[clean_resid][['c2']]) )\n",
    "    model_fit = model.fit()\n",
    "    #print(model_fit.summary())\n",
    "    #print(model_fit.summary())\n",
    "    #print(clean_resid.sum()/clean_resid.count())\n",
    "    #print(sms.jarque_bera(model_fit.resid))\n",
    "    #print(sms.jarque_bera(model_fit.resid)[1])\n",
    "    \n",
    "    #return sms.omni_normtest(model_fit.resid)[1] , .05\n",
    "    return model_fit.fvalue,model_fit.resid.shape[0]*.675\n",
    "\n",
    "def run_test(df):\n",
    "    test_stat, se = create_test_stat(df)\n",
    "    return np.abs(test_stat) <= se\n",
    "\n",
    "passive_result1 = pd.read_csv('../GMM_est/fake_data/passive_data_0.csv',index_col=0)\n",
    "active_result1 = pd.read_csv('../GMM_est/fake_data/active_data_0.csv',index_col=0)\n",
    "seq_result1 = pd.read_csv('../GMM_est/fake_data/seq_data_0.csv',index_col=0)\n",
    "for df in [passive_result1,active_result1,seq_result1]:\n",
    "    sample = df.sample(frac=0.1)\n",
    "    print(run_test(sample))\n",
    "    print('--')"
   ]
  },
  {
   "cell_type": "code",
   "execution_count": 4,
   "id": "13e1ae0e",
   "metadata": {},
   "outputs": [
    {
     "name": "stdout",
     "output_type": "stream",
     "text": [
      "--------------------\n",
      "(887.9552938263112, 668.25)\n",
      "False\n",
      "(637.917843582028, 657.45)\n",
      "True\n",
      "(732.1528418043781, 669.6)\n",
      "False\n"
     ]
    }
   ],
   "source": [
    "print('--------------------')\n",
    "passive_result1 = pd.read_csv('../GMM_est/fake_data/passive_data_2.csv',index_col=0)\n",
    "active_result1 = pd.read_csv('../GMM_est/fake_data/active_data_2.csv',index_col=0)\n",
    "seq_result1 = pd.read_csv('../GMM_est/fake_data/seq_data_2.csv',index_col=0)\n",
    "for df in [passive_result1,active_result1,seq_result1]:\n",
    "    sample = df.sample(frac=0.1)\n",
    "    print(create_test_stat(sample))\n",
    "    print(run_test(sample))"
   ]
  },
  {
   "cell_type": "code",
   "execution_count": 5,
   "id": "e71b03ef",
   "metadata": {
    "scrolled": true
   },
   "outputs": [
    {
     "name": "stdout",
     "output_type": "stream",
     "text": [
      "    Round DataFrame  Rejections\n",
      "0       0   passive       0.018\n",
      "1       0    active       0.118\n",
      "2       0       seq       0.764\n",
      "3       1   passive       0.002\n",
      "4       1    active       0.034\n",
      "5       1       seq       0.438\n",
      "6       2   passive       0.004\n",
      "7       2    active       0.140\n",
      "8       2       seq       0.012\n",
      "9       3   passive       0.064\n",
      "10      3    active       0.074\n",
      "11      3       seq       0.534\n",
      "12      4   passive       0.004\n",
      "13      4    active       0.076\n",
      "14      4       seq       1.000\n"
     ]
    }
   ],
   "source": [
    "# Create an empty DataFrame to store the results\n",
    "results_list = []\n",
    "\n",
    "for j in range(5):\n",
    "    # Read the dataframes\n",
    "    seq_result = pd.read_csv('../GMM_est/fake_data/seq_data_%s.csv' % j, index_col=0)\n",
    "    active_result = pd.read_csv('../GMM_est/fake_data/active_data_%s.csv' % j, index_col=0)\n",
    "    passive_result = pd.read_csv('../GMM_est/fake_data/passive_data_%s.csv' % j, index_col=0)\n",
    "\n",
    "    # Initialize rejection count variables\n",
    "    rejections_seq = 0\n",
    "    rejections_active = 0\n",
    "    rejections_passive = 0\n",
    "\n",
    "    nsims = 500\n",
    "    \n",
    "    for i in range(nsims):\n",
    "        # Resample from seq dataframe\n",
    "        subsample_seq = seq_result.sample(frac=0.1)\n",
    "        result_seq = run_test(subsample_seq)\n",
    "        rejections_seq = rejections_seq+ result_seq\n",
    "        \n",
    "        # Resample from active dataframe\n",
    "        subsample_active = active_result.sample(frac=0.1)\n",
    "        result_active = run_test(subsample_active)\n",
    "        rejections_active = rejections_active+ result_active\n",
    "\n",
    "        # Resample from passive dataframe\n",
    "        subsample_passive = passive_result.sample(frac=0.1)\n",
    "        result_passive = run_test(subsample_passive)\n",
    "        rejections_passive = rejections_passive+ result_passive\n",
    "        #print('----%s,%s------'%(i,j))\n",
    "        \n",
    "    rejections_seq = rejections_seq/nsims\n",
    "    rejections_active = rejections_active/nsims\n",
    "    rejections_passive = rejections_passive/nsims\n",
    "    \n",
    "    # Add the results to the DataFrame\n",
    "    results_list.append({'Round':j,'DataFrame': 'passive', 'Rejections': rejections_passive})\n",
    "    results_list.append({'Round':j,'DataFrame': 'active', 'Rejections': rejections_active})\n",
    "    results_list.append({'Round':j,'DataFrame': 'seq', 'Rejections': rejections_seq})\n",
    "\n",
    "results_df = pd.DataFrame(data=results_list,columns=['Round','DataFrame','Rejections'])\n",
    "        \n",
    "print(results_df)  "
   ]
  },
  {
   "cell_type": "code",
   "execution_count": null,
   "id": "172ce738",
   "metadata": {},
   "outputs": [],
   "source": []
  },
  {
   "cell_type": "code",
   "execution_count": null,
   "id": "1ddece92",
   "metadata": {},
   "outputs": [],
   "source": []
  }
 ],
 "metadata": {
  "kernelspec": {
   "display_name": "Python 3 (ipykernel)",
   "language": "python",
   "name": "python3"
  },
  "language_info": {
   "codemirror_mode": {
    "name": "ipython",
    "version": 3
   },
   "file_extension": ".py",
   "mimetype": "text/x-python",
   "name": "python",
   "nbconvert_exporter": "python",
   "pygments_lexer": "ipython3",
   "version": "3.10.9"
  }
 },
 "nbformat": 4,
 "nbformat_minor": 5
}
