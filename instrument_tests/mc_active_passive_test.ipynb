{
 "cells": [
  {
   "cell_type": "code",
   "execution_count": 1,
   "id": "024c32d0",
   "metadata": {},
   "outputs": [],
   "source": [
    "%load_ext autoreload\n",
    "%autoreload 2\n",
    "\n",
    "import numpy as np\n",
    "from scipy.optimize import minimize\n",
    "from scipy.optimize import fsolve\n",
    "from matplotlib import pyplot as plt\n",
    "import pandas as pd\n",
    "import statsmodels.api as sm\n",
    "\n",
    "import sys\n",
    "sys.path.append(\"../\")\n",
    "from bargains_linear import * "
   ]
  },
  {
   "cell_type": "code",
   "execution_count": 28,
   "id": "5a155269",
   "metadata": {},
   "outputs": [
    {
     "name": "stdout",
     "output_type": "stream",
     "text": [
      "(4.403989502982614e-14, 5.744910071948477)\n",
      "False\n",
      "--\n",
      "(2.4491574276791064e-14, 4.355609152437135)\n",
      "False\n",
      "--\n",
      "(-1.0335893731489809e-13, 11.070825926026997)\n",
      "False\n",
      "--\n"
     ]
    }
   ],
   "source": [
    "def solve_beta1(c1_c2, lambda_val,phi1,phi2):\n",
    "    return (3.0*lambda_val - 2.0*phi1 + 2.0*phi2 - c1_c2 ).mean()/(3.0*lambda_val + 2.0*phi2 - c1_c2).mean()\n",
    "\n",
    "\n",
    "def create_test_stat(df,c1_c2=0):\n",
    "    lambda_val = ( df['p1'] - (2*df['phi1'] + df['phi2'])/3 ).mean()\n",
    "    beta1 = solve_beta1(0, lambda_val,df['phi1'],df['phi2'])\n",
    "    beta2 = solve_beta1(0, lambda_val,df['phi2'],df['phi1'])\n",
    "\n",
    "    phi1_pred = 3*lambda_val*(beta1*beta2 - 2*beta1 - beta2 + 2)/(2*(-beta1*beta2 + beta1 + beta2))\n",
    "    phi2_pred = 3*lambda_val*(beta1*beta2 - beta1 - 2*beta2 + 2)/(2*(-beta1*beta2 + beta1 + beta2))\n",
    "    \n",
    "    test_stat = phi1_pred - df['phi1']\n",
    "    return np.sqrt(test_stat.shape[0])*(test_stat).mean(), 1.96*test_stat.std()\n",
    "\n",
    "\n",
    "def run_test(df):\n",
    "    test_stat, se = create_test_stat(df)\n",
    "    return np.abs(test_stat) >= se\n",
    "\n",
    "passive_result1 = pd.read_csv('../GMM_est/fake_data/passive_data_4.csv',index_col=0)\n",
    "active_result1 = pd.read_csv('../GMM_est/fake_data/active_data_4.csv',index_col=0)\n",
    "seq_result1 = pd.read_csv('../GMM_est/fake_data/seq_data_4.csv',index_col=0)\n",
    "for df in [passive_result1,active_result1,seq_result1]:\n",
    "    sample = df.sample(frac=0.1)\n",
    "    print(create_test_stat(sample))\n",
    "    print(run_test(sample))\n",
    "    print('--')"
   ]
  },
  {
   "cell_type": "code",
   "execution_count": 3,
   "id": "9d7ae5b7",
   "metadata": {},
   "outputs": [
    {
     "name": "stdout",
     "output_type": "stream",
     "text": [
      "    Round DataFrame  Rejections\n",
      "0       0   passive       0.000\n",
      "1       0    active       0.005\n",
      "2       0       seq       1.000\n",
      "3       1   passive       0.000\n",
      "4       1    active       0.015\n",
      "5       1       seq       1.000\n",
      "6       2   passive       0.000\n",
      "7       2    active       0.015\n",
      "8       2       seq       1.000\n",
      "9       3   passive       1.000\n",
      "10      3    active       1.000\n",
      "11      3       seq       1.000\n",
      "12      4   passive       1.000\n",
      "13      4    active       1.000\n",
      "14      4       seq       1.000\n"
     ]
    }
   ],
   "source": [
    "# Create an empty DataFrame to store the results\n",
    "results_list = []\n",
    "\n",
    "for j in range(5):\n",
    "    # Read the dataframes\n",
    "    seq_result = pd.read_csv('../GMM_est/fake_data/seq_data_%s.csv' % j, index_col=0)\n",
    "    active_result = pd.read_csv('../GMM_est/fake_data/active_data_%s.csv' % j, index_col=0)\n",
    "    passive_result = pd.read_csv('../GMM_est/fake_data/passive_data_%s.csv' % j, index_col=0)\n",
    "\n",
    "    # Initialize rejection count variables\n",
    "    rejections_seq = 0\n",
    "    rejections_active = 0\n",
    "    rejections_passive = 0\n",
    "\n",
    "    nsims = 200\n",
    "    \n",
    "    for i in range(nsims):\n",
    "        # Resample from seq dataframe\n",
    "        subsample_seq = seq_result.sample(frac=0.1)\n",
    "        result_seq = run_test(subsample_seq)\n",
    "        rejections_seq = rejections_seq+ result_seq\n",
    "        \n",
    "        # Resample from active dataframe\n",
    "        subsample_active = active_result.sample(frac=0.1)\n",
    "        result_active = run_test(subsample_active)\n",
    "        rejections_active = rejections_active+ result_active\n",
    "\n",
    "        # Resample from passive dataframe\n",
    "        subsample_passive = passive_result.sample(frac=0.1)\n",
    "        result_passive = run_test(subsample_passive)\n",
    "        rejections_passive = rejections_passive+ result_passive\n",
    "        #print('----%s,%s------'%(i,j))\n",
    "        \n",
    "    rejections_seq = rejections_seq/nsims\n",
    "    rejections_active = rejections_active/nsims\n",
    "    rejections_passive = rejections_passive/nsims\n",
    "    \n",
    "    # Add the results to the DataFrame\n",
    "    results_list.append({'Round':j,'DataFrame': 'passive', 'Rejections': rejections_passive})\n",
    "    results_list.append({'Round':j,'DataFrame': 'active', 'Rejections': rejections_active})\n",
    "    results_list.append({'Round':j,'DataFrame': 'seq', 'Rejections': rejections_seq})\n",
    "\n",
    "results_df = pd.DataFrame(data=results_list,columns=['Round','DataFrame','Rejections'])\n",
    "        \n",
    "print(results_df)  "
   ]
  }
 ],
 "metadata": {
  "kernelspec": {
   "display_name": "Python 3 (ipykernel)",
   "language": "python",
   "name": "python3"
  },
  "language_info": {
   "codemirror_mode": {
    "name": "ipython",
    "version": 3
   },
   "file_extension": ".py",
   "mimetype": "text/x-python",
   "name": "python",
   "nbconvert_exporter": "python",
   "pygments_lexer": "ipython3",
   "version": "3.10.9"
  }
 },
 "nbformat": 4,
 "nbformat_minor": 5
}
