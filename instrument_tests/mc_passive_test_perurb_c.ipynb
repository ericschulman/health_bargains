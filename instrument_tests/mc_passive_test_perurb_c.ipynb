{
 "cells": [
  {
   "cell_type": "code",
   "execution_count": 1,
   "id": "580854d8",
   "metadata": {},
   "outputs": [],
   "source": [
    "%load_ext autoreload\n",
    "%autoreload 2\n",
    "\n",
    "import numpy as np\n",
    "from scipy.optimize import minimize\n",
    "from scipy.optimize import fsolve\n",
    "from matplotlib import pyplot as plt\n",
    "import pandas as pd\n",
    "import statsmodels.api as sm\n",
    "\n",
    "import sys\n",
    "sys.path.append(\"../\")\n",
    "from bargains_linear import * "
   ]
  },
  {
   "cell_type": "code",
   "execution_count": 4,
   "id": "b02b905a",
   "metadata": {},
   "outputs": [
    {
     "name": "stdout",
     "output_type": "stream",
     "text": [
      "   c1  c2  c1-c2      phi1      phi2         p1         p2        s1        s2\n",
      "0   1   0      1  7.357797  7.670039  12.633661  12.405673  0.477293  0.522707\n",
      "   c1  c2  c1-c2       phi1       phi2         p1         p2        s1  \\\n",
      "0   1   0      1  12.936133  13.599684  18.329101  18.218215  0.488911   \n",
      "\n",
      "         s2  \n",
      "0  0.511089  \n",
      "   c1  c2  c1-c2       phi1       phi2         p1        p2        s1  \\\n",
      "0   1   0      1  16.226934  19.412756  22.460658  23.19053  0.577082   \n",
      "\n",
      "         s2  \n",
      "0  0.422918  \n"
     ]
    }
   ],
   "source": [
    "def perturb_c(df, d1, d2):\n",
    "    # Get a list of columns\n",
    "    columns = [col for col in df.columns if col not in ['c1', 'c2','c1-c2']]\n",
    "    df['c1-c2'] = df['c1'] - df['c2']\n",
    "\n",
    "    # Create a new dataframe with d1 and d2\n",
    "    new_df = pd.DataFrame({'c1': d1, 'c2': d2,'const':np.ones(len(d1))})\n",
    "    new_df['c1-c2'] = new_df['c1'] - new_df['c2']\n",
    "\n",
    "    # Go through the columns in the old dataframe\n",
    "    # Try to predict them and a function of c1 and c2\n",
    "    for col in columns:\n",
    "        # Regress df['c1'] and df['c2'] on the various columns using status models\n",
    "        model = sm.OLS(df[col], sm.add_constant(df[['c1-c2']]))\n",
    "        model_fit = model.fit()\n",
    "        new_df[col] = model_fit.predict(new_df[['const','c1-c2']])\n",
    "        \n",
    "    return new_df.drop(labels='const',axis=1)\n",
    "\n",
    "passive_result1 = pd.read_csv('../GMM_est/fake_data/passive_data_0.csv',index_col=0)\n",
    "active_result1 = pd.read_csv('../GMM_est/fake_data/active_data_0.csv',index_col=0)\n",
    "seq_result1 = pd.read_csv('../GMM_est/fake_data/seq_data_0.csv',index_col=0)\n",
    "\n",
    "\n",
    "for df in [passive_result1,active_result1,seq_result1]:\n",
    "    res = perturb_c(df,[1],[0])\n",
    "    print(res)"
   ]
  },
  {
   "cell_type": "code",
   "execution_count": 5,
   "id": "1f4bf81b",
   "metadata": {
    "scrolled": false
   },
   "outputs": [
    {
     "name": "stdout",
     "output_type": "stream",
     "text": [
      "(1.40701570411393, 7.488148181018069)\n",
      "--\n",
      "(142.08651105009776, 11.833746474874674)\n",
      "--\n",
      "(306.4477602302424, 31.23781762986797)\n",
      "--\n"
     ]
    }
   ],
   "source": [
    "def solve_c1_c2(beta1,lambda_val,phi1,phi2):\n",
    "    return (3.0*beta1*lambda_val + 2.0*beta1*phi2 - 3.0*lambda_val + 2.0*phi1 - 2.0*phi2) / (beta1 - 1.0) \n",
    "\n",
    "def solve_beta1(c1_c2, lambda_val,phi1,phi2):\n",
    "    return (3.0*lambda_val - 2.0*phi1 + 2.0*phi2 - c1_c2 )/(3.0*lambda_val + 2.0*phi2 - c1_c2)\n",
    "\n",
    "def solve_foc(beta1, c1_c2, lambda_val, phi1, phi2):\n",
    "    return beta1*(3.0*lambda_val + 2.0*phi2 - c1_c2) - (3.0*lambda_val - 2.0*phi1 + 2.0*phi2 - c1_c2 )\n",
    "\n",
    "def calc_foc_se(beta1, c1_c2, lambda_val, phi1, phi2):\n",
    "    cov = np.cov(np.concatenate([phi1, phi2]))\n",
    "    gradient = np.array([-2, 2*beta1-2])\n",
    "    se = gradient.T.dot(cov).dot(gradient)\n",
    "    return se\n",
    "\n",
    "def create_test_stat(df,c1_c2=0):\n",
    "    df = df.copy()\n",
    "    lambda_val = ( df['p1'] - (2*df['phi1'] + df['phi2'])/3 ).mean()\n",
    "    \n",
    "    beta1 = solve_beta1(c1_c2, lambda_val,df['phi1'].mean(),df['phi2'].mean())\n",
    "    c1_c2_obs = solve_c1_c2(beta1,lambda_val,df['phi1'],df['phi2'])\n",
    "    beta1_obs = solve_beta1(c1_c2_obs, lambda_val,df['phi1'],df['phi2'])\n",
    "    \n",
    "    df_new = perturb_c(df, c1_c2_obs+1, np.zeros(df.shape[0]))\n",
    "    beta1_new = solve_beta1(c1_c2_obs+1, lambda_val,df_new['phi1'],df_new['phi2'])\n",
    "    \n",
    "    foc_obs = solve_foc(beta1,c1_c2_obs, lambda_val,df['phi1'],df['phi2'])\n",
    "    foc_new = solve_foc(beta1,c1_c2_obs+1, lambda_val,df_new['phi1'],df_new['phi2'])\n",
    "    \n",
    "    foc_se = calc_foc_se(beta1, c1_c2, lambda_val, df['phi1'],df['phi2'])\n",
    "  \n",
    "    return np.sqrt(beta1_new.shape[0])*np.abs(foc_new).mean(), 2*np.sqrt(foc_se)\n",
    "\n",
    "\n",
    "def run_test(df):\n",
    "    test_stat, se = create_test_stat(df)\n",
    "    return test_stat >= se\n",
    "\n",
    "passive_result1 = pd.read_csv('../GMM_est/fake_data/passive_data_0.csv',index_col=0)\n",
    "active_result1 = pd.read_csv('../GMM_est/fake_data/active_data_0.csv',index_col=0)\n",
    "seq_result1 = pd.read_csv('../GMM_est/fake_data/seq_data_0.csv',index_col=0)\n",
    "for df in [passive_result1,active_result1,seq_result1]:\n",
    "    print(create_test_stat(df.sample(frac=0.1)))\n",
    "    print('--')"
   ]
  },
  {
   "cell_type": "code",
   "execution_count": null,
   "id": "e71b03ef",
   "metadata": {
    "scrolled": false
   },
   "outputs": [],
   "source": [
    "# Create an empty DataFrame to store the results\n",
    "results_list = []\n",
    "\n",
    "for j in range(5):\n",
    "    # Read the dataframes\n",
    "    seq_result = pd.read_csv('../GMM_est/fake_data/seq_data_%s.csv' % j, index_col=0)\n",
    "    active_result = pd.read_csv('../GMM_est/fake_data/active_data_%s.csv' % j, index_col=0)\n",
    "    passive_result = pd.read_csv('../GMM_est/fake_data/passive_data_%s.csv' % j, index_col=0)\n",
    "\n",
    "    # Initialize rejection count variables\n",
    "    rejections_seq = 0\n",
    "    rejections_active = 0\n",
    "    rejections_passive = 0\n",
    "\n",
    "    nsims = 25\n",
    "    \n",
    "    for i in range(nsims):\n",
    "        # Resample from seq dataframe\n",
    "        subsample_seq = seq_result.sample(frac=0.1)\n",
    "        result_seq = run_test(subsample_seq)\n",
    "        rejections_seq = rejections_seq+ result_seq\n",
    "        \n",
    "        # Resample from active dataframe\n",
    "        subsample_active = active_result.sample(frac=0.1)\n",
    "        result_active = run_test(subsample_active)\n",
    "        rejections_active = rejections_active+ result_active\n",
    "\n",
    "        # Resample from passive dataframe\n",
    "        subsample_passive = passive_result.sample(frac=0.1)\n",
    "        result_passive = run_test(subsample_passive)\n",
    "        rejections_passive = rejections_passive+ result_passive\n",
    "        #print('----%s,%s------'%(i,j))\n",
    "        \n",
    "    rejections_seq = rejections_seq/nsims\n",
    "    rejections_active = rejections_active/nsims\n",
    "    rejections_passive = rejections_passive/nsims\n",
    "    \n",
    "    # Add the results to the DataFrame\n",
    "    results_list.append({'Round':j,'DataFrame': 'passive', 'Rejections': rejections_passive})\n",
    "    results_list.append({'Round':j,'DataFrame': 'active', 'Rejections': rejections_active})\n",
    "    results_list.append({'Round':j,'DataFrame': 'seq', 'Rejections': rejections_seq})\n",
    "\n",
    "results_df = pd.DataFrame(data=results_list,columns=['Round','DataFrame','Rejections'])\n",
    "        \n",
    "print(results_df)  "
   ]
  },
  {
   "cell_type": "code",
   "execution_count": null,
   "id": "172ce738",
   "metadata": {},
   "outputs": [],
   "source": []
  },
  {
   "cell_type": "code",
   "execution_count": null,
   "id": "1ddece92",
   "metadata": {},
   "outputs": [],
   "source": []
  }
 ],
 "metadata": {
  "kernelspec": {
   "display_name": "Python 3 (ipykernel)",
   "language": "python",
   "name": "python3"
  },
  "language_info": {
   "codemirror_mode": {
    "name": "ipython",
    "version": 3
   },
   "file_extension": ".py",
   "mimetype": "text/x-python",
   "name": "python",
   "nbconvert_exporter": "python",
   "pygments_lexer": "ipython3",
   "version": "3.10.9"
  }
 },
 "nbformat": 4,
 "nbformat_minor": 5
}
