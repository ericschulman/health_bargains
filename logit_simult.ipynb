{
 "cells": [
  {
   "cell_type": "code",
   "execution_count": 1,
   "id": "040b3780",
   "metadata": {},
   "outputs": [],
   "source": [
    "import numpy as np\n",
    "from scipy.optimize import minimize\n",
    "from scipy.optimize import fsolve\n",
    "from matplotlib import pyplot as plt\n",
    "import pandas as pd"
   ]
  },
  {
   "cell_type": "code",
   "execution_count": 2,
   "id": "bc6d8eed",
   "metadata": {},
   "outputs": [
    {
     "name": "stdout",
     "output_type": "stream",
     "text": [
      "9.483676147460931\n"
     ]
    },
    {
     "data": {
      "text/plain": [
       "[<matplotlib.lines.Line2D at 0x7f438ce3c490>]"
      ]
     },
     "execution_count": 2,
     "metadata": {},
     "output_type": "execute_result"
    },
    {
     "data": {
      "image/png": "[encoded data removed]",
      "text/plain": [
       "<Figure size 432x288 with 1 Axes>"
      ]
     },
     "metadata": {
      "needs_background": "light"
     },
     "output_type": "display_data"
    }
   ],
   "source": [
    "#solve nash bargaining with one insurer\n",
    "\n",
    "def calc_shares1(p1, cost, wtp):\n",
    "    \"\"\"compute the proportion of people choosing each insurer\n",
    "    assumes interior solution\"\"\"\n",
    "    u1 = (wtp - p1)/cost\n",
    "    s1 = np.exp(u1)/(np.exp(u1) + 1 )\n",
    "    return s1\n",
    "  \n",
    "\n",
    "def calc_profits_price_shares1(phi1,cost,wtp,mc1):\n",
    "    pi1 = lambda p : -1*calc_shares1(p, cost, wtp)[0]*(p-phi1 -mc1)\n",
    "    p1 = minimize(pi1,1,method='Nelder-Mead',tol=1e-6).x\n",
    "    s1 = calc_shares1(p1,  cost, wtp)\n",
    "    return p1[0], s1[0], s1[0]*(p1[0]-phi1 -mc1)\n",
    "\n",
    "def nash_in_nash_obj1(phi1, cost, wtp, mc1, beta=.5):\n",
    "    p1,s1,profits1 = calc_profits_price_shares1(phi1, cost, wtp, mc1)\n",
    "    hosp_profit = s1*phi1\n",
    "    obj = -1*(np.log(hosp_profit)*(1-beta) + np.log(profits1)*beta)\n",
    "\n",
    "    #print(obj)\n",
    "    return obj\n",
    "\n",
    "def nash_in_nash1(cost,wtp,mc1,outside_option=False):\n",
    "    obj1 = lambda phi : nash_in_nash_obj1(phi,cost,wtp,mc1)\n",
    "    result = minimize(obj1,13,method='Nelder-Mead',tol=1e-6)\n",
    "    \n",
    "    if outside_option:\n",
    "        return result.x[0]*calc_shares1(result.x[0], cost, wtp)\n",
    "    return result.x[0]\n",
    "\n",
    "print(nash_in_nash1(5,25,0))\n",
    "\n",
    "COST = 5\n",
    "WTP1 = 25\n",
    "MC1 = 0\n",
    "\n",
    "plt.plot([i for i in np.linspace(0,4*COST,num=7)], \n",
    "         [-1*nash_in_nash_obj1(i, COST,WTP1,MC1) for i in np.linspace(1,4*COST,num=7)])"
   ]
  },
  {
   "cell_type": "code",
   "execution_count": 3,
   "id": "e71fe7b2",
   "metadata": {},
   "outputs": [
    {
     "name": "stdout",
     "output_type": "stream",
     "text": [
      "[-1.41148119]\n"
     ]
    }
   ],
   "source": [
    "#solve nash bargaining with 2 insurers\n",
    "\n",
    "def calc_shares(p1, p2,  cost, wtp):\n",
    "    \"\"\"compute the proportion of people choosing each insurer\n",
    "    assumes interior solution\"\"\"\n",
    "    u1 = (wtp[0] - p1)/cost\n",
    "    u2 = (wtp[1] - p2)/cost\n",
    "    s1 = np.exp(u1)/(np.exp(u1)+ np.exp(u2) + 1 )\n",
    "    s2 = np.exp(u2)/(np.exp(u1)+ np.exp(u2) + 1 )\n",
    "    \n",
    "    return s1,s2\n",
    "  \n",
    "\n",
    "def calc_profits_price_shares(phi1,phi2,cost,wtp,mc):\n",
    "    mc1,mc2 = mc\n",
    "    \n",
    "    p1,p2 = 1,2\n",
    "    diff =  np.maximum(p1,p1)\n",
    "    p10,p20 = 0,0\n",
    "    maxiter = 10\n",
    "    while maxiter >=0 and diff > 10e-7:\n",
    "        #seems as though there is a contraction mapping here, need to think more about why\n",
    "        \n",
    "        pi1 = lambda p : -1*calc_shares(p, p20,  cost, wtp)[0]*(p-phi1 -mc1)\n",
    "        pi2 = lambda p :  -1*calc_shares(p10, p,  cost, wtp)[1]*(p-phi2 -mc2)\n",
    "\n",
    "        \n",
    "        p1 = minimize(pi1,p10).x\n",
    "        p2 = minimize(pi2,p20).x\n",
    "        \n",
    "        #update loop variables\n",
    "        diff = np.abs(np.maximum(p1 - p10,p2-p20))[0]\n",
    "        p10,p20 = p1,p2\n",
    "        maxiter = maxiter-1\n",
    "        \n",
    "    s1,s2 = calc_shares(p1, p2,  cost, wtp)\n",
    "    return p1, p2, s1,s2, s1*(p1-phi1 -mc1), s2*(p2-phi2 -mc2)\n",
    "\n",
    "\n",
    "\n",
    "#arbitrary outside option...\n",
    "def nash_in_nash(phi1, phi2, cost, wtp, mc, beta=.5, outside_option=None):\n",
    "    p1,p2,s1,s2,profits1,profits2 = calc_profits_price_shares(phi1,phi2,cost,wtp,mc)\n",
    "    hosp_profit = s1*phi1 + s2*phi2\n",
    "    \n",
    "    #the passive beliefs case\n",
    "    if outside_option is None:\n",
    "        outside_option = s2*phi2\n",
    "        \n",
    "    obj = -1*(np.log(max(hosp_profit-outside_option,1e-6))*(1-beta) \n",
    "              + np.log(profits1)*beta)\n",
    "    return obj\n",
    "\n",
    "\n",
    "COST = 5\n",
    "WTP = np.array([25,25])\n",
    "MC = np.array([0,0])\n",
    "\n",
    "print(nash_in_nash(3*COST,3*COST, COST, WTP, MC))"
   ]
  },
  {
   "cell_type": "code",
   "execution_count": 4,
   "id": "f3778371",
   "metadata": {},
   "outputs": [
    {
     "name": "stdout",
     "output_type": "stream",
     "text": [
      "9.076136151857053\n"
     ]
    },
    {
     "data": {
      "text/plain": [
       "[<matplotlib.lines.Line2D at 0x7f438c546d00>]"
      ]
     },
     "execution_count": 4,
     "metadata": {},
     "output_type": "execute_result"
    },
    {
     "data": {
      "image/png": "[encoded data removed]",
      "text/plain": [
       "<Figure size 432x288 with 1 Axes>"
      ]
     },
     "metadata": {
      "needs_background": "light"
     },
     "output_type": "display_data"
    }
   ],
   "source": [
    "COST = 5\n",
    "WTP = np.array([25,25])\n",
    "MC = np.array([0,0])\n",
    "OUTSIDE = nash_in_nash1(COST,WTP[0],MC[0],outside_option=True)\n",
    "print(OUTSIDE)\n",
    "\n",
    "plt.plot([i for i in np.linspace(12,14+1.5*COST,num=7)], \n",
    "         [-1*nash_in_nash(i, 10, COST,WTP,MC,outside_option=OUTSIDE) for i in np.linspace(12,14+1.5*COST,num=7)])"
   ]
  },
  {
   "cell_type": "code",
   "execution_count": 5,
   "id": "4300dcd7",
   "metadata": {
    "scrolled": false
   },
   "outputs": [
    {
     "name": "stdout",
     "output_type": "stream",
     "text": [
      "9.076136151857053\n",
      "[13.92626953]\n"
     ]
    }
   ],
   "source": [
    "def bargain_helper(phi1, phi2, cost, wtp, mc, beta=.5,outside_option=None):\n",
    "    \"\"\"solve each firm 1s optimization holding phi 2 fixed\"\"\"\n",
    "    result = minimize(nash_in_nash, phi1, args=(phi2,cost, wtp, mc,  beta, outside_option),\n",
    "                      method='Nelder-Mead', options={'disp': False})\n",
    "    return result.x\n",
    "\n",
    "COST = 5\n",
    "WTP = np.array([25,25])\n",
    "MC = np.array([0,0])\n",
    "OUTSIDE = nash_in_nash1(COST,WTP[0],MC[0],outside_option=True)\n",
    "print(OUTSIDE)\n",
    "print(bargain_helper(15,14, COST,WTP,MC,beta=.5,outside_option=OUTSIDE))"
   ]
  },
  {
   "cell_type": "code",
   "execution_count": 6,
   "id": "063f1a82",
   "metadata": {},
   "outputs": [
    {
     "name": "stdout",
     "output_type": "stream",
     "text": [
      "(array([7.47230427]), array([7.74724062]))\n"
     ]
    }
   ],
   "source": [
    "def simult_bargain(phi1, phi2, cost, wtp, mc, betas=[.5,.5],active=False):\n",
    "    \"\"\"solve the bargaining problems seperately and iterate for a solution\"\"\"       \n",
    "    \n",
    "    #loop variables, check on this...\n",
    "    diff =  np.maximum(phi1,phi2)\n",
    "    phi10,phi20 = 0,0\n",
    "    maxiter = 10\n",
    "    \n",
    "    outside_option1 = None\n",
    "    outside_option2 = None\n",
    "    if active:\n",
    "        outside_option1 = nash_in_nash1(cost,wtp[0],mc[0],outside_option=True)\n",
    "        outside_option2 = nash_in_nash1(cost,wtp[1],mc[1],outside_option=True)\n",
    "        \n",
    "    while maxiter >=0 and diff > 10e-7:\n",
    "        #seems as though there is a contraction mapping here, need to think more about why\n",
    "        phi1 = bargain_helper(phi1, phi2, cost, wtp, mc, beta=betas[0] ,outside_option=outside_option1)\n",
    "        phi2 = bargain_helper(phi2, phi1, cost, wtp[::-1], mc[::-1], beta=betas[1],outside_option=outside_option2)\n",
    "        \n",
    "        #update loop variables\n",
    "        diff = np.abs(np.maximum(phi1 - phi10,phi2-phi20))[0]\n",
    "        phi10,phi20 = phi1,phi2\n",
    "        maxiter = maxiter-1\n",
    "        \n",
    "    return phi1, phi2\n",
    "\n",
    "COST = 5\n",
    "WTP = np.array([25,26])\n",
    "MC = np.array([0,0])\n",
    "print(simult_bargain(15,15,COST,WTP,MC,active=False))\n",
    "#print(simult_bargain(15,15,COST,np.array([26,25]),MC,active=True))"
   ]
  },
  {
   "cell_type": "markdown",
   "id": "b868a21c",
   "metadata": {},
   "source": [
    "1 insurer"
   ]
  },
  {
   "cell_type": "code",
   "execution_count": 7,
   "id": "65926d08",
   "metadata": {},
   "outputs": [
    {
     "name": "stdout",
     "output_type": "stream",
     "text": [
      "l phi1 p1 hosp profit1\n",
      "5.0 9.484 22.586 5.865 8.103\n",
      "6.0 9.621 23.424 5.439 7.803\n",
      "7.0 9.854 24.439 5.124 7.585\n",
      "8.0 10.16 25.591 4.892 7.431\n"
     ]
    }
   ],
   "source": [
    "COST = 5\n",
    "WTP = 25\n",
    "\n",
    "print(\"l\" , \"phi1\", \"p1\", \"hosp\", \"profit1\")\n",
    "for i in np.linspace(0,3,4):\n",
    "    mc_i = 0\n",
    "    phi1 = nash_in_nash1(COST+i,WTP,mc_i)\n",
    "    p1,s1,profits1 = calc_profits_price_shares1(phi1,COST+i,WTP,mc_i)\n",
    "    hosp_profit = s1*phi1\n",
    "    print(COST+i, round(phi1,3), round(p1,3), round(hosp_profit,3), round(profits1,3) )"
   ]
  },
  {
   "cell_type": "markdown",
   "id": "2c7a43c8",
   "metadata": {},
   "source": [
    "passive beliefs`"
   ]
  },
  {
   "cell_type": "code",
   "execution_count": 8,
   "id": "7ce2f770",
   "metadata": {},
   "outputs": [
    {
     "name": "stdout",
     "output_type": "stream",
     "text": [
      "v phi 1 phi 2 hosp profit profit 1 profit 2\n",
      "25.0 25.0 7.506 7.499 16.704 16.701 6.851 4.198 4.203\n",
      "26.0 26.0 7.717 7.713 17.006 17.004 7.126 4.289 4.291\n",
      "27.0 27.0 7.923 7.918 17.294 17.292 7.39 4.371 4.374\n",
      "28.0 28.0 8.123 8.122 17.57 17.57 7.648 4.447 4.448\n",
      "29.0 29.0 8.31 8.308 17.825 17.824 7.887 4.516 4.517\n",
      "30.0 30.0 8.493 8.495 18.071 18.072 8.12 4.579 4.578\n"
     ]
    }
   ],
   "source": [
    "COST = 5\n",
    "WTP = np.array([25,25])\n",
    "\n",
    "print(\"v\" ,\"phi 1\" , \"phi 2\", \"hosp profit\", \"profit 1\", \"profit 2\")\n",
    "for i in np.linspace(0,5,6):\n",
    "    mc_i = np.array([0, 0])\n",
    "    phi1,phi2 = simult_bargain(7,7,COST,WTP+i,mc_i,active=False)\n",
    "    p1,p2,s1,s2,profits1,profits2 = calc_profits_price_shares(phi1,phi2,COST,WTP+i,mc_i)\n",
    "    hosp_profit = s1*phi1 + s2*phi2\n",
    "    print(WTP[0]+i,WTP[0]+i, round(phi1[0],3), round(phi2[0],3), round(p1[0],3), round(p2[0],3), \n",
    "          round(hosp_profit[0],3), round(profits1[0],3), round(profits2[0],3))"
   ]
  },
  {
   "cell_type": "code",
   "execution_count": 10,
   "id": "edf32614",
   "metadata": {},
   "outputs": [
    {
     "name": "stdout",
     "output_type": "stream",
     "text": [
      "v phi 1 phi 2 hosp profit profit 1 profit 2\n",
      "5.0 7.506 7.499 16.704 16.701 6.851 4.198 4.203\n",
      "6.0 7.897 7.893 18.398 18.396 6.769 4.501 4.503\n",
      "7.0 8.292 8.29 19.992 19.991 6.662 4.701 4.702\n",
      "8.0 8.713 8.713 21.56 21.56 6.575 4.847 4.847\n",
      "9.0 9.16 9.159 23.126 23.125 6.514 4.967 4.967\n",
      "10.0 9.631 9.632 24.705 24.705 6.484 5.074 5.074\n"
     ]
    }
   ],
   "source": [
    "COST = 5\n",
    "WTP = np.array([25,25])\n",
    "\n",
    "print(\"v\" ,\"phi 1\" , \"phi 2\", \"hosp profit\", \"profit 1\", \"profit 2\")\n",
    "for i in np.linspace(0,5,6):\n",
    "    mc_i = np.array([0, 0])\n",
    "    phi1,phi2 = simult_bargain(7,7,COST+i,WTP,mc_i,active=False)\n",
    "    p1,p2,s1,s2,profits1,profits2 = calc_profits_price_shares(phi1,phi2,COST+i,WTP,mc_i)\n",
    "    hosp_profit = s1*phi1 + s2*phi2\n",
    "    print(COST+i, round(phi1[0],3), round(phi2[0],3), round(p1[0],3), round(p2[0],3), \n",
    "          round(hosp_profit[0],3), round(profits1[0],3), round(profits2[0],3))"
   ]
  },
  {
   "cell_type": "markdown",
   "id": "d3cb839c",
   "metadata": {},
   "source": [
    "active beliefs"
   ]
  },
  {
   "cell_type": "code",
   "execution_count": 16,
   "id": "9f558ccf",
   "metadata": {
    "scrolled": false
   },
   "outputs": [
    {
     "name": "stdout",
     "output_type": "stream",
     "text": [
      "v phi 1 phi 2 hosp profit profit 1 profit 2\n",
      "5.0 13.93 13.931 22.128 22.129 10.87 3.199 3.198\n",
      "6.0 14.768 14.773 24.014 24.017 10.37 3.247 3.244\n",
      "7.0 15.768 15.771 26.015 26.017 9.993 3.247 3.246\n",
      "8.0 16.882 16.88 28.113 28.111 9.714 3.231 3.232\n"
     ]
    }
   ],
   "source": [
    "COST = 5\n",
    "WTP = np.array([25,25])\n",
    "\n",
    "print(\"v\" ,\"phi 1\" , \"phi 2\", \"hosp profit\", \"profit 1\", \"profit 2\")\n",
    "for i in np.linspace(0,3,4):\n",
    "    mc_i = np.array([0, 0])\n",
    "    phi1,phi2 = simult_bargain(22,22,COST+i,WTP,mc_i,active=True)\n",
    "    p1,p2,s1,s2,profits1,profits2 = calc_profits_price_shares(phi1,phi2,COST+i,WTP,mc_i)\n",
    "    hosp_profit = s1*phi1 + s2*phi2\n",
    "    print(COST+i, round(phi1[0],3), round(phi2[0],3), round(p1[0],3), round(p2[0],3), \n",
    "          round(hosp_profit[0],3), round(profits1[0],3), round(profits2[0],3))"
   ]
  },
  {
   "cell_type": "code",
   "execution_count": 11,
   "id": "806f00c8",
   "metadata": {},
   "outputs": [
    {
     "name": "stdout",
     "output_type": "stream",
     "text": [
      "v phi 1 phi 2 hosp profit profit 1 profit 2\n",
      "25.0 25.0 13.93 13.931 22.128 22.129 10.87 3.199 3.198\n",
      "26.0 26.0 14.345 14.345 22.652 22.652 11.422 3.307 3.307\n",
      "27.0 27.0 14.769 14.768 23.18 23.179 11.979 3.411 3.411\n",
      "28.0 28.0 15.201 15.201 23.711 23.712 12.541 3.511 3.511\n",
      "29.0 29.0 15.643 15.64 24.248 24.247 13.108 3.605 3.607\n",
      "30.0 30.0 16.089 16.09 24.786 24.787 13.679 3.697 3.697\n"
     ]
    }
   ],
   "source": [
    "COST = 5\n",
    "WTP = np.array([25,25])\n",
    "\n",
    "print(\"v\" ,\"phi 1\" , \"phi 2\", \"hosp profit\", \"profit 1\", \"profit 2\")\n",
    "for i in np.linspace(0,5,6):\n",
    "    mc_i = np.array([0, 0])\n",
    "    phi1,phi2 = simult_bargain(22,22,COST,WTP+i,mc_i,active=True)\n",
    "    p1,p2,s1,s2,profits1,profits2 = calc_profits_price_shares(phi1,phi2,COST,WTP+i,mc_i)\n",
    "    hosp_profit = s1*phi1 + s2*phi2\n",
    "    print(WTP[0]+i,WTP[0]+i, round(phi1[0],3), round(phi2[0],3), round(p1[0],3), round(p2[0],3), \n",
    "          round(hosp_profit[0],3), round(profits1[0],3), round(profits2[0],3))"
   ]
  },
  {
   "cell_type": "code",
   "execution_count": 12,
   "id": "add34587",
   "metadata": {},
   "outputs": [
    {
     "name": "stdout",
     "output_type": "stream",
     "text": [
      "v1 v2 phi 1 phi 2 hosp profit profit 1 profit 2\n",
      "25.0 25.0 13.93 13.931 22.128 22.129 10.87 3.199 3.198\n",
      "26.0 25.0 14.668 13.61 22.906 21.878 11.145 3.238 3.268\n",
      "27.0 25.0 15.409 13.3 23.686 21.634 11.421 3.277 3.334\n",
      "28.0 25.0 16.143 12.992 24.461 21.39 11.696 3.318 3.398\n",
      "29.0 25.0 16.886 12.696 25.242 21.154 11.974 3.357 3.458\n",
      "30.0 25.0 17.632 12.405 26.027 20.922 12.253 3.395 3.517\n"
     ]
    }
   ],
   "source": [
    "COST = 5\n",
    "WTP = np.array([25,25])\n",
    "\n",
    "print(\"v1\" ,\"v2\" ,\"phi 1\" , \"phi 2\", \"hosp profit\", \"profit 1\", \"profit 2\")\n",
    "for i in np.linspace(0,5,6):\n",
    "    mc_i = np.array([0, 0])\n",
    "    wtp_i = np.array([WTP[0]+i,WTP[1]])\n",
    "    phi1,phi2 = simult_bargain(22,22,COST,wtp_i,mc_i,active=True)\n",
    "    p1,p2,s1,s2,profits1,profits2 = calc_profits_price_shares(phi1,phi2,COST,wtp_i,mc_i)\n",
    "    hosp_profit = s1*phi1 + s2*phi2\n",
    "    print(wtp_i[0],wtp_i[1], round(phi1[0],3), round(phi2[0],3), round(p1[0],3), round(p2[0],3), \n",
    "          round(hosp_profit[0],3), round(profits1[0],3), round(profits2[0],3))"
   ]
  },
  {
   "cell_type": "code",
   "execution_count": 13,
   "id": "cde303d9",
   "metadata": {},
   "outputs": [
    {
     "name": "stdout",
     "output_type": "stream",
     "text": [
      "v1 v2 phi 1 phi 2 hosp profit profit 1 profit 2\n",
      "25.0 25.0 13.93 13.931 22.128 22.129 10.87 3.199 3.198\n",
      "25.0 26.0 13.61 14.669 21.878 22.906 11.145 3.268 3.238\n",
      "25.0 27.0 13.298 15.405 21.632 23.683 11.42 3.334 3.278\n",
      "25.0 28.0 12.995 16.148 21.393 24.465 11.697 3.397 3.316\n",
      "25.0 29.0 12.696 16.888 21.154 25.244 11.974 3.459 3.356\n",
      "25.0 30.0 12.406 17.634 20.923 26.028 12.253 3.517 3.394\n"
     ]
    }
   ],
   "source": [
    "COST = 5\n",
    "WTP = np.array([25,25])\n",
    "\n",
    "print(\"v1\" ,\"v2\" ,\"phi 1\" , \"phi 2\", \"hosp profit\", \"profit 1\", \"profit 2\")\n",
    "for i in np.linspace(0,5,6):\n",
    "    mc_i = np.array([0, 0])\n",
    "    wtp_i = np.array([WTP[0],WTP[1]+i])\n",
    "    phi1,phi2 = simult_bargain(22,22,COST,wtp_i,mc_i,active=True)\n",
    "    p1,p2,s1,s2,profits1,profits2 = calc_profits_price_shares(phi1,phi2,COST,wtp_i,mc_i)\n",
    "    hosp_profit = s1*phi1 + s2*phi2\n",
    "    print(wtp_i[0],wtp_i[1], round(phi1[0],3), round(phi2[0],3), round(p1[0],3), round(p2[0],3), \n",
    "          round(hosp_profit[0],3), round(profits1[0],3), round(profits2[0],3))"
   ]
  },
  {
   "cell_type": "code",
   "execution_count": null,
   "id": "eb6b07c8",
   "metadata": {},
   "outputs": [],
   "source": []
  }
 ],
 "metadata": {
  "kernelspec": {
   "display_name": "Python 3 (ipykernel)",
   "language": "python",
   "name": "python3"
  },
  "language_info": {
   "codemirror_mode": {
    "name": "ipython",
    "version": 3
   },
   "file_extension": ".py",
   "mimetype": "text/x-python",
   "name": "python",
   "nbconvert_exporter": "python",
   "pygments_lexer": "ipython3",
   "version": "3.9.7"
  }
 },
 "nbformat": 4,
 "nbformat_minor": 5
}
