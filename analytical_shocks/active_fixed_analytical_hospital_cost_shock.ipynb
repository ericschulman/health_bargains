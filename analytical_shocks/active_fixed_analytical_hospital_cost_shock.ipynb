{
 "cells": [
  {
   "cell_type": "code",
   "execution_count": 1,
   "metadata": {},
   "outputs": [],
   "source": [
    "from sympy import *\n",
    "import pandas as pd\n",
    "\n",
    "import sys\n",
    "sys.path.append(\"../\")\n",
    "from bargains_linear import * "
   ]
  },
  {
   "cell_type": "code",
   "execution_count": 2,
   "metadata": {},
   "outputs": [],
   "source": [
    "#general purpose code for interior cases\n",
    "\n",
    "phi1 =Symbol('\\\\phi_1') #phi_2\n",
    "phi2 =Symbol('\\\\phi_2') #phi_2\n",
    "p1=Symbol('p_1') #p1 #TODO: integrate this into the formula*****\n",
    "\n",
    "wtp = Symbol('v')\n",
    "cost =Symbol('\\\\lambda') #can't name variable lambda\n",
    "out = Symbol('\\\\pi') #outside option: pi_h(g\\i)\n",
    "beta1  = .5\n",
    "beta2  = .5\n",
    "mc1 =Symbol('c_1') \n",
    "mc2=Symbol('c_2')"
   ]
  },
  {
   "cell_type": "code",
   "execution_count": 3,
   "metadata": {},
   "outputs": [],
   "source": [
    "def calc_price(phi1, phi2, cost ,mc1,mc2):\n",
    "    \"\"\"compute each insurer's price (assumes interior solution)\"\"\"\n",
    "    p1 = (2*(phi1)+phi2)/3 + cost\n",
    "    p2 = (2*(phi2)+phi1)/3 + cost\n",
    "    return p1, p2\n",
    "  \n",
    "    \n",
    "def calc_s(phi1, phi2, cost,  mc1,mc2):\n",
    "    \"\"\"compute the proportion of people choosing each insurer\n",
    "    assumes interior solution\"\"\"\n",
    "    p1, p2 = calc_price(phi1, phi2, cost, mc1,mc2)\n",
    "    t_hat = S(1)/2 + (p2 - p1)/(2*cost)\n",
    "    return t_hat\n",
    "\n",
    "\n",
    "def calc_profits(phi1,phi2,cost,  mc1,mc2):\n",
    "    s = calc_s(phi1, phi2, cost,  mc1,mc2)\n",
    "    p1,p2 = calc_price(phi1, phi2, cost, mc1,mc2)\n",
    "\n",
    "    profits1, profits2 = s*(p1-phi1), (1-s)*(p2-phi2)\n",
    "    #profits1, profits2 = (3*cost + phi2- phi1)**2/(18*cost), (3*cost + phi1- phi2)**2/(18*cost)\n",
    "\n",
    "    hosp_profit = s*(phi1-mc1) +  (1-s)*(phi2-mc2)\n",
    "\n",
    "    return hosp_profit, profits1, profits2\n",
    "\n",
    "#arbitrary outside option...\n",
    "def nash_in_nash2(phi1, phi2, cost, mc1,mc2,beta1,out):\n",
    "    hosp_profit, profits1, profits2 = calc_profits(phi1, phi2,  cost,  mc1,mc2)\n",
    "    return (hosp_profit-out)*(profits1)\n",
    "\n"
   ]
  },
  {
   "cell_type": "code",
   "execution_count": 8,
   "metadata": {},
   "outputs": [
    {
     "name": "stdout",
     "output_type": "stream",
     "text": [
      "foc (3*\\lambda + \\phi_1 - \\phi_2)*(-6*\\lambda*(\\lambda + 2*c_1 - v) - 2*(\\phi_1 - c_1)*(3*\\lambda - \\phi_1 + \\phi_2) - 2*(\\phi_2 - c_2)*(3*\\lambda + \\phi_1 - \\phi_2) + (3*\\lambda + \\phi_1 - \\phi_2)*(3*\\lambda + 2*\\phi_1 - 2*\\phi_2 - c_1 + c_2))/(108*\\lambda**2)\n",
      "h 15*\\lambda/8 + \\phi_1 - 3*c_1/8 + 3*c_2/8 + sqrt(3)*sqrt(59*\\lambda**2 + 64*\\lambda*\\phi_1 + 18*\\lambda*c_1 - 18*\\lambda*c_2 - 32*\\lambda*v + 3*c_1**2 - 6*c_1*c_2 + 3*c_2**2)/8\n",
      "\\lambda/4 + c_1/2 - c_2/2 + v/2 + c_1**2/(12*\\lambda) - c_1*c_2/(6*\\lambda) + c_2**2/(12*\\lambda)\n",
      "---\n",
      "foc (3*\\lambda - \\phi_1 + \\phi_2)*(-6*\\lambda*(\\lambda + 2*c_2 - v) - 2*(\\phi_1 - c_1)*(3*\\lambda - \\phi_1 + \\phi_2) - 2*(\\phi_2 - c_2)*(3*\\lambda + \\phi_1 - \\phi_2) + (3*\\lambda - \\phi_1 + \\phi_2)*(3*\\lambda - 2*\\phi_1 + 2*\\phi_2 + c_1 - c_2))/(108*\\lambda**2)\n",
      "h 15*\\lambda/8 + \\phi_2 + 3*c_1/8 - 3*c_2/8 + sqrt(3)*sqrt(59*\\lambda**2 + 64*\\lambda*\\phi_2 - 18*\\lambda*c_1 + 18*\\lambda*c_2 - 32*\\lambda*v + 3*c_1**2 - 6*c_1*c_2 + 3*c_2**2)/8\n",
      "\\lambda/4 - c_1/2 + c_2/2 + v/2 + c_1**2/(12*\\lambda) - c_1*c_2/(6*\\lambda) + c_2**2/(12*\\lambda)\n",
      "---\n"
     ]
    }
   ],
   "source": [
    "def solve_phi(phi1, phi2, cost, mc1,mc2,beta2,out):\n",
    "    foc =  diff(nash_in_nash2(phi2, phi1, cost, mc2,mc1,beta2,out), phi2)\n",
    "    foc = foc.subs( {out:(wtp-cost)/2-mc1} )\n",
    "    h =solve(foc,phi2)\n",
    "    print('foc',simplify(foc))\n",
    "    print('h',h[2])\n",
    "    foc_firm1 =  diff(nash_in_nash2(phi1, phi2, cost, mc1,mc2,beta1,out), phi1)\n",
    "    foc_firm1 = foc_firm1.subs({out: (wtp-cost)/2-mc2 })\n",
    "    foc_firm1 = foc_firm1.subs({phi2:h[2]})\n",
    "\n",
    "    result  = solve(foc_firm1,phi1)\n",
    "    return result\n",
    "\n",
    "\n",
    "result1 = solve_phi(phi1, phi2, cost, mc1,mc2,beta1,out)\n",
    "print(result1[1])\n",
    "print('---')\n",
    "result2 = solve_phi(phi2, phi1, cost, mc2,mc1,beta2,out)\n",
    "print(result2[1])\n",
    "print('---')"
   ]
  },
  {
   "cell_type": "code",
   "execution_count": 5,
   "metadata": {},
   "outputs": [
    {
     "name": "stdout",
     "output_type": "stream",
     "text": [
      "55/4\n",
      "\\lambda/4 + v/2\n",
      "(array([13.74996123]), array([13.75000284]))\n"
     ]
    }
   ],
   "source": [
    "print(result1[1].subs({mc1:0,mc2:0,wtp:25,cost:5}))\n",
    "print(result2[1].subs({mc1:0,mc2:0}))\n",
    "print(simult_bargain(25,25, 5,25,[0,0], active=True,betas=[.5,.5]))\n"
   ]
  },
  {
   "cell_type": "code",
   "execution_count": 7,
   "metadata": {},
   "outputs": [
    {
     "name": "stdout",
     "output_type": "stream",
     "text": [
      "14.266666666666667\n",
      "13.266666666666667\n",
      "13.266666666666667\n",
      "14.266666666666667\n"
     ]
    },
    {
     "data": {
      "text/plain": [
       "([13.26668547], [14.26666833])"
      ]
     },
     "execution_count": 7,
     "metadata": {},
     "output_type": "execute_result"
    }
   ],
   "source": [
    "print(float(result1[1].subs({mc1:1,mc2:0,wtp:25,cost:5})))\n",
    "print(float(result2[1].subs({mc1:1,mc2:0,wtp:25,cost:5})))\n",
    "(([14.26666269]), ([13.26666911]))\n",
    "\n",
    "\n",
    "print(float(result1[1].subs({mc1:0,mc2:1,wtp:25,cost:5})))\n",
    "print(float(result2[1].subs({mc1:0,mc2:1,wtp:25,cost:5})))\n",
    "(([13.26668547]), ([14.26666833]))"
   ]
  },
  {
   "cell_type": "code",
   "execution_count": null,
   "metadata": {},
   "outputs": [],
   "source": []
  }
 ],
 "metadata": {
  "kernelspec": {
   "display_name": "Python 3 (ipykernel)",
   "language": "python",
   "name": "python3"
  },
  "language_info": {
   "codemirror_mode": {
    "name": "ipython",
    "version": 3
   },
   "file_extension": ".py",
   "mimetype": "text/x-python",
   "name": "python",
   "nbconvert_exporter": "python",
   "pygments_lexer": "ipython3",
   "version": "3.10.9"
  }
 },
 "nbformat": 4,
 "nbformat_minor": 2
}
